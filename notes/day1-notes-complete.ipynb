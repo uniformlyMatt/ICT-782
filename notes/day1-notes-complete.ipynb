{
 "cells": [
  {
   "cell_type": "markdown",
   "metadata": {},
   "source": [
    "# ICT 782 - Day 1 Notes\n",
    "\n",
    "# Welcome to 'Python for Data Analysis'\n",
    "\n",
    "This course assumes a fundamental knowledge of Python programming, which many of you have obtained through ICT 781 - Python Foundations. \n",
    "\n",
    "In this course, we'll be focused on gaining technical skills for solving Data Analysis problems. Where necessary, we'll look at theoretical concepts to help motivate and frame our practical examples. The schedule of broad topics for this course will be as follows (subject to some change):\n",
    "\n",
    "1. Data representation in Python - NumPy and pandas.\n",
    "2. Data acquisition and cleaning.\n",
    "3. Visualizations, both static and interactive.\n",
    "4. Information extraction through classification and regression.\n",
    "\n",
    "## What is Data Analysis?\n",
    "\n",
    "This field is huge, and **Data Analysis** can mean many things. For this course, we'll adopt the following definition:\n",
    "\n",
    "> **Data Analysis** is the process of obtaining, cleaning, transforming, and processing data with the goal of extracting useful information.\n",
    "\n",
    "When we talk about **data**, we are usually referring to a collection of measurements of some defined type, such as numbers, words, dates, images, etc. What the data represents is *usually* clear from the context. However, data collection is often messy, imprecise, and incomplete. \n",
    "\n",
    "## Data sources\n",
    "\n",
    "With the wealth of information on the internet, most of our data will come from the web. However, data could be generated in a lab, from a database, or from your own measurements.\n",
    "\n",
    "The following websites allow access to well-curated data. Of course, when viewing data on the web, we always exercise caution and act responsibly. There are, of course, numerous other websites providing high-quality data in a wide range of fields.\n",
    "\n",
    "* [StatsCan Data Centre](https://www150.statcan.gc.ca/n1/en/type/data?MM=1) - data is most easily accessed as `html`, but other formats are available.\n",
    "* [US Census Data](https://data.census.gov/cedsci/)\n",
    "* [EU Open Data Portal](https://data.europa.eu/euodp/en/home)\n",
    "\n",
    "Now that we have some sources of data, we'll begin to investigate ways of representing data in Python."
   ]
  },
  {
   "cell_type": "markdown",
   "metadata": {},
   "source": [
    "# NumPy (Numerical Python)\n",
    "\n",
    "Whether navigating datasets with indexing or applying models to data, mathematical operations are central to data analysis. Python comes with the `math` package, but Numerical Python (**NumPy**) is the standard for array-based or **vectorized** calculations in Python. In this module, we'll explore NumPy's core features. Some of the most attractive aspects of NumPy can be summarized as follows:\n",
    "\n",
    "- Supports mathematical operations for real and complex numbers from simple arithmetic to fast Fourier transforms and everything in between.\n",
    "- Simple Application Passing Inferface (API) based on Python object-oriented principles.\n",
    "- Algorithms and operations based on optimized C and Fortran code.\n",
    "- Can incorporate C/C++ and Fortran legacy code and compile to fast C.\n",
    "\n",
    "We will import NumPy using the standard convention `import numpy as np`."
   ]
  },
  {
   "cell_type": "code",
   "execution_count": 1,
   "metadata": {},
   "outputs": [
    {
     "data": {
      "text/plain": [
       "'1.16.5'"
      ]
     },
     "execution_count": 1,
     "metadata": {},
     "output_type": "execute_result"
    }
   ],
   "source": [
    "import numpy as np\n",
    "\n",
    "np.__version__"
   ]
  },
  {
   "cell_type": "markdown",
   "metadata": {},
   "source": [
    "## The `ndarray` data type\n",
    "\n",
    "The pure Python `list()` data type gives a wide range of flexibility for many computing tasks. The `ndarray` class from NumPy is a similar data type with greatly expanded flexibility for numerical computation. The `ndarray` class is most useful when it is given *homogeneous* type, meaning that, unlike `list`s, all `ndarray` elements should be of the same type. Also, unlike `list`s, `ndarray`s must have their elements initialized when the `ndarray` variable is declared.\n",
    "\n",
    "The `ndarray` object is declared using the syntax `np.array()`. A `list` object is passed as an argument to initialize an `ndarray` object."
   ]
  },
  {
   "cell_type": "code",
   "execution_count": 2,
   "metadata": {
    "scrolled": false
   },
   "outputs": [
    {
     "name": "stdout",
     "output_type": "stream",
     "text": [
      "[1.1, 1.2] [1.1 1.2]\n",
      "<class 'list'> <class 'numpy.ndarray'>\n"
     ]
    }
   ],
   "source": [
    "# The difference between ndarrays and lists.\n",
    "\n",
    "ex_list = [1.1, 1.2]\n",
    "arr1 = np.array(ex_list)\n",
    "\n",
    "print(ex_list, arr1)\n",
    "print(type(ex_list), type(arr1))"
   ]
  },
  {
   "cell_type": "code",
   "execution_count": 3,
   "metadata": {
    "scrolled": true
   },
   "outputs": [
    {
     "ename": "TypeError",
     "evalue": "array() missing required argument 'object' (pos 1)",
     "output_type": "error",
     "traceback": [
      "\u001b[1;31m---------------------------------------------------------------------------\u001b[0m",
      "\u001b[1;31mTypeError\u001b[0m                                 Traceback (most recent call last)",
      "\u001b[1;32m<ipython-input-3-21ae9c7245dd>\u001b[0m in \u001b[0;36m<module>\u001b[1;34m\u001b[0m\n\u001b[0;32m      1\u001b[0m \u001b[1;31m# A list must be passed as an argument when declaring ndarrays.\u001b[0m\u001b[1;33m\u001b[0m\u001b[1;33m\u001b[0m\u001b[1;33m\u001b[0m\u001b[0m\n\u001b[0;32m      2\u001b[0m \u001b[1;33m\u001b[0m\u001b[0m\n\u001b[1;32m----> 3\u001b[1;33m \u001b[0mempty_var\u001b[0m \u001b[1;33m=\u001b[0m \u001b[0mnp\u001b[0m\u001b[1;33m.\u001b[0m\u001b[0marray\u001b[0m\u001b[1;33m(\u001b[0m\u001b[1;33m)\u001b[0m\u001b[1;33m\u001b[0m\u001b[1;33m\u001b[0m\u001b[0m\n\u001b[0m",
      "\u001b[1;31mTypeError\u001b[0m: array() missing required argument 'object' (pos 1)"
     ]
    }
   ],
   "source": [
    "# A list must be passed as an argument when declaring ndarrays.\n",
    "\n",
    "empty_var = np.array()"
   ]
  },
  {
   "cell_type": "markdown",
   "metadata": {},
   "source": [
    "The above code results in an error, since we tried to initialize an array with nothing in it. There is a NumPy object that can be used to create an empty array, called the `np.empty()` array. However, the 'emptiness' is misleading, since the `np.empty()` array is initialized with *garbage* values. Let's take a look."
   ]
  },
  {
   "cell_type": "code",
   "execution_count": 7,
   "metadata": {},
   "outputs": [
    {
     "data": {
      "text/plain": [
       "array([0., 0., 0., 0.])"
      ]
     },
     "execution_count": 7,
     "metadata": {},
     "output_type": "execute_result"
    }
   ],
   "source": [
    "np.empty(4)"
   ]
  },
  {
   "cell_type": "markdown",
   "metadata": {},
   "source": [
    "The three most useful attributes of the `ndarray` object are:\n",
    "- `shape`: a tuple with the 'shape' of the array. For example, the array `[1.1 1.2]` has shape `(2,)`, which means there are 2 elements on a single axis.\n",
    "- `dtype`: the data type contained in the array.\n",
    "- `ndim`: the number of dimensions used in the array. For example, the array `[1.1 1.2]` has `ndim = 1`."
   ]
  },
  {
   "cell_type": "code",
   "execution_count": 8,
   "metadata": {},
   "outputs": [
    {
     "data": {
      "text/plain": [
       "((2,), dtype('float64'), 1)"
      ]
     },
     "execution_count": 8,
     "metadata": {},
     "output_type": "execute_result"
    }
   ],
   "source": [
    "arr1.shape, arr1.dtype, arr1.ndim"
   ]
  },
  {
   "cell_type": "markdown",
   "metadata": {},
   "source": [
    "There are some other basic pre-defined `ndarray` objects to represent arrays of ones or zeros."
   ]
  },
  {
   "cell_type": "code",
   "execution_count": 9,
   "metadata": {},
   "outputs": [
    {
     "data": {
      "text/plain": [
       "array([1., 1., 1., 1., 1., 1., 1., 1., 1., 1.])"
      ]
     },
     "execution_count": 9,
     "metadata": {},
     "output_type": "execute_result"
    }
   ],
   "source": [
    "np.ones(10)"
   ]
  },
  {
   "cell_type": "code",
   "execution_count": 10,
   "metadata": {},
   "outputs": [
    {
     "data": {
      "text/plain": [
       "array([0., 0., 0., 0., 0., 0., 0., 0., 0., 0.])"
      ]
     },
     "execution_count": 10,
     "metadata": {},
     "output_type": "execute_result"
    }
   ],
   "source": [
    "np.zeros(10)"
   ]
  },
  {
   "cell_type": "markdown",
   "metadata": {},
   "source": [
    "To create an array with more dimensions, pass in the desired `shape` as a tuple argument."
   ]
  },
  {
   "cell_type": "code",
   "execution_count": 11,
   "metadata": {},
   "outputs": [
    {
     "data": {
      "text/plain": [
       "array([[1., 1., 1., 1., 1., 1., 1., 1., 1., 1.],\n",
       "       [1., 1., 1., 1., 1., 1., 1., 1., 1., 1.],\n",
       "       [1., 1., 1., 1., 1., 1., 1., 1., 1., 1.],\n",
       "       [1., 1., 1., 1., 1., 1., 1., 1., 1., 1.],\n",
       "       [1., 1., 1., 1., 1., 1., 1., 1., 1., 1.],\n",
       "       [1., 1., 1., 1., 1., 1., 1., 1., 1., 1.],\n",
       "       [1., 1., 1., 1., 1., 1., 1., 1., 1., 1.],\n",
       "       [1., 1., 1., 1., 1., 1., 1., 1., 1., 1.],\n",
       "       [1., 1., 1., 1., 1., 1., 1., 1., 1., 1.],\n",
       "       [1., 1., 1., 1., 1., 1., 1., 1., 1., 1.]])"
      ]
     },
     "execution_count": 11,
     "metadata": {},
     "output_type": "execute_result"
    }
   ],
   "source": [
    "np.ones((10,10))"
   ]
  },
  {
   "cell_type": "code",
   "execution_count": 12,
   "metadata": {
    "scrolled": true
   },
   "outputs": [
    {
     "data": {
      "text/plain": [
       "array([[[0., 0.],\n",
       "        [0., 0.]],\n",
       "\n",
       "       [[0., 0.],\n",
       "        [0., 0.]]])"
      ]
     },
     "execution_count": 12,
     "metadata": {},
     "output_type": "execute_result"
    }
   ],
   "source": [
    "np.zeros((2,2,2))"
   ]
  },
  {
   "cell_type": "markdown",
   "metadata": {},
   "source": [
    "We will often use the array version of Python's `range()` function. In NumPy, this function is `np.arange()`."
   ]
  },
  {
   "cell_type": "code",
   "execution_count": 13,
   "metadata": {},
   "outputs": [
    {
     "data": {
      "text/plain": [
       "array([0, 1, 2, 3, 4, 5, 6, 7, 8, 9])"
      ]
     },
     "execution_count": 13,
     "metadata": {},
     "output_type": "execute_result"
    }
   ],
   "source": [
    "np.arange(10)"
   ]
  },
  {
   "cell_type": "code",
   "execution_count": 14,
   "metadata": {},
   "outputs": [
    {
     "data": {
      "text/plain": [
       "dtype('int32')"
      ]
     },
     "execution_count": 14,
     "metadata": {},
     "output_type": "execute_result"
    }
   ],
   "source": [
    "np.arange(10).dtype"
   ]
  },
  {
   "cell_type": "markdown",
   "metadata": {},
   "source": [
    "We may also created an array of `n` equally spaced points between `a` and `b` by using the NumPy object `np.linspace(a, b, n)`."
   ]
  },
  {
   "cell_type": "code",
   "execution_count": 15,
   "metadata": {},
   "outputs": [
    {
     "data": {
      "text/plain": [
       "array([0.        , 0.07142857, 0.14285714, 0.21428571, 0.28571429,\n",
       "       0.35714286, 0.42857143, 0.5       , 0.57142857, 0.64285714,\n",
       "       0.71428571, 0.78571429, 0.85714286, 0.92857143, 1.        ])"
      ]
     },
     "execution_count": 15,
     "metadata": {},
     "output_type": "execute_result"
    }
   ],
   "source": [
    "# Create 15 equally spaced points between 0 and 1.\n",
    "\n",
    "np.linspace(0, 1, 15)"
   ]
  },
  {
   "cell_type": "markdown",
   "metadata": {},
   "source": [
    "An important method of the `ndarray` class is `reshape(<shape>)`. By passing a tuple as the `shape` argument, we can form 2d arrays from 1d arrays, and vice-versa (of course, this also extends to higher dimensional arrays)."
   ]
  },
  {
   "cell_type": "code",
   "execution_count": 16,
   "metadata": {},
   "outputs": [
    {
     "data": {
      "text/plain": [
       "array([ 0,  1,  2,  3,  4,  5,  6,  7,  8,  9, 10, 11, 12, 13, 14, 15])"
      ]
     },
     "execution_count": 16,
     "metadata": {},
     "output_type": "execute_result"
    }
   ],
   "source": [
    "test = np.arange(16)\n",
    "test"
   ]
  },
  {
   "cell_type": "code",
   "execution_count": 17,
   "metadata": {},
   "outputs": [
    {
     "data": {
      "text/plain": [
       "array([[ 0,  1,  2,  3],\n",
       "       [ 4,  5,  6,  7],\n",
       "       [ 8,  9, 10, 11],\n",
       "       [12, 13, 14, 15]])"
      ]
     },
     "execution_count": 17,
     "metadata": {},
     "output_type": "execute_result"
    }
   ],
   "source": [
    "test.reshape((4,4))"
   ]
  },
  {
   "cell_type": "markdown",
   "metadata": {},
   "source": [
    "## Data types within `ndarray` structures\n",
    "\n",
    "While it is possible to put mixed types inside an `ndarray`, it is not very useful. We generally use `ndarray`s for numerical computations.\n",
    "\n",
    "Some of the common data types in `ndarray`s are listed below.\n",
    "\n",
    "|Data Type|Details|\n",
    "|---|---|\n",
    "|`int`|The default setting is 32-bit signed integers (`int32`)|\n",
    "|`float`|The default setting is 64-bit floats (`float64`)|\n",
    "|`str`|Same as the pure Python `str` data type|\n",
    "|`bool`|Same as the pure Python `bool` data type|\n",
    "\n",
    "There are also more advanced data types if more control over memory usage is needed:\n",
    "\n",
    "|Advanced Data Type|Details|\n",
    "|---|---|\n",
    "|`int8`, `int16`, `int32`, `int64`|8-, 16-, 32-, and 64-bit signed integers|\n",
    "|`uint8`, `uint16`, `uint32`, `uint64`|8-, 16-, 32-, and 64-bit unsigned integers|\n",
    "|`float16`|Half-precision floating point|\n",
    "|`float32`, `float64`, `float128`|32-bit single-precision floating point (`float` in C); 64- and 128-bit double-precision floating-point (`double` in C or `float` in Python)|"
   ]
  },
  {
   "cell_type": "code",
   "execution_count": 18,
   "metadata": {},
   "outputs": [
    {
     "data": {
      "text/plain": [
       "array([1, 1, 0])"
      ]
     },
     "execution_count": 18,
     "metadata": {},
     "output_type": "execute_result"
    }
   ],
   "source": [
    "np.array([1.1, 1.3, 0], dtype = 'int')"
   ]
  },
  {
   "cell_type": "code",
   "execution_count": 19,
   "metadata": {},
   "outputs": [
    {
     "data": {
      "text/plain": [
       "array([1.1, 1.3, 0. ])"
      ]
     },
     "execution_count": 19,
     "metadata": {},
     "output_type": "execute_result"
    }
   ],
   "source": [
    "np.array([1.1, 1.3, 0], dtype = 'float')"
   ]
  },
  {
   "cell_type": "code",
   "execution_count": 20,
   "metadata": {},
   "outputs": [
    {
     "data": {
      "text/plain": [
       "array(['1.1', '1.3', '0'], dtype='<U3')"
      ]
     },
     "execution_count": 20,
     "metadata": {},
     "output_type": "execute_result"
    }
   ],
   "source": [
    "np.array([1.1, 1.3, 0], dtype = 'str')"
   ]
  },
  {
   "cell_type": "code",
   "execution_count": 21,
   "metadata": {},
   "outputs": [
    {
     "data": {
      "text/plain": [
       "array([ True,  True, False])"
      ]
     },
     "execution_count": 21,
     "metadata": {},
     "output_type": "execute_result"
    }
   ],
   "source": [
    "np.array([1.1, 1.3, 0], dtype = 'bool')"
   ]
  },
  {
   "cell_type": "markdown",
   "metadata": {},
   "source": [
    "## Vectorized Functions\n",
    "\n",
    "In this section, we discuss why `ndarray` objects are preferable to pure Python data types for numerical computations. Suppose we have a list of 100,000 `float`s, and we want to square each list element. We could get this done with a `for` loop or a list comprehension."
   ]
  },
  {
   "cell_type": "code",
   "execution_count": 22,
   "metadata": {},
   "outputs": [],
   "source": [
    "data = np.random.rand(100000)\n",
    "\n",
    "# Using a for loop to square each element.\n",
    "data_squared_for_loop = []\n",
    "for element in data:\n",
    "    data_squared_for_loop.append(element**2)\n",
    "    \n",
    "# Using a list comprehension to square each element.\n",
    "data_squared_list_comp = [element**2 for element in data]"
   ]
  },
  {
   "cell_type": "markdown",
   "metadata": {},
   "source": [
    "Each of these options are simple enough, though we have converted our result into a `list` in each case, so we may run into problems later. The calculations were also done almost instantaneously. However, when we use `ndarray`s we are presented with a third option: just square all elements at once."
   ]
  },
  {
   "cell_type": "code",
   "execution_count": 23,
   "metadata": {},
   "outputs": [],
   "source": [
    "data_squared = data**2"
   ]
  },
  {
   "cell_type": "markdown",
   "metadata": {},
   "source": [
    "Not only is the syntax easier, but there are huge computational savings by using this method. We'll use the Jupyter cell magic `%%timeit` to time how long each of our three options takes."
   ]
  },
  {
   "cell_type": "code",
   "execution_count": 24,
   "metadata": {},
   "outputs": [
    {
     "name": "stdout",
     "output_type": "stream",
     "text": [
      "40.6 ms ± 704 µs per loop (mean ± std. dev. of 7 runs, 10 loops each)\n"
     ]
    }
   ],
   "source": [
    "%%timeit\n",
    "\n",
    "data_squared_for_loop = []\n",
    "for element in data:\n",
    "    data_squared_for_loop.append(element**2)"
   ]
  },
  {
   "cell_type": "code",
   "execution_count": 25,
   "metadata": {},
   "outputs": [
    {
     "name": "stdout",
     "output_type": "stream",
     "text": [
      "37 ms ± 945 µs per loop (mean ± std. dev. of 7 runs, 10 loops each)\n"
     ]
    }
   ],
   "source": [
    "%%timeit\n",
    "\n",
    "data_squared_list_comp = [element**2 for element in data]"
   ]
  },
  {
   "cell_type": "code",
   "execution_count": 26,
   "metadata": {},
   "outputs": [
    {
     "name": "stdout",
     "output_type": "stream",
     "text": [
      "78.7 µs ± 1.07 µs per loop (mean ± std. dev. of 7 runs, 10000 loops each)\n"
     ]
    }
   ],
   "source": [
    "%%timeit\n",
    "\n",
    "data_squared = data**2"
   ]
  },
  {
   "cell_type": "markdown",
   "metadata": {},
   "source": [
    "Note that the times for both the `for` loop and the list comprehension are in *milliseconds*, or thousandths of a second. The time for the vectorized function is in *microseconds*, or millionths of a second. Therefore, in this example we see that the vectorized function is 1000 times faster than the pure Python version.\n",
    "\n",
    "Not only are vectorized functions faster, but they have simpler syntax and they eliminate the need for iterative techniques like `for` loops. Many operations are vectorized by default in NumPy. Here are some examples."
   ]
  },
  {
   "cell_type": "code",
   "execution_count": 27,
   "metadata": {},
   "outputs": [],
   "source": [
    "# Vectorized addition and subtraction.\n",
    "\n",
    "data1 = np.array([-1.1, 2.2, -3.3, 4.4, -5.5])\n",
    "data2 = np.array([4.1, -5.1, -6.1, 7.1, -8.1])"
   ]
  },
  {
   "cell_type": "code",
   "execution_count": 28,
   "metadata": {},
   "outputs": [
    {
     "data": {
      "text/plain": [
       "array([-0.1,  3.2, -2.3,  5.4, -4.5])"
      ]
     },
     "execution_count": 28,
     "metadata": {},
     "output_type": "execute_result"
    }
   ],
   "source": [
    "data1 + 1.0"
   ]
  },
  {
   "cell_type": "code",
   "execution_count": 29,
   "metadata": {},
   "outputs": [
    {
     "data": {
      "text/plain": [
       "array([  3. ,  -2.9,  -9.4,  11.5, -13.6])"
      ]
     },
     "execution_count": 29,
     "metadata": {},
     "output_type": "execute_result"
    }
   ],
   "source": [
    "data1 + data2"
   ]
  },
  {
   "cell_type": "code",
   "execution_count": 30,
   "metadata": {},
   "outputs": [
    {
     "data": {
      "text/plain": [
       "array([ 3.1, -6.1, -7.1,  6.1, -9.1])"
      ]
     },
     "execution_count": 30,
     "metadata": {},
     "output_type": "execute_result"
    }
   ],
   "source": [
    "data2 - 1.0"
   ]
  },
  {
   "cell_type": "code",
   "execution_count": 31,
   "metadata": {},
   "outputs": [
    {
     "data": {
      "text/plain": [
       "array([-5.2,  7.3,  2.8, -2.7,  2.6])"
      ]
     },
     "execution_count": 31,
     "metadata": {},
     "output_type": "execute_result"
    }
   ],
   "source": [
    "data1 - data2"
   ]
  },
  {
   "cell_type": "code",
   "execution_count": 32,
   "metadata": {},
   "outputs": [
    {
     "data": {
      "text/plain": [
       "array([ -7.7,  15.4, -23.1,  30.8, -38.5])"
      ]
     },
     "execution_count": 32,
     "metadata": {},
     "output_type": "execute_result"
    }
   ],
   "source": [
    "# Vectorized scalar multiplication and division.\n",
    "\n",
    "7*data1"
   ]
  },
  {
   "cell_type": "code",
   "execution_count": 33,
   "metadata": {},
   "outputs": [
    {
     "data": {
      "text/plain": [
       "array([-0.15714286,  0.31428571, -0.47142857,  0.62857143, -0.78571429])"
      ]
     },
     "execution_count": 33,
     "metadata": {},
     "output_type": "execute_result"
    }
   ],
   "source": [
    "data1/7"
   ]
  },
  {
   "cell_type": "markdown",
   "metadata": {},
   "source": [
    "Note that each of the above operations is done **element-wise**, meaning on each individual element. A more general term for a vectorized function that works element-wise is a **universal** function.\n",
    "\n",
    "When two `ndarray`s with the same dimensions are multiplied together, the multiplication is done element-wise (this is sometimes called the 'Hadamard product').\n",
    "\n",
    "**Note:** This array-array multiplication is completely different from matrix-vector and matrix-matrix multiplication."
   ]
  },
  {
   "cell_type": "code",
   "execution_count": 34,
   "metadata": {},
   "outputs": [
    {
     "data": {
      "text/plain": [
       "array([[-1.1,  2.2, -3.3,  4.4, -5.5],\n",
       "       [-1.1,  2.2, -3.3,  4.4, -5.5]])"
      ]
     },
     "execution_count": 34,
     "metadata": {},
     "output_type": "execute_result"
    }
   ],
   "source": [
    "data1_2d = np.array([[-1.1, 2.2, -3.3, 4.4, -5.5],[-1.1, 2.2, -3.3, 4.4, -5.5]])\n",
    "data1_2d"
   ]
  },
  {
   "cell_type": "code",
   "execution_count": 35,
   "metadata": {},
   "outputs": [
    {
     "data": {
      "text/plain": [
       "array([[ 4.1, -5.1, -6.1,  7.1, -8.1],\n",
       "       [ 4.1, -5.1, -6.1,  7.1, -8.1]])"
      ]
     },
     "execution_count": 35,
     "metadata": {},
     "output_type": "execute_result"
    }
   ],
   "source": [
    "data2_2d = np.array([[4.1, -5.1, -6.1, 7.1, -8.1],[4.1, -5.1, -6.1, 7.1, -8.1]])\n",
    "data2_2d"
   ]
  },
  {
   "cell_type": "code",
   "execution_count": 36,
   "metadata": {},
   "outputs": [
    {
     "data": {
      "text/plain": [
       "array([[ -4.51, -11.22,  20.13,  31.24,  44.55],\n",
       "       [ -4.51, -11.22,  20.13,  31.24,  44.55]])"
      ]
     },
     "execution_count": 36,
     "metadata": {},
     "output_type": "execute_result"
    }
   ],
   "source": [
    "data1_2d * data2_2d"
   ]
  },
  {
   "cell_type": "code",
   "execution_count": 37,
   "metadata": {},
   "outputs": [
    {
     "data": {
      "text/plain": [
       "array([[-0.26829268, -0.43137255,  0.54098361,  0.61971831,  0.67901235],\n",
       "       [-0.26829268, -0.43137255,  0.54098361,  0.61971831,  0.67901235]])"
      ]
     },
     "execution_count": 37,
     "metadata": {},
     "output_type": "execute_result"
    }
   ],
   "source": [
    "data1_2d / data2_2d"
   ]
  },
  {
   "cell_type": "code",
   "execution_count": 38,
   "metadata": {},
   "outputs": [
    {
     "data": {
      "text/plain": [
       "array([[3.32871084e-01, 9.02501350e+00, 3.68831674e-02, 8.14508687e+01,\n",
       "        4.08677144e-03],\n",
       "       [3.32871084e-01, 9.02501350e+00, 3.68831674e-02, 8.14508687e+01,\n",
       "        4.08677144e-03]])"
      ]
     },
     "execution_count": 38,
     "metadata": {},
     "output_type": "execute_result"
    }
   ],
   "source": [
    "# Vectorized exponentiation.\n",
    "\n",
    "np.exp(data1_2d)"
   ]
  },
  {
   "cell_type": "markdown",
   "metadata": {},
   "source": [
    "The above function `np.exp(x)` is the NumPy implementation of the function $e^x$. This function takes in a single argument and returns the result of using each array element as the exponent in $e^x$. Since the function takes in one argument, it is called a **unary** function. The function is vectorized to work on arrays, so we say the exponential function is **universal**.\n",
    "\n",
    "Here is a list of universal unary functions adapted from (McKinney, 2015). Since these are universal functions, they return element-wise arrays.\n",
    "\n",
    "|Function|Details|\n",
    "|---|---|\n",
    "|`np.abs()`|Compute the absolute values of elements of the argument.|\n",
    "|`np.sqrt()`|Compute the square roots of elements of the argument.|\n",
    "|`np.exp()`|Compute $e^x$ for each element of the argument.|\n",
    "|`np.log()`, `np.log2()`, `np.log10`|Compute natural logarithm (`np.log`), or logarithm with base 2 or base 10.|\n",
    "|`np.sin()`, `np.cos()`, `np.tan()`|Compute trigonometric ratios.|\n",
    "|`np.arcsin()`, `np.arccos()`, `np.arctan()`|Compute inverse trigonometric ratios.|\n",
    "|`np.ceil()`, `np.floor()`|Round up or down, respectively, to the nearest integer.|\n",
    "|`np.rint()`|Round to the nearest integer.|\n",
    "\n",
    "Similarly, universal functions that take in two arguments are called universal **binary** functions."
   ]
  },
  {
   "cell_type": "markdown",
   "metadata": {},
   "source": [
    "### Vectorizing Python conditional statements\n",
    "\n",
    "There are many cases where we will want to vectorize pure Python functions containing conditional `if`/`else` statements. This can be done using the NumPy function `np.where()`. The general syntax for using this function is:\n",
    "```\n",
    "np.where(<condition>, <result if condition is met>, <result if condition is not met>)\n",
    "```\n",
    "\n",
    "As an example, let's declare a NumPy array of 101 values between 0 and 2. We'll then use `np.where()` to zero any element less than 0.74."
   ]
  },
  {
   "cell_type": "code",
   "execution_count": 39,
   "metadata": {},
   "outputs": [
    {
     "data": {
      "text/plain": [
       "array([0.  , 0.02, 0.04, 0.06, 0.08, 0.1 , 0.12, 0.14, 0.16, 0.18, 0.2 ,\n",
       "       0.22, 0.24, 0.26, 0.28, 0.3 , 0.32, 0.34, 0.36, 0.38, 0.4 , 0.42,\n",
       "       0.44, 0.46, 0.48, 0.5 , 0.52, 0.54, 0.56, 0.58, 0.6 , 0.62, 0.64,\n",
       "       0.66, 0.68, 0.7 , 0.72, 0.74, 0.76, 0.78, 0.8 , 0.82, 0.84, 0.86,\n",
       "       0.88, 0.9 , 0.92, 0.94, 0.96, 0.98, 1.  , 1.02, 1.04, 1.06, 1.08,\n",
       "       1.1 , 1.12, 1.14, 1.16, 1.18, 1.2 , 1.22, 1.24, 1.26, 1.28, 1.3 ,\n",
       "       1.32, 1.34, 1.36, 1.38, 1.4 , 1.42, 1.44, 1.46, 1.48, 1.5 , 1.52,\n",
       "       1.54, 1.56, 1.58, 1.6 , 1.62, 1.64, 1.66, 1.68, 1.7 , 1.72, 1.74,\n",
       "       1.76, 1.78, 1.8 , 1.82, 1.84, 1.86, 1.88, 1.9 , 1.92, 1.94, 1.96,\n",
       "       1.98, 2.  ])"
      ]
     },
     "execution_count": 39,
     "metadata": {},
     "output_type": "execute_result"
    }
   ],
   "source": [
    "A = np.linspace(0,2,101)\n",
    "A"
   ]
  },
  {
   "cell_type": "code",
   "execution_count": 40,
   "metadata": {},
   "outputs": [
    {
     "data": {
      "text/plain": [
       "array([0.  , 0.  , 0.  , 0.  , 0.  , 0.  , 0.  , 0.  , 0.  , 0.  , 0.  ,\n",
       "       0.  , 0.  , 0.  , 0.  , 0.  , 0.  , 0.  , 0.  , 0.  , 0.  , 0.  ,\n",
       "       0.  , 0.  , 0.  , 0.  , 0.  , 0.  , 0.  , 0.  , 0.  , 0.  , 0.  ,\n",
       "       0.  , 0.  , 0.  , 0.  , 0.74, 0.76, 0.78, 0.8 , 0.82, 0.84, 0.86,\n",
       "       0.88, 0.9 , 0.92, 0.94, 0.96, 0.98, 1.  , 1.02, 1.04, 1.06, 1.08,\n",
       "       1.1 , 1.12, 1.14, 1.16, 1.18, 1.2 , 1.22, 1.24, 1.26, 1.28, 1.3 ,\n",
       "       1.32, 1.34, 1.36, 1.38, 1.4 , 1.42, 1.44, 1.46, 1.48, 1.5 , 1.52,\n",
       "       1.54, 1.56, 1.58, 1.6 , 1.62, 1.64, 1.66, 1.68, 1.7 , 1.72, 1.74,\n",
       "       1.76, 1.78, 1.8 , 1.82, 1.84, 1.86, 1.88, 1.9 , 1.92, 1.94, 1.96,\n",
       "       1.98, 2.  ])"
      ]
     },
     "execution_count": 40,
     "metadata": {},
     "output_type": "execute_result"
    }
   ],
   "source": [
    "np.where(A < 0.74, 0, A)"
   ]
  },
  {
   "cell_type": "markdown",
   "metadata": {},
   "source": [
    "We may also use the `np.where()` function on multi-dimensional arrays."
   ]
  },
  {
   "cell_type": "code",
   "execution_count": 41,
   "metadata": {},
   "outputs": [
    {
     "data": {
      "text/plain": [
       "array([[ 0,  1,  2,  3],\n",
       "       [ 4,  5,  6,  7],\n",
       "       [ 8,  9, 10, 11],\n",
       "       [12, 13, 14, 15]])"
      ]
     },
     "execution_count": 41,
     "metadata": {},
     "output_type": "execute_result"
    }
   ],
   "source": [
    "B = np.arange(16).reshape((4,4))\n",
    "B"
   ]
  },
  {
   "cell_type": "code",
   "execution_count": 42,
   "metadata": {},
   "outputs": [
    {
     "data": {
      "text/plain": [
       "array([[ 3,  4,  5,  6],\n",
       "       [ 1,  2,  3,  4],\n",
       "       [ 5,  6,  7,  8],\n",
       "       [ 9, 10, 11, 12]])"
      ]
     },
     "execution_count": 42,
     "metadata": {},
     "output_type": "execute_result"
    }
   ],
   "source": [
    "np.where(B < 4, B + 3, B - 3)"
   ]
  },
  {
   "cell_type": "markdown",
   "metadata": {},
   "source": [
    "## Indexing and slicing\n",
    "\n",
    "Indexing on `ndarray` objects is very similar to `list` indexing. The indices start at 0 and increase by 1 for each subsequent array position. For two-dimensional arrays, the indexing takes the form `[i,j]`, where `i` is the *row* index and `j` is the *column* index."
   ]
  },
  {
   "cell_type": "code",
   "execution_count": 43,
   "metadata": {},
   "outputs": [
    {
     "data": {
      "text/plain": [
       "array([0, 1, 2, 3, 4, 5, 6, 7, 8, 9])"
      ]
     },
     "execution_count": 43,
     "metadata": {},
     "output_type": "execute_result"
    }
   ],
   "source": [
    "arr = np.arange(10)\n",
    "arr"
   ]
  },
  {
   "cell_type": "code",
   "execution_count": 44,
   "metadata": {},
   "outputs": [
    {
     "data": {
      "text/plain": [
       "6"
      ]
     },
     "execution_count": 44,
     "metadata": {},
     "output_type": "execute_result"
    }
   ],
   "source": [
    "arr[6]"
   ]
  },
  {
   "cell_type": "code",
   "execution_count": 46,
   "metadata": {},
   "outputs": [
    {
     "data": {
      "text/plain": [
       "array([[ 0.,  1.,  2.,  3.,  4.,  5.,  6.,  7.,  8.,  9.],\n",
       "       [ 3.,  4.,  5.,  6.,  7.,  8.,  9., 10., 11., 12.]])"
      ]
     },
     "execution_count": 46,
     "metadata": {},
     "output_type": "execute_result"
    }
   ],
   "source": [
    "arr1 = np.array([np.arange(10), np.arange(10) + 3.0])\n",
    "arr1"
   ]
  },
  {
   "cell_type": "code",
   "execution_count": 47,
   "metadata": {},
   "outputs": [
    {
     "data": {
      "text/plain": [
       "8.0"
      ]
     },
     "execution_count": 47,
     "metadata": {},
     "output_type": "execute_result"
    }
   ],
   "source": [
    "arr1[1,5]"
   ]
  },
  {
   "cell_type": "markdown",
   "metadata": {},
   "source": [
    "Thus, we see that the index `[1,5]` corresponds to the element in row `1` and column `5` (keeping in mind zero indexing!).\n",
    "\n",
    "For multidimensional arrays, the indexing works the same. That is, for an array with `n` dimensions, we may access an element by specifying `n` indices in the form $[i_0, i_1, i_2, ... , i_{n-1}]$.\n",
    "\n",
    "**In practice,** we usually don't see arrays with more than 3 dimensions."
   ]
  },
  {
   "cell_type": "code",
   "execution_count": 48,
   "metadata": {},
   "outputs": [
    {
     "data": {
      "text/plain": [
       "array([[[ 0. ,  1. ,  2. ,  3. ,  4. ],\n",
       "        [ 1.2,  2.2,  3.2,  4.2,  5.2],\n",
       "        [-1. ,  0. ,  1. ,  2. ,  3. ]],\n",
       "\n",
       "       [[ 0. ,  1. ,  2. ,  3. ,  4. ],\n",
       "        [ 2. ,  3. ,  4. ,  5. ,  6. ],\n",
       "        [ 1. ,  2. ,  3. ,  4. ,  5. ]]])"
      ]
     },
     "execution_count": 48,
     "metadata": {},
     "output_type": "execute_result"
    }
   ],
   "source": [
    "arrn = np.array([[np.arange(5), np.arange(5) + 1.2, np.arange(5) - 1.0],[np.arange(5), np.arange(5) + 2.0, np.arange(5) +1.0]])\n",
    "arrn"
   ]
  },
  {
   "cell_type": "code",
   "execution_count": 49,
   "metadata": {},
   "outputs": [
    {
     "data": {
      "text/plain": [
       "4.2"
      ]
     },
     "execution_count": 49,
     "metadata": {},
     "output_type": "execute_result"
    }
   ],
   "source": [
    "arrn[0,1,3]"
   ]
  },
  {
   "cell_type": "markdown",
   "metadata": {},
   "source": [
    "The index `[0,1,3]` corresponds to the element in sub-array `0`, row `1`, and column `3`.\n",
    "\n",
    "Slicing works the same as with `list` objects. We specify the 'slice' by `[first_index:last_index]`. When the first index of the slice is not specified, slicing begins from the `0` position. Similarly, when the last index of the slice is not specified, slicing ends at the `-1` or 'last' position.\n",
    "\n",
    "**Note:** Just as with pure Python, slicing with `ndarray` objects ends at the index *before* the last index specified."
   ]
  },
  {
   "cell_type": "code",
   "execution_count": 50,
   "metadata": {},
   "outputs": [
    {
     "data": {
      "text/plain": [
       "array([0, 1, 2, 3, 4, 5, 6, 7, 8, 9])"
      ]
     },
     "execution_count": 50,
     "metadata": {},
     "output_type": "execute_result"
    }
   ],
   "source": [
    "arr"
   ]
  },
  {
   "cell_type": "code",
   "execution_count": 51,
   "metadata": {},
   "outputs": [
    {
     "data": {
      "text/plain": [
       "array([1, 2, 3, 4, 5, 6, 7])"
      ]
     },
     "execution_count": 51,
     "metadata": {},
     "output_type": "execute_result"
    }
   ],
   "source": [
    "arr[1:8]"
   ]
  },
  {
   "cell_type": "code",
   "execution_count": 52,
   "metadata": {},
   "outputs": [
    {
     "data": {
      "text/plain": [
       "array([[ 0.,  1.,  2.,  3.,  4.,  5.,  6.,  7.,  8.,  9.],\n",
       "       [ 3.,  4.,  5.,  6.,  7.,  8.,  9., 10., 11., 12.]])"
      ]
     },
     "execution_count": 52,
     "metadata": {},
     "output_type": "execute_result"
    }
   ],
   "source": [
    "arr1"
   ]
  },
  {
   "cell_type": "code",
   "execution_count": 53,
   "metadata": {},
   "outputs": [
    {
     "data": {
      "text/plain": [
       "array([3., 4., 5., 6., 7.])"
      ]
     },
     "execution_count": 53,
     "metadata": {},
     "output_type": "execute_result"
    }
   ],
   "source": [
    "arr1[1, :5]"
   ]
  },
  {
   "cell_type": "markdown",
   "metadata": {},
   "source": [
    "### Boolean indexing\n",
    "\n",
    "This very useful technique is used for either generating a boolean array or finding array elements satisfying a particular condition. In the first case, we can generate a boolean **mask** based on a given condition. This is perhaps best illustrated through an example. \n",
    "\n",
    "We'll create a 2d array with values between 0 and 1. From this array we'll create a boolean mask based on the condition `value > 0.5`. The mask will also be a 2d array, with `True` values where the original array values are greater than 0.5, and `False` values where the original values are less than or equal to 0.5."
   ]
  },
  {
   "cell_type": "code",
   "execution_count": 54,
   "metadata": {},
   "outputs": [
    {
     "data": {
      "text/plain": [
       "array([[0.1 , 0.3 , 0.99],\n",
       "       [0.51, 0.49, 0.5 ],\n",
       "       [0.23, 0.75, 0.39]])"
      ]
     },
     "execution_count": 54,
     "metadata": {},
     "output_type": "execute_result"
    }
   ],
   "source": [
    "nums = np.array([[0.1, 0.3, 0.99],[0.51, 0.49, 0.5],[0.23, 0.75, 0.39]])\n",
    "nums"
   ]
  },
  {
   "cell_type": "code",
   "execution_count": 55,
   "metadata": {},
   "outputs": [
    {
     "data": {
      "text/plain": [
       "array([[False, False,  True],\n",
       "       [ True, False, False],\n",
       "       [False,  True, False]])"
      ]
     },
     "execution_count": 55,
     "metadata": {},
     "output_type": "execute_result"
    }
   ],
   "source": [
    "mask = nums > 0.5\n",
    "mask"
   ]
  },
  {
   "cell_type": "markdown",
   "metadata": {},
   "source": [
    "This may not seem particularly useful, but recall that array-array multiplication is *element-wise*, that `True` is equivalent to `1`, and that `False` is equivalent to `0`. Therefore, we can use this boolean mask to zero elements of our array that are less than or equal to 0.5."
   ]
  },
  {
   "cell_type": "code",
   "execution_count": 56,
   "metadata": {
    "scrolled": true
   },
   "outputs": [
    {
     "data": {
      "text/plain": [
       "array([[0.  , 0.  , 0.99],\n",
       "       [0.51, 0.  , 0.  ],\n",
       "       [0.  , 0.75, 0.  ]])"
      ]
     },
     "execution_count": 56,
     "metadata": {},
     "output_type": "execute_result"
    }
   ],
   "source": [
    "nums*mask"
   ]
  },
  {
   "cell_type": "markdown",
   "metadata": {},
   "source": [
    "We may also generate new arrays based on array elements that meet a specified condition. The syntax is the same as getting an array element by index, but instead of specifying an index we specify a *condition*.\n",
    "\n",
    "We'll generate an array of elements of the above array that are greater than 0.5."
   ]
  },
  {
   "cell_type": "code",
   "execution_count": 57,
   "metadata": {},
   "outputs": [
    {
     "data": {
      "text/plain": [
       "array([0.99, 0.51, 0.75])"
      ]
     },
     "execution_count": 57,
     "metadata": {},
     "output_type": "execute_result"
    }
   ],
   "source": [
    "nums[nums > 0.5]"
   ]
  },
  {
   "cell_type": "code",
   "execution_count": 58,
   "metadata": {},
   "outputs": [
    {
     "data": {
      "text/plain": [
       "array(['C', 'B', 'B', 'A', 'D', 'F', 'T', 'L', 'Z', 'E', 'R'], dtype='<U1')"
      ]
     },
     "execution_count": 58,
     "metadata": {},
     "output_type": "execute_result"
    }
   ],
   "source": [
    "# A second example\n",
    "\n",
    "letters = np.array(['C','B','B','A','D','F','T','L','Z','E','R'])\n",
    "letters"
   ]
  },
  {
   "cell_type": "code",
   "execution_count": 59,
   "metadata": {},
   "outputs": [
    {
     "data": {
      "text/plain": [
       "array(['T', 'Z', 'R'], dtype='<U1')"
      ]
     },
     "execution_count": 59,
     "metadata": {},
     "output_type": "execute_result"
    }
   ],
   "source": [
    "letters[letters > 'M']"
   ]
  },
  {
   "cell_type": "markdown",
   "metadata": {},
   "source": [
    "### Boolean methods\n",
    "\n",
    "We may combine the above techniques with NumPy universal functions to count the number of array elements satisfying a given condition.\n",
    "\n",
    "For example, we can count the number of array elements in `nums` less than 0.8."
   ]
  },
  {
   "cell_type": "code",
   "execution_count": 60,
   "metadata": {},
   "outputs": [
    {
     "data": {
      "text/plain": [
       "8"
      ]
     },
     "execution_count": 60,
     "metadata": {},
     "output_type": "execute_result"
    }
   ],
   "source": [
    "nums = nums.reshape((9,))\n",
    "(nums < 0.8).sum()"
   ]
  },
  {
   "cell_type": "markdown",
   "metadata": {},
   "source": [
    "We can also check the truth values of arrays using the methods `any()` and `all()`. The `any()` method checks if *any* array elements have a truth value of `True`, while the `all()` method checks if *all* array elements have a truth value of `True`."
   ]
  },
  {
   "cell_type": "code",
   "execution_count": 61,
   "metadata": {},
   "outputs": [
    {
     "data": {
      "text/plain": [
       "array([  0,  -1,   2,  -3,   4,  -5,   6,  -7,   8,  -9,  10, -11,  12])"
      ]
     },
     "execution_count": 61,
     "metadata": {},
     "output_type": "execute_result"
    }
   ],
   "source": [
    "nums1 = np.array([(-1)**i*i for i in range(13)])\n",
    "nums1"
   ]
  },
  {
   "cell_type": "code",
   "execution_count": 62,
   "metadata": {},
   "outputs": [
    {
     "data": {
      "text/plain": [
       "True"
      ]
     },
     "execution_count": 62,
     "metadata": {},
     "output_type": "execute_result"
    }
   ],
   "source": [
    "nums1.any()"
   ]
  },
  {
   "cell_type": "code",
   "execution_count": 63,
   "metadata": {},
   "outputs": [
    {
     "data": {
      "text/plain": [
       "False"
      ]
     },
     "execution_count": 63,
     "metadata": {},
     "output_type": "execute_result"
    }
   ],
   "source": [
    "nums1.all()"
   ]
  },
  {
   "cell_type": "markdown",
   "metadata": {},
   "source": [
    "## Further array operations and methods\n",
    "\n",
    "When working with 2d arrays, there may be instances where we wish to exchange the rows and columns. This is done with either the `np.transpose()` function or the `T` method of an array object."
   ]
  },
  {
   "cell_type": "code",
   "execution_count": 64,
   "metadata": {},
   "outputs": [
    {
     "data": {
      "text/plain": [
       "array([[ 0,  1,  2,  3],\n",
       "       [ 4,  5,  6,  7],\n",
       "       [ 8,  9, 10, 11],\n",
       "       [12, 13, 14, 15]])"
      ]
     },
     "execution_count": 64,
     "metadata": {},
     "output_type": "execute_result"
    }
   ],
   "source": [
    "arr = np.arange(16).reshape((4,4))\n",
    "arr"
   ]
  },
  {
   "cell_type": "code",
   "execution_count": 65,
   "metadata": {},
   "outputs": [
    {
     "data": {
      "text/plain": [
       "array([[ 0,  4,  8, 12],\n",
       "       [ 1,  5,  9, 13],\n",
       "       [ 2,  6, 10, 14],\n",
       "       [ 3,  7, 11, 15]])"
      ]
     },
     "execution_count": 65,
     "metadata": {},
     "output_type": "execute_result"
    }
   ],
   "source": [
    "arr.T"
   ]
  },
  {
   "cell_type": "code",
   "execution_count": 66,
   "metadata": {},
   "outputs": [
    {
     "data": {
      "text/plain": [
       "array([[ 0,  4,  8, 12],\n",
       "       [ 1,  5,  9, 13],\n",
       "       [ 2,  6, 10, 14],\n",
       "       [ 3,  7, 11, 15]])"
      ]
     },
     "execution_count": 66,
     "metadata": {},
     "output_type": "execute_result"
    }
   ],
   "source": [
    "np.transpose(arr)"
   ]
  },
  {
   "cell_type": "markdown",
   "metadata": {},
   "source": [
    "Note that transposing a 1d array will result in the original array. Instead, to 'swap' the rows and columns we must first define our array as an array containing an array (a 2d array with one row). Then, use the `np.swapaxes(<array>, <first_axis>, <second_axis>)` function. To swap the rows and columns, specify the first axis as `0` and the second axis as `1`."
   ]
  },
  {
   "cell_type": "code",
   "execution_count": 67,
   "metadata": {},
   "outputs": [
    {
     "data": {
      "text/plain": [
       "array([[0],\n",
       "       [1],\n",
       "       [2],\n",
       "       [3],\n",
       "       [4],\n",
       "       [5],\n",
       "       [6]])"
      ]
     },
     "execution_count": 67,
     "metadata": {},
     "output_type": "execute_result"
    }
   ],
   "source": [
    "arr2 = np.array([np.arange(7)])\n",
    "np.swapaxes(arr2, 0, 1)"
   ]
  },
  {
   "cell_type": "markdown",
   "metadata": {},
   "source": [
    "### *Example* - Computing a function over a grid\n",
    "\n",
    "The concept of the special NumPy object `meshgrid` is best illustrated through an example. Suppose we want to calculate the function\n",
    "$$\n",
    "    f(x,y) = \\frac{1}{\\sqrt{2\\pi}}e^{-(x^2+y^2)/2}\n",
    "$$\n",
    "for 100 $x$ and $y$ values with $0 \\le x \\le 1$ and $0 \\le y \\le 1$. We might be inclined to compute this function using list comprehensions, or maybe we create `ndarray`s for $x$ and $y$ and then compute the function iteratively.\n",
    "\n",
    "However, there is an easier way. Using the `np.meshgrid()` object together with `np.linspace()`, we can create the entire domain of the function. Here's a small example."
   ]
  },
  {
   "cell_type": "code",
   "execution_count": 68,
   "metadata": {},
   "outputs": [
    {
     "data": {
      "text/plain": [
       "[array([[0.  , 0.25, 0.5 , 0.75, 1.  ],\n",
       "        [0.  , 0.25, 0.5 , 0.75, 1.  ],\n",
       "        [0.  , 0.25, 0.5 , 0.75, 1.  ],\n",
       "        [0.  , 0.25, 0.5 , 0.75, 1.  ],\n",
       "        [0.  , 0.25, 0.5 , 0.75, 1.  ]]),\n",
       " array([[0.  , 0.  , 0.  , 0.  , 0.  ],\n",
       "        [0.25, 0.25, 0.25, 0.25, 0.25],\n",
       "        [0.5 , 0.5 , 0.5 , 0.5 , 0.5 ],\n",
       "        [0.75, 0.75, 0.75, 0.75, 0.75],\n",
       "        [1.  , 1.  , 1.  , 1.  , 1.  ]])]"
      ]
     },
     "execution_count": 68,
     "metadata": {},
     "output_type": "execute_result"
    }
   ],
   "source": [
    "x = np.linspace(0, 1, 5)\n",
    "y = np.linspace(0, 1, 5)\n",
    "\n",
    "np.meshgrid(x,y)"
   ]
  },
  {
   "cell_type": "markdown",
   "metadata": {},
   "source": [
    "The two arrays returned by `np.meshgrid()` correspond to pairs of $x,y$ coordinates on the specified grid. Returning to our function, we'll proceed with computing $f(x,y)$ on the grid of 100 points with $0 \\le x \\le 1$ and $0 \\le y \\le 1$."
   ]
  },
  {
   "cell_type": "code",
   "execution_count": 75,
   "metadata": {},
   "outputs": [
    {
     "data": {
      "text/plain": [
       "(100, 100)"
      ]
     },
     "execution_count": 75,
     "metadata": {},
     "output_type": "execute_result"
    }
   ],
   "source": [
    "x = np.linspace(0, 1, 100)\n",
    "y = np.linspace(0, 1, 100)\n",
    "\n",
    "xx, yy = np.meshgrid(x, y)\n",
    "f = np.exp(-(xx**2 + yy**2)/2)/np.sqrt(2*np.pi)\n",
    "f.shape"
   ]
  },
  {
   "cell_type": "markdown",
   "metadata": {},
   "source": [
    "Therefore, we see that the function has been evaluated over the desired grid. Just for added fun, we'll look at a plot of the function. We'll specify the cell magic `%matplotlib inline` to allow the function to be plotted below the code cell. \n",
    "\n",
    "Plotting will be discussed in detail in the next two weeks."
   ]
  },
  {
   "cell_type": "code",
   "execution_count": 76,
   "metadata": {},
   "outputs": [
    {
     "data": {
      "image/png": "[encoded data removed]",
      "text/plain": [
       "<Figure size 432x288 with 1 Axes>"
      ]
     },
     "metadata": {
      "needs_background": "light"
     },
     "output_type": "display_data"
    }
   ],
   "source": [
    "%matplotlib inline\n",
    "\n",
    "from mpl_toolkits.mplot3d import Axes3D\n",
    "import matplotlib.pyplot as plt\n",
    "from matplotlib import cm\n",
    "\n",
    "fig = plt.figure()\n",
    "ax = fig.gca(projection='3d')\n",
    "\n",
    "surf = ax.plot_surface(x, y, f, cmap=cm.coolwarm,\n",
    "                       linewidth=0, antialiased=False)\n",
    "plt.show();"
   ]
  },
  {
   "cell_type": "markdown",
   "metadata": {},
   "source": [
    "### Sorting `ndarray` values\n",
    "\n",
    "The `ndarray` object has the `sort(<axis>)` method for sorting array values by a variety of axes. The default argument for the `axis` argument is `-1` which means sort by the last index."
   ]
  },
  {
   "cell_type": "code",
   "execution_count": 84,
   "metadata": {},
   "outputs": [
    {
     "data": {
      "text/plain": [
       "array([[ 3,  5,  8,  1],\n",
       "       [ 4,  0,  1, 10],\n",
       "       [ 9,  3,  6,  2],\n",
       "       [11,  0,  2,  7]])"
      ]
     },
     "execution_count": 84,
     "metadata": {},
     "output_type": "execute_result"
    }
   ],
   "source": [
    "arr3 = np.array([[3,5,8,1],[4,0,1,10],[9,3,6,2],[11,0,2,7]])\n",
    "arr3"
   ]
  },
  {
   "cell_type": "code",
   "execution_count": 85,
   "metadata": {},
   "outputs": [
    {
     "data": {
      "text/plain": [
       "array([[ 3,  0,  1,  1],\n",
       "       [ 4,  0,  2,  2],\n",
       "       [ 9,  3,  6,  7],\n",
       "       [11,  5,  8, 10]])"
      ]
     },
     "execution_count": 85,
     "metadata": {},
     "output_type": "execute_result"
    }
   ],
   "source": [
    "# Sort each row by value\n",
    "\n",
    "arr3.sort(axis = 0)\n",
    "arr3"
   ]
  },
  {
   "cell_type": "code",
   "execution_count": 86,
   "metadata": {},
   "outputs": [
    {
     "data": {
      "text/plain": [
       "array([[ 0,  1,  1,  3],\n",
       "       [ 0,  2,  2,  4],\n",
       "       [ 3,  6,  7,  9],\n",
       "       [ 5,  8, 10, 11]])"
      ]
     },
     "execution_count": 86,
     "metadata": {},
     "output_type": "execute_result"
    }
   ],
   "source": [
    "# Sort each column by value\n",
    "\n",
    "arr3.sort(axis = 1)\n",
    "arr3"
   ]
  },
  {
   "cell_type": "markdown",
   "metadata": {},
   "source": [
    "### Finding unique values\n",
    "\n",
    "The function `np.unique(<array>)` returns a 1d array made up of the sorted unique elements of the array argument."
   ]
  },
  {
   "cell_type": "code",
   "execution_count": 87,
   "metadata": {},
   "outputs": [
    {
     "data": {
      "text/plain": [
       "array([ 1,  1,  1,  4,  3, 10, -1, -1,  2, -1,  3,  4,  5,  3,  3,  6])"
      ]
     },
     "execution_count": 87,
     "metadata": {},
     "output_type": "execute_result"
    }
   ],
   "source": [
    "arr4 = np.array([1,1,1,4,3,10,-1,-1,2,-1,3,4,5,3,3,6])\n",
    "arr4"
   ]
  },
  {
   "cell_type": "code",
   "execution_count": 88,
   "metadata": {},
   "outputs": [
    {
     "data": {
      "text/plain": [
       "array([-1,  1,  2,  3,  4,  5,  6, 10])"
      ]
     },
     "execution_count": 88,
     "metadata": {},
     "output_type": "execute_result"
    }
   ],
   "source": [
    "np.unique(arr4)"
   ]
  },
  {
   "cell_type": "code",
   "execution_count": 89,
   "metadata": {},
   "outputs": [
    {
     "data": {
      "text/plain": [
       "array([[  4,   4,   5,   9],\n",
       "       [  1,   2,   3,   3],\n",
       "       [  4,   1,   0,   2],\n",
       "       [ 10,  -1,   3, -10]])"
      ]
     },
     "execution_count": 89,
     "metadata": {},
     "output_type": "execute_result"
    }
   ],
   "source": [
    "arr5 = np.array([[4,4,5,9],[1,2,3,3],[4,1,0,2],[10,-1,3,-10]])\n",
    "arr5"
   ]
  },
  {
   "cell_type": "code",
   "execution_count": 90,
   "metadata": {},
   "outputs": [
    {
     "data": {
      "text/plain": [
       "array([-10,  -1,   0,   1,   2,   3,   4,   5,   9,  10])"
      ]
     },
     "execution_count": 90,
     "metadata": {},
     "output_type": "execute_result"
    }
   ],
   "source": [
    "np.unique(arr5)"
   ]
  },
  {
   "cell_type": "markdown",
   "metadata": {},
   "source": [
    "## Statistical functions and methods\n",
    "\n",
    "Many of the statistical functions from the `math` module are included as vectorized functions in NumPy. Alternatively, they are often available as methods of the `ndarray` object itself.\n",
    "\n",
    "For a numerical array `X`, the **mean** (average) is defined as the sum of all elements of `X` divided by the total number of elements. For example, if `X` has `n` elements, then the mean is\n",
    "$$\n",
    "    \\bar{x} = \\frac{1}{n}(x_0 + x_1 + x_2 + \\cdots + x_{n-1}) = \\frac{1}{n}\\sum_{i=0}^{n-1} x_i.\n",
    "$$\n",
    "\n",
    "**Note:** The upper-case Greek symbol $\\Sigma$ is often used to indicate summation.\n",
    "\n",
    "The **median** is defined differently depending on how many elements are in `X`. If `X` has an odd number of elements, then the median is just the middle element. If `X` has an even number of elements, then the median is the average of the two middle elements.\n",
    "\n",
    "We will discuss the interpretation of the mean and median next week."
   ]
  },
  {
   "cell_type": "code",
   "execution_count": 91,
   "metadata": {},
   "outputs": [],
   "source": [
    "ph = np.array([7.0, 6.97, 3.48, 2.39, 9.12, 9.76, 5.55, 6.45])"
   ]
  },
  {
   "cell_type": "code",
   "execution_count": 92,
   "metadata": {},
   "outputs": [
    {
     "data": {
      "text/plain": [
       "(6.34, 6.71)"
      ]
     },
     "execution_count": 92,
     "metadata": {},
     "output_type": "execute_result"
    }
   ],
   "source": [
    "# Mean and median\n",
    "\n",
    "np.mean(ph), np.median(ph)"
   ]
  },
  {
   "cell_type": "code",
   "execution_count": 93,
   "metadata": {},
   "outputs": [
    {
     "data": {
      "text/plain": [
       "6.34"
      ]
     },
     "execution_count": 93,
     "metadata": {},
     "output_type": "execute_result"
    }
   ],
   "source": [
    "# Note that there is no ndarray method for median\n",
    "\n",
    "ph.mean()"
   ]
  },
  {
   "cell_type": "markdown",
   "metadata": {},
   "source": [
    "Two important measures of the variability or spread of data are the standard deviation and the variance.\n",
    "\n",
    "The standard deviation for a dataset $X$ is defined as the square root of the average of the squared sum of deviations from the mean. This is hard to read in plain English, and may be one of the few definitions that is easier to read in mathematical notation. Denote the standard deviation as $s$ and the mean as $\\bar{x}$. Then, for $X = [x_0, x_1, \\ldots, x_{n-1}]$, the standard deviation is\n",
    "$$\n",
    "    s = \\sqrt{\\frac{1}{n}\\sum_{i=0}^{n-1} (x_i - \\bar{x})^2}.\n",
    "$$\n",
    "\n",
    "The variance is defined as $s^2$. Luckily for us, NumPy provides universal functions to compute both of these statistics."
   ]
  },
  {
   "cell_type": "code",
   "execution_count": 94,
   "metadata": {},
   "outputs": [
    {
     "data": {
      "text/plain": [
       "(2.3631440920942586, 5.584449999999999)"
      ]
     },
     "execution_count": 94,
     "metadata": {},
     "output_type": "execute_result"
    }
   ],
   "source": [
    "# Standard deviation and variance\n",
    "\n",
    "np.std(ph), np.var(ph)"
   ]
  },
  {
   "cell_type": "code",
   "execution_count": 95,
   "metadata": {},
   "outputs": [
    {
     "data": {
      "text/plain": [
       "(2.3631440920942586, 5.584449999999999)"
      ]
     },
     "execution_count": 95,
     "metadata": {},
     "output_type": "execute_result"
    }
   ],
   "source": [
    "ph.std(), ph.var()"
   ]
  },
  {
   "cell_type": "code",
   "execution_count": 96,
   "metadata": {},
   "outputs": [
    {
     "data": {
      "text/plain": [
       "50.72"
      ]
     },
     "execution_count": 96,
     "metadata": {},
     "output_type": "execute_result"
    }
   ],
   "source": [
    "# Sum of elements\n",
    "\n",
    "np.sum(ph)"
   ]
  },
  {
   "cell_type": "code",
   "execution_count": 97,
   "metadata": {},
   "outputs": [
    {
     "data": {
      "text/plain": [
       "50.72"
      ]
     },
     "execution_count": 97,
     "metadata": {},
     "output_type": "execute_result"
    }
   ],
   "source": [
    "ph.sum()"
   ]
  },
  {
   "cell_type": "markdown",
   "metadata": {},
   "source": [
    "The cumulative sum function, called with the `np.cumsum()` syntax, returns an array of cumulative sums of elements. When an array with more than one dimension is used, the summation takes place left to right, then top to bottom."
   ]
  },
  {
   "cell_type": "code",
   "execution_count": 98,
   "metadata": {},
   "outputs": [
    {
     "data": {
      "text/plain": [
       "array([ 1,  3,  6, 10, 15, 21, 28, 36, 45], dtype=int32)"
      ]
     },
     "execution_count": 98,
     "metadata": {},
     "output_type": "execute_result"
    }
   ],
   "source": [
    "# Cumulative sum\n",
    "\n",
    "arr2 = np.arange(1,10)\n",
    "np.cumsum(arr2)"
   ]
  },
  {
   "cell_type": "code",
   "execution_count": 99,
   "metadata": {},
   "outputs": [
    {
     "data": {
      "text/plain": [
       "array([ 1,  3,  6, 10, 15, 21, 28, 36, 45], dtype=int32)"
      ]
     },
     "execution_count": 99,
     "metadata": {},
     "output_type": "execute_result"
    }
   ],
   "source": [
    "arr2.cumsum()"
   ]
  },
  {
   "cell_type": "code",
   "execution_count": 100,
   "metadata": {},
   "outputs": [
    {
     "data": {
      "text/plain": [
       "array([[ 1,  2,  3,  4,  5,  6,  7,  8,  9, 10, 11, 12, 13, 14, 15, 16,\n",
       "        17, 18, 19, 20],\n",
       "       [ 2,  4,  6,  8, 10, 12, 14, 16, 18, 20, 22, 24, 26, 28, 30, 32,\n",
       "        34, 36, 38, 40]])"
      ]
     },
     "execution_count": 100,
     "metadata": {},
     "output_type": "execute_result"
    }
   ],
   "source": [
    "arr2_2d = np.array([np.arange(1,21), 2*np.arange(1,21)])\n",
    "arr2_2d"
   ]
  },
  {
   "cell_type": "code",
   "execution_count": 101,
   "metadata": {},
   "outputs": [
    {
     "data": {
      "text/plain": [
       "array([  1,   3,   6,  10,  15,  21,  28,  36,  45,  55,  66,  78,  91,\n",
       "       105, 120, 136, 153, 171, 190, 210, 212, 216, 222, 230, 240, 252,\n",
       "       266, 282, 300, 320, 342, 366, 392, 420, 450, 482, 516, 552, 590,\n",
       "       630], dtype=int32)"
      ]
     },
     "execution_count": 101,
     "metadata": {},
     "output_type": "execute_result"
    }
   ],
   "source": [
    "np.cumsum(arr2_2d)"
   ]
  },
  {
   "cell_type": "code",
   "execution_count": 102,
   "metadata": {},
   "outputs": [
    {
     "data": {
      "text/plain": [
       "array([  1,   3,   6,  10,  15,  21,  28,  36,  45,  55,  66,  78,  91,\n",
       "       105, 120, 136, 153, 171, 190, 210, 212, 216, 222, 230, 240, 252,\n",
       "       266, 282, 300, 320, 342, 366, 392, 420, 450, 482, 516, 552, 590,\n",
       "       630], dtype=int32)"
      ]
     },
     "execution_count": 102,
     "metadata": {},
     "output_type": "execute_result"
    }
   ],
   "source": [
    "arr2_2d.cumsum()"
   ]
  },
  {
   "cell_type": "markdown",
   "metadata": {},
   "source": [
    "Similarly, the `np.cumprod()` function returns an array of cumulative products of elements."
   ]
  },
  {
   "cell_type": "code",
   "execution_count": 103,
   "metadata": {},
   "outputs": [
    {
     "data": {
      "text/plain": [
       "array([     1,      2,      6,     24,    120,    720,   5040,  40320,\n",
       "       362880], dtype=int32)"
      ]
     },
     "execution_count": 103,
     "metadata": {},
     "output_type": "execute_result"
    }
   ],
   "source": [
    "np.cumprod(arr2)"
   ]
  },
  {
   "cell_type": "code",
   "execution_count": 104,
   "metadata": {},
   "outputs": [
    {
     "data": {
      "text/plain": [
       "array([     1,      2,      6,     24,    120,    720,   5040,  40320,\n",
       "       362880], dtype=int32)"
      ]
     },
     "execution_count": 104,
     "metadata": {},
     "output_type": "execute_result"
    }
   ],
   "source": [
    "arr2.cumprod()"
   ]
  },
  {
   "cell_type": "code",
   "execution_count": 105,
   "metadata": {},
   "outputs": [
    {
     "data": {
      "text/plain": [
       "array([   1,    2,    6,   24,   48,  192, 1152, 9216], dtype=int32)"
      ]
     },
     "execution_count": 105,
     "metadata": {},
     "output_type": "execute_result"
    }
   ],
   "source": [
    "arr3 = np.array([np.arange(1,5), 2*np.arange(1,5)])\n",
    "\n",
    "np.cumprod(arr3)"
   ]
  },
  {
   "cell_type": "code",
   "execution_count": 106,
   "metadata": {},
   "outputs": [
    {
     "data": {
      "text/plain": [
       "array([   1,    2,    6,   24,   48,  192, 1152, 9216], dtype=int32)"
      ]
     },
     "execution_count": 106,
     "metadata": {},
     "output_type": "execute_result"
    }
   ],
   "source": [
    "arr3.cumprod()"
   ]
  },
  {
   "cell_type": "markdown",
   "metadata": {},
   "source": [
    "Finally, the minimum and maximum elements may be found with `np.min()` and `np.max()`, respectively. To find the location of the minimum and maximum elements, use `np.argmin()` and `np.argmax()`, respectively."
   ]
  },
  {
   "cell_type": "code",
   "execution_count": 107,
   "metadata": {},
   "outputs": [
    {
     "data": {
      "text/plain": [
       "(1, 8)"
      ]
     },
     "execution_count": 107,
     "metadata": {},
     "output_type": "execute_result"
    }
   ],
   "source": [
    "# Compute the minimum and maximum\n",
    "\n",
    "np.min(arr3), np.max(arr3)"
   ]
  },
  {
   "cell_type": "code",
   "execution_count": 108,
   "metadata": {},
   "outputs": [
    {
     "data": {
      "text/plain": [
       "(1, 8)"
      ]
     },
     "execution_count": 108,
     "metadata": {},
     "output_type": "execute_result"
    }
   ],
   "source": [
    "arr3.min(), arr3.max()"
   ]
  },
  {
   "cell_type": "code",
   "execution_count": 109,
   "metadata": {},
   "outputs": [
    {
     "data": {
      "text/plain": [
       "(0, 7)"
      ]
     },
     "execution_count": 109,
     "metadata": {},
     "output_type": "execute_result"
    }
   ],
   "source": [
    "# Find the locations of the minimum and maximum\n",
    "\n",
    "np.argmin(arr3), np.argmax(arr3)"
   ]
  },
  {
   "cell_type": "code",
   "execution_count": 110,
   "metadata": {},
   "outputs": [
    {
     "data": {
      "text/plain": [
       "(0, 7)"
      ]
     },
     "execution_count": 110,
     "metadata": {},
     "output_type": "execute_result"
    }
   ],
   "source": [
    "arr3.argmin(), arr3.argmax()"
   ]
  },
  {
   "cell_type": "code",
   "execution_count": 111,
   "metadata": {},
   "outputs": [
    {
     "data": {
      "text/plain": [
       "array([[1, 2, 3, 4],\n",
       "       [2, 4, 6, 8]])"
      ]
     },
     "execution_count": 111,
     "metadata": {},
     "output_type": "execute_result"
    }
   ],
   "source": [
    "# The above code says that the maximum is at the 7th index. Let's check.\n",
    "\n",
    "arr3"
   ]
  },
  {
   "cell_type": "markdown",
   "metadata": {},
   "source": [
    "## Numerical linear algebra\n",
    "\n",
    "We'll only briefly cover this topic here. These functions work on special mathematical objects called *vectors* (1-dimensional arrays) and *matrices* (2-dimensional arrays), which can be represented using NumPy `ndarray` objects.\n",
    "\n",
    "An alternate, more intuitive representation of matrices exists in the NumPy `matrix` object. With this object, matrix multiplication is computed using the `*` operator."
   ]
  },
  {
   "cell_type": "code",
   "execution_count": 112,
   "metadata": {},
   "outputs": [
    {
     "data": {
      "text/plain": [
       "array([[ 1,  2,  3],\n",
       "       [ 3,  4,  5],\n",
       "       [ 6,  7, 10]])"
      ]
     },
     "execution_count": 112,
     "metadata": {},
     "output_type": "execute_result"
    }
   ],
   "source": [
    "vec1 = np.array([1.0, -1.0, 0.0])\n",
    "matrix1 = np.array([[1,2,3],[3,4,5],[6,7,10]])\n",
    "matrix1"
   ]
  },
  {
   "cell_type": "code",
   "execution_count": 113,
   "metadata": {},
   "outputs": [
    {
     "data": {
      "text/plain": [
       "matrix([[ 1,  2,  3],\n",
       "        [ 3,  4,  5],\n",
       "        [ 6,  7, 10]])"
      ]
     },
     "execution_count": 113,
     "metadata": {},
     "output_type": "execute_result"
    }
   ],
   "source": [
    "matrix2 = np.matrix(matrix1)\n",
    "matrix2"
   ]
  },
  {
   "cell_type": "markdown",
   "metadata": {},
   "source": [
    "The function `np.dot(<array1>, <array2>)` represents the dot product for vectors, or the matrix-vector or matrix-matrix product."
   ]
  },
  {
   "cell_type": "code",
   "execution_count": 114,
   "metadata": {},
   "outputs": [
    {
     "data": {
      "text/plain": [
       "array([[ 25,  31,  43],\n",
       "       [ 45,  57,  79],\n",
       "       [ 87, 110, 153]])"
      ]
     },
     "execution_count": 114,
     "metadata": {},
     "output_type": "execute_result"
    }
   ],
   "source": [
    "np.dot(matrix1, matrix1)"
   ]
  },
  {
   "cell_type": "code",
   "execution_count": 115,
   "metadata": {},
   "outputs": [
    {
     "data": {
      "text/plain": [
       "matrix([[ 25,  31,  43],\n",
       "        [ 45,  57,  79],\n",
       "        [ 87, 110, 153]])"
      ]
     },
     "execution_count": 115,
     "metadata": {},
     "output_type": "execute_result"
    }
   ],
   "source": [
    "matrix2*matrix2"
   ]
  },
  {
   "cell_type": "code",
   "execution_count": 116,
   "metadata": {},
   "outputs": [
    {
     "data": {
      "text/plain": [
       "array([-2., -2., -2.])"
      ]
     },
     "execution_count": 116,
     "metadata": {},
     "output_type": "execute_result"
    }
   ],
   "source": [
    "np.dot(vec1, matrix1)"
   ]
  },
  {
   "cell_type": "code",
   "execution_count": 117,
   "metadata": {
    "scrolled": true
   },
   "outputs": [
    {
     "data": {
      "text/plain": [
       "2.0"
      ]
     },
     "execution_count": 117,
     "metadata": {},
     "output_type": "execute_result"
    }
   ],
   "source": [
    "np.dot(vec1, vec1)"
   ]
  },
  {
   "cell_type": "markdown",
   "metadata": {},
   "source": [
    "To get the elements on the diagonal of a matrix (i.e. the elements corresponding to the indices `[0,0],[1,1],[2,2]`, etc), use the function `np.diag(<matrix>)`."
   ]
  },
  {
   "cell_type": "code",
   "execution_count": 118,
   "metadata": {},
   "outputs": [
    {
     "data": {
      "text/plain": [
       "array([ 1,  4, 10])"
      ]
     },
     "execution_count": 118,
     "metadata": {},
     "output_type": "execute_result"
    }
   ],
   "source": [
    "np.diag(matrix1)"
   ]
  },
  {
   "cell_type": "markdown",
   "metadata": {},
   "source": [
    "Also, we can get the sum of the diagonal elements of a matrix using `np.trace(<matrix>)`."
   ]
  },
  {
   "cell_type": "code",
   "execution_count": 119,
   "metadata": {},
   "outputs": [
    {
     "data": {
      "text/plain": [
       "15"
      ]
     },
     "execution_count": 119,
     "metadata": {},
     "output_type": "execute_result"
    }
   ],
   "source": [
    "np.trace(matrix1)"
   ]
  },
  {
   "cell_type": "markdown",
   "metadata": {},
   "source": [
    "Other extremely useful functions for linear algebra are listed below. These functions use the `linalg` module contained in NumPy.\n",
    "\n",
    "|Function|Details|\n",
    "|---|---|\n",
    "|`np.linalg.inv(<matrix>)`|Returns the inverse of the matrix.|\n",
    "|`np.linalg.pinv(<matrix>)`|Returns the Moore-Penrose pseudoinverse of the matrix.|\n",
    "|`np.linalg.det(<matrix>)`|Returns the determinant of the matrix. *Note:* the matrix must be square.|\n",
    "|`np.linalg.eig(<matrix>)`|Returns a multidimensional array. The `0` element is an array containing the eigenvalues, and the `1` element is a matrix where each column corresponds to an eigenvector.|\n",
    "|`np.linalg.norm(<matrix/vector>, <order>)`|Computes the norm of the specified order (see exercises for more precise definition of the norm). The default order is `2`|\n",
    "|`np.linalg.solve(A,b)`|Computes the solution to `Ax = b`. Returns the 1d array `x`.|\n",
    "|`np.linalg.lstsq(A,b)`|Computes the least-squares solution to `Ax = b`. Returns the 1d array `x`.|\n",
    "|`np.linalg.qr(<matrix>)`|Returns the QR decomposition of the matrix. Q and R are both 2-dimensional arrays.|\n",
    "|`np.linalg.svd(<matrix>)`|Returns the singular value decomposition of the matrix. The result is two 2d arrays corresponding to the matrices $U$ and $V$, and a 1d array for the singular values in $\\Sigma$.|\n",
    "\n",
    "Often it is more convenient to `import numpy.linalg as LA` and then call the above functions as `LA.<function>(<matrix>)`."
   ]
  },
  {
   "cell_type": "code",
   "execution_count": 120,
   "metadata": {},
   "outputs": [
    {
     "data": {
      "text/plain": [
       "array([[-1.25, -0.25,  0.5 ],\n",
       "       [ 0.  ,  2.  , -1.  ],\n",
       "       [ 0.75, -1.25,  0.5 ]])"
      ]
     },
     "execution_count": 120,
     "metadata": {},
     "output_type": "execute_result"
    }
   ],
   "source": [
    "np.linalg.inv(matrix1)"
   ]
  },
  {
   "cell_type": "code",
   "execution_count": 121,
   "metadata": {},
   "outputs": [
    {
     "data": {
      "text/plain": [
       "array([[-1.25000000e+00, -2.50000000e-01,  5.00000000e-01],\n",
       "       [ 3.33066907e-16,  2.00000000e+00, -1.00000000e+00],\n",
       "       [ 7.50000000e-01, -1.25000000e+00,  5.00000000e-01]])"
      ]
     },
     "execution_count": 121,
     "metadata": {},
     "output_type": "execute_result"
    }
   ],
   "source": [
    "np.linalg.pinv(matrix1)"
   ]
  },
  {
   "cell_type": "code",
   "execution_count": 122,
   "metadata": {},
   "outputs": [
    {
     "data": {
      "text/plain": [
       "-4.0"
      ]
     },
     "execution_count": 122,
     "metadata": {},
     "output_type": "execute_result"
    }
   ],
   "source": [
    "np.linalg.det(matrix1)"
   ]
  },
  {
   "cell_type": "code",
   "execution_count": 123,
   "metadata": {},
   "outputs": [
    {
     "data": {
      "text/plain": [
       "(array([15.30952782, -0.68883045,  0.37930263]),\n",
       " array([[ 0.24291864,  0.89755782,  0.12241577],\n",
       "        [ 0.44541666, -0.12268696, -0.8372959 ],\n",
       "        [ 0.86173925, -0.42348302,  0.53286955]]))"
      ]
     },
     "execution_count": 123,
     "metadata": {},
     "output_type": "execute_result"
    }
   ],
   "source": [
    "np.linalg.eig(matrix1)"
   ]
  },
  {
   "cell_type": "code",
   "execution_count": 124,
   "metadata": {},
   "outputs": [
    {
     "data": {
      "text/plain": [
       "15.7797338380595"
      ]
     },
     "execution_count": 124,
     "metadata": {},
     "output_type": "execute_result"
    }
   ],
   "source": [
    "np.linalg.norm(matrix1)"
   ]
  },
  {
   "cell_type": "code",
   "execution_count": 125,
   "metadata": {},
   "outputs": [
    {
     "data": {
      "text/plain": [
       "array([-1., -2.,  2.])"
      ]
     },
     "execution_count": 125,
     "metadata": {},
     "output_type": "execute_result"
    }
   ],
   "source": [
    "np.linalg.solve(matrix1, vec1)"
   ]
  },
  {
   "cell_type": "code",
   "execution_count": 126,
   "metadata": {},
   "outputs": [
    {
     "data": {
      "text/plain": [
       "(array([-1., -2.,  2.]),\n",
       " array([], dtype=float64),\n",
       " 3,\n",
       " array([15.76085203,  0.67343723,  0.37686272]))"
      ]
     },
     "execution_count": 126,
     "metadata": {},
     "output_type": "execute_result"
    }
   ],
   "source": [
    "np.linalg.lstsq(matrix1, vec1, rcond = None)"
   ]
  },
  {
   "cell_type": "code",
   "execution_count": 127,
   "metadata": {},
   "outputs": [
    {
     "data": {
      "text/plain": [
       "array([[ 1.,  2.,  3.],\n",
       "       [ 3.,  4.,  5.],\n",
       "       [ 6.,  7., 10.]])"
      ]
     },
     "execution_count": 127,
     "metadata": {},
     "output_type": "execute_result"
    }
   ],
   "source": [
    "Q, R = np.linalg.qr(matrix1)\n",
    "np.dot(Q,R)"
   ]
  },
  {
   "cell_type": "code",
   "execution_count": 128,
   "metadata": {},
   "outputs": [
    {
     "data": {
      "text/plain": [
       "(array([[-0.23376096,  0.96800092,  0.09126904],\n",
       "        [-0.44813724, -0.02396175, -0.89364358],\n",
       "        [-0.86286084, -0.24980004,  0.43939858]]),\n",
       " array([15.76085203,  0.67343723,  0.37686272]),\n",
       " array([[-0.42861501, -0.52662741, -0.73413401],\n",
       "        [-0.89493796,  0.13595118,  0.42497449],\n",
       "        [ 0.12399683, -0.83915484,  0.52956958]]))"
      ]
     },
     "execution_count": 128,
     "metadata": {},
     "output_type": "execute_result"
    }
   ],
   "source": [
    "np.linalg.svd(matrix1)"
   ]
  },
  {
   "cell_type": "markdown",
   "metadata": {},
   "source": [
    "## Random number generation\n",
    "\n",
    "NumPy also contains a useful collection of random number generators in its `random` module. The simplest functions in this module are `np.random.seed()` and `np.random.shuffle()`. The `seed()` function sets the random seed for generating numbers. Often the seed is set by the programmer while writing prototype scripts so that results are consistent across test runs. For example, by setting the seed here, we will always generate the same random numbers each time this notebook is run.\n",
    "\n",
    "The shuffle function has the syntax `np.random.shuffle(<array>)`. This function only shuffles elements horizontally, so 1d arrays have their elements shuffled, while 2d arrays only have their *rows* shuffled."
   ]
  },
  {
   "cell_type": "code",
   "execution_count": 129,
   "metadata": {},
   "outputs": [],
   "source": [
    "np.random.seed(1000)"
   ]
  },
  {
   "cell_type": "code",
   "execution_count": 130,
   "metadata": {},
   "outputs": [
    {
     "data": {
      "text/plain": [
       "array([2, 6, 5, 1, 4, 9, 0, 8, 7, 3])"
      ]
     },
     "execution_count": 130,
     "metadata": {},
     "output_type": "execute_result"
    }
   ],
   "source": [
    "arr = np.arange(10)\n",
    "np.random.shuffle(arr)\n",
    "arr"
   ]
  },
  {
   "cell_type": "code",
   "execution_count": 132,
   "metadata": {},
   "outputs": [
    {
     "data": {
      "text/plain": [
       "array([[25, 26, 27],\n",
       "       [ 6,  7,  8],\n",
       "       [ 0,  1,  2]])"
      ]
     },
     "execution_count": 132,
     "metadata": {},
     "output_type": "execute_result"
    }
   ],
   "source": [
    "arr1 = np.array([np.arange(3),np.arange(6,9),np.arange(25,28)])\n",
    "np.random.shuffle(arr1)\n",
    "arr1"
   ]
  },
  {
   "cell_type": "markdown",
   "metadata": {},
   "source": [
    "The `np.random.permutation()` function randomly *permutes* elements of an array. This is very similar to shuffling, only it has the flexibility of allowing either integer or array arguments. If an integer is passed to the function, then a random permutation of an `arange()` is returned. If an array is passed to the function, then the array is shuffled horizontally as with `np.random.shuffle()`.\n",
    "\n",
    "The other significant difference between `shuffle()` and `permutation()` is that `shuffle()` will actually change the array passed in, while `permutation()` will create a copy of the array."
   ]
  },
  {
   "cell_type": "code",
   "execution_count": 133,
   "metadata": {},
   "outputs": [
    {
     "data": {
      "text/plain": [
       "array([5, 7, 3, 6, 0, 1, 2, 8, 9, 4])"
      ]
     },
     "execution_count": 133,
     "metadata": {},
     "output_type": "execute_result"
    }
   ],
   "source": [
    "np.random.permutation(10)"
   ]
  },
  {
   "cell_type": "code",
   "execution_count": 134,
   "metadata": {
    "scrolled": true
   },
   "outputs": [
    {
     "data": {
      "text/plain": [
       "array([[25, 26, 27],\n",
       "       [ 6,  7,  8],\n",
       "       [ 0,  1,  2]])"
      ]
     },
     "execution_count": 134,
     "metadata": {},
     "output_type": "execute_result"
    }
   ],
   "source": [
    "np.random.permutation(arr1)\n",
    "arr1"
   ]
  },
  {
   "cell_type": "markdown",
   "metadata": {},
   "source": [
    "We may random select elements of a 1d array using the `np.random.choice()` function. The second argument `size` specifies the number and shape of the returned selection.\n",
    "\n",
    "The random selection is done *with replacement*, meaning we may select the same element more than once."
   ]
  },
  {
   "cell_type": "code",
   "execution_count": 135,
   "metadata": {},
   "outputs": [
    {
     "data": {
      "text/plain": [
       "array([2, 6, 5, 1, 4, 9, 0, 8, 7, 3])"
      ]
     },
     "execution_count": 135,
     "metadata": {},
     "output_type": "execute_result"
    }
   ],
   "source": [
    "arr"
   ]
  },
  {
   "cell_type": "code",
   "execution_count": 136,
   "metadata": {},
   "outputs": [
    {
     "data": {
      "text/plain": [
       "array([5, 9, 9])"
      ]
     },
     "execution_count": 136,
     "metadata": {},
     "output_type": "execute_result"
    }
   ],
   "source": [
    "np.random.choice(arr, size = 3)"
   ]
  },
  {
   "cell_type": "code",
   "execution_count": 137,
   "metadata": {},
   "outputs": [
    {
     "data": {
      "text/plain": [
       "array([[4, 2, 4],\n",
       "       [5, 9, 4],\n",
       "       [8, 2, 4]])"
      ]
     },
     "execution_count": 137,
     "metadata": {},
     "output_type": "execute_result"
    }
   ],
   "source": [
    "np.random.choice(arr, size = (3,3))"
   ]
  },
  {
   "cell_type": "markdown",
   "metadata": {},
   "source": [
    "The `random` module also has the capacity to sample points from various statistical distributions. Some of the many distributions supported are the uniform, normal, binomial, beta, $\\chi^2$, and gamma distributions. A complete list of supported distributions is available in the [official documentation](https://docs.scipy.org/doc/numpy-1.15.0/reference/routines.random.html)."
   ]
  },
  {
   "cell_type": "code",
   "execution_count": 138,
   "metadata": {},
   "outputs": [
    {
     "data": {
      "text/plain": [
       "array([0.84241124, 0.19874506, 0.02072272, 0.60165179, 0.97091916,\n",
       "       0.73213217, 0.73639381, 0.00564072, 0.29116439, 0.74535564])"
      ]
     },
     "execution_count": 138,
     "metadata": {},
     "output_type": "execute_result"
    }
   ],
   "source": [
    "# Sample 10 points from the uniform distribution on the half-open interval [0,1).\n",
    "np.random.rand(10)"
   ]
  },
  {
   "cell_type": "code",
   "execution_count": 139,
   "metadata": {},
   "outputs": [
    {
     "data": {
      "text/plain": [
       "array([-0.22108835, -1.3935994 , -0.31183985,  0.33918756,  1.0769568 ,\n",
       "       -1.39434027,  1.03460727,  1.46655123,  0.29225828, -0.71470798])"
      ]
     },
     "execution_count": 139,
     "metadata": {},
     "output_type": "execute_result"
    }
   ],
   "source": [
    "# Sample 10 points from the normal distribution with mean 0, variance 1.\n",
    "np.random.randn(10)"
   ]
  },
  {
   "cell_type": "code",
   "execution_count": 144,
   "metadata": {},
   "outputs": [
    {
     "data": {
      "text/plain": [
       "array([ 97.74729135, 121.79166353,  84.5454738 , 123.56949277,\n",
       "        96.71414927, 105.91205118, 101.13237425,  95.60083419,\n",
       "       130.64987814, 110.08919008])"
      ]
     },
     "execution_count": 144,
     "metadata": {},
     "output_type": "execute_result"
    }
   ],
   "source": [
    "# Sample 10 points from the normal distribution with mean and standard deviation specified.\n",
    "np.random.normal(100, 15, size = 10)"
   ]
  },
  {
   "cell_type": "code",
   "execution_count": 145,
   "metadata": {},
   "outputs": [
    {
     "data": {
      "text/plain": [
       "array([6, 3, 2, 1, 7, 9, 7, 2, 2, 1])"
      ]
     },
     "execution_count": 145,
     "metadata": {},
     "output_type": "execute_result"
    }
   ],
   "source": [
    "# Uniformly sample 10 integers between 1 and 10.\n",
    "np.random.randint(1, 10, size = 10)"
   ]
  },
  {
   "cell_type": "code",
   "execution_count": 146,
   "metadata": {},
   "outputs": [
    {
     "data": {
      "text/plain": [
       "array([[89, 85, 35],\n",
       "       [99, 34, 73],\n",
       "       [29, 99, 49]])"
      ]
     },
     "execution_count": 146,
     "metadata": {},
     "output_type": "execute_result"
    }
   ],
   "source": [
    "# Uniformly sample 9 random integers between 1 and 100 and\n",
    "# put them into a 2d array.\n",
    "np.random.randint(1, 100, size = (3,3))"
   ]
  },
  {
   "cell_type": "code",
   "execution_count": 147,
   "metadata": {},
   "outputs": [
    {
     "name": "stdout",
     "output_type": "stream",
     "text": [
      "Binomial:  [0 1 3 0 0 3 0 0 4 1] \n",
      "\n",
      "Beta:  [0.06041005 0.67482576 0.01449268 0.16705654 0.22147126 0.74173568\n",
      " 0.3374235  0.12752882 0.67652371 0.19996605] \n",
      "\n",
      "Chi^2:  [2.44639946 2.34435576 3.371432   3.17889914 3.05384736 3.32198373\n",
      " 3.23626648 1.27004105 1.17486937 3.99262198] \n",
      "\n",
      "Gamma:  [[1.02769615 1.72864283 0.36084729]\n",
      " [6.28265342 5.61446888 0.46862382]\n",
      " [0.5868505  1.34737626 0.85192808]]\n"
     ]
    }
   ],
   "source": [
    "# Sample 10 points from the binomial distribution with n = 10, p = 0.1.\n",
    "print('Binomial: ', np.random.binomial(10, p = 0.1, size = 10),'\\n')\n",
    "\n",
    "# Sample 10 points from the beta distribution with a = 1, b = 2.\n",
    "print('Beta: ', np.random.beta(a = 1, b = 2, size = 10), '\\n')\n",
    "\n",
    "# Sample 10 points from the chi^2 distribution with 4 degrees of freedom.\n",
    "print('Chi^2: ', np.random.chisquare(4, size = 10), '\\n')\n",
    "\n",
    "# Sample 9 points from the gamma distribution with shape = 2; put them in a 3x3 array.\n",
    "print('Gamma: ', np.random.gamma(shape = 2, size = (3,3)))"
   ]
  },
  {
   "cell_type": "markdown",
   "metadata": {},
   "source": [
    "## Loading images into Python\n",
    "\n",
    "There are several packages available for dealing with image data (PNG, JPG, TIFF, GIF, etc) in Python. While there are more sophisticated packages out there, Matplotlib is simple, comes with Anaconda distribution, and is built on top of NumPy. \n",
    "\n",
    "We'll use the `image` module of Matplotlib to read an image into Python as a NumPy array. Similar to Matlab, the function to do this is `image.imread()`. We'll also import the `pyplot` module from Matplotlib to display our image once we've loaded it in.\n",
    "\n",
    "**Note:** Including the cell magic `%matplotlib inline` is to allow any plots from Matplotlib to be shown directly after the cell in which they are generated and called."
   ]
  },
  {
   "cell_type": "code",
   "execution_count": 2,
   "metadata": {},
   "outputs": [
    {
     "data": {
      "text/plain": [
       "array([[156, 159, 158, ..., 151, 152, 152],\n",
       "       [160, 154, 157, ..., 154, 155, 153],\n",
       "       [156, 159, 157, ..., 151, 152, 152],\n",
       "       ...,\n",
       "       [114, 132, 124, ..., 135, 137, 114],\n",
       "       [121, 126, 130, ..., 133, 130, 113],\n",
       "       [121, 126, 130, ..., 132, 130, 113]], dtype=uint8)"
      ]
     },
     "execution_count": 2,
     "metadata": {},
     "output_type": "execute_result"
    }
   ],
   "source": [
    "%matplotlib inline\n",
    "\n",
    "import matplotlib.image as mp\n",
    "import matplotlib.pyplot as plt\n",
    "\n",
    "im1 = mp.imread('cameraman.jpg')\n",
    "im1"
   ]
  },
  {
   "cell_type": "code",
   "execution_count": 149,
   "metadata": {},
   "outputs": [
    {
     "data": {
      "text/plain": [
       "(256, 256)"
      ]
     },
     "execution_count": 149,
     "metadata": {},
     "output_type": "execute_result"
    }
   ],
   "source": [
    "im1.shape"
   ]
  },
  {
   "cell_type": "markdown",
   "metadata": {},
   "source": [
    "Thus, we see that the image has been loaded in as a 2d `ndarray`, with data type `uint8` (unsigned 8-bit integers). The significance of `uint8` is that the pixel values are stored as integer values ranging from $0$ to $2^8 - 1 = 255$. This corresponds to a grayscale image.\n",
    "\n",
    "**Note:** It is also possible to load an RGB (Red-Green-Blue) color image into Python using the exact same method. The only difference is that color images have shape `(<width>, <height>, 3)`, where each of the `3` sub-images corresponds to a single color.\n",
    "\n",
    "When we display the image, the default colormap makes the picture look a little strange."
   ]
  },
  {
   "cell_type": "code",
   "execution_count": 150,
   "metadata": {},
   "outputs": [
    {
     "data": {
      "image/png": "[encoded data removed]",
      "text/plain": [
       "<Figure size 432x288 with 1 Axes>"
      ]
     },
     "metadata": {
      "needs_background": "light"
     },
     "output_type": "display_data"
    }
   ],
   "source": [
    "plt.imshow(im1);"
   ]
  },
  {
   "cell_type": "markdown",
   "metadata": {},
   "source": [
    "This coloring can be corrected by specifying the keyworded argument `cmap = 'gray'`."
   ]
  },
  {
   "cell_type": "code",
   "execution_count": 151,
   "metadata": {},
   "outputs": [
    {
     "data": {
      "image/png": "[encoded data removed]",
      "text/plain": [
       "<Figure size 432x288 with 1 Axes>"
      ]
     },
     "metadata": {
      "needs_background": "light"
     },
     "output_type": "display_data"
    }
   ],
   "source": [
    "plt.imshow(im1, cmap = 'gray');"
   ]
  },
  {
   "cell_type": "markdown",
   "metadata": {},
   "source": [
    "# Summary\n",
    "\n",
    "* **Data Analysis** is the process of obtaining, cleaning, transforming, and processing data with the goal of extracting useful information.\n",
    "* NumPy is the foundational package for mathematical operations in Python. The fundamental object of NumPy is the `ndarray`.\n",
    "* Use `np.zeros(<shape>)`, `np.ones(<shape>)`, or `np.empty(<shape>)` for generating zero arrays, arrays of ones, or empty arrays, respectively.\n",
    "* The array version of `range()` is `np.arange()`.\n",
    "* Vectorized operations and functions (**universal** functions) are significantly faster than pure Python.\n",
    "* `np.where()` is used to vectorize Python conditional statements\n",
    "* `ndarray` objects are indexed and sliced similarly to `list` objects.\n",
    "* The `np.meshgrid()` object is used to compute function values over a grid.\n",
    "* NumPy has strong support for numerical linear algebra.\n",
    "* The `random` module in NumPy allows sampling from a wide range of distributions.\n",
    "* Images can be read as NumPy arrays using Matplotlib's `image` module."
   ]
  },
  {
   "cell_type": "markdown",
   "metadata": {},
   "source": [
    "# *Exercises*\n",
    "\n",
    "1. One way to measure the 'size' of a 1-dimensional array $x$ with $n$ components is the *2-norm*. Keeping in mind Python's zero-indexing, the 2-norm is given by:\n",
    "$$\n",
    "    ||x||_2 = \\sqrt{\\sum_{i=0}^{n-1} x_i^2 }.\n",
    "$$\n",
    "   Other definitions of the norm exist, such as the 1-norm, given by\n",
    "$$\n",
    "    ||x||_1 = \\sum_{i=0}^{n-1} |x_i|,\n",
    "$$\n",
    "   where the vertical bars $|\\cdot|$ denote the absolute value, and the infinity-norm, given by\n",
    "$$\n",
    "    ||x||_\\infty = \\max_i |x_i|.\n",
    "$$\n",
    "   Write functions for each of these norms, and find the value of each norm for the array\n",
    "$$\n",
    "   x = [ 10.0, -12.3, 13.5, 11.91, 16.57, 3.45, 2.0, -14.6, -16.58 ]\n",
    "$$\n",
    "   \n",
    "   Compare your results with the NumPy function `np.linalg.norm(<array>, <order>)`. **Hint:** Use `np.inf` to indicate 'infinity' for the infinity-norm."
   ]
  },
  {
   "cell_type": "code",
   "execution_count": 162,
   "metadata": {},
   "outputs": [
    {
     "name": "stdout",
     "output_type": "stream",
     "text": [
      "36.80, 100.91, 16.58\n",
      "36.80, 100.91, 16.58\n"
     ]
    }
   ],
   "source": [
    "def two_norm(vector):\n",
    "    \"\"\" Compute the 2-norm. \"\"\"\n",
    "    return np.sqrt(np.sum(vector**2))\n",
    "\n",
    "def one_norm(vector):\n",
    "    \"\"\" Compute the 1-norm. \"\"\"\n",
    "    return (np.abs(vector)).sum()\n",
    "\n",
    "def infinity_norm(vector):\n",
    "    \"\"\" Compute the infinity norm. \"\"\"\n",
    "    return np.max(np.abs(vector))\n",
    "\n",
    "x = np.array([10.0, -12.3, 13.5, 11.91, 16.57, 3.45, 2.0, -14.6, -16.58])\n",
    "print('{:.2f}, {:.2f}, {:.2f}'.format(two_norm(x), one_norm(x), infinity_norm(x)))\n",
    "print('{:.2f}, {:.2f}, {:.2f}'.format(np.linalg.norm(x, 2), np.linalg.norm(x, 1), np.linalg.norm(x, np.inf)))"
   ]
  },
  {
   "cell_type": "markdown",
   "metadata": {},
   "source": [
    "2. Using `np.where()`, vectorize the following function:\n",
    "```\n",
    "def heaviside(theta, x):\n",
    "    if x >= theta:\n",
    "        return 1\n",
    "    else:\n",
    "        return 0\n",
    "```"
   ]
  },
  {
   "cell_type": "code",
   "execution_count": 152,
   "metadata": {},
   "outputs": [
    {
     "data": {
      "text/plain": [
       "array([0.96033211, 0.03140072, 0.67035487, 0.96499756, 0.90759126,\n",
       "       0.20783989, 0.84988675, 0.54860406, 0.03605308, 0.90437934,\n",
       "       0.20203493, 0.61341888, 0.66927239, 0.70565002, 0.70392326,\n",
       "       0.10060431, 0.20619924, 0.57079344, 0.64253198, 0.7487717 ,\n",
       "       0.86196072, 0.85955854, 0.66907501, 0.37501531, 0.17141326])"
      ]
     },
     "execution_count": 152,
     "metadata": {},
     "output_type": "execute_result"
    }
   ],
   "source": [
    "test_array = np.random.rand(25)\n",
    "test_array"
   ]
  },
  {
   "cell_type": "code",
   "execution_count": 156,
   "metadata": {},
   "outputs": [],
   "source": [
    "def heaviside(theta, x):\n",
    "    \"\"\" Vectorized Heaviside function. \n",
    "    \n",
    "        If the x values are greater than or equal to theta,\n",
    "        place 1 in the returned array. Otherwise, place 0.\n",
    "    \"\"\"\n",
    "    \n",
    "    return np.where(x >= theta, 1, 0)\n",
    "\n",
    "heaviside(0.3, test_array)"
   ]
  },
  {
   "cell_type": "markdown",
   "metadata": {},
   "source": [
    "3. Create an array of 1000 points from the binomial distribution with `n = 1` and `p = 0.3` (this could represent 1000 flips of a biased coin). **Use `np.round()` on this generated array.** Then, using either boolean indexing or `np.where()`, generate a second array that replaces every 0 value with -1. Finally, find the sum of your new array."
   ]
  },
  {
   "cell_type": "code",
   "execution_count": 22,
   "metadata": {},
   "outputs": [
    {
     "data": {
      "text/plain": [
       "-408"
      ]
     },
     "execution_count": 22,
     "metadata": {},
     "output_type": "execute_result"
    }
   ],
   "source": [
    "def sum_binomial(num_outcomes, N_trials, p_heads):\n",
    "    \"\"\" Sum an array of binomial values. \n",
    "    \n",
    "        Convert 0 to -1, then sum the values.\n",
    "    \"\"\"\n",
    "    \n",
    "    points = np.round(np.random.binomial(n = num_outcomes, p = p_heads, size = N_trials))\n",
    "    \n",
    "    points_transf = np.where(points < 1, -1, 1)\n",
    "    return points_transf.sum()\n",
    "\n",
    "sum_binomial(1, 1000, 0.3)"
   ]
  },
  {
   "cell_type": "markdown",
   "metadata": {},
   "source": [
    "4. This exercise will be completed in steps.\n",
    "\n",
    "   a) Create a NumPy array of zeros with shape `(65,65)`. Call this array `circle1`.\n",
    "    \n",
    "   b) Create a boolean mask using the indices of `circle1` using the following rule: for every point in `circle1` a distance of `5` units away from `circle1[33,33]`, set the value to `1`, otherwise set the mask value to `0`. Call this mask `mask1`.\n",
    "    \n",
    "   c) Add `circle1` and `mask1`, and plot the result."
   ]
  },
  {
   "cell_type": "markdown",
   "metadata": {},
   "source": [
    "$(x-c)^2 + (y-c)^2 = 5^2$"
   ]
  },
  {
   "cell_type": "code",
   "execution_count": 40,
   "metadata": {},
   "outputs": [],
   "source": [
    "circle1 = np.zeros((65,65))\n",
    "\n",
    "for i in range(65):\n",
    "    for j in range(65):\n",
    "        if (i - 33)**2 + (j - 33)**2 == 25:\n",
    "            circle1[i,j] = 1"
   ]
  },
  {
   "cell_type": "code",
   "execution_count": 41,
   "metadata": {},
   "outputs": [
    {
     "data": {
      "image/png": "[encoded data removed]",
      "text/plain": [
       "<Figure size 432x288 with 1 Axes>"
      ]
     },
     "metadata": {
      "needs_background": "light"
     },
     "output_type": "display_data"
    }
   ],
   "source": [
    "plt.imshow(circle1, cmap = 'gray');"
   ]
  },
  {
   "cell_type": "markdown",
   "metadata": {},
   "source": [
    "5. Use the function below to load the Modified National Institute of Standards and Technology (MNIST) dataset into Python. This dataset consists of 70000 28x28 pixel examples of handwritten digits from 0-9, and is often used for testing image classification algorithms. The data is separated into 3 subsets: 50000 `training` images, 10000 `testing` images, and 10000 `evaluation` images. \n",
    "\n",
    "   a) Plot one or two of the images to see what they look like.\n",
    "   \n",
    "   b) The image data often needs to be reshaped to be passed to classification algorithms. Reshape the image subsets from 28x28 to 784x1."
   ]
  },
  {
   "cell_type": "code",
   "execution_count": 42,
   "metadata": {},
   "outputs": [],
   "source": [
    "def load_mnist():\n",
    "    \"\"\" This function loads the MINST dataset into a list of NumPy arrays. \"\"\"\n",
    "    \n",
    "    import pickle\n",
    "    import gzip\n",
    "    \n",
    "    with gzip.open('mnist.pkl.gz', 'rb') as binary_file:\n",
    "        tr, te, va = pickle.load(binary_file, encoding = 'latin1')\n",
    "        \n",
    "    return [i.reshape((28,28)) for i in tr[0]], [i.reshape((28,28)) for i in te[0]], [i.reshape((28,28)) for i in va[0]]\n",
    "\n",
    "train, test, valid = load_mnist()"
   ]
  },
  {
   "cell_type": "code",
   "execution_count": 45,
   "metadata": {},
   "outputs": [
    {
     "data": {
      "text/plain": [
       "(28, 28)"
      ]
     },
     "execution_count": 45,
     "metadata": {},
     "output_type": "execute_result"
    }
   ],
   "source": [
    "train[0].shape"
   ]
  },
  {
   "cell_type": "code",
   "execution_count": 49,
   "metadata": {},
   "outputs": [
    {
     "data": {
      "image/png": "[encoded data removed]",
      "text/plain": [
       "<Figure size 432x288 with 1 Axes>"
      ]
     },
     "metadata": {
      "needs_background": "light"
     },
     "output_type": "display_data"
    }
   ],
   "source": [
    "plt.imshow(train[45], cmap = 'gray');"
   ]
  },
  {
   "cell_type": "code",
   "execution_count": 54,
   "metadata": {
    "scrolled": true
   },
   "outputs": [
    {
     "data": {
      "image/png": "[encoded data removed]",
      "text/plain": [
       "<Figure size 432x288 with 1 Axes>"
      ]
     },
     "metadata": {
      "needs_background": "light"
     },
     "output_type": "display_data"
    }
   ],
   "source": [
    "plt.imshow(test[5010], cmap = 'gray');"
   ]
  },
  {
   "cell_type": "code",
   "execution_count": 56,
   "metadata": {},
   "outputs": [],
   "source": [
    "train = [image.reshape((784,1)) for image in train]\n",
    "test = [image.reshape((784,1)) for image in test]\n",
    "valid = [image.reshape((784,1)) for image in valid]"
   ]
  },
  {
   "cell_type": "markdown",
   "metadata": {},
   "source": [
    "6. For certain data processing techniques, arrays often need to be *zero-padded*. This means that, given an array of shape `(m,n)`, a 'border' of zeros of a specified width is appended to the array. For example, if we had an array with shape `(2,2)`, it might look like this:\n",
    "```\n",
    "array([[a b], \n",
    "       [c d]], dtype=int32)\n",
    "```\n",
    "    If we wanted to *zero-pad* this array with a border of width `2`, the result would be:\n",
    "```\n",
    "array([[0 0 0 0 0 0],\n",
    "        [0 0 0 0 0 0],\n",
    "        [0 0 a b 0 0],\n",
    "        [0 0 c d 0 0],\n",
    "        [0 0 0 0 0 0],\n",
    "        [0 0 0 0 0 0]], dtype=int32)\n",
    "```\n",
    "    Write a function that takes in an array and an integer `p`. Have your function return the zero-padded array with a border of width `p`."
   ]
  },
  {
   "cell_type": "code",
   "execution_count": 65,
   "metadata": {},
   "outputs": [
    {
     "data": {
      "text/plain": [
       "array([[0., 0., 0., 0., 0., 0.],\n",
       "       [0., 0., 0., 0., 0., 0.],\n",
       "       [0., 0., 1., 2., 0., 0.],\n",
       "       [0., 0., 3., 4., 0., 0.],\n",
       "       [0., 0., 0., 0., 0., 0.],\n",
       "       [0., 0., 0., 0., 0., 0.]])"
      ]
     },
     "execution_count": 65,
     "metadata": {},
     "output_type": "execute_result"
    }
   ],
   "source": [
    "def zero_pad(arr, p):\n",
    "    \"\"\" Return a zero-padded array with border width p. \"\"\"\n",
    "    \n",
    "    rows, cols = arr.shape\n",
    "    \n",
    "    padded = np.zeros((rows + 2*p, cols + 2*p))\n",
    "    \n",
    "    padded[p:p+rows, p:p+cols] = arr\n",
    "    return padded\n",
    "\n",
    "ar1 = np.array([[1,2],[3,4]])\n",
    "zero_pad(ar1, 2)"
   ]
  },
  {
   "cell_type": "markdown",
   "metadata": {},
   "source": [
    "# References\n",
    "\n",
    "McKinney, W. (2013). *Python for Data Analysis*. O'Reilly Media: Sebastopol, California."
   ]
  }
 ],
 "metadata": {
  "kernelspec": {
   "display_name": "Python 3",
   "language": "python",
   "name": "python3"
  },
  "language_info": {
   "codemirror_mode": {
    "name": "ipython",
    "version": 3
   },
   "file_extension": ".py",
   "mimetype": "text/x-python",
   "name": "python",
   "nbconvert_exporter": "python",
   "pygments_lexer": "ipython3",
   "version": "3.7.6"
  }
 },
 "nbformat": 4,
 "nbformat_minor": 2
}
