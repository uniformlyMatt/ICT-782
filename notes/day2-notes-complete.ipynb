{
 "cells": [
  {
   "cell_type": "markdown",
   "metadata": {},
   "source": [
    "# ICT 782 - Day 2 Notes"
   ]
  },
  {
   "cell_type": "markdown",
   "metadata": {},
   "source": [
    "# pandas\n",
    "\n",
    "The Python Data Analysis Library (**pandas**) is a widely used, well-supported package for data analysis. Development for the project began in 2008 by Wes McKinney, who worked in quantitative investment management. It has now been adopted by numerous companies and projects in a variety of fields. For the purposes of these notes, I have followed the structure of Chapter 5 of McKinney's book *Pandas for Data Analysis* (McKinney, 2013).\n",
    "\n",
    "pandas is built on top of NumPy, and therefore inherits much of NumPy's functionality and flexibility. However, pandas introduces new objects that are more specific to data analysis tasks, rather than the general numerical computation of NumPy."
   ]
  },
  {
   "cell_type": "code",
   "execution_count": 1,
   "metadata": {},
   "outputs": [
    {
     "data": {
      "text/plain": [
       "'0.25.1'"
      ]
     },
     "execution_count": 1,
     "metadata": {},
     "output_type": "execute_result"
    }
   ],
   "source": [
    "import numpy as np\n",
    "import pandas as pd\n",
    "\n",
    "pd.__version__"
   ]
  },
  {
   "cell_type": "markdown",
   "metadata": {},
   "source": [
    "## The `Series` object\n",
    "\n",
    "We've seen NumPy `ndarray` objects, and the `Series` object is very similar. It has an added attribute called the *index*. Let's take a look and then discuss it in more detail. We'll create a `Series` object with 10 random numbers sampled from the half-open interval `[0,1)`."
   ]
  },
  {
   "cell_type": "code",
   "execution_count": 2,
   "metadata": {
    "scrolled": true
   },
   "outputs": [
    {
     "data": {
      "text/plain": [
       "0    0.807117\n",
       "1    0.514131\n",
       "2    0.251846\n",
       "3    0.981062\n",
       "4    0.489280\n",
       "5    0.777354\n",
       "6    0.741454\n",
       "7    0.516422\n",
       "8    0.219777\n",
       "9    0.207266\n",
       "dtype: float64"
      ]
     },
     "execution_count": 2,
     "metadata": {},
     "output_type": "execute_result"
    }
   ],
   "source": [
    "ser1 = pd.Series(np.random.rand(10))\n",
    "ser1"
   ]
  },
  {
   "cell_type": "markdown",
   "metadata": {},
   "source": [
    "The integers ranging from 0 to 9 on the left of the display are the *indices* of the `Series`. It is useful to think of the indices as rows of a spreadsheet. As with `ndarray`s, we can access `Series` elements by their index."
   ]
  },
  {
   "cell_type": "code",
   "execution_count": 3,
   "metadata": {},
   "outputs": [
    {
     "data": {
      "text/plain": [
       "0.4892801874561964"
      ]
     },
     "execution_count": 3,
     "metadata": {},
     "output_type": "execute_result"
    }
   ],
   "source": [
    "ser1[4]"
   ]
  },
  {
   "cell_type": "markdown",
   "metadata": {},
   "source": [
    "However, pandas gives us more options than this. For example, we can now specify what we want the indices to be called."
   ]
  },
  {
   "cell_type": "code",
   "execution_count": 4,
   "metadata": {},
   "outputs": [
    {
     "data": {
      "text/plain": [
       "a    0.021457\n",
       "b    0.878437\n",
       "c    0.602672\n",
       "d    0.871500\n",
       "e    0.210825\n",
       "f    0.552579\n",
       "g    0.745294\n",
       "h    0.904041\n",
       "i    0.026695\n",
       "j    0.195820\n",
       "dtype: float64"
      ]
     },
     "execution_count": 4,
     "metadata": {},
     "output_type": "execute_result"
    }
   ],
   "source": [
    "ser1 = pd.Series(np.random.rand(10), index = ['a','b','c','d','e','f','g','h','i','j'])\n",
    "ser1"
   ]
  },
  {
   "cell_type": "code",
   "execution_count": 5,
   "metadata": {},
   "outputs": [
    {
     "data": {
      "text/plain": [
       "0.21082537061597384"
      ]
     },
     "execution_count": 5,
     "metadata": {},
     "output_type": "execute_result"
    }
   ],
   "source": [
    "ser1['e']"
   ]
  },
  {
   "cell_type": "markdown",
   "metadata": {},
   "source": [
    "To change the index names, I didn't really need to create a new `Series`. We can change the indices of a `Series` arbitrarily, as they are keyworded attributes of the `Series` object. We can also display the values of a `Series`, but they cannot be reassigned."
   ]
  },
  {
   "cell_type": "code",
   "execution_count": 7,
   "metadata": {},
   "outputs": [
    {
     "data": {
      "text/plain": [
       "Index(['a', 'b', 'c', 'd', 'e', 'f', 'g', 'h', 'i', 'j'], dtype='object')"
      ]
     },
     "execution_count": 7,
     "metadata": {},
     "output_type": "execute_result"
    }
   ],
   "source": [
    "ser1.index"
   ]
  },
  {
   "cell_type": "code",
   "execution_count": 8,
   "metadata": {},
   "outputs": [
    {
     "data": {
      "text/plain": [
       "10    0.021457\n",
       "11    0.878437\n",
       "12    0.602672\n",
       "13    0.871500\n",
       "14    0.210825\n",
       "15    0.552579\n",
       "16    0.745294\n",
       "17    0.904041\n",
       "18    0.026695\n",
       "19    0.195820\n",
       "dtype: float64"
      ]
     },
     "execution_count": 8,
     "metadata": {},
     "output_type": "execute_result"
    }
   ],
   "source": [
    "ser1.index = np.arange(10,20)\n",
    "ser1"
   ]
  },
  {
   "cell_type": "code",
   "execution_count": 9,
   "metadata": {},
   "outputs": [
    {
     "data": {
      "text/plain": [
       "array([0.02145715, 0.87843694, 0.60267183, 0.87150015, 0.21082537,\n",
       "       0.55257867, 0.7452942 , 0.90404058, 0.02669488, 0.19581991])"
      ]
     },
     "execution_count": 9,
     "metadata": {},
     "output_type": "execute_result"
    }
   ],
   "source": [
    "ser1.values"
   ]
  },
  {
   "cell_type": "code",
   "execution_count": 10,
   "metadata": {},
   "outputs": [
    {
     "ename": "AttributeError",
     "evalue": "can't set attribute",
     "output_type": "error",
     "traceback": [
      "\u001b[1;31m---------------------------------------------------------------------------\u001b[0m",
      "\u001b[1;31mAttributeError\u001b[0m                            Traceback (most recent call last)",
      "\u001b[1;32m~\\AppData\\Local\\Continuum\\anaconda3\\lib\\site-packages\\pandas\\core\\generic.py\u001b[0m in \u001b[0;36m__setattr__\u001b[1;34m(self, name, value)\u001b[0m\n\u001b[0;32m   5209\u001b[0m                 \u001b[1;32melse\u001b[0m\u001b[1;33m:\u001b[0m\u001b[1;33m\u001b[0m\u001b[1;33m\u001b[0m\u001b[0m\n\u001b[1;32m-> 5210\u001b[1;33m                     \u001b[0mobject\u001b[0m\u001b[1;33m.\u001b[0m\u001b[0m__setattr__\u001b[0m\u001b[1;33m(\u001b[0m\u001b[0mself\u001b[0m\u001b[1;33m,\u001b[0m \u001b[0mname\u001b[0m\u001b[1;33m,\u001b[0m \u001b[0mvalue\u001b[0m\u001b[1;33m)\u001b[0m\u001b[1;33m\u001b[0m\u001b[1;33m\u001b[0m\u001b[0m\n\u001b[0m\u001b[0;32m   5211\u001b[0m             \u001b[1;32mexcept\u001b[0m \u001b[1;33m(\u001b[0m\u001b[0mAttributeError\u001b[0m\u001b[1;33m,\u001b[0m \u001b[0mTypeError\u001b[0m\u001b[1;33m)\u001b[0m\u001b[1;33m:\u001b[0m\u001b[1;33m\u001b[0m\u001b[1;33m\u001b[0m\u001b[0m\n",
      "\u001b[1;31mAttributeError\u001b[0m: can't set attribute",
      "\nDuring handling of the above exception, another exception occurred:\n",
      "\u001b[1;31mAttributeError\u001b[0m                            Traceback (most recent call last)",
      "\u001b[1;32m<ipython-input-10-443e0d6e6d79>\u001b[0m in \u001b[0;36m<module>\u001b[1;34m\u001b[0m\n\u001b[1;32m----> 1\u001b[1;33m \u001b[0mser1\u001b[0m\u001b[1;33m.\u001b[0m\u001b[0mvalues\u001b[0m \u001b[1;33m=\u001b[0m \u001b[0mnp\u001b[0m\u001b[1;33m.\u001b[0m\u001b[0marange\u001b[0m\u001b[1;33m(\u001b[0m\u001b[1;36m200\u001b[0m\u001b[1;33m,\u001b[0m\u001b[1;36m210\u001b[0m\u001b[1;33m)\u001b[0m\u001b[1;33m\u001b[0m\u001b[1;33m\u001b[0m\u001b[0m\n\u001b[0m",
      "\u001b[1;32m~\\AppData\\Local\\Continuum\\anaconda3\\lib\\site-packages\\pandas\\core\\generic.py\u001b[0m in \u001b[0;36m__setattr__\u001b[1;34m(self, name, value)\u001b[0m\n\u001b[0;32m   5218\u001b[0m                         \u001b[0mstacklevel\u001b[0m\u001b[1;33m=\u001b[0m\u001b[1;36m2\u001b[0m\u001b[1;33m,\u001b[0m\u001b[1;33m\u001b[0m\u001b[1;33m\u001b[0m\u001b[0m\n\u001b[0;32m   5219\u001b[0m                     )\n\u001b[1;32m-> 5220\u001b[1;33m                 \u001b[0mobject\u001b[0m\u001b[1;33m.\u001b[0m\u001b[0m__setattr__\u001b[0m\u001b[1;33m(\u001b[0m\u001b[0mself\u001b[0m\u001b[1;33m,\u001b[0m \u001b[0mname\u001b[0m\u001b[1;33m,\u001b[0m \u001b[0mvalue\u001b[0m\u001b[1;33m)\u001b[0m\u001b[1;33m\u001b[0m\u001b[1;33m\u001b[0m\u001b[0m\n\u001b[0m\u001b[0;32m   5221\u001b[0m \u001b[1;33m\u001b[0m\u001b[0m\n\u001b[0;32m   5222\u001b[0m     \u001b[1;32mdef\u001b[0m \u001b[0m_dir_additions\u001b[0m\u001b[1;33m(\u001b[0m\u001b[0mself\u001b[0m\u001b[1;33m)\u001b[0m\u001b[1;33m:\u001b[0m\u001b[1;33m\u001b[0m\u001b[1;33m\u001b[0m\u001b[0m\n",
      "\u001b[1;31mAttributeError\u001b[0m: can't set attribute"
     ]
    }
   ],
   "source": [
    "ser1.values = np.arange(200,210)"
   ]
  },
  {
   "cell_type": "markdown",
   "metadata": {},
   "source": [
    "We can't change all values of a `Series`, but we can change single values by referencing their index."
   ]
  },
  {
   "cell_type": "code",
   "execution_count": 11,
   "metadata": {},
   "outputs": [
    {
     "data": {
      "text/plain": [
       "10    1.000000\n",
       "11    0.878437\n",
       "12    0.602672\n",
       "13    0.871500\n",
       "14    0.210825\n",
       "15    0.552579\n",
       "16    0.745294\n",
       "17    0.904041\n",
       "18    0.026695\n",
       "19    0.195820\n",
       "dtype: float64"
      ]
     },
     "execution_count": 11,
     "metadata": {},
     "output_type": "execute_result"
    }
   ],
   "source": [
    "ser1[10] = 1\n",
    "ser1"
   ]
  },
  {
   "cell_type": "markdown",
   "metadata": {},
   "source": [
    "We can also display multiple values by list indexing."
   ]
  },
  {
   "cell_type": "code",
   "execution_count": 12,
   "metadata": {},
   "outputs": [
    {
     "data": {
      "text/plain": [
       "10    1.000000\n",
       "11    0.878437\n",
       "16    0.745294\n",
       "dtype: float64"
      ]
     },
     "execution_count": 12,
     "metadata": {},
     "output_type": "execute_result"
    }
   ],
   "source": [
    "ser1[[10,11,16]]"
   ]
  },
  {
   "cell_type": "code",
   "execution_count": 13,
   "metadata": {},
   "outputs": [
    {
     "data": {
      "text/plain": [
       "d    0.604505\n",
       "j    0.642697\n",
       "dtype: float64"
      ]
     },
     "execution_count": 13,
     "metadata": {},
     "output_type": "execute_result"
    }
   ],
   "source": [
    "ser2 = pd.Series(np.random.rand(10), index = ['a','b','c','d','e','f','g','h','i','j'])\n",
    "ser2[['d','j']]"
   ]
  },
  {
   "cell_type": "markdown",
   "metadata": {},
   "source": [
    "### `Series` objects from dictionaries\n",
    "\n",
    "Recall that a common data structure in Python is the dictionary, which takes the form\n",
    "```\n",
    "{key0: value0, key1: value1, key2: value2, ...}\n",
    "```\n",
    "\n",
    "A dictionary may be passed as an argument to the `Series` constructor."
   ]
  },
  {
   "cell_type": "code",
   "execution_count": 14,
   "metadata": {},
   "outputs": [
    {
     "data": {
      "text/plain": [
       "AB    2.3\n",
       "BC    2.1\n",
       "SK    1.7\n",
       "MB    1.9\n",
       "dtype: float64"
      ]
     },
     "execution_count": 14,
     "metadata": {},
     "output_type": "execute_result"
    }
   ],
   "source": [
    "prov_exp = {'AB': 2.3, 'BC': 2.1, 'SK': 1.7, 'MB': 1.9}\n",
    "prov = pd.Series(prov_exp)\n",
    "prov"
   ]
  },
  {
   "cell_type": "markdown",
   "metadata": {},
   "source": [
    "## The `DataFrame` object\n",
    "\n",
    "A natural extension of the `Series` object would be to allow the object to contain more than one variable in more than one column. Hence, we introduce the `DataFrame`. This object allows data to be stored in a very similar manner to a spreadsheet (or in R, the `data.frame` object), with multiple values being stored in multiple columns, and an index keeping track of each row. It may also be helpful to think of a `DataFrame` as a dictionary of `Series` objects. \n",
    "\n",
    "Let's see an example of a `DataFrame` being initialized and view its `index`, `value`, and column attributes."
   ]
  },
  {
   "cell_type": "code",
   "execution_count": 15,
   "metadata": {},
   "outputs": [
    {
     "data": {
      "text/html": [
       "<div>\n",
       "<style scoped>\n",
       "    .dataframe tbody tr th:only-of-type {\n",
       "        vertical-align: middle;\n",
       "    }\n",
       "\n",
       "    .dataframe tbody tr th {\n",
       "        vertical-align: top;\n",
       "    }\n",
       "\n",
       "    .dataframe thead th {\n",
       "        text-align: right;\n",
       "    }\n",
       "</style>\n",
       "<table border=\"1\" class=\"dataframe\">\n",
       "  <thead>\n",
       "    <tr style=\"text-align: right;\">\n",
       "      <th></th>\n",
       "      <th>Country</th>\n",
       "      <th>Population (millions)</th>\n",
       "      <th>Urban pop (%)</th>\n",
       "    </tr>\n",
       "  </thead>\n",
       "  <tbody>\n",
       "    <tr>\n",
       "      <td>0</td>\n",
       "      <td>Afghanistan</td>\n",
       "      <td>38.900</td>\n",
       "      <td>25</td>\n",
       "    </tr>\n",
       "    <tr>\n",
       "      <td>1</td>\n",
       "      <td>Bahamas</td>\n",
       "      <td>0.393</td>\n",
       "      <td>86</td>\n",
       "    </tr>\n",
       "    <tr>\n",
       "      <td>2</td>\n",
       "      <td>Cabo Verde</td>\n",
       "      <td>0.556</td>\n",
       "      <td>68</td>\n",
       "    </tr>\n",
       "    <tr>\n",
       "      <td>3</td>\n",
       "      <td>Denmark</td>\n",
       "      <td>5.790</td>\n",
       "      <td>88</td>\n",
       "    </tr>\n",
       "    <tr>\n",
       "      <td>4</td>\n",
       "      <td>Ecuador</td>\n",
       "      <td>17.600</td>\n",
       "      <td>63</td>\n",
       "    </tr>\n",
       "    <tr>\n",
       "      <td>5</td>\n",
       "      <td>Fiji</td>\n",
       "      <td>0.896</td>\n",
       "      <td>59</td>\n",
       "    </tr>\n",
       "    <tr>\n",
       "      <td>6</td>\n",
       "      <td>Gabon</td>\n",
       "      <td>2.230</td>\n",
       "      <td>87</td>\n",
       "    </tr>\n",
       "  </tbody>\n",
       "</table>\n",
       "</div>"
      ],
      "text/plain": [
       "       Country  Population (millions)  Urban pop (%)\n",
       "0  Afghanistan                 38.900             25\n",
       "1      Bahamas                  0.393             86\n",
       "2   Cabo Verde                  0.556             68\n",
       "3      Denmark                  5.790             88\n",
       "4      Ecuador                 17.600             63\n",
       "5         Fiji                  0.896             59\n",
       "6        Gabon                  2.230             87"
      ]
     },
     "execution_count": 15,
     "metadata": {},
     "output_type": "execute_result"
    }
   ],
   "source": [
    "data = {'Country': ['Afghanistan','Bahamas','Cabo Verde','Denmark','Ecuador','Fiji','Gabon'],\n",
    "        'Population (millions)': [38.9, .393, .556, 5.79, 17.6, .896, 2.23],\n",
    "        'Urban pop (%)': [25, 86, 68, 88, 63, 59, 87]}\n",
    "\n",
    "df1 = pd.DataFrame(data)\n",
    "df1"
   ]
  },
  {
   "cell_type": "code",
   "execution_count": 16,
   "metadata": {},
   "outputs": [
    {
     "data": {
      "text/plain": [
       "RangeIndex(start=0, stop=7, step=1)"
      ]
     },
     "execution_count": 16,
     "metadata": {},
     "output_type": "execute_result"
    }
   ],
   "source": [
    "df1.index"
   ]
  },
  {
   "cell_type": "code",
   "execution_count": 17,
   "metadata": {
    "scrolled": true
   },
   "outputs": [
    {
     "data": {
      "text/plain": [
       "array([['Afghanistan', 38.9, 25],\n",
       "       ['Bahamas', 0.393, 86],\n",
       "       ['Cabo Verde', 0.556, 68],\n",
       "       ['Denmark', 5.79, 88],\n",
       "       ['Ecuador', 17.6, 63],\n",
       "       ['Fiji', 0.896, 59],\n",
       "       ['Gabon', 2.23, 87]], dtype=object)"
      ]
     },
     "execution_count": 17,
     "metadata": {},
     "output_type": "execute_result"
    }
   ],
   "source": [
    "df1.values"
   ]
  },
  {
   "cell_type": "code",
   "execution_count": 18,
   "metadata": {},
   "outputs": [
    {
     "data": {
      "text/plain": [
       "Index(['Country', 'Population (millions)', 'Urban pop (%)'], dtype='object')"
      ]
     },
     "execution_count": 18,
     "metadata": {},
     "output_type": "execute_result"
    }
   ],
   "source": [
    "df1.columns"
   ]
  },
  {
   "cell_type": "code",
   "execution_count": 19,
   "metadata": {},
   "outputs": [
    {
     "data": {
      "text/plain": [
       "Index(['Country', 'Population (millions)', 'Urban pop (%)'], dtype='object')"
      ]
     },
     "execution_count": 19,
     "metadata": {},
     "output_type": "execute_result"
    }
   ],
   "source": [
    "df1.keys()"
   ]
  },
  {
   "cell_type": "markdown",
   "metadata": {},
   "source": [
    "We may easily reorder columns by specifying their left-to-right order on initialization of the `DataFrame`."
   ]
  },
  {
   "cell_type": "code",
   "execution_count": 20,
   "metadata": {},
   "outputs": [
    {
     "data": {
      "text/html": [
       "<div>\n",
       "<style scoped>\n",
       "    .dataframe tbody tr th:only-of-type {\n",
       "        vertical-align: middle;\n",
       "    }\n",
       "\n",
       "    .dataframe tbody tr th {\n",
       "        vertical-align: top;\n",
       "    }\n",
       "\n",
       "    .dataframe thead th {\n",
       "        text-align: right;\n",
       "    }\n",
       "</style>\n",
       "<table border=\"1\" class=\"dataframe\">\n",
       "  <thead>\n",
       "    <tr style=\"text-align: right;\">\n",
       "      <th></th>\n",
       "      <th>Population (millions)</th>\n",
       "      <th>Urban pop (%)</th>\n",
       "      <th>Country</th>\n",
       "    </tr>\n",
       "  </thead>\n",
       "  <tbody>\n",
       "    <tr>\n",
       "      <td>0</td>\n",
       "      <td>38.900</td>\n",
       "      <td>25</td>\n",
       "      <td>Afghanistan</td>\n",
       "    </tr>\n",
       "    <tr>\n",
       "      <td>1</td>\n",
       "      <td>0.393</td>\n",
       "      <td>86</td>\n",
       "      <td>Bahamas</td>\n",
       "    </tr>\n",
       "    <tr>\n",
       "      <td>2</td>\n",
       "      <td>0.556</td>\n",
       "      <td>68</td>\n",
       "      <td>Cabo Verde</td>\n",
       "    </tr>\n",
       "    <tr>\n",
       "      <td>3</td>\n",
       "      <td>5.790</td>\n",
       "      <td>88</td>\n",
       "      <td>Denmark</td>\n",
       "    </tr>\n",
       "    <tr>\n",
       "      <td>4</td>\n",
       "      <td>17.600</td>\n",
       "      <td>63</td>\n",
       "      <td>Ecuador</td>\n",
       "    </tr>\n",
       "    <tr>\n",
       "      <td>5</td>\n",
       "      <td>0.896</td>\n",
       "      <td>59</td>\n",
       "      <td>Fiji</td>\n",
       "    </tr>\n",
       "    <tr>\n",
       "      <td>6</td>\n",
       "      <td>2.230</td>\n",
       "      <td>87</td>\n",
       "      <td>Gabon</td>\n",
       "    </tr>\n",
       "  </tbody>\n",
       "</table>\n",
       "</div>"
      ],
      "text/plain": [
       "   Population (millions)  Urban pop (%)      Country\n",
       "0                 38.900             25  Afghanistan\n",
       "1                  0.393             86      Bahamas\n",
       "2                  0.556             68   Cabo Verde\n",
       "3                  5.790             88      Denmark\n",
       "4                 17.600             63      Ecuador\n",
       "5                  0.896             59         Fiji\n",
       "6                  2.230             87        Gabon"
      ]
     },
     "execution_count": 20,
     "metadata": {},
     "output_type": "execute_result"
    }
   ],
   "source": [
    "df1 = pd.DataFrame(data, columns = ['Population (millions)', 'Urban pop (%)', 'Country'])\n",
    "df1"
   ]
  },
  {
   "cell_type": "markdown",
   "metadata": {},
   "source": [
    "New columns can be added after a `DataFrame` object has already been created. If the values for the new column are not specified, then the column is filled with `NaN` (not a number)."
   ]
  },
  {
   "cell_type": "code",
   "execution_count": 21,
   "metadata": {},
   "outputs": [
    {
     "data": {
      "text/html": [
       "<div>\n",
       "<style scoped>\n",
       "    .dataframe tbody tr th:only-of-type {\n",
       "        vertical-align: middle;\n",
       "    }\n",
       "\n",
       "    .dataframe tbody tr th {\n",
       "        vertical-align: top;\n",
       "    }\n",
       "\n",
       "    .dataframe thead th {\n",
       "        text-align: right;\n",
       "    }\n",
       "</style>\n",
       "<table border=\"1\" class=\"dataframe\">\n",
       "  <thead>\n",
       "    <tr style=\"text-align: right;\">\n",
       "      <th></th>\n",
       "      <th>Country</th>\n",
       "      <th>Population (millions)</th>\n",
       "      <th>Urban pop (%)</th>\n",
       "      <th>GDP</th>\n",
       "    </tr>\n",
       "  </thead>\n",
       "  <tbody>\n",
       "    <tr>\n",
       "      <td>0</td>\n",
       "      <td>Afghanistan</td>\n",
       "      <td>38.900</td>\n",
       "      <td>25</td>\n",
       "      <td>NaN</td>\n",
       "    </tr>\n",
       "    <tr>\n",
       "      <td>1</td>\n",
       "      <td>Bahamas</td>\n",
       "      <td>0.393</td>\n",
       "      <td>86</td>\n",
       "      <td>NaN</td>\n",
       "    </tr>\n",
       "    <tr>\n",
       "      <td>2</td>\n",
       "      <td>Cabo Verde</td>\n",
       "      <td>0.556</td>\n",
       "      <td>68</td>\n",
       "      <td>NaN</td>\n",
       "    </tr>\n",
       "    <tr>\n",
       "      <td>3</td>\n",
       "      <td>Denmark</td>\n",
       "      <td>5.790</td>\n",
       "      <td>88</td>\n",
       "      <td>NaN</td>\n",
       "    </tr>\n",
       "    <tr>\n",
       "      <td>4</td>\n",
       "      <td>Ecuador</td>\n",
       "      <td>17.600</td>\n",
       "      <td>63</td>\n",
       "      <td>NaN</td>\n",
       "    </tr>\n",
       "    <tr>\n",
       "      <td>5</td>\n",
       "      <td>Fiji</td>\n",
       "      <td>0.896</td>\n",
       "      <td>59</td>\n",
       "      <td>NaN</td>\n",
       "    </tr>\n",
       "    <tr>\n",
       "      <td>6</td>\n",
       "      <td>Gabon</td>\n",
       "      <td>2.230</td>\n",
       "      <td>87</td>\n",
       "      <td>NaN</td>\n",
       "    </tr>\n",
       "  </tbody>\n",
       "</table>\n",
       "</div>"
      ],
      "text/plain": [
       "       Country  Population (millions)  Urban pop (%)  GDP\n",
       "0  Afghanistan                 38.900             25  NaN\n",
       "1      Bahamas                  0.393             86  NaN\n",
       "2   Cabo Verde                  0.556             68  NaN\n",
       "3      Denmark                  5.790             88  NaN\n",
       "4      Ecuador                 17.600             63  NaN\n",
       "5         Fiji                  0.896             59  NaN\n",
       "6        Gabon                  2.230             87  NaN"
      ]
     },
     "execution_count": 21,
     "metadata": {},
     "output_type": "execute_result"
    }
   ],
   "source": [
    "df1 = pd.DataFrame(data, columns = ['Country','Population (millions)','Urban pop (%)','GDP'])\n",
    "df1"
   ]
  },
  {
   "cell_type": "markdown",
   "metadata": {},
   "source": [
    "### Finding data in `DataFrame` objects\n",
    "\n",
    "There are two techniques to finding specific data within a `DataFrame`: locating a *row* with a particular index or a *column* with a given name (key).\n",
    "\n",
    "In the first case, we use the `loc` method of the `DataFrame` object. In the next code snippet, we'll locate the data corresponding to row `0`."
   ]
  },
  {
   "cell_type": "code",
   "execution_count": 24,
   "metadata": {},
   "outputs": [
    {
     "data": {
      "text/plain": [
       "Country                  Afghanistan\n",
       "Population (millions)           38.9\n",
       "Urban pop (%)                     25\n",
       "GDP                              NaN\n",
       "Name: 0, dtype: object"
      ]
     },
     "execution_count": 24,
     "metadata": {},
     "output_type": "execute_result"
    }
   ],
   "source": [
    "df1.loc[0]"
   ]
  },
  {
   "cell_type": "markdown",
   "metadata": {},
   "source": [
    "To locate a *column* with a given name, we pass the column key as our indexing variable."
   ]
  },
  {
   "cell_type": "code",
   "execution_count": 25,
   "metadata": {},
   "outputs": [
    {
     "data": {
      "text/plain": [
       "0    Afghanistan\n",
       "1        Bahamas\n",
       "2     Cabo Verde\n",
       "3        Denmark\n",
       "4        Ecuador\n",
       "5           Fiji\n",
       "6          Gabon\n",
       "Name: Country, dtype: object"
      ]
     },
     "execution_count": 25,
     "metadata": {},
     "output_type": "execute_result"
    }
   ],
   "source": [
    "df1['Country']"
   ]
  },
  {
   "cell_type": "markdown",
   "metadata": {},
   "source": [
    "Note that this is different from the `Series` object, as the following code snippet demonstrates."
   ]
  },
  {
   "cell_type": "code",
   "execution_count": 26,
   "metadata": {},
   "outputs": [
    {
     "ename": "KeyError",
     "evalue": "0",
     "output_type": "error",
     "traceback": [
      "\u001b[1;31m---------------------------------------------------------------------------\u001b[0m",
      "\u001b[1;31mKeyError\u001b[0m                                  Traceback (most recent call last)",
      "\u001b[1;32m~\\AppData\\Local\\Continuum\\anaconda3\\lib\\site-packages\\pandas\\core\\indexes\\base.py\u001b[0m in \u001b[0;36mget_loc\u001b[1;34m(self, key, method, tolerance)\u001b[0m\n\u001b[0;32m   2896\u001b[0m             \u001b[1;32mtry\u001b[0m\u001b[1;33m:\u001b[0m\u001b[1;33m\u001b[0m\u001b[1;33m\u001b[0m\u001b[0m\n\u001b[1;32m-> 2897\u001b[1;33m                 \u001b[1;32mreturn\u001b[0m \u001b[0mself\u001b[0m\u001b[1;33m.\u001b[0m\u001b[0m_engine\u001b[0m\u001b[1;33m.\u001b[0m\u001b[0mget_loc\u001b[0m\u001b[1;33m(\u001b[0m\u001b[0mkey\u001b[0m\u001b[1;33m)\u001b[0m\u001b[1;33m\u001b[0m\u001b[1;33m\u001b[0m\u001b[0m\n\u001b[0m\u001b[0;32m   2898\u001b[0m             \u001b[1;32mexcept\u001b[0m \u001b[0mKeyError\u001b[0m\u001b[1;33m:\u001b[0m\u001b[1;33m\u001b[0m\u001b[1;33m\u001b[0m\u001b[0m\n",
      "\u001b[1;32mpandas\\_libs\\index.pyx\u001b[0m in \u001b[0;36mpandas._libs.index.IndexEngine.get_loc\u001b[1;34m()\u001b[0m\n",
      "\u001b[1;32mpandas\\_libs\\index.pyx\u001b[0m in \u001b[0;36mpandas._libs.index.IndexEngine.get_loc\u001b[1;34m()\u001b[0m\n",
      "\u001b[1;32mpandas\\_libs\\hashtable_class_helper.pxi\u001b[0m in \u001b[0;36mpandas._libs.hashtable.PyObjectHashTable.get_item\u001b[1;34m()\u001b[0m\n",
      "\u001b[1;32mpandas\\_libs\\hashtable_class_helper.pxi\u001b[0m in \u001b[0;36mpandas._libs.hashtable.PyObjectHashTable.get_item\u001b[1;34m()\u001b[0m\n",
      "\u001b[1;31mKeyError\u001b[0m: 0",
      "\nDuring handling of the above exception, another exception occurred:\n",
      "\u001b[1;31mKeyError\u001b[0m                                  Traceback (most recent call last)",
      "\u001b[1;32m<ipython-input-26-47ad1a35aae4>\u001b[0m in \u001b[0;36m<module>\u001b[1;34m\u001b[0m\n\u001b[1;32m----> 1\u001b[1;33m \u001b[0mdf1\u001b[0m\u001b[1;33m[\u001b[0m\u001b[1;36m0\u001b[0m\u001b[1;33m]\u001b[0m\u001b[1;33m\u001b[0m\u001b[1;33m\u001b[0m\u001b[0m\n\u001b[0m",
      "\u001b[1;32m~\\AppData\\Local\\Continuum\\anaconda3\\lib\\site-packages\\pandas\\core\\frame.py\u001b[0m in \u001b[0;36m__getitem__\u001b[1;34m(self, key)\u001b[0m\n\u001b[0;32m   2978\u001b[0m             \u001b[1;32mif\u001b[0m \u001b[0mself\u001b[0m\u001b[1;33m.\u001b[0m\u001b[0mcolumns\u001b[0m\u001b[1;33m.\u001b[0m\u001b[0mnlevels\u001b[0m \u001b[1;33m>\u001b[0m \u001b[1;36m1\u001b[0m\u001b[1;33m:\u001b[0m\u001b[1;33m\u001b[0m\u001b[1;33m\u001b[0m\u001b[0m\n\u001b[0;32m   2979\u001b[0m                 \u001b[1;32mreturn\u001b[0m \u001b[0mself\u001b[0m\u001b[1;33m.\u001b[0m\u001b[0m_getitem_multilevel\u001b[0m\u001b[1;33m(\u001b[0m\u001b[0mkey\u001b[0m\u001b[1;33m)\u001b[0m\u001b[1;33m\u001b[0m\u001b[1;33m\u001b[0m\u001b[0m\n\u001b[1;32m-> 2980\u001b[1;33m             \u001b[0mindexer\u001b[0m \u001b[1;33m=\u001b[0m \u001b[0mself\u001b[0m\u001b[1;33m.\u001b[0m\u001b[0mcolumns\u001b[0m\u001b[1;33m.\u001b[0m\u001b[0mget_loc\u001b[0m\u001b[1;33m(\u001b[0m\u001b[0mkey\u001b[0m\u001b[1;33m)\u001b[0m\u001b[1;33m\u001b[0m\u001b[1;33m\u001b[0m\u001b[0m\n\u001b[0m\u001b[0;32m   2981\u001b[0m             \u001b[1;32mif\u001b[0m \u001b[0mis_integer\u001b[0m\u001b[1;33m(\u001b[0m\u001b[0mindexer\u001b[0m\u001b[1;33m)\u001b[0m\u001b[1;33m:\u001b[0m\u001b[1;33m\u001b[0m\u001b[1;33m\u001b[0m\u001b[0m\n\u001b[0;32m   2982\u001b[0m                 \u001b[0mindexer\u001b[0m \u001b[1;33m=\u001b[0m \u001b[1;33m[\u001b[0m\u001b[0mindexer\u001b[0m\u001b[1;33m]\u001b[0m\u001b[1;33m\u001b[0m\u001b[1;33m\u001b[0m\u001b[0m\n",
      "\u001b[1;32m~\\AppData\\Local\\Continuum\\anaconda3\\lib\\site-packages\\pandas\\core\\indexes\\base.py\u001b[0m in \u001b[0;36mget_loc\u001b[1;34m(self, key, method, tolerance)\u001b[0m\n\u001b[0;32m   2897\u001b[0m                 \u001b[1;32mreturn\u001b[0m \u001b[0mself\u001b[0m\u001b[1;33m.\u001b[0m\u001b[0m_engine\u001b[0m\u001b[1;33m.\u001b[0m\u001b[0mget_loc\u001b[0m\u001b[1;33m(\u001b[0m\u001b[0mkey\u001b[0m\u001b[1;33m)\u001b[0m\u001b[1;33m\u001b[0m\u001b[1;33m\u001b[0m\u001b[0m\n\u001b[0;32m   2898\u001b[0m             \u001b[1;32mexcept\u001b[0m \u001b[0mKeyError\u001b[0m\u001b[1;33m:\u001b[0m\u001b[1;33m\u001b[0m\u001b[1;33m\u001b[0m\u001b[0m\n\u001b[1;32m-> 2899\u001b[1;33m                 \u001b[1;32mreturn\u001b[0m \u001b[0mself\u001b[0m\u001b[1;33m.\u001b[0m\u001b[0m_engine\u001b[0m\u001b[1;33m.\u001b[0m\u001b[0mget_loc\u001b[0m\u001b[1;33m(\u001b[0m\u001b[0mself\u001b[0m\u001b[1;33m.\u001b[0m\u001b[0m_maybe_cast_indexer\u001b[0m\u001b[1;33m(\u001b[0m\u001b[0mkey\u001b[0m\u001b[1;33m)\u001b[0m\u001b[1;33m)\u001b[0m\u001b[1;33m\u001b[0m\u001b[1;33m\u001b[0m\u001b[0m\n\u001b[0m\u001b[0;32m   2900\u001b[0m         \u001b[0mindexer\u001b[0m \u001b[1;33m=\u001b[0m \u001b[0mself\u001b[0m\u001b[1;33m.\u001b[0m\u001b[0mget_indexer\u001b[0m\u001b[1;33m(\u001b[0m\u001b[1;33m[\u001b[0m\u001b[0mkey\u001b[0m\u001b[1;33m]\u001b[0m\u001b[1;33m,\u001b[0m \u001b[0mmethod\u001b[0m\u001b[1;33m=\u001b[0m\u001b[0mmethod\u001b[0m\u001b[1;33m,\u001b[0m \u001b[0mtolerance\u001b[0m\u001b[1;33m=\u001b[0m\u001b[0mtolerance\u001b[0m\u001b[1;33m)\u001b[0m\u001b[1;33m\u001b[0m\u001b[1;33m\u001b[0m\u001b[0m\n\u001b[0;32m   2901\u001b[0m         \u001b[1;32mif\u001b[0m \u001b[0mindexer\u001b[0m\u001b[1;33m.\u001b[0m\u001b[0mndim\u001b[0m \u001b[1;33m>\u001b[0m \u001b[1;36m1\u001b[0m \u001b[1;32mor\u001b[0m \u001b[0mindexer\u001b[0m\u001b[1;33m.\u001b[0m\u001b[0msize\u001b[0m \u001b[1;33m>\u001b[0m \u001b[1;36m1\u001b[0m\u001b[1;33m:\u001b[0m\u001b[1;33m\u001b[0m\u001b[1;33m\u001b[0m\u001b[0m\n",
      "\u001b[1;32mpandas\\_libs\\index.pyx\u001b[0m in \u001b[0;36mpandas._libs.index.IndexEngine.get_loc\u001b[1;34m()\u001b[0m\n",
      "\u001b[1;32mpandas\\_libs\\index.pyx\u001b[0m in \u001b[0;36mpandas._libs.index.IndexEngine.get_loc\u001b[1;34m()\u001b[0m\n",
      "\u001b[1;32mpandas\\_libs\\hashtable_class_helper.pxi\u001b[0m in \u001b[0;36mpandas._libs.hashtable.PyObjectHashTable.get_item\u001b[1;34m()\u001b[0m\n",
      "\u001b[1;32mpandas\\_libs\\hashtable_class_helper.pxi\u001b[0m in \u001b[0;36mpandas._libs.hashtable.PyObjectHashTable.get_item\u001b[1;34m()\u001b[0m\n",
      "\u001b[1;31mKeyError\u001b[0m: 0"
     ]
    }
   ],
   "source": [
    "df1[0]"
   ]
  },
  {
   "cell_type": "markdown",
   "metadata": {},
   "source": [
    "Data may be taken from a `DataFrame` column and put into a `Series` object."
   ]
  },
  {
   "cell_type": "code",
   "execution_count": 27,
   "metadata": {},
   "outputs": [
    {
     "data": {
      "text/plain": [
       "0    Afghanistan\n",
       "1        Bahamas\n",
       "2     Cabo Verde\n",
       "3        Denmark\n",
       "4        Ecuador\n",
       "5           Fiji\n",
       "6          Gabon\n",
       "Name: Country, dtype: object"
      ]
     },
     "execution_count": 27,
     "metadata": {},
     "output_type": "execute_result"
    }
   ],
   "source": [
    "country = df1.Country\n",
    "country"
   ]
  },
  {
   "cell_type": "code",
   "execution_count": 28,
   "metadata": {},
   "outputs": [
    {
     "data": {
      "text/plain": [
       "pandas.core.series.Series"
      ]
     },
     "execution_count": 28,
     "metadata": {},
     "output_type": "execute_result"
    }
   ],
   "source": [
    "type(country)"
   ]
  },
  {
   "cell_type": "markdown",
   "metadata": {},
   "source": [
    "### Changing values within a row or column\n",
    "\n",
    "Once a `DataFrame` has been initialized, we may still change its values. For example, we can set a column to a single value."
   ]
  },
  {
   "cell_type": "code",
   "execution_count": 29,
   "metadata": {},
   "outputs": [
    {
     "data": {
      "text/html": [
       "<div>\n",
       "<style scoped>\n",
       "    .dataframe tbody tr th:only-of-type {\n",
       "        vertical-align: middle;\n",
       "    }\n",
       "\n",
       "    .dataframe tbody tr th {\n",
       "        vertical-align: top;\n",
       "    }\n",
       "\n",
       "    .dataframe thead th {\n",
       "        text-align: right;\n",
       "    }\n",
       "</style>\n",
       "<table border=\"1\" class=\"dataframe\">\n",
       "  <thead>\n",
       "    <tr style=\"text-align: right;\">\n",
       "      <th></th>\n",
       "      <th>Country</th>\n",
       "      <th>Population (millions)</th>\n",
       "      <th>Urban pop (%)</th>\n",
       "      <th>GDP</th>\n",
       "    </tr>\n",
       "  </thead>\n",
       "  <tbody>\n",
       "    <tr>\n",
       "      <td>0</td>\n",
       "      <td>Afghanistan</td>\n",
       "      <td>38.900</td>\n",
       "      <td>25</td>\n",
       "      <td>16.5</td>\n",
       "    </tr>\n",
       "    <tr>\n",
       "      <td>1</td>\n",
       "      <td>Bahamas</td>\n",
       "      <td>0.393</td>\n",
       "      <td>86</td>\n",
       "      <td>16.5</td>\n",
       "    </tr>\n",
       "    <tr>\n",
       "      <td>2</td>\n",
       "      <td>Cabo Verde</td>\n",
       "      <td>0.556</td>\n",
       "      <td>68</td>\n",
       "      <td>16.5</td>\n",
       "    </tr>\n",
       "    <tr>\n",
       "      <td>3</td>\n",
       "      <td>Denmark</td>\n",
       "      <td>5.790</td>\n",
       "      <td>88</td>\n",
       "      <td>16.5</td>\n",
       "    </tr>\n",
       "    <tr>\n",
       "      <td>4</td>\n",
       "      <td>Ecuador</td>\n",
       "      <td>17.600</td>\n",
       "      <td>63</td>\n",
       "      <td>16.5</td>\n",
       "    </tr>\n",
       "    <tr>\n",
       "      <td>5</td>\n",
       "      <td>Fiji</td>\n",
       "      <td>0.896</td>\n",
       "      <td>59</td>\n",
       "      <td>16.5</td>\n",
       "    </tr>\n",
       "    <tr>\n",
       "      <td>6</td>\n",
       "      <td>Gabon</td>\n",
       "      <td>2.230</td>\n",
       "      <td>87</td>\n",
       "      <td>16.5</td>\n",
       "    </tr>\n",
       "  </tbody>\n",
       "</table>\n",
       "</div>"
      ],
      "text/plain": [
       "       Country  Population (millions)  Urban pop (%)   GDP\n",
       "0  Afghanistan                 38.900             25  16.5\n",
       "1      Bahamas                  0.393             86  16.5\n",
       "2   Cabo Verde                  0.556             68  16.5\n",
       "3      Denmark                  5.790             88  16.5\n",
       "4      Ecuador                 17.600             63  16.5\n",
       "5         Fiji                  0.896             59  16.5\n",
       "6        Gabon                  2.230             87  16.5"
      ]
     },
     "execution_count": 29,
     "metadata": {},
     "output_type": "execute_result"
    }
   ],
   "source": [
    "df1.GDP = 16.5\n",
    "df1"
   ]
  },
  {
   "cell_type": "markdown",
   "metadata": {},
   "source": [
    "Similarly, we can set a column to a range of values."
   ]
  },
  {
   "cell_type": "code",
   "execution_count": 30,
   "metadata": {},
   "outputs": [
    {
     "data": {
      "text/html": [
       "<div>\n",
       "<style scoped>\n",
       "    .dataframe tbody tr th:only-of-type {\n",
       "        vertical-align: middle;\n",
       "    }\n",
       "\n",
       "    .dataframe tbody tr th {\n",
       "        vertical-align: top;\n",
       "    }\n",
       "\n",
       "    .dataframe thead th {\n",
       "        text-align: right;\n",
       "    }\n",
       "</style>\n",
       "<table border=\"1\" class=\"dataframe\">\n",
       "  <thead>\n",
       "    <tr style=\"text-align: right;\">\n",
       "      <th></th>\n",
       "      <th>Country</th>\n",
       "      <th>Population (millions)</th>\n",
       "      <th>Urban pop (%)</th>\n",
       "      <th>GDP</th>\n",
       "    </tr>\n",
       "  </thead>\n",
       "  <tbody>\n",
       "    <tr>\n",
       "      <td>0</td>\n",
       "      <td>Afghanistan</td>\n",
       "      <td>38.900</td>\n",
       "      <td>25</td>\n",
       "      <td>7</td>\n",
       "    </tr>\n",
       "    <tr>\n",
       "      <td>1</td>\n",
       "      <td>Bahamas</td>\n",
       "      <td>0.393</td>\n",
       "      <td>86</td>\n",
       "      <td>8</td>\n",
       "    </tr>\n",
       "    <tr>\n",
       "      <td>2</td>\n",
       "      <td>Cabo Verde</td>\n",
       "      <td>0.556</td>\n",
       "      <td>68</td>\n",
       "      <td>9</td>\n",
       "    </tr>\n",
       "    <tr>\n",
       "      <td>3</td>\n",
       "      <td>Denmark</td>\n",
       "      <td>5.790</td>\n",
       "      <td>88</td>\n",
       "      <td>10</td>\n",
       "    </tr>\n",
       "    <tr>\n",
       "      <td>4</td>\n",
       "      <td>Ecuador</td>\n",
       "      <td>17.600</td>\n",
       "      <td>63</td>\n",
       "      <td>11</td>\n",
       "    </tr>\n",
       "    <tr>\n",
       "      <td>5</td>\n",
       "      <td>Fiji</td>\n",
       "      <td>0.896</td>\n",
       "      <td>59</td>\n",
       "      <td>12</td>\n",
       "    </tr>\n",
       "    <tr>\n",
       "      <td>6</td>\n",
       "      <td>Gabon</td>\n",
       "      <td>2.230</td>\n",
       "      <td>87</td>\n",
       "      <td>13</td>\n",
       "    </tr>\n",
       "  </tbody>\n",
       "</table>\n",
       "</div>"
      ],
      "text/plain": [
       "       Country  Population (millions)  Urban pop (%)  GDP\n",
       "0  Afghanistan                 38.900             25    7\n",
       "1      Bahamas                  0.393             86    8\n",
       "2   Cabo Verde                  0.556             68    9\n",
       "3      Denmark                  5.790             88   10\n",
       "4      Ecuador                 17.600             63   11\n",
       "5         Fiji                  0.896             59   12\n",
       "6        Gabon                  2.230             87   13"
      ]
     },
     "execution_count": 30,
     "metadata": {},
     "output_type": "execute_result"
    }
   ],
   "source": [
    "df1.GDP = np.arange(7,14)\n",
    "df1"
   ]
  },
  {
   "cell_type": "markdown",
   "metadata": {},
   "source": [
    "If we specify a `Series` as a new `DataFrame` column and the `Series` doesn't have enough values to fill the column, then `NaN` will fill out the missing values. This example also illustrates that if we try to assign values to a column that hasn't been initialized, then the column will be created."
   ]
  },
  {
   "cell_type": "code",
   "execution_count": 31,
   "metadata": {},
   "outputs": [
    {
     "data": {
      "text/html": [
       "<div>\n",
       "<style scoped>\n",
       "    .dataframe tbody tr th:only-of-type {\n",
       "        vertical-align: middle;\n",
       "    }\n",
       "\n",
       "    .dataframe tbody tr th {\n",
       "        vertical-align: top;\n",
       "    }\n",
       "\n",
       "    .dataframe thead th {\n",
       "        text-align: right;\n",
       "    }\n",
       "</style>\n",
       "<table border=\"1\" class=\"dataframe\">\n",
       "  <thead>\n",
       "    <tr style=\"text-align: right;\">\n",
       "      <th></th>\n",
       "      <th>Country</th>\n",
       "      <th>Population (millions)</th>\n",
       "      <th>Urban pop (%)</th>\n",
       "      <th>GDP</th>\n",
       "      <th>GNP</th>\n",
       "    </tr>\n",
       "  </thead>\n",
       "  <tbody>\n",
       "    <tr>\n",
       "      <td>0</td>\n",
       "      <td>Afghanistan</td>\n",
       "      <td>38.900</td>\n",
       "      <td>25</td>\n",
       "      <td>7</td>\n",
       "      <td>1.7</td>\n",
       "    </tr>\n",
       "    <tr>\n",
       "      <td>1</td>\n",
       "      <td>Bahamas</td>\n",
       "      <td>0.393</td>\n",
       "      <td>86</td>\n",
       "      <td>8</td>\n",
       "      <td>3.2</td>\n",
       "    </tr>\n",
       "    <tr>\n",
       "      <td>2</td>\n",
       "      <td>Cabo Verde</td>\n",
       "      <td>0.556</td>\n",
       "      <td>68</td>\n",
       "      <td>9</td>\n",
       "      <td>1.6</td>\n",
       "    </tr>\n",
       "    <tr>\n",
       "      <td>3</td>\n",
       "      <td>Denmark</td>\n",
       "      <td>5.790</td>\n",
       "      <td>88</td>\n",
       "      <td>10</td>\n",
       "      <td>NaN</td>\n",
       "    </tr>\n",
       "    <tr>\n",
       "      <td>4</td>\n",
       "      <td>Ecuador</td>\n",
       "      <td>17.600</td>\n",
       "      <td>63</td>\n",
       "      <td>11</td>\n",
       "      <td>NaN</td>\n",
       "    </tr>\n",
       "    <tr>\n",
       "      <td>5</td>\n",
       "      <td>Fiji</td>\n",
       "      <td>0.896</td>\n",
       "      <td>59</td>\n",
       "      <td>12</td>\n",
       "      <td>NaN</td>\n",
       "    </tr>\n",
       "    <tr>\n",
       "      <td>6</td>\n",
       "      <td>Gabon</td>\n",
       "      <td>2.230</td>\n",
       "      <td>87</td>\n",
       "      <td>13</td>\n",
       "      <td>NaN</td>\n",
       "    </tr>\n",
       "  </tbody>\n",
       "</table>\n",
       "</div>"
      ],
      "text/plain": [
       "       Country  Population (millions)  Urban pop (%)  GDP  GNP\n",
       "0  Afghanistan                 38.900             25    7  1.7\n",
       "1      Bahamas                  0.393             86    8  3.2\n",
       "2   Cabo Verde                  0.556             68    9  1.6\n",
       "3      Denmark                  5.790             88   10  NaN\n",
       "4      Ecuador                 17.600             63   11  NaN\n",
       "5         Fiji                  0.896             59   12  NaN\n",
       "6        Gabon                  2.230             87   13  NaN"
      ]
     },
     "execution_count": 31,
     "metadata": {},
     "output_type": "execute_result"
    }
   ],
   "source": [
    "df1['GNP'] = pd.Series([1.7,3.2,1.6])\n",
    "df1"
   ]
  },
  {
   "cell_type": "markdown",
   "metadata": {},
   "source": [
    "Finally, a column can be deleted using the `del` command."
   ]
  },
  {
   "cell_type": "code",
   "execution_count": 32,
   "metadata": {
    "scrolled": true
   },
   "outputs": [
    {
     "data": {
      "text/html": [
       "<div>\n",
       "<style scoped>\n",
       "    .dataframe tbody tr th:only-of-type {\n",
       "        vertical-align: middle;\n",
       "    }\n",
       "\n",
       "    .dataframe tbody tr th {\n",
       "        vertical-align: top;\n",
       "    }\n",
       "\n",
       "    .dataframe thead th {\n",
       "        text-align: right;\n",
       "    }\n",
       "</style>\n",
       "<table border=\"1\" class=\"dataframe\">\n",
       "  <thead>\n",
       "    <tr style=\"text-align: right;\">\n",
       "      <th></th>\n",
       "      <th>Country</th>\n",
       "      <th>Population (millions)</th>\n",
       "      <th>Urban pop (%)</th>\n",
       "      <th>GDP</th>\n",
       "    </tr>\n",
       "  </thead>\n",
       "  <tbody>\n",
       "    <tr>\n",
       "      <td>0</td>\n",
       "      <td>Afghanistan</td>\n",
       "      <td>38.900</td>\n",
       "      <td>25</td>\n",
       "      <td>7</td>\n",
       "    </tr>\n",
       "    <tr>\n",
       "      <td>1</td>\n",
       "      <td>Bahamas</td>\n",
       "      <td>0.393</td>\n",
       "      <td>86</td>\n",
       "      <td>8</td>\n",
       "    </tr>\n",
       "    <tr>\n",
       "      <td>2</td>\n",
       "      <td>Cabo Verde</td>\n",
       "      <td>0.556</td>\n",
       "      <td>68</td>\n",
       "      <td>9</td>\n",
       "    </tr>\n",
       "    <tr>\n",
       "      <td>3</td>\n",
       "      <td>Denmark</td>\n",
       "      <td>5.790</td>\n",
       "      <td>88</td>\n",
       "      <td>10</td>\n",
       "    </tr>\n",
       "    <tr>\n",
       "      <td>4</td>\n",
       "      <td>Ecuador</td>\n",
       "      <td>17.600</td>\n",
       "      <td>63</td>\n",
       "      <td>11</td>\n",
       "    </tr>\n",
       "    <tr>\n",
       "      <td>5</td>\n",
       "      <td>Fiji</td>\n",
       "      <td>0.896</td>\n",
       "      <td>59</td>\n",
       "      <td>12</td>\n",
       "    </tr>\n",
       "    <tr>\n",
       "      <td>6</td>\n",
       "      <td>Gabon</td>\n",
       "      <td>2.230</td>\n",
       "      <td>87</td>\n",
       "      <td>13</td>\n",
       "    </tr>\n",
       "  </tbody>\n",
       "</table>\n",
       "</div>"
      ],
      "text/plain": [
       "       Country  Population (millions)  Urban pop (%)  GDP\n",
       "0  Afghanistan                 38.900             25    7\n",
       "1      Bahamas                  0.393             86    8\n",
       "2   Cabo Verde                  0.556             68    9\n",
       "3      Denmark                  5.790             88   10\n",
       "4      Ecuador                 17.600             63   11\n",
       "5         Fiji                  0.896             59   12\n",
       "6        Gabon                  2.230             87   13"
      ]
     },
     "execution_count": 32,
     "metadata": {},
     "output_type": "execute_result"
    }
   ],
   "source": [
    "del df1['GNP']\n",
    "df1"
   ]
  },
  {
   "cell_type": "markdown",
   "metadata": {},
   "source": [
    "## Slicing and boolean indexing\n",
    "\n",
    "Just as with `ndarray`s, we can access or set elements of a `Series` or `DataFrame` using slicing and boolean indexing. \n",
    "\n",
    "### Slicing\n",
    "\n",
    "Slicing with a `Series` object works just like it does with NumPy arrays."
   ]
  },
  {
   "cell_type": "code",
   "execution_count": 33,
   "metadata": {},
   "outputs": [
    {
     "data": {
      "text/plain": [
       "a    0.046123\n",
       "b    0.226757\n",
       "c    0.339368\n",
       "d    0.604505\n",
       "e    0.614747\n",
       "f    0.735096\n",
       "g    0.770280\n",
       "h    0.750207\n",
       "i    0.777633\n",
       "j    0.642697\n",
       "dtype: float64"
      ]
     },
     "execution_count": 33,
     "metadata": {},
     "output_type": "execute_result"
    }
   ],
   "source": [
    "ser2"
   ]
  },
  {
   "cell_type": "code",
   "execution_count": 34,
   "metadata": {
    "scrolled": true
   },
   "outputs": [
    {
     "data": {
      "text/plain": [
       "a    0.046123\n",
       "b    0.226757\n",
       "c    0.339368\n",
       "d    0.604505\n",
       "dtype: float64"
      ]
     },
     "execution_count": 34,
     "metadata": {},
     "output_type": "execute_result"
    }
   ],
   "source": [
    "ser2[0:4]"
   ]
  },
  {
   "cell_type": "markdown",
   "metadata": {},
   "source": [
    "Note that if we slice by row label, the endpoint is included."
   ]
  },
  {
   "cell_type": "code",
   "execution_count": 35,
   "metadata": {},
   "outputs": [
    {
     "data": {
      "text/plain": [
       "c    0.339368\n",
       "d    0.604505\n",
       "e    0.614747\n",
       "f    0.735096\n",
       "g    0.770280\n",
       "h    0.750207\n",
       "i    0.777633\n",
       "dtype: float64"
      ]
     },
     "execution_count": 35,
     "metadata": {},
     "output_type": "execute_result"
    }
   ],
   "source": [
    "ser2['c':'i']"
   ]
  },
  {
   "cell_type": "code",
   "execution_count": 37,
   "metadata": {},
   "outputs": [
    {
     "data": {
      "text/html": [
       "<div>\n",
       "<style scoped>\n",
       "    .dataframe tbody tr th:only-of-type {\n",
       "        vertical-align: middle;\n",
       "    }\n",
       "\n",
       "    .dataframe tbody tr th {\n",
       "        vertical-align: top;\n",
       "    }\n",
       "\n",
       "    .dataframe thead th {\n",
       "        text-align: right;\n",
       "    }\n",
       "</style>\n",
       "<table border=\"1\" class=\"dataframe\">\n",
       "  <thead>\n",
       "    <tr style=\"text-align: right;\">\n",
       "      <th></th>\n",
       "      <th>Country</th>\n",
       "      <th>Population (millions)</th>\n",
       "      <th>Urban pop (%)</th>\n",
       "      <th>GDP</th>\n",
       "    </tr>\n",
       "  </thead>\n",
       "  <tbody>\n",
       "    <tr>\n",
       "      <td>3</td>\n",
       "      <td>Denmark</td>\n",
       "      <td>5.790</td>\n",
       "      <td>88</td>\n",
       "      <td>10</td>\n",
       "    </tr>\n",
       "    <tr>\n",
       "      <td>4</td>\n",
       "      <td>Ecuador</td>\n",
       "      <td>17.600</td>\n",
       "      <td>63</td>\n",
       "      <td>11</td>\n",
       "    </tr>\n",
       "    <tr>\n",
       "      <td>5</td>\n",
       "      <td>Fiji</td>\n",
       "      <td>0.896</td>\n",
       "      <td>59</td>\n",
       "      <td>12</td>\n",
       "    </tr>\n",
       "    <tr>\n",
       "      <td>6</td>\n",
       "      <td>Gabon</td>\n",
       "      <td>2.230</td>\n",
       "      <td>87</td>\n",
       "      <td>13</td>\n",
       "    </tr>\n",
       "  </tbody>\n",
       "</table>\n",
       "</div>"
      ],
      "text/plain": [
       "   Country  Population (millions)  Urban pop (%)  GDP\n",
       "3  Denmark                  5.790             88   10\n",
       "4  Ecuador                 17.600             63   11\n",
       "5     Fiji                  0.896             59   12\n",
       "6    Gabon                  2.230             87   13"
      ]
     },
     "execution_count": 37,
     "metadata": {},
     "output_type": "execute_result"
    }
   ],
   "source": [
    "# Slicing a DataFrame by row\n",
    "\n",
    "df1.loc[3:]"
   ]
  },
  {
   "cell_type": "markdown",
   "metadata": {},
   "source": [
    "### Boolean indexing\n",
    "\n",
    "Here, we'll find the elements of `ser2` that are greater than 0.5."
   ]
  },
  {
   "cell_type": "code",
   "execution_count": 38,
   "metadata": {},
   "outputs": [
    {
     "data": {
      "text/plain": [
       "a    0.046123\n",
       "b    0.226757\n",
       "c    0.339368\n",
       "d    0.604505\n",
       "e    0.614747\n",
       "f    0.735096\n",
       "g    0.770280\n",
       "h    0.750207\n",
       "i    0.777633\n",
       "j    0.642697\n",
       "dtype: float64"
      ]
     },
     "execution_count": 38,
     "metadata": {},
     "output_type": "execute_result"
    }
   ],
   "source": [
    "ser2"
   ]
  },
  {
   "cell_type": "code",
   "execution_count": 39,
   "metadata": {
    "scrolled": true
   },
   "outputs": [
    {
     "data": {
      "text/plain": [
       "d    0.604505\n",
       "e    0.614747\n",
       "f    0.735096\n",
       "g    0.770280\n",
       "h    0.750207\n",
       "i    0.777633\n",
       "j    0.642697\n",
       "dtype: float64"
      ]
     },
     "execution_count": 39,
     "metadata": {},
     "output_type": "execute_result"
    }
   ],
   "source": [
    "ser2[ser2 > 0.5]"
   ]
  },
  {
   "cell_type": "markdown",
   "metadata": {},
   "source": [
    "For a `DataFrame`, we need to specify the column when we use boolean indexing. In this example, we'll display all rows that have a value in `col0` greater than 0.5."
   ]
  },
  {
   "cell_type": "code",
   "execution_count": 40,
   "metadata": {},
   "outputs": [
    {
     "data": {
      "text/html": [
       "<div>\n",
       "<style scoped>\n",
       "    .dataframe tbody tr th:only-of-type {\n",
       "        vertical-align: middle;\n",
       "    }\n",
       "\n",
       "    .dataframe tbody tr th {\n",
       "        vertical-align: top;\n",
       "    }\n",
       "\n",
       "    .dataframe thead th {\n",
       "        text-align: right;\n",
       "    }\n",
       "</style>\n",
       "<table border=\"1\" class=\"dataframe\">\n",
       "  <thead>\n",
       "    <tr style=\"text-align: right;\">\n",
       "      <th></th>\n",
       "      <th>col0</th>\n",
       "      <th>col1</th>\n",
       "      <th>col2</th>\n",
       "      <th>col3</th>\n",
       "    </tr>\n",
       "  </thead>\n",
       "  <tbody>\n",
       "    <tr>\n",
       "      <td>row0</td>\n",
       "      <td>0.044191</td>\n",
       "      <td>0.437528</td>\n",
       "      <td>0.626565</td>\n",
       "      <td>0.880175</td>\n",
       "    </tr>\n",
       "    <tr>\n",
       "      <td>row1</td>\n",
       "      <td>0.621835</td>\n",
       "      <td>0.770370</td>\n",
       "      <td>0.228442</td>\n",
       "      <td>0.863557</td>\n",
       "    </tr>\n",
       "    <tr>\n",
       "      <td>row2</td>\n",
       "      <td>0.502018</td>\n",
       "      <td>0.811180</td>\n",
       "      <td>0.727412</td>\n",
       "      <td>0.808079</td>\n",
       "    </tr>\n",
       "    <tr>\n",
       "      <td>row3</td>\n",
       "      <td>0.268752</td>\n",
       "      <td>0.176167</td>\n",
       "      <td>0.836101</td>\n",
       "      <td>0.022781</td>\n",
       "    </tr>\n",
       "  </tbody>\n",
       "</table>\n",
       "</div>"
      ],
      "text/plain": [
       "          col0      col1      col2      col3\n",
       "row0  0.044191  0.437528  0.626565  0.880175\n",
       "row1  0.621835  0.770370  0.228442  0.863557\n",
       "row2  0.502018  0.811180  0.727412  0.808079\n",
       "row3  0.268752  0.176167  0.836101  0.022781"
      ]
     },
     "execution_count": 40,
     "metadata": {},
     "output_type": "execute_result"
    }
   ],
   "source": [
    "df2 = pd.DataFrame(np.random.rand(16).reshape((4,4)), \n",
    "                   columns = ['col0','col1','col2','col3'], \n",
    "                   index = ['row0','row1','row2','row3'])\n",
    "df2"
   ]
  },
  {
   "cell_type": "code",
   "execution_count": 41,
   "metadata": {
    "scrolled": true
   },
   "outputs": [
    {
     "data": {
      "text/html": [
       "<div>\n",
       "<style scoped>\n",
       "    .dataframe tbody tr th:only-of-type {\n",
       "        vertical-align: middle;\n",
       "    }\n",
       "\n",
       "    .dataframe tbody tr th {\n",
       "        vertical-align: top;\n",
       "    }\n",
       "\n",
       "    .dataframe thead th {\n",
       "        text-align: right;\n",
       "    }\n",
       "</style>\n",
       "<table border=\"1\" class=\"dataframe\">\n",
       "  <thead>\n",
       "    <tr style=\"text-align: right;\">\n",
       "      <th></th>\n",
       "      <th>col0</th>\n",
       "      <th>col1</th>\n",
       "      <th>col2</th>\n",
       "      <th>col3</th>\n",
       "    </tr>\n",
       "  </thead>\n",
       "  <tbody>\n",
       "    <tr>\n",
       "      <td>row1</td>\n",
       "      <td>0.621835</td>\n",
       "      <td>0.77037</td>\n",
       "      <td>0.228442</td>\n",
       "      <td>0.863557</td>\n",
       "    </tr>\n",
       "    <tr>\n",
       "      <td>row2</td>\n",
       "      <td>0.502018</td>\n",
       "      <td>0.81118</td>\n",
       "      <td>0.727412</td>\n",
       "      <td>0.808079</td>\n",
       "    </tr>\n",
       "  </tbody>\n",
       "</table>\n",
       "</div>"
      ],
      "text/plain": [
       "          col0     col1      col2      col3\n",
       "row1  0.621835  0.77037  0.228442  0.863557\n",
       "row2  0.502018  0.81118  0.727412  0.808079"
      ]
     },
     "execution_count": 41,
     "metadata": {},
     "output_type": "execute_result"
    }
   ],
   "source": [
    "df2[df2['col0'] > 0.5]"
   ]
  },
  {
   "cell_type": "markdown",
   "metadata": {},
   "source": [
    "We may also use boolean masks in a similar manner to their use in NumPy arrays. Here we'll display a boolean mask corresponding to elements of `df2` that are greater than 0.5."
   ]
  },
  {
   "cell_type": "code",
   "execution_count": 42,
   "metadata": {},
   "outputs": [
    {
     "data": {
      "text/html": [
       "<div>\n",
       "<style scoped>\n",
       "    .dataframe tbody tr th:only-of-type {\n",
       "        vertical-align: middle;\n",
       "    }\n",
       "\n",
       "    .dataframe tbody tr th {\n",
       "        vertical-align: top;\n",
       "    }\n",
       "\n",
       "    .dataframe thead th {\n",
       "        text-align: right;\n",
       "    }\n",
       "</style>\n",
       "<table border=\"1\" class=\"dataframe\">\n",
       "  <thead>\n",
       "    <tr style=\"text-align: right;\">\n",
       "      <th></th>\n",
       "      <th>col0</th>\n",
       "      <th>col1</th>\n",
       "      <th>col2</th>\n",
       "      <th>col3</th>\n",
       "    </tr>\n",
       "  </thead>\n",
       "  <tbody>\n",
       "    <tr>\n",
       "      <td>row0</td>\n",
       "      <td>False</td>\n",
       "      <td>False</td>\n",
       "      <td>True</td>\n",
       "      <td>True</td>\n",
       "    </tr>\n",
       "    <tr>\n",
       "      <td>row1</td>\n",
       "      <td>True</td>\n",
       "      <td>True</td>\n",
       "      <td>False</td>\n",
       "      <td>True</td>\n",
       "    </tr>\n",
       "    <tr>\n",
       "      <td>row2</td>\n",
       "      <td>True</td>\n",
       "      <td>True</td>\n",
       "      <td>True</td>\n",
       "      <td>True</td>\n",
       "    </tr>\n",
       "    <tr>\n",
       "      <td>row3</td>\n",
       "      <td>False</td>\n",
       "      <td>False</td>\n",
       "      <td>True</td>\n",
       "      <td>False</td>\n",
       "    </tr>\n",
       "  </tbody>\n",
       "</table>\n",
       "</div>"
      ],
      "text/plain": [
       "       col0   col1   col2   col3\n",
       "row0  False  False   True   True\n",
       "row1   True   True  False   True\n",
       "row2   True   True   True   True\n",
       "row3  False  False   True  False"
      ]
     },
     "execution_count": 42,
     "metadata": {},
     "output_type": "execute_result"
    }
   ],
   "source": [
    "df2 > 0.5"
   ]
  },
  {
   "cell_type": "markdown",
   "metadata": {},
   "source": [
    "Now we'll use this mask to zero elements of `df2` less than or equal to 0.5."
   ]
  },
  {
   "cell_type": "code",
   "execution_count": 43,
   "metadata": {},
   "outputs": [
    {
     "data": {
      "text/html": [
       "<div>\n",
       "<style scoped>\n",
       "    .dataframe tbody tr th:only-of-type {\n",
       "        vertical-align: middle;\n",
       "    }\n",
       "\n",
       "    .dataframe tbody tr th {\n",
       "        vertical-align: top;\n",
       "    }\n",
       "\n",
       "    .dataframe thead th {\n",
       "        text-align: right;\n",
       "    }\n",
       "</style>\n",
       "<table border=\"1\" class=\"dataframe\">\n",
       "  <thead>\n",
       "    <tr style=\"text-align: right;\">\n",
       "      <th></th>\n",
       "      <th>col0</th>\n",
       "      <th>col1</th>\n",
       "      <th>col2</th>\n",
       "      <th>col3</th>\n",
       "    </tr>\n",
       "  </thead>\n",
       "  <tbody>\n",
       "    <tr>\n",
       "      <td>row0</td>\n",
       "      <td>0.000000</td>\n",
       "      <td>0.00000</td>\n",
       "      <td>0.626565</td>\n",
       "      <td>0.880175</td>\n",
       "    </tr>\n",
       "    <tr>\n",
       "      <td>row1</td>\n",
       "      <td>0.621835</td>\n",
       "      <td>0.77037</td>\n",
       "      <td>0.000000</td>\n",
       "      <td>0.863557</td>\n",
       "    </tr>\n",
       "    <tr>\n",
       "      <td>row2</td>\n",
       "      <td>0.502018</td>\n",
       "      <td>0.81118</td>\n",
       "      <td>0.727412</td>\n",
       "      <td>0.808079</td>\n",
       "    </tr>\n",
       "    <tr>\n",
       "      <td>row3</td>\n",
       "      <td>0.000000</td>\n",
       "      <td>0.00000</td>\n",
       "      <td>0.836101</td>\n",
       "      <td>0.000000</td>\n",
       "    </tr>\n",
       "  </tbody>\n",
       "</table>\n",
       "</div>"
      ],
      "text/plain": [
       "          col0     col1      col2      col3\n",
       "row0  0.000000  0.00000  0.626565  0.880175\n",
       "row1  0.621835  0.77037  0.000000  0.863557\n",
       "row2  0.502018  0.81118  0.727412  0.808079\n",
       "row3  0.000000  0.00000  0.836101  0.000000"
      ]
     },
     "execution_count": 43,
     "metadata": {},
     "output_type": "execute_result"
    }
   ],
   "source": [
    "df2[df2 <= 0.5] = 0\n",
    "df2"
   ]
  },
  {
   "cell_type": "markdown",
   "metadata": {},
   "source": [
    "## Useful `Series` and `DataFrame` methods\n",
    "\n",
    "### The `set_index()` method\n",
    "\n",
    "By default, `DataFrame` objects have the index attribute set to an integer range. We can change the index for the entire object to be any of the existing columns or an integer range."
   ]
  },
  {
   "cell_type": "code",
   "execution_count": 44,
   "metadata": {},
   "outputs": [
    {
     "data": {
      "text/html": [
       "<div>\n",
       "<style scoped>\n",
       "    .dataframe tbody tr th:only-of-type {\n",
       "        vertical-align: middle;\n",
       "    }\n",
       "\n",
       "    .dataframe tbody tr th {\n",
       "        vertical-align: top;\n",
       "    }\n",
       "\n",
       "    .dataframe thead th {\n",
       "        text-align: right;\n",
       "    }\n",
       "</style>\n",
       "<table border=\"1\" class=\"dataframe\">\n",
       "  <thead>\n",
       "    <tr style=\"text-align: right;\">\n",
       "      <th></th>\n",
       "      <th>Country</th>\n",
       "      <th>Curreny</th>\n",
       "    </tr>\n",
       "  </thead>\n",
       "  <tbody>\n",
       "    <tr>\n",
       "      <td>0</td>\n",
       "      <td>Mexico</td>\n",
       "      <td>peso</td>\n",
       "    </tr>\n",
       "    <tr>\n",
       "      <td>1</td>\n",
       "      <td>Guatemala</td>\n",
       "      <td>quetzal</td>\n",
       "    </tr>\n",
       "    <tr>\n",
       "      <td>2</td>\n",
       "      <td>Nicaragua</td>\n",
       "      <td>cordoba</td>\n",
       "    </tr>\n",
       "    <tr>\n",
       "      <td>3</td>\n",
       "      <td>Honduras</td>\n",
       "      <td>lempira</td>\n",
       "    </tr>\n",
       "  </tbody>\n",
       "</table>\n",
       "</div>"
      ],
      "text/plain": [
       "     Country  Curreny\n",
       "0     Mexico     peso\n",
       "1  Guatemala  quetzal\n",
       "2  Nicaragua  cordoba\n",
       "3   Honduras  lempira"
      ]
     },
     "execution_count": 44,
     "metadata": {},
     "output_type": "execute_result"
    }
   ],
   "source": [
    "df3 = pd.DataFrame({'Country': ['Mexico','Guatemala','Nicaragua','Honduras'], \n",
    "                    'Curreny': ['peso','quetzal','cordoba','lempira']})\n",
    "df3"
   ]
  },
  {
   "cell_type": "code",
   "execution_count": 45,
   "metadata": {},
   "outputs": [
    {
     "data": {
      "text/html": [
       "<div>\n",
       "<style scoped>\n",
       "    .dataframe tbody tr th:only-of-type {\n",
       "        vertical-align: middle;\n",
       "    }\n",
       "\n",
       "    .dataframe tbody tr th {\n",
       "        vertical-align: top;\n",
       "    }\n",
       "\n",
       "    .dataframe thead th {\n",
       "        text-align: right;\n",
       "    }\n",
       "</style>\n",
       "<table border=\"1\" class=\"dataframe\">\n",
       "  <thead>\n",
       "    <tr style=\"text-align: right;\">\n",
       "      <th></th>\n",
       "      <th>Country</th>\n",
       "      <th>Curreny</th>\n",
       "    </tr>\n",
       "    <tr>\n",
       "      <th>Country</th>\n",
       "      <th></th>\n",
       "      <th></th>\n",
       "    </tr>\n",
       "  </thead>\n",
       "  <tbody>\n",
       "    <tr>\n",
       "      <td>Mexico</td>\n",
       "      <td>Mexico</td>\n",
       "      <td>peso</td>\n",
       "    </tr>\n",
       "    <tr>\n",
       "      <td>Guatemala</td>\n",
       "      <td>Guatemala</td>\n",
       "      <td>quetzal</td>\n",
       "    </tr>\n",
       "    <tr>\n",
       "      <td>Nicaragua</td>\n",
       "      <td>Nicaragua</td>\n",
       "      <td>cordoba</td>\n",
       "    </tr>\n",
       "    <tr>\n",
       "      <td>Honduras</td>\n",
       "      <td>Honduras</td>\n",
       "      <td>lempira</td>\n",
       "    </tr>\n",
       "  </tbody>\n",
       "</table>\n",
       "</div>"
      ],
      "text/plain": [
       "             Country  Curreny\n",
       "Country                      \n",
       "Mexico        Mexico     peso\n",
       "Guatemala  Guatemala  quetzal\n",
       "Nicaragua  Nicaragua  cordoba\n",
       "Honduras    Honduras  lempira"
      ]
     },
     "execution_count": 45,
     "metadata": {},
     "output_type": "execute_result"
    }
   ],
   "source": [
    "df3.set_index(df3['Country'])"
   ]
  },
  {
   "cell_type": "code",
   "execution_count": 46,
   "metadata": {
    "scrolled": true
   },
   "outputs": [
    {
     "data": {
      "text/html": [
       "<div>\n",
       "<style scoped>\n",
       "    .dataframe tbody tr th:only-of-type {\n",
       "        vertical-align: middle;\n",
       "    }\n",
       "\n",
       "    .dataframe tbody tr th {\n",
       "        vertical-align: top;\n",
       "    }\n",
       "\n",
       "    .dataframe thead th {\n",
       "        text-align: right;\n",
       "    }\n",
       "</style>\n",
       "<table border=\"1\" class=\"dataframe\">\n",
       "  <thead>\n",
       "    <tr style=\"text-align: right;\">\n",
       "      <th></th>\n",
       "      <th>Country</th>\n",
       "      <th>Curreny</th>\n",
       "    </tr>\n",
       "  </thead>\n",
       "  <tbody>\n",
       "    <tr>\n",
       "      <td>5</td>\n",
       "      <td>Mexico</td>\n",
       "      <td>peso</td>\n",
       "    </tr>\n",
       "    <tr>\n",
       "      <td>6</td>\n",
       "      <td>Guatemala</td>\n",
       "      <td>quetzal</td>\n",
       "    </tr>\n",
       "    <tr>\n",
       "      <td>7</td>\n",
       "      <td>Nicaragua</td>\n",
       "      <td>cordoba</td>\n",
       "    </tr>\n",
       "    <tr>\n",
       "      <td>8</td>\n",
       "      <td>Honduras</td>\n",
       "      <td>lempira</td>\n",
       "    </tr>\n",
       "  </tbody>\n",
       "</table>\n",
       "</div>"
      ],
      "text/plain": [
       "     Country  Curreny\n",
       "5     Mexico     peso\n",
       "6  Guatemala  quetzal\n",
       "7  Nicaragua  cordoba\n",
       "8   Honduras  lempira"
      ]
     },
     "execution_count": 46,
     "metadata": {},
     "output_type": "execute_result"
    }
   ],
   "source": [
    "df3.set_index(np.arange(5,9))"
   ]
  },
  {
   "cell_type": "markdown",
   "metadata": {},
   "source": [
    "### The `reindex()` method\n",
    "\n",
    "Similar to rearranging the column ordering, we may rearrange the row ordering using the `reindex()` method. The `reindex()` method takes in a list of row names as an argument and returns a copy with the changed order of rows in a `Series` or `DataFrame`."
   ]
  },
  {
   "cell_type": "code",
   "execution_count": 47,
   "metadata": {},
   "outputs": [
    {
     "data": {
      "text/plain": [
       "id0    0.010216\n",
       "id1    0.320124\n",
       "id2    0.473417\n",
       "id3    0.346076\n",
       "dtype: float64"
      ]
     },
     "execution_count": 47,
     "metadata": {},
     "output_type": "execute_result"
    }
   ],
   "source": [
    "data2 = pd.Series(np.random.rand(4), index = ['id' + str(i) for i in range(4)])\n",
    "data2"
   ]
  },
  {
   "cell_type": "code",
   "execution_count": 48,
   "metadata": {},
   "outputs": [
    {
     "data": {
      "text/plain": [
       "id3    0.346076\n",
       "id1    0.320124\n",
       "id2    0.473417\n",
       "id0    0.010216\n",
       "dtype: float64"
      ]
     },
     "execution_count": 48,
     "metadata": {},
     "output_type": "execute_result"
    }
   ],
   "source": [
    "data3 = data2.reindex(['id3','id1','id2','id0'])\n",
    "data3"
   ]
  },
  {
   "cell_type": "code",
   "execution_count": 49,
   "metadata": {},
   "outputs": [
    {
     "data": {
      "text/html": [
       "<div>\n",
       "<style scoped>\n",
       "    .dataframe tbody tr th:only-of-type {\n",
       "        vertical-align: middle;\n",
       "    }\n",
       "\n",
       "    .dataframe tbody tr th {\n",
       "        vertical-align: top;\n",
       "    }\n",
       "\n",
       "    .dataframe thead th {\n",
       "        text-align: right;\n",
       "    }\n",
       "</style>\n",
       "<table border=\"1\" class=\"dataframe\">\n",
       "  <thead>\n",
       "    <tr style=\"text-align: right;\">\n",
       "      <th></th>\n",
       "      <th>0</th>\n",
       "      <th>1</th>\n",
       "      <th>2</th>\n",
       "      <th>3</th>\n",
       "    </tr>\n",
       "  </thead>\n",
       "  <tbody>\n",
       "    <tr>\n",
       "      <td>row0</td>\n",
       "      <td>0.583449</td>\n",
       "      <td>0.451170</td>\n",
       "      <td>0.880017</td>\n",
       "      <td>0.502174</td>\n",
       "    </tr>\n",
       "    <tr>\n",
       "      <td>row1</td>\n",
       "      <td>0.440819</td>\n",
       "      <td>0.722679</td>\n",
       "      <td>0.540755</td>\n",
       "      <td>0.084769</td>\n",
       "    </tr>\n",
       "    <tr>\n",
       "      <td>row2</td>\n",
       "      <td>0.495765</td>\n",
       "      <td>0.104294</td>\n",
       "      <td>0.815846</td>\n",
       "      <td>0.265324</td>\n",
       "    </tr>\n",
       "  </tbody>\n",
       "</table>\n",
       "</div>"
      ],
      "text/plain": [
       "             0         1         2         3\n",
       "row0  0.583449  0.451170  0.880017  0.502174\n",
       "row1  0.440819  0.722679  0.540755  0.084769\n",
       "row2  0.495765  0.104294  0.815846  0.265324"
      ]
     },
     "execution_count": 49,
     "metadata": {},
     "output_type": "execute_result"
    }
   ],
   "source": [
    "df2 = pd.DataFrame(np.random.rand(12).reshape((3,4)), index = ['row0','row1','row2'])\n",
    "df2"
   ]
  },
  {
   "cell_type": "code",
   "execution_count": 50,
   "metadata": {
    "scrolled": true
   },
   "outputs": [
    {
     "data": {
      "text/html": [
       "<div>\n",
       "<style scoped>\n",
       "    .dataframe tbody tr th:only-of-type {\n",
       "        vertical-align: middle;\n",
       "    }\n",
       "\n",
       "    .dataframe tbody tr th {\n",
       "        vertical-align: top;\n",
       "    }\n",
       "\n",
       "    .dataframe thead th {\n",
       "        text-align: right;\n",
       "    }\n",
       "</style>\n",
       "<table border=\"1\" class=\"dataframe\">\n",
       "  <thead>\n",
       "    <tr style=\"text-align: right;\">\n",
       "      <th></th>\n",
       "      <th>0</th>\n",
       "      <th>1</th>\n",
       "      <th>2</th>\n",
       "      <th>3</th>\n",
       "    </tr>\n",
       "  </thead>\n",
       "  <tbody>\n",
       "    <tr>\n",
       "      <td>row2</td>\n",
       "      <td>0.495765</td>\n",
       "      <td>0.104294</td>\n",
       "      <td>0.815846</td>\n",
       "      <td>0.265324</td>\n",
       "    </tr>\n",
       "    <tr>\n",
       "      <td>row1</td>\n",
       "      <td>0.440819</td>\n",
       "      <td>0.722679</td>\n",
       "      <td>0.540755</td>\n",
       "      <td>0.084769</td>\n",
       "    </tr>\n",
       "    <tr>\n",
       "      <td>row0</td>\n",
       "      <td>0.583449</td>\n",
       "      <td>0.451170</td>\n",
       "      <td>0.880017</td>\n",
       "      <td>0.502174</td>\n",
       "    </tr>\n",
       "  </tbody>\n",
       "</table>\n",
       "</div>"
      ],
      "text/plain": [
       "             0         1         2         3\n",
       "row2  0.495765  0.104294  0.815846  0.265324\n",
       "row1  0.440819  0.722679  0.540755  0.084769\n",
       "row0  0.583449  0.451170  0.880017  0.502174"
      ]
     },
     "execution_count": 50,
     "metadata": {},
     "output_type": "execute_result"
    }
   ],
   "source": [
    "df3 = df2.reindex(['row2','row1','row0'])\n",
    "df3"
   ]
  },
  {
   "cell_type": "markdown",
   "metadata": {},
   "source": [
    "In the event that we pass the `reindex()` method more indices than the `DataFrame` contains, new indices will be created and their values will be set to `NaN`.\n",
    "\n",
    "We may also choose how to fill in these new indices. This is controlled by specifying the optional `fill_value` argument. \n",
    "```\n",
    "df.reindex(<new order of indices>, fill_value = <option here>)\n",
    "```\n",
    "Let's fill in new rows with zeros."
   ]
  },
  {
   "cell_type": "code",
   "execution_count": 51,
   "metadata": {},
   "outputs": [
    {
     "data": {
      "text/html": [
       "<div>\n",
       "<style scoped>\n",
       "    .dataframe tbody tr th:only-of-type {\n",
       "        vertical-align: middle;\n",
       "    }\n",
       "\n",
       "    .dataframe tbody tr th {\n",
       "        vertical-align: top;\n",
       "    }\n",
       "\n",
       "    .dataframe thead th {\n",
       "        text-align: right;\n",
       "    }\n",
       "</style>\n",
       "<table border=\"1\" class=\"dataframe\">\n",
       "  <thead>\n",
       "    <tr style=\"text-align: right;\">\n",
       "      <th></th>\n",
       "      <th>0</th>\n",
       "      <th>1</th>\n",
       "      <th>2</th>\n",
       "      <th>3</th>\n",
       "    </tr>\n",
       "  </thead>\n",
       "  <tbody>\n",
       "    <tr>\n",
       "      <td>row0</td>\n",
       "      <td>0.583449</td>\n",
       "      <td>0.451170</td>\n",
       "      <td>0.880017</td>\n",
       "      <td>0.502174</td>\n",
       "    </tr>\n",
       "    <tr>\n",
       "      <td>row4</td>\n",
       "      <td>NaN</td>\n",
       "      <td>NaN</td>\n",
       "      <td>NaN</td>\n",
       "      <td>NaN</td>\n",
       "    </tr>\n",
       "    <tr>\n",
       "      <td>row1</td>\n",
       "      <td>0.440819</td>\n",
       "      <td>0.722679</td>\n",
       "      <td>0.540755</td>\n",
       "      <td>0.084769</td>\n",
       "    </tr>\n",
       "    <tr>\n",
       "      <td>row2</td>\n",
       "      <td>0.495765</td>\n",
       "      <td>0.104294</td>\n",
       "      <td>0.815846</td>\n",
       "      <td>0.265324</td>\n",
       "    </tr>\n",
       "  </tbody>\n",
       "</table>\n",
       "</div>"
      ],
      "text/plain": [
       "             0         1         2         3\n",
       "row0  0.583449  0.451170  0.880017  0.502174\n",
       "row4       NaN       NaN       NaN       NaN\n",
       "row1  0.440819  0.722679  0.540755  0.084769\n",
       "row2  0.495765  0.104294  0.815846  0.265324"
      ]
     },
     "execution_count": 51,
     "metadata": {},
     "output_type": "execute_result"
    }
   ],
   "source": [
    "df4 = df3.reindex(['row0','row4','row1','row2'])\n",
    "df4"
   ]
  },
  {
   "cell_type": "code",
   "execution_count": 52,
   "metadata": {},
   "outputs": [
    {
     "data": {
      "text/html": [
       "<div>\n",
       "<style scoped>\n",
       "    .dataframe tbody tr th:only-of-type {\n",
       "        vertical-align: middle;\n",
       "    }\n",
       "\n",
       "    .dataframe tbody tr th {\n",
       "        vertical-align: top;\n",
       "    }\n",
       "\n",
       "    .dataframe thead th {\n",
       "        text-align: right;\n",
       "    }\n",
       "</style>\n",
       "<table border=\"1\" class=\"dataframe\">\n",
       "  <thead>\n",
       "    <tr style=\"text-align: right;\">\n",
       "      <th></th>\n",
       "      <th>0</th>\n",
       "      <th>1</th>\n",
       "      <th>2</th>\n",
       "      <th>3</th>\n",
       "    </tr>\n",
       "  </thead>\n",
       "  <tbody>\n",
       "    <tr>\n",
       "      <td>row0</td>\n",
       "      <td>0.583449</td>\n",
       "      <td>0.451170</td>\n",
       "      <td>0.880017</td>\n",
       "      <td>0.502174</td>\n",
       "    </tr>\n",
       "    <tr>\n",
       "      <td>row4</td>\n",
       "      <td>0.000000</td>\n",
       "      <td>0.000000</td>\n",
       "      <td>0.000000</td>\n",
       "      <td>0.000000</td>\n",
       "    </tr>\n",
       "    <tr>\n",
       "      <td>row1</td>\n",
       "      <td>0.440819</td>\n",
       "      <td>0.722679</td>\n",
       "      <td>0.540755</td>\n",
       "      <td>0.084769</td>\n",
       "    </tr>\n",
       "    <tr>\n",
       "      <td>row2</td>\n",
       "      <td>0.495765</td>\n",
       "      <td>0.104294</td>\n",
       "      <td>0.815846</td>\n",
       "      <td>0.265324</td>\n",
       "    </tr>\n",
       "  </tbody>\n",
       "</table>\n",
       "</div>"
      ],
      "text/plain": [
       "             0         1         2         3\n",
       "row0  0.583449  0.451170  0.880017  0.502174\n",
       "row4  0.000000  0.000000  0.000000  0.000000\n",
       "row1  0.440819  0.722679  0.540755  0.084769\n",
       "row2  0.495765  0.104294  0.815846  0.265324"
      ]
     },
     "execution_count": 52,
     "metadata": {},
     "output_type": "execute_result"
    }
   ],
   "source": [
    "df4 = df3.reindex(['row0','row4','row1','row2'], fill_value = 0)\n",
    "df4"
   ]
  },
  {
   "cell_type": "markdown",
   "metadata": {},
   "source": [
    "### Transposing objects\n",
    "\n",
    "We may also call the transpose method, denoted `T`, to switch rows and columns in a pandas `DataFrame`."
   ]
  },
  {
   "cell_type": "code",
   "execution_count": 53,
   "metadata": {
    "scrolled": true
   },
   "outputs": [
    {
     "data": {
      "text/html": [
       "<div>\n",
       "<style scoped>\n",
       "    .dataframe tbody tr th:only-of-type {\n",
       "        vertical-align: middle;\n",
       "    }\n",
       "\n",
       "    .dataframe tbody tr th {\n",
       "        vertical-align: top;\n",
       "    }\n",
       "\n",
       "    .dataframe thead th {\n",
       "        text-align: right;\n",
       "    }\n",
       "</style>\n",
       "<table border=\"1\" class=\"dataframe\">\n",
       "  <thead>\n",
       "    <tr style=\"text-align: right;\">\n",
       "      <th></th>\n",
       "      <th>row2</th>\n",
       "      <th>row1</th>\n",
       "      <th>row0</th>\n",
       "    </tr>\n",
       "  </thead>\n",
       "  <tbody>\n",
       "    <tr>\n",
       "      <td>0</td>\n",
       "      <td>0.495765</td>\n",
       "      <td>0.440819</td>\n",
       "      <td>0.583449</td>\n",
       "    </tr>\n",
       "    <tr>\n",
       "      <td>1</td>\n",
       "      <td>0.104294</td>\n",
       "      <td>0.722679</td>\n",
       "      <td>0.451170</td>\n",
       "    </tr>\n",
       "    <tr>\n",
       "      <td>2</td>\n",
       "      <td>0.815846</td>\n",
       "      <td>0.540755</td>\n",
       "      <td>0.880017</td>\n",
       "    </tr>\n",
       "    <tr>\n",
       "      <td>3</td>\n",
       "      <td>0.265324</td>\n",
       "      <td>0.084769</td>\n",
       "      <td>0.502174</td>\n",
       "    </tr>\n",
       "  </tbody>\n",
       "</table>\n",
       "</div>"
      ],
      "text/plain": [
       "       row2      row1      row0\n",
       "0  0.495765  0.440819  0.583449\n",
       "1  0.104294  0.722679  0.451170\n",
       "2  0.815846  0.540755  0.880017\n",
       "3  0.265324  0.084769  0.502174"
      ]
     },
     "execution_count": 53,
     "metadata": {},
     "output_type": "execute_result"
    }
   ],
   "source": [
    "df3.T"
   ]
  },
  {
   "cell_type": "markdown",
   "metadata": {},
   "source": [
    "### The `drop()` method\n",
    "\n",
    "We may remove values from a `Series` by passing the index to be removed to the `drop()` method."
   ]
  },
  {
   "cell_type": "code",
   "execution_count": 54,
   "metadata": {},
   "outputs": [
    {
     "data": {
      "text/plain": [
       "a    0.046123\n",
       "b    0.226757\n",
       "c    0.339368\n",
       "d    0.604505\n",
       "e    0.614747\n",
       "f    0.735096\n",
       "g    0.770280\n",
       "h    0.750207\n",
       "i    0.777633\n",
       "j    0.642697\n",
       "dtype: float64"
      ]
     },
     "execution_count": 54,
     "metadata": {},
     "output_type": "execute_result"
    }
   ],
   "source": [
    "ser2"
   ]
  },
  {
   "cell_type": "code",
   "execution_count": 58,
   "metadata": {},
   "outputs": [
    {
     "data": {
      "text/plain": [
       "a    0.046123\n",
       "b    0.226757\n",
       "c    0.339368\n",
       "d    0.604505\n",
       "e    0.614747\n",
       "g    0.770280\n",
       "h    0.750207\n",
       "i    0.777633\n",
       "j    0.642697\n",
       "dtype: float64"
      ]
     },
     "execution_count": 58,
     "metadata": {},
     "output_type": "execute_result"
    }
   ],
   "source": [
    "ser2.drop('f')"
   ]
  },
  {
   "cell_type": "markdown",
   "metadata": {},
   "source": [
    "Similarly, for a `DataFrame`, we may remove either a row or a column. To drop a column, we specify the column label to be dropped. To drop a row, the row index must be used. By specifying the `axis` keyworded argument, we tell the interpreter where to find the index or column label we have passed in. Using `axis = 0` corresponds to dropping a row, and `axis = 1` indicates dropping a column. By default, `axis = 0`. "
   ]
  },
  {
   "cell_type": "code",
   "execution_count": 56,
   "metadata": {},
   "outputs": [
    {
     "data": {
      "text/html": [
       "<div>\n",
       "<style scoped>\n",
       "    .dataframe tbody tr th:only-of-type {\n",
       "        vertical-align: middle;\n",
       "    }\n",
       "\n",
       "    .dataframe tbody tr th {\n",
       "        vertical-align: top;\n",
       "    }\n",
       "\n",
       "    .dataframe thead th {\n",
       "        text-align: right;\n",
       "    }\n",
       "</style>\n",
       "<table border=\"1\" class=\"dataframe\">\n",
       "  <thead>\n",
       "    <tr style=\"text-align: right;\">\n",
       "      <th></th>\n",
       "      <th>Country</th>\n",
       "      <th>Population (millions)</th>\n",
       "      <th>Urban pop (%)</th>\n",
       "      <th>GDP</th>\n",
       "    </tr>\n",
       "  </thead>\n",
       "  <tbody>\n",
       "    <tr>\n",
       "      <td>0</td>\n",
       "      <td>Afghanistan</td>\n",
       "      <td>38.900</td>\n",
       "      <td>25</td>\n",
       "      <td>7</td>\n",
       "    </tr>\n",
       "    <tr>\n",
       "      <td>1</td>\n",
       "      <td>Bahamas</td>\n",
       "      <td>0.393</td>\n",
       "      <td>86</td>\n",
       "      <td>8</td>\n",
       "    </tr>\n",
       "    <tr>\n",
       "      <td>2</td>\n",
       "      <td>Cabo Verde</td>\n",
       "      <td>0.556</td>\n",
       "      <td>68</td>\n",
       "      <td>9</td>\n",
       "    </tr>\n",
       "    <tr>\n",
       "      <td>3</td>\n",
       "      <td>Denmark</td>\n",
       "      <td>5.790</td>\n",
       "      <td>88</td>\n",
       "      <td>10</td>\n",
       "    </tr>\n",
       "    <tr>\n",
       "      <td>4</td>\n",
       "      <td>Ecuador</td>\n",
       "      <td>17.600</td>\n",
       "      <td>63</td>\n",
       "      <td>11</td>\n",
       "    </tr>\n",
       "    <tr>\n",
       "      <td>5</td>\n",
       "      <td>Fiji</td>\n",
       "      <td>0.896</td>\n",
       "      <td>59</td>\n",
       "      <td>12</td>\n",
       "    </tr>\n",
       "    <tr>\n",
       "      <td>6</td>\n",
       "      <td>Gabon</td>\n",
       "      <td>2.230</td>\n",
       "      <td>87</td>\n",
       "      <td>13</td>\n",
       "    </tr>\n",
       "  </tbody>\n",
       "</table>\n",
       "</div>"
      ],
      "text/plain": [
       "       Country  Population (millions)  Urban pop (%)  GDP\n",
       "0  Afghanistan                 38.900             25    7\n",
       "1      Bahamas                  0.393             86    8\n",
       "2   Cabo Verde                  0.556             68    9\n",
       "3      Denmark                  5.790             88   10\n",
       "4      Ecuador                 17.600             63   11\n",
       "5         Fiji                  0.896             59   12\n",
       "6        Gabon                  2.230             87   13"
      ]
     },
     "execution_count": 56,
     "metadata": {},
     "output_type": "execute_result"
    }
   ],
   "source": [
    "df1"
   ]
  },
  {
   "cell_type": "code",
   "execution_count": 60,
   "metadata": {},
   "outputs": [
    {
     "data": {
      "text/html": [
       "<div>\n",
       "<style scoped>\n",
       "    .dataframe tbody tr th:only-of-type {\n",
       "        vertical-align: middle;\n",
       "    }\n",
       "\n",
       "    .dataframe tbody tr th {\n",
       "        vertical-align: top;\n",
       "    }\n",
       "\n",
       "    .dataframe thead th {\n",
       "        text-align: right;\n",
       "    }\n",
       "</style>\n",
       "<table border=\"1\" class=\"dataframe\">\n",
       "  <thead>\n",
       "    <tr style=\"text-align: right;\">\n",
       "      <th></th>\n",
       "      <th>Country</th>\n",
       "      <th>Population (millions)</th>\n",
       "      <th>Urban pop (%)</th>\n",
       "    </tr>\n",
       "  </thead>\n",
       "  <tbody>\n",
       "    <tr>\n",
       "      <td>0</td>\n",
       "      <td>Afghanistan</td>\n",
       "      <td>38.900</td>\n",
       "      <td>25</td>\n",
       "    </tr>\n",
       "    <tr>\n",
       "      <td>1</td>\n",
       "      <td>Bahamas</td>\n",
       "      <td>0.393</td>\n",
       "      <td>86</td>\n",
       "    </tr>\n",
       "    <tr>\n",
       "      <td>2</td>\n",
       "      <td>Cabo Verde</td>\n",
       "      <td>0.556</td>\n",
       "      <td>68</td>\n",
       "    </tr>\n",
       "    <tr>\n",
       "      <td>3</td>\n",
       "      <td>Denmark</td>\n",
       "      <td>5.790</td>\n",
       "      <td>88</td>\n",
       "    </tr>\n",
       "    <tr>\n",
       "      <td>4</td>\n",
       "      <td>Ecuador</td>\n",
       "      <td>17.600</td>\n",
       "      <td>63</td>\n",
       "    </tr>\n",
       "    <tr>\n",
       "      <td>5</td>\n",
       "      <td>Fiji</td>\n",
       "      <td>0.896</td>\n",
       "      <td>59</td>\n",
       "    </tr>\n",
       "    <tr>\n",
       "      <td>6</td>\n",
       "      <td>Gabon</td>\n",
       "      <td>2.230</td>\n",
       "      <td>87</td>\n",
       "    </tr>\n",
       "  </tbody>\n",
       "</table>\n",
       "</div>"
      ],
      "text/plain": [
       "       Country  Population (millions)  Urban pop (%)\n",
       "0  Afghanistan                 38.900             25\n",
       "1      Bahamas                  0.393             86\n",
       "2   Cabo Verde                  0.556             68\n",
       "3      Denmark                  5.790             88\n",
       "4      Ecuador                 17.600             63\n",
       "5         Fiji                  0.896             59\n",
       "6        Gabon                  2.230             87"
      ]
     },
     "execution_count": 60,
     "metadata": {},
     "output_type": "execute_result"
    }
   ],
   "source": [
    "df1.drop('GDP', axis = 1)"
   ]
  },
  {
   "cell_type": "code",
   "execution_count": 61,
   "metadata": {
    "scrolled": true
   },
   "outputs": [
    {
     "data": {
      "text/html": [
       "<div>\n",
       "<style scoped>\n",
       "    .dataframe tbody tr th:only-of-type {\n",
       "        vertical-align: middle;\n",
       "    }\n",
       "\n",
       "    .dataframe tbody tr th {\n",
       "        vertical-align: top;\n",
       "    }\n",
       "\n",
       "    .dataframe thead th {\n",
       "        text-align: right;\n",
       "    }\n",
       "</style>\n",
       "<table border=\"1\" class=\"dataframe\">\n",
       "  <thead>\n",
       "    <tr style=\"text-align: right;\">\n",
       "      <th></th>\n",
       "      <th>Country</th>\n",
       "      <th>Population (millions)</th>\n",
       "      <th>Urban pop (%)</th>\n",
       "      <th>GDP</th>\n",
       "    </tr>\n",
       "  </thead>\n",
       "  <tbody>\n",
       "    <tr>\n",
       "      <td>0</td>\n",
       "      <td>Afghanistan</td>\n",
       "      <td>38.900</td>\n",
       "      <td>25</td>\n",
       "      <td>7</td>\n",
       "    </tr>\n",
       "    <tr>\n",
       "      <td>1</td>\n",
       "      <td>Bahamas</td>\n",
       "      <td>0.393</td>\n",
       "      <td>86</td>\n",
       "      <td>8</td>\n",
       "    </tr>\n",
       "    <tr>\n",
       "      <td>2</td>\n",
       "      <td>Cabo Verde</td>\n",
       "      <td>0.556</td>\n",
       "      <td>68</td>\n",
       "      <td>9</td>\n",
       "    </tr>\n",
       "    <tr>\n",
       "      <td>3</td>\n",
       "      <td>Denmark</td>\n",
       "      <td>5.790</td>\n",
       "      <td>88</td>\n",
       "      <td>10</td>\n",
       "    </tr>\n",
       "    <tr>\n",
       "      <td>4</td>\n",
       "      <td>Ecuador</td>\n",
       "      <td>17.600</td>\n",
       "      <td>63</td>\n",
       "      <td>11</td>\n",
       "    </tr>\n",
       "    <tr>\n",
       "      <td>5</td>\n",
       "      <td>Fiji</td>\n",
       "      <td>0.896</td>\n",
       "      <td>59</td>\n",
       "      <td>12</td>\n",
       "    </tr>\n",
       "  </tbody>\n",
       "</table>\n",
       "</div>"
      ],
      "text/plain": [
       "       Country  Population (millions)  Urban pop (%)  GDP\n",
       "0  Afghanistan                 38.900             25    7\n",
       "1      Bahamas                  0.393             86    8\n",
       "2   Cabo Verde                  0.556             68    9\n",
       "3      Denmark                  5.790             88   10\n",
       "4      Ecuador                 17.600             63   11\n",
       "5         Fiji                  0.896             59   12"
      ]
     },
     "execution_count": 61,
     "metadata": {},
     "output_type": "execute_result"
    }
   ],
   "source": [
    "df1.drop(6, axis = 0)"
   ]
  },
  {
   "cell_type": "markdown",
   "metadata": {},
   "source": [
    "## Adding, subtracting, multiplying, and dividing `Series` and `DataFrame` objects\n",
    "\n",
    "Combining two or more `Series` or `DataFrame` objects using arithmetic operators is done by index. If both objects have the same indices, then the operation works as expected. If one object has indices that are missing from the other object, then the result is the union of both objects. Let's look at some examples to make this clearer."
   ]
  },
  {
   "cell_type": "code",
   "execution_count": 62,
   "metadata": {},
   "outputs": [
    {
     "data": {
      "text/plain": [
       "0    10\n",
       "1    12\n",
       "2    14\n",
       "3    16\n",
       "4    18\n",
       "dtype: int32"
      ]
     },
     "execution_count": 62,
     "metadata": {},
     "output_type": "execute_result"
    }
   ],
   "source": [
    "# Adding two Series with the same indices\n",
    "\n",
    "s1 = pd.Series(np.arange(5))\n",
    "s2 = pd.Series(np.arange(10,15))\n",
    "s1 + s2"
   ]
  },
  {
   "cell_type": "code",
   "execution_count": 65,
   "metadata": {},
   "outputs": [
    {
     "data": {
      "text/plain": [
       "0    0.0\n",
       "1    1.0\n",
       "c    NaN\n",
       "d    NaN\n",
       "e    NaN\n",
       "dtype: float64"
      ]
     },
     "execution_count": 65,
     "metadata": {},
     "output_type": "execute_result"
    }
   ],
   "source": [
    "# Adding two Series with some of the same indices\n",
    "\n",
    "s1 = s1.reindex([0,1,'c','d','e'])\n",
    "s1"
   ]
  },
  {
   "cell_type": "code",
   "execution_count": 66,
   "metadata": {},
   "outputs": [
    {
     "data": {
      "text/plain": [
       "0    10.0\n",
       "1    12.0\n",
       "2     NaN\n",
       "3     NaN\n",
       "4     NaN\n",
       "c     NaN\n",
       "d     NaN\n",
       "e     NaN\n",
       "dtype: float64"
      ]
     },
     "execution_count": 66,
     "metadata": {},
     "output_type": "execute_result"
    }
   ],
   "source": [
    "s1 + s2"
   ]
  },
  {
   "cell_type": "code",
   "execution_count": 67,
   "metadata": {},
   "outputs": [
    {
     "data": {
      "text/html": [
       "<div>\n",
       "<style scoped>\n",
       "    .dataframe tbody tr th:only-of-type {\n",
       "        vertical-align: middle;\n",
       "    }\n",
       "\n",
       "    .dataframe tbody tr th {\n",
       "        vertical-align: top;\n",
       "    }\n",
       "\n",
       "    .dataframe thead th {\n",
       "        text-align: right;\n",
       "    }\n",
       "</style>\n",
       "<table border=\"1\" class=\"dataframe\">\n",
       "  <thead>\n",
       "    <tr style=\"text-align: right;\">\n",
       "      <th></th>\n",
       "      <th>0</th>\n",
       "      <th>1</th>\n",
       "      <th>2</th>\n",
       "      <th>3</th>\n",
       "      <th>4</th>\n",
       "    </tr>\n",
       "  </thead>\n",
       "  <tbody>\n",
       "    <tr>\n",
       "      <td>0</td>\n",
       "      <td>0.0</td>\n",
       "      <td>1.0</td>\n",
       "      <td>4.0</td>\n",
       "      <td>9.0</td>\n",
       "      <td>NaN</td>\n",
       "    </tr>\n",
       "    <tr>\n",
       "      <td>1</td>\n",
       "      <td>20.0</td>\n",
       "      <td>30.0</td>\n",
       "      <td>42.0</td>\n",
       "      <td>56.0</td>\n",
       "      <td>NaN</td>\n",
       "    </tr>\n",
       "    <tr>\n",
       "      <td>2</td>\n",
       "      <td>80.0</td>\n",
       "      <td>99.0</td>\n",
       "      <td>120.0</td>\n",
       "      <td>143.0</td>\n",
       "      <td>NaN</td>\n",
       "    </tr>\n",
       "    <tr>\n",
       "      <td>3</td>\n",
       "      <td>180.0</td>\n",
       "      <td>208.0</td>\n",
       "      <td>238.0</td>\n",
       "      <td>270.0</td>\n",
       "      <td>NaN</td>\n",
       "    </tr>\n",
       "    <tr>\n",
       "      <td>4</td>\n",
       "      <td>NaN</td>\n",
       "      <td>NaN</td>\n",
       "      <td>NaN</td>\n",
       "      <td>NaN</td>\n",
       "      <td>NaN</td>\n",
       "    </tr>\n",
       "  </tbody>\n",
       "</table>\n",
       "</div>"
      ],
      "text/plain": [
       "       0      1      2      3   4\n",
       "0    0.0    1.0    4.0    9.0 NaN\n",
       "1   20.0   30.0   42.0   56.0 NaN\n",
       "2   80.0   99.0  120.0  143.0 NaN\n",
       "3  180.0  208.0  238.0  270.0 NaN\n",
       "4    NaN    NaN    NaN    NaN NaN"
      ]
     },
     "execution_count": 67,
     "metadata": {},
     "output_type": "execute_result"
    }
   ],
   "source": [
    "# Multiplying two DataFrames with some overlapping indices\n",
    "\n",
    "d1 = pd.DataFrame(np.arange(25).reshape((5,5)))\n",
    "d2 = pd.DataFrame(np.arange(16).reshape((4,4)))\n",
    "d1 * d2"
   ]
  },
  {
   "cell_type": "code",
   "execution_count": 68,
   "metadata": {},
   "outputs": [
    {
     "data": {
      "text/html": [
       "<div>\n",
       "<style scoped>\n",
       "    .dataframe tbody tr th:only-of-type {\n",
       "        vertical-align: middle;\n",
       "    }\n",
       "\n",
       "    .dataframe tbody tr th {\n",
       "        vertical-align: top;\n",
       "    }\n",
       "\n",
       "    .dataframe thead th {\n",
       "        text-align: right;\n",
       "    }\n",
       "</style>\n",
       "<table border=\"1\" class=\"dataframe\">\n",
       "  <thead>\n",
       "    <tr style=\"text-align: right;\">\n",
       "      <th></th>\n",
       "      <th>0</th>\n",
       "      <th>1</th>\n",
       "      <th>2</th>\n",
       "      <th>3</th>\n",
       "      <th>4</th>\n",
       "    </tr>\n",
       "  </thead>\n",
       "  <tbody>\n",
       "    <tr>\n",
       "      <td>0</td>\n",
       "      <td>NaN</td>\n",
       "      <td>1.000000</td>\n",
       "      <td>1.000000</td>\n",
       "      <td>1.000000</td>\n",
       "      <td>NaN</td>\n",
       "    </tr>\n",
       "    <tr>\n",
       "      <td>1</td>\n",
       "      <td>1.25</td>\n",
       "      <td>1.200000</td>\n",
       "      <td>1.166667</td>\n",
       "      <td>1.142857</td>\n",
       "      <td>NaN</td>\n",
       "    </tr>\n",
       "    <tr>\n",
       "      <td>2</td>\n",
       "      <td>1.25</td>\n",
       "      <td>1.222222</td>\n",
       "      <td>1.200000</td>\n",
       "      <td>1.181818</td>\n",
       "      <td>NaN</td>\n",
       "    </tr>\n",
       "    <tr>\n",
       "      <td>3</td>\n",
       "      <td>1.25</td>\n",
       "      <td>1.230769</td>\n",
       "      <td>1.214286</td>\n",
       "      <td>1.200000</td>\n",
       "      <td>NaN</td>\n",
       "    </tr>\n",
       "    <tr>\n",
       "      <td>4</td>\n",
       "      <td>NaN</td>\n",
       "      <td>NaN</td>\n",
       "      <td>NaN</td>\n",
       "      <td>NaN</td>\n",
       "      <td>NaN</td>\n",
       "    </tr>\n",
       "  </tbody>\n",
       "</table>\n",
       "</div>"
      ],
      "text/plain": [
       "      0         1         2         3   4\n",
       "0   NaN  1.000000  1.000000  1.000000 NaN\n",
       "1  1.25  1.200000  1.166667  1.142857 NaN\n",
       "2  1.25  1.222222  1.200000  1.181818 NaN\n",
       "3  1.25  1.230769  1.214286  1.200000 NaN\n",
       "4   NaN       NaN       NaN       NaN NaN"
      ]
     },
     "execution_count": 68,
     "metadata": {},
     "output_type": "execute_result"
    }
   ],
   "source": [
    "d1 / d2"
   ]
  },
  {
   "cell_type": "markdown",
   "metadata": {},
   "source": [
    "## Applying universal functions\n",
    "\n",
    "Since pandas objects are built on the solid foundation of NumPy arrays, it is no surprise that universal (vectorized) functions work perfectly with pandas objects. In this section, we'll look at NumPy universal functions and introduce a way to apply custom 1-dimensional functions to pandas objects."
   ]
  },
  {
   "cell_type": "markdown",
   "metadata": {},
   "source": [
    "First, we can apply universal NumPy functions to `Series` objects without any problems."
   ]
  },
  {
   "cell_type": "code",
   "execution_count": 69,
   "metadata": {},
   "outputs": [
    {
     "data": {
      "text/plain": [
       "a    0.046123\n",
       "b    0.226757\n",
       "c    0.339368\n",
       "d    0.604505\n",
       "e    0.614747\n",
       "f    0.735096\n",
       "g    0.770280\n",
       "h    0.750207\n",
       "i    0.777633\n",
       "j    0.642697\n",
       "dtype: float64"
      ]
     },
     "execution_count": 69,
     "metadata": {},
     "output_type": "execute_result"
    }
   ],
   "source": [
    "ser2"
   ]
  },
  {
   "cell_type": "code",
   "execution_count": 70,
   "metadata": {},
   "outputs": [
    {
     "data": {
      "text/plain": [
       "a    0.046107\n",
       "b    0.224819\n",
       "c    0.332891\n",
       "d    0.568355\n",
       "e    0.576752\n",
       "f    0.670658\n",
       "g    0.696336\n",
       "h    0.681790\n",
       "i    0.701595\n",
       "j    0.599356\n",
       "dtype: float64"
      ]
     },
     "execution_count": 70,
     "metadata": {},
     "output_type": "execute_result"
    }
   ],
   "source": [
    "np.sin(ser2)"
   ]
  },
  {
   "cell_type": "code",
   "execution_count": 71,
   "metadata": {},
   "outputs": [
    {
     "data": {
      "text/plain": [
       "a    0.092246\n",
       "b    0.453514\n",
       "c    0.678736\n",
       "d    1.209011\n",
       "e    1.229493\n",
       "f    1.470191\n",
       "g    1.540559\n",
       "h    1.500415\n",
       "i    1.555266\n",
       "j    1.285393\n",
       "dtype: float64"
      ]
     },
     "execution_count": 71,
     "metadata": {},
     "output_type": "execute_result"
    }
   ],
   "source": [
    "2*ser2"
   ]
  },
  {
   "cell_type": "markdown",
   "metadata": {},
   "source": [
    "When applying universal functions to `DataFrame`s, universal functions are automatically applied to all columns. "
   ]
  },
  {
   "cell_type": "code",
   "execution_count": 72,
   "metadata": {},
   "outputs": [
    {
     "data": {
      "text/html": [
       "<div>\n",
       "<style scoped>\n",
       "    .dataframe tbody tr th:only-of-type {\n",
       "        vertical-align: middle;\n",
       "    }\n",
       "\n",
       "    .dataframe tbody tr th {\n",
       "        vertical-align: top;\n",
       "    }\n",
       "\n",
       "    .dataframe thead th {\n",
       "        text-align: right;\n",
       "    }\n",
       "</style>\n",
       "<table border=\"1\" class=\"dataframe\">\n",
       "  <thead>\n",
       "    <tr style=\"text-align: right;\">\n",
       "      <th></th>\n",
       "      <th>0</th>\n",
       "      <th>1</th>\n",
       "    </tr>\n",
       "  </thead>\n",
       "  <tbody>\n",
       "    <tr>\n",
       "      <td>0</td>\n",
       "      <td>0.889487</td>\n",
       "      <td>0.990971</td>\n",
       "    </tr>\n",
       "    <tr>\n",
       "      <td>1</td>\n",
       "      <td>0.161300</td>\n",
       "      <td>0.652061</td>\n",
       "    </tr>\n",
       "    <tr>\n",
       "      <td>2</td>\n",
       "      <td>0.811852</td>\n",
       "      <td>0.775182</td>\n",
       "    </tr>\n",
       "    <tr>\n",
       "      <td>3</td>\n",
       "      <td>0.152872</td>\n",
       "      <td>0.211700</td>\n",
       "    </tr>\n",
       "    <tr>\n",
       "      <td>4</td>\n",
       "      <td>0.124333</td>\n",
       "      <td>0.350693</td>\n",
       "    </tr>\n",
       "  </tbody>\n",
       "</table>\n",
       "</div>"
      ],
      "text/plain": [
       "          0         1\n",
       "0  0.889487  0.990971\n",
       "1  0.161300  0.652061\n",
       "2  0.811852  0.775182\n",
       "3  0.152872  0.211700\n",
       "4  0.124333  0.350693"
      ]
     },
     "execution_count": 72,
     "metadata": {},
     "output_type": "execute_result"
    }
   ],
   "source": [
    "random10 = pd.DataFrame(np.random.rand(10).reshape((5,2)))\n",
    "random10"
   ]
  },
  {
   "cell_type": "code",
   "execution_count": 73,
   "metadata": {},
   "outputs": [
    {
     "data": {
      "text/html": [
       "<div>\n",
       "<style scoped>\n",
       "    .dataframe tbody tr th:only-of-type {\n",
       "        vertical-align: middle;\n",
       "    }\n",
       "\n",
       "    .dataframe tbody tr th {\n",
       "        vertical-align: top;\n",
       "    }\n",
       "\n",
       "    .dataframe thead th {\n",
       "        text-align: right;\n",
       "    }\n",
       "</style>\n",
       "<table border=\"1\" class=\"dataframe\">\n",
       "  <thead>\n",
       "    <tr style=\"text-align: right;\">\n",
       "      <th></th>\n",
       "      <th>0</th>\n",
       "      <th>1</th>\n",
       "    </tr>\n",
       "  </thead>\n",
       "  <tbody>\n",
       "    <tr>\n",
       "      <td>0</td>\n",
       "      <td>2.889487</td>\n",
       "      <td>2.990971</td>\n",
       "    </tr>\n",
       "    <tr>\n",
       "      <td>1</td>\n",
       "      <td>2.161300</td>\n",
       "      <td>2.652061</td>\n",
       "    </tr>\n",
       "    <tr>\n",
       "      <td>2</td>\n",
       "      <td>2.811852</td>\n",
       "      <td>2.775182</td>\n",
       "    </tr>\n",
       "    <tr>\n",
       "      <td>3</td>\n",
       "      <td>2.152872</td>\n",
       "      <td>2.211700</td>\n",
       "    </tr>\n",
       "    <tr>\n",
       "      <td>4</td>\n",
       "      <td>2.124333</td>\n",
       "      <td>2.350693</td>\n",
       "    </tr>\n",
       "  </tbody>\n",
       "</table>\n",
       "</div>"
      ],
      "text/plain": [
       "          0         1\n",
       "0  2.889487  2.990971\n",
       "1  2.161300  2.652061\n",
       "2  2.811852  2.775182\n",
       "3  2.152872  2.211700\n",
       "4  2.124333  2.350693"
      ]
     },
     "execution_count": 73,
     "metadata": {},
     "output_type": "execute_result"
    }
   ],
   "source": [
    "random10 + 2"
   ]
  },
  {
   "cell_type": "markdown",
   "metadata": {},
   "source": [
    "Alternatively, we may specify the column to which we apply the function. As always, the result of any expression may be saved to a new variable."
   ]
  },
  {
   "cell_type": "code",
   "execution_count": 74,
   "metadata": {},
   "outputs": [
    {
     "data": {
      "text/plain": [
       "0    2.889487\n",
       "1    2.161300\n",
       "2    2.811852\n",
       "3    2.152872\n",
       "4    2.124333\n",
       "Name: 0, dtype: float64"
      ]
     },
     "execution_count": 74,
     "metadata": {},
     "output_type": "execute_result"
    }
   ],
   "source": [
    "r10 = random10[0] + 2\n",
    "r10"
   ]
  },
  {
   "cell_type": "markdown",
   "metadata": {},
   "source": [
    "### `lambda` functions\n",
    "\n",
    "There are many times when we may want to apply a function to an argument passed to another function, or we might want to compute a function without using a full function declaration. This is where we use `lambda`, or **anonymous**, functions.\n",
    "\n",
    "Declaring a `lambda` function is done using the syntax:\n",
    "```\n",
    "lambda <inputs>: <return value>\n",
    "```\n",
    "\n",
    "**Note:** If you find yourself doing anything complicated with `lambda` functions, then the purpose of `lambda` functions is really defeated. Use a declared regular function instead.\n",
    "\n",
    "Here's an example of declaring and calling a `lambda` function in one line."
   ]
  },
  {
   "cell_type": "code",
   "execution_count": 75,
   "metadata": {},
   "outputs": [
    {
     "data": {
      "text/plain": [
       "array([0.16124981, 1.32125093, 0.22685185, 1.92709531, 0.52462414])"
      ]
     },
     "execution_count": 75,
     "metadata": {},
     "output_type": "execute_result"
    }
   ],
   "source": [
    "(lambda x, y: (x%2) + y)(np.arange(5),np.random.rand(5))"
   ]
  },
  {
   "cell_type": "markdown",
   "metadata": {},
   "source": [
    "The `lambda` function above takes in two arguments, `x` and `y`. It then returns `(x%2) + y)`. We immediately specified the function input in the tuple `(np.arange(5),np.random.rand(5))`.\n",
    "\n",
    "We can also give `lambda` functions a name, but this takes away their anonymity. It can, however, make for visually satisfying syntax."
   ]
  },
  {
   "cell_type": "code",
   "execution_count": 76,
   "metadata": {},
   "outputs": [
    {
     "data": {
      "text/plain": [
       "array([0, 1, 2, 0, 1, 2, 0, 1, 2, 0], dtype=int32)"
      ]
     },
     "execution_count": 76,
     "metadata": {},
     "output_type": "execute_result"
    }
   ],
   "source": [
    "f = lambda x: (x + 4) % 3\n",
    "x = np.arange(23,33)\n",
    "f(x)"
   ]
  },
  {
   "cell_type": "markdown",
   "metadata": {},
   "source": [
    "We can apply these functions to `Series` and `DataFrame` objects using the `apply()` method. Doing so will generate a copy of the object with the function applied. When applying a function to a `DataFrame`, make sure that you apply the function to columns of the correct input type. Here are some examples."
   ]
  },
  {
   "cell_type": "code",
   "execution_count": 77,
   "metadata": {},
   "outputs": [
    {
     "data": {
      "text/plain": [
       "0    0.394547\n",
       "1    0.230526\n",
       "2    0.988302\n",
       "3    0.759609\n",
       "4    0.015620\n",
       "5    0.753137\n",
       "6    0.528928\n",
       "dtype: float64"
      ]
     },
     "execution_count": 77,
     "metadata": {},
     "output_type": "execute_result"
    }
   ],
   "source": [
    "ser3 = pd.Series(np.random.rand(7))\n",
    "ser3"
   ]
  },
  {
   "cell_type": "code",
   "execution_count": 78,
   "metadata": {},
   "outputs": [
    {
     "data": {
      "text/plain": [
       "0   -0.355453\n",
       "1   -0.519474\n",
       "2    0.238302\n",
       "3    0.009609\n",
       "4   -0.734380\n",
       "5    0.003137\n",
       "6   -0.221072\n",
       "dtype: float64"
      ]
     },
     "execution_count": 78,
     "metadata": {},
     "output_type": "execute_result"
    }
   ],
   "source": [
    "ser3.apply(lambda x: x-0.75)"
   ]
  },
  {
   "cell_type": "code",
   "execution_count": 79,
   "metadata": {},
   "outputs": [
    {
     "data": {
      "text/plain": [
       "0    0.394547\n",
       "1    0.230526\n",
       "2    0.988302\n",
       "3    0.759609\n",
       "4    0.015620\n",
       "5    0.753137\n",
       "6    0.528928\n",
       "dtype: float64"
      ]
     },
     "execution_count": 79,
     "metadata": {},
     "output_type": "execute_result"
    }
   ],
   "source": [
    "ser3"
   ]
  },
  {
   "cell_type": "code",
   "execution_count": 80,
   "metadata": {},
   "outputs": [
    {
     "data": {
      "text/plain": [
       "0    7.0\n",
       "1    7.0\n",
       "Name: ph, dtype: float64"
      ]
     },
     "execution_count": 80,
     "metadata": {},
     "output_type": "execute_result"
    }
   ],
   "source": [
    "dat1 = pd.DataFrame({'pond': ['DeWitt','McLean'],\n",
    "                     'ph': [6.5, 6.8],\n",
    "                     'biod': [54, 67]})\n",
    "dat1['ph'].apply(lambda x: np.ceil(x))"
   ]
  },
  {
   "cell_type": "markdown",
   "metadata": {},
   "source": [
    "## Computing summary statistics\n",
    "\n",
    "Many methods are available to calculate various statistics for `Series` and `DataFrame` objects. We will list some of the most commonly used here and provide examples below. When these methods are used on `DataFrame`s, the calculation is done column-wise unless otherwise specified. If you want to use a method on numeric columns only, you can use the keyworded argument `numeric_only = True`.\n",
    "\n",
    "|Method|Details|\n",
    "|---|---|\n",
    "|`sum()`|Sum all values.|\n",
    "|`mean()`|Calculate the average value(s).|\n",
    "|`median()`|Calculate the median value(s) (also known as the 50th percentile(s)).|\n",
    "|`quantile()`|Compute the quantiles for the data.|\n",
    "|`count()`|Count all values. This is useful when `DataFrame` columns contain missing values.|\n",
    "|`std()`|Calculate the standard deviation.|\n",
    "|`var()`|Calculate the variance.|\n",
    "|`describe()`|Produce an output of the summary statistics which includes the count, mean, std, quantiles, min, and max.|\n",
    "|`min()`, `max()`|Compute the minimum or maximum value(s).|\n",
    "|`idxmin()`, `idxmax()`|Return the index corresponding to the minimum or maximum value.|\n",
    "|`skew()`|Compute the unbaised skew of the data.|\n",
    "|`kurt()`|Compute the unbiased kurtosis of the data.|"
   ]
  },
  {
   "cell_type": "code",
   "execution_count": 81,
   "metadata": {},
   "outputs": [
    {
     "data": {
      "text/html": [
       "<div>\n",
       "<style scoped>\n",
       "    .dataframe tbody tr th:only-of-type {\n",
       "        vertical-align: middle;\n",
       "    }\n",
       "\n",
       "    .dataframe tbody tr th {\n",
       "        vertical-align: top;\n",
       "    }\n",
       "\n",
       "    .dataframe thead th {\n",
       "        text-align: right;\n",
       "    }\n",
       "</style>\n",
       "<table border=\"1\" class=\"dataframe\">\n",
       "  <thead>\n",
       "    <tr style=\"text-align: right;\">\n",
       "      <th></th>\n",
       "      <th>pond</th>\n",
       "      <th>ph</th>\n",
       "      <th>biod</th>\n",
       "    </tr>\n",
       "  </thead>\n",
       "  <tbody>\n",
       "    <tr>\n",
       "      <td>0</td>\n",
       "      <td>DeWitt</td>\n",
       "      <td>6.5</td>\n",
       "      <td>54</td>\n",
       "    </tr>\n",
       "    <tr>\n",
       "      <td>1</td>\n",
       "      <td>McLean</td>\n",
       "      <td>6.8</td>\n",
       "      <td>67</td>\n",
       "    </tr>\n",
       "  </tbody>\n",
       "</table>\n",
       "</div>"
      ],
      "text/plain": [
       "     pond   ph  biod\n",
       "0  DeWitt  6.5    54\n",
       "1  McLean  6.8    67"
      ]
     },
     "execution_count": 81,
     "metadata": {},
     "output_type": "execute_result"
    }
   ],
   "source": [
    "dat1"
   ]
  },
  {
   "cell_type": "code",
   "execution_count": 92,
   "metadata": {},
   "outputs": [
    {
     "data": {
      "text/html": [
       "<div>\n",
       "<style scoped>\n",
       "    .dataframe tbody tr th:only-of-type {\n",
       "        vertical-align: middle;\n",
       "    }\n",
       "\n",
       "    .dataframe tbody tr th {\n",
       "        vertical-align: top;\n",
       "    }\n",
       "\n",
       "    .dataframe thead th {\n",
       "        text-align: right;\n",
       "    }\n",
       "</style>\n",
       "<table border=\"1\" class=\"dataframe\">\n",
       "  <thead>\n",
       "    <tr style=\"text-align: right;\">\n",
       "      <th></th>\n",
       "      <th>ph</th>\n",
       "      <th>biod</th>\n",
       "    </tr>\n",
       "  </thead>\n",
       "  <tbody>\n",
       "    <tr>\n",
       "      <td>count</td>\n",
       "      <td>2.000000</td>\n",
       "      <td>2.000000</td>\n",
       "    </tr>\n",
       "    <tr>\n",
       "      <td>mean</td>\n",
       "      <td>6.650000</td>\n",
       "      <td>60.500000</td>\n",
       "    </tr>\n",
       "    <tr>\n",
       "      <td>std</td>\n",
       "      <td>0.212132</td>\n",
       "      <td>9.192388</td>\n",
       "    </tr>\n",
       "    <tr>\n",
       "      <td>min</td>\n",
       "      <td>6.500000</td>\n",
       "      <td>54.000000</td>\n",
       "    </tr>\n",
       "    <tr>\n",
       "      <td>25%</td>\n",
       "      <td>6.575000</td>\n",
       "      <td>57.250000</td>\n",
       "    </tr>\n",
       "    <tr>\n",
       "      <td>50%</td>\n",
       "      <td>6.650000</td>\n",
       "      <td>60.500000</td>\n",
       "    </tr>\n",
       "    <tr>\n",
       "      <td>75%</td>\n",
       "      <td>6.725000</td>\n",
       "      <td>63.750000</td>\n",
       "    </tr>\n",
       "    <tr>\n",
       "      <td>max</td>\n",
       "      <td>6.800000</td>\n",
       "      <td>67.000000</td>\n",
       "    </tr>\n",
       "  </tbody>\n",
       "</table>\n",
       "</div>"
      ],
      "text/plain": [
       "             ph       biod\n",
       "count  2.000000   2.000000\n",
       "mean   6.650000  60.500000\n",
       "std    0.212132   9.192388\n",
       "min    6.500000  54.000000\n",
       "25%    6.575000  57.250000\n",
       "50%    6.650000  60.500000\n",
       "75%    6.725000  63.750000\n",
       "max    6.800000  67.000000"
      ]
     },
     "execution_count": 92,
     "metadata": {},
     "output_type": "execute_result"
    }
   ],
   "source": [
    "dat1.describe()"
   ]
  },
  {
   "cell_type": "code",
   "execution_count": 91,
   "metadata": {},
   "outputs": [
    {
     "data": {
      "text/plain": [
       "6.65"
      ]
     },
     "execution_count": 91,
     "metadata": {},
     "output_type": "execute_result"
    }
   ],
   "source": [
    "# To access a particular stat; in this case, the mean.\n",
    "\n",
    "stats = dat1.describe()\n",
    "stats['ph'].loc['mean']"
   ]
  },
  {
   "cell_type": "code",
   "execution_count": 83,
   "metadata": {},
   "outputs": [
    {
     "data": {
      "text/plain": [
       "ph       0.045\n",
       "biod    84.500\n",
       "dtype: float64"
      ]
     },
     "execution_count": 83,
     "metadata": {},
     "output_type": "execute_result"
    }
   ],
   "source": [
    "dat1.var()"
   ]
  },
  {
   "cell_type": "code",
   "execution_count": 84,
   "metadata": {},
   "outputs": [
    {
     "data": {
      "text/plain": [
       "0.3763560087196213"
      ]
     },
     "execution_count": 84,
     "metadata": {},
     "output_type": "execute_result"
    }
   ],
   "source": [
    "ser10 = pd.Series(np.array([1.2, 5.6, 1.11, 2.34, 4.101, 5.66, 0.671]))\n",
    "ser10.skew()"
   ]
  },
  {
   "cell_type": "code",
   "execution_count": 85,
   "metadata": {},
   "outputs": [
    {
     "data": {
      "text/plain": [
       "-2.058620536689417"
      ]
     },
     "execution_count": 85,
     "metadata": {},
     "output_type": "execute_result"
    }
   ],
   "source": [
    "ser10.kurt()"
   ]
  },
  {
   "cell_type": "markdown",
   "metadata": {},
   "source": [
    "The next few methods are for `DataFrame`s only.\n",
    "\n",
    "|Method|Details|\n",
    "|---|---|\n",
    "|`cov()`|Returns the pair-wise covariance matrix of the columns.|\n",
    "|`corr()`|Returns the pair-wise correlation of the columns.|\n",
    "|`corrwith(<object>)`|Returns the pairwise correlation of the `DataFrame` with either a `Series` or `DataFrame` specified by `<object>`.|"
   ]
  },
  {
   "cell_type": "code",
   "execution_count": 94,
   "metadata": {},
   "outputs": [
    {
     "data": {
      "text/html": [
       "<div>\n",
       "<style scoped>\n",
       "    .dataframe tbody tr th:only-of-type {\n",
       "        vertical-align: middle;\n",
       "    }\n",
       "\n",
       "    .dataframe tbody tr th {\n",
       "        vertical-align: top;\n",
       "    }\n",
       "\n",
       "    .dataframe thead th {\n",
       "        text-align: right;\n",
       "    }\n",
       "</style>\n",
       "<table border=\"1\" class=\"dataframe\">\n",
       "  <thead>\n",
       "    <tr style=\"text-align: right;\">\n",
       "      <th></th>\n",
       "      <th>col0</th>\n",
       "      <th>col1</th>\n",
       "      <th>col2</th>\n",
       "      <th>col3</th>\n",
       "      <th>col4</th>\n",
       "    </tr>\n",
       "  </thead>\n",
       "  <tbody>\n",
       "    <tr>\n",
       "      <td>col0</td>\n",
       "      <td>0.064786</td>\n",
       "      <td>-0.014570</td>\n",
       "      <td>0.025866</td>\n",
       "      <td>0.018971</td>\n",
       "      <td>-0.051671</td>\n",
       "    </tr>\n",
       "    <tr>\n",
       "      <td>col1</td>\n",
       "      <td>-0.014570</td>\n",
       "      <td>0.100862</td>\n",
       "      <td>-0.010842</td>\n",
       "      <td>0.065990</td>\n",
       "      <td>0.018109</td>\n",
       "    </tr>\n",
       "    <tr>\n",
       "      <td>col2</td>\n",
       "      <td>0.025866</td>\n",
       "      <td>-0.010842</td>\n",
       "      <td>0.025682</td>\n",
       "      <td>0.000163</td>\n",
       "      <td>-0.047429</td>\n",
       "    </tr>\n",
       "    <tr>\n",
       "      <td>col3</td>\n",
       "      <td>0.018971</td>\n",
       "      <td>0.065990</td>\n",
       "      <td>0.000163</td>\n",
       "      <td>0.059747</td>\n",
       "      <td>0.001902</td>\n",
       "    </tr>\n",
       "    <tr>\n",
       "      <td>col4</td>\n",
       "      <td>-0.051671</td>\n",
       "      <td>0.018109</td>\n",
       "      <td>-0.047429</td>\n",
       "      <td>0.001902</td>\n",
       "      <td>0.100317</td>\n",
       "    </tr>\n",
       "  </tbody>\n",
       "</table>\n",
       "</div>"
      ],
      "text/plain": [
       "          col0      col1      col2      col3      col4\n",
       "col0  0.064786 -0.014570  0.025866  0.018971 -0.051671\n",
       "col1 -0.014570  0.100862 -0.010842  0.065990  0.018109\n",
       "col2  0.025866 -0.010842  0.025682  0.000163 -0.047429\n",
       "col3  0.018971  0.065990  0.000163  0.059747  0.001902\n",
       "col4 -0.051671  0.018109 -0.047429  0.001902  0.100317"
      ]
     },
     "execution_count": 94,
     "metadata": {},
     "output_type": "execute_result"
    }
   ],
   "source": [
    "dat2 = pd.DataFrame(np.random.rand(25).reshape((5,5)), columns = ['col0','col1','col2','col3','col4'])\n",
    "ser2 = pd.Series(np.random.rand(5))\n",
    "dat2.cov()"
   ]
  },
  {
   "cell_type": "code",
   "execution_count": 95,
   "metadata": {},
   "outputs": [
    {
     "data": {
      "text/html": [
       "<div>\n",
       "<style scoped>\n",
       "    .dataframe tbody tr th:only-of-type {\n",
       "        vertical-align: middle;\n",
       "    }\n",
       "\n",
       "    .dataframe tbody tr th {\n",
       "        vertical-align: top;\n",
       "    }\n",
       "\n",
       "    .dataframe thead th {\n",
       "        text-align: right;\n",
       "    }\n",
       "</style>\n",
       "<table border=\"1\" class=\"dataframe\">\n",
       "  <thead>\n",
       "    <tr style=\"text-align: right;\">\n",
       "      <th></th>\n",
       "      <th>col0</th>\n",
       "      <th>col1</th>\n",
       "      <th>col2</th>\n",
       "      <th>col3</th>\n",
       "      <th>col4</th>\n",
       "    </tr>\n",
       "  </thead>\n",
       "  <tbody>\n",
       "    <tr>\n",
       "      <td>col0</td>\n",
       "      <td>1.000000</td>\n",
       "      <td>-0.180247</td>\n",
       "      <td>0.634121</td>\n",
       "      <td>0.304929</td>\n",
       "      <td>-0.640952</td>\n",
       "    </tr>\n",
       "    <tr>\n",
       "      <td>col1</td>\n",
       "      <td>-0.180247</td>\n",
       "      <td>1.000000</td>\n",
       "      <td>-0.213027</td>\n",
       "      <td>0.850077</td>\n",
       "      <td>0.180033</td>\n",
       "    </tr>\n",
       "    <tr>\n",
       "      <td>col2</td>\n",
       "      <td>0.634121</td>\n",
       "      <td>-0.213027</td>\n",
       "      <td>1.000000</td>\n",
       "      <td>0.004166</td>\n",
       "      <td>-0.934414</td>\n",
       "    </tr>\n",
       "    <tr>\n",
       "      <td>col3</td>\n",
       "      <td>0.304929</td>\n",
       "      <td>0.850077</td>\n",
       "      <td>0.004166</td>\n",
       "      <td>1.000000</td>\n",
       "      <td>0.024565</td>\n",
       "    </tr>\n",
       "    <tr>\n",
       "      <td>col4</td>\n",
       "      <td>-0.640952</td>\n",
       "      <td>0.180033</td>\n",
       "      <td>-0.934414</td>\n",
       "      <td>0.024565</td>\n",
       "      <td>1.000000</td>\n",
       "    </tr>\n",
       "  </tbody>\n",
       "</table>\n",
       "</div>"
      ],
      "text/plain": [
       "          col0      col1      col2      col3      col4\n",
       "col0  1.000000 -0.180247  0.634121  0.304929 -0.640952\n",
       "col1 -0.180247  1.000000 -0.213027  0.850077  0.180033\n",
       "col2  0.634121 -0.213027  1.000000  0.004166 -0.934414\n",
       "col3  0.304929  0.850077  0.004166  1.000000  0.024565\n",
       "col4 -0.640952  0.180033 -0.934414  0.024565  1.000000"
      ]
     },
     "execution_count": 95,
     "metadata": {},
     "output_type": "execute_result"
    }
   ],
   "source": [
    "dat2.corr()"
   ]
  },
  {
   "cell_type": "code",
   "execution_count": 96,
   "metadata": {},
   "outputs": [
    {
     "data": {
      "text/plain": [
       "col0    0.730430\n",
       "col1   -0.166275\n",
       "col2   -0.043962\n",
       "col3    0.243510\n",
       "col4   -0.068900\n",
       "dtype: float64"
      ]
     },
     "execution_count": 96,
     "metadata": {},
     "output_type": "execute_result"
    }
   ],
   "source": [
    "dat2.corrwith(ser2)"
   ]
  },
  {
   "cell_type": "markdown",
   "metadata": {},
   "source": [
    "## Hierarchical indexing\n",
    "\n",
    "It is also possible to store data with additional categorical *levels* by passing in a dictionary of dictionaries. For example, if we had multiple data points from 4 individual sources, we could express this as a `Series` with its index specified by a list of lists or arrays."
   ]
  },
  {
   "cell_type": "code",
   "execution_count": 97,
   "metadata": {},
   "outputs": [
    {
     "data": {
      "text/plain": [
       "0  5    0.540078\n",
       "   5    0.296653\n",
       "   6    0.869285\n",
       "1  5    0.356492\n",
       "   6    0.682221\n",
       "   7    0.272009\n",
       "2  7    0.392580\n",
       "   7    0.116501\n",
       "3  5    0.101806\n",
       "   6    0.321968\n",
       "   7    0.638971\n",
       "dtype: float64"
      ]
     },
     "execution_count": 97,
     "metadata": {},
     "output_type": "execute_result"
    }
   ],
   "source": [
    "data = pd.Series(np.random.rand(11),\n",
    "                 index = [[0,0,0,1,1,1,2,2,3,3,3],\n",
    "                          [5,5,6,5,6,7,7,7,5,6,7]])\n",
    "data       "
   ]
  },
  {
   "cell_type": "markdown",
   "metadata": {},
   "source": [
    "From this `Series`, we can access a single data source by using its index as a key."
   ]
  },
  {
   "cell_type": "code",
   "execution_count": 98,
   "metadata": {},
   "outputs": [
    {
     "data": {
      "text/plain": [
       "5    0.540078\n",
       "5    0.296653\n",
       "6    0.869285\n",
       "dtype: float64"
      ]
     },
     "execution_count": 98,
     "metadata": {},
     "output_type": "execute_result"
    }
   ],
   "source": [
    "data[0]"
   ]
  },
  {
   "cell_type": "code",
   "execution_count": 99,
   "metadata": {},
   "outputs": [
    {
     "data": {
      "text/plain": [
       "(0, 5)    0.540078\n",
       "(0, 5)    0.296653\n",
       "dtype: float64"
      ]
     },
     "execution_count": 99,
     "metadata": {},
     "output_type": "execute_result"
    }
   ],
   "source": [
    "data[0,5]"
   ]
  },
  {
   "cell_type": "markdown",
   "metadata": {},
   "source": [
    "We can make `DataFrame`s with different levels on *both* axes by passing lists of lists to the `index` and `columns` keyworded arguments."
   ]
  },
  {
   "cell_type": "code",
   "execution_count": 100,
   "metadata": {},
   "outputs": [
    {
     "data": {
      "text/html": [
       "<div>\n",
       "<style scoped>\n",
       "    .dataframe tbody tr th:only-of-type {\n",
       "        vertical-align: middle;\n",
       "    }\n",
       "\n",
       "    .dataframe tbody tr th {\n",
       "        vertical-align: top;\n",
       "    }\n",
       "\n",
       "    .dataframe thead tr th {\n",
       "        text-align: left;\n",
       "    }\n",
       "</style>\n",
       "<table border=\"1\" class=\"dataframe\">\n",
       "  <thead>\n",
       "    <tr>\n",
       "      <th></th>\n",
       "      <th></th>\n",
       "      <th colspan=\"2\" halign=\"left\">A</th>\n",
       "      <th>B</th>\n",
       "    </tr>\n",
       "    <tr>\n",
       "      <th></th>\n",
       "      <th></th>\n",
       "      <th>x</th>\n",
       "      <th>y</th>\n",
       "      <th>x</th>\n",
       "    </tr>\n",
       "  </thead>\n",
       "  <tbody>\n",
       "    <tr>\n",
       "      <td rowspan=\"2\" valign=\"top\">a</td>\n",
       "      <td>5</td>\n",
       "      <td>0.777587</td>\n",
       "      <td>0.883452</td>\n",
       "      <td>0.033223</td>\n",
       "    </tr>\n",
       "    <tr>\n",
       "      <td>6</td>\n",
       "      <td>0.478672</td>\n",
       "      <td>0.368124</td>\n",
       "      <td>0.026701</td>\n",
       "    </tr>\n",
       "    <tr>\n",
       "      <td rowspan=\"2\" valign=\"top\">b</td>\n",
       "      <td>6</td>\n",
       "      <td>0.313537</td>\n",
       "      <td>0.727633</td>\n",
       "      <td>0.455368</td>\n",
       "    </tr>\n",
       "    <tr>\n",
       "      <td>6</td>\n",
       "      <td>0.973679</td>\n",
       "      <td>0.833384</td>\n",
       "      <td>0.837494</td>\n",
       "    </tr>\n",
       "  </tbody>\n",
       "</table>\n",
       "</div>"
      ],
      "text/plain": [
       "            A                   B\n",
       "            x         y         x\n",
       "a 5  0.777587  0.883452  0.033223\n",
       "  6  0.478672  0.368124  0.026701\n",
       "b 6  0.313537  0.727633  0.455368\n",
       "  6  0.973679  0.833384  0.837494"
      ]
     },
     "execution_count": 100,
     "metadata": {},
     "output_type": "execute_result"
    }
   ],
   "source": [
    "data = pd.DataFrame(np.random.rand(12).reshape((4,3)),\n",
    "                    index = [['a','a','b','b'], [5,6,6,6]],\n",
    "                    columns = [['A','A','B'],['x','y','x']])\n",
    "data"
   ]
  },
  {
   "cell_type": "code",
   "execution_count": 104,
   "metadata": {},
   "outputs": [
    {
     "data": {
      "text/html": [
       "<div>\n",
       "<style scoped>\n",
       "    .dataframe tbody tr th:only-of-type {\n",
       "        vertical-align: middle;\n",
       "    }\n",
       "\n",
       "    .dataframe tbody tr th {\n",
       "        vertical-align: top;\n",
       "    }\n",
       "\n",
       "    .dataframe thead th {\n",
       "        text-align: right;\n",
       "    }\n",
       "</style>\n",
       "<table border=\"1\" class=\"dataframe\">\n",
       "  <thead>\n",
       "    <tr style=\"text-align: right;\">\n",
       "      <th></th>\n",
       "      <th></th>\n",
       "      <th>x</th>\n",
       "      <th>y</th>\n",
       "    </tr>\n",
       "  </thead>\n",
       "  <tbody>\n",
       "    <tr>\n",
       "      <td rowspan=\"2\" valign=\"top\">a</td>\n",
       "      <td>5</td>\n",
       "      <td>0.777587</td>\n",
       "      <td>0.883452</td>\n",
       "    </tr>\n",
       "    <tr>\n",
       "      <td>6</td>\n",
       "      <td>0.478672</td>\n",
       "      <td>0.368124</td>\n",
       "    </tr>\n",
       "    <tr>\n",
       "      <td rowspan=\"2\" valign=\"top\">b</td>\n",
       "      <td>6</td>\n",
       "      <td>0.313537</td>\n",
       "      <td>0.727633</td>\n",
       "    </tr>\n",
       "    <tr>\n",
       "      <td>6</td>\n",
       "      <td>0.973679</td>\n",
       "      <td>0.833384</td>\n",
       "    </tr>\n",
       "  </tbody>\n",
       "</table>\n",
       "</div>"
      ],
      "text/plain": [
       "            x         y\n",
       "a 5  0.777587  0.883452\n",
       "  6  0.478672  0.368124\n",
       "b 6  0.313537  0.727633\n",
       "  6  0.973679  0.833384"
      ]
     },
     "execution_count": 104,
     "metadata": {},
     "output_type": "execute_result"
    }
   ],
   "source": [
    "data['A']"
   ]
  },
  {
   "cell_type": "code",
   "execution_count": 109,
   "metadata": {},
   "outputs": [
    {
     "data": {
      "text/plain": [
       "a  5    0.883452\n",
       "   6    0.368124\n",
       "b  6    0.727633\n",
       "   6    0.833384\n",
       "Name: (A, y), dtype: float64"
      ]
     },
     "execution_count": 109,
     "metadata": {},
     "output_type": "execute_result"
    }
   ],
   "source": [
    "data['A','y']"
   ]
  },
  {
   "cell_type": "code",
   "execution_count": 110,
   "metadata": {},
   "outputs": [
    {
     "data": {
      "text/plain": [
       "5    0.883452\n",
       "6    0.368124\n",
       "Name: (A, y), dtype: float64"
      ]
     },
     "execution_count": 110,
     "metadata": {},
     "output_type": "execute_result"
    }
   ],
   "source": [
    "data['A','y'].loc['a']"
   ]
  },
  {
   "cell_type": "code",
   "execution_count": 111,
   "metadata": {},
   "outputs": [
    {
     "data": {
      "text/plain": [
       "0.8834520435209073"
      ]
     },
     "execution_count": 111,
     "metadata": {},
     "output_type": "execute_result"
    }
   ],
   "source": [
    "data['A','y'].loc['a'].loc[5]"
   ]
  },
  {
   "cell_type": "code",
   "execution_count": 102,
   "metadata": {},
   "outputs": [
    {
     "data": {
      "text/html": [
       "<div>\n",
       "<style scoped>\n",
       "    .dataframe tbody tr th:only-of-type {\n",
       "        vertical-align: middle;\n",
       "    }\n",
       "\n",
       "    .dataframe tbody tr th {\n",
       "        vertical-align: top;\n",
       "    }\n",
       "\n",
       "    .dataframe thead th {\n",
       "        text-align: right;\n",
       "    }\n",
       "</style>\n",
       "<table border=\"1\" class=\"dataframe\">\n",
       "  <thead>\n",
       "    <tr style=\"text-align: right;\">\n",
       "      <th></th>\n",
       "      <th></th>\n",
       "      <th>x</th>\n",
       "    </tr>\n",
       "  </thead>\n",
       "  <tbody>\n",
       "    <tr>\n",
       "      <td rowspan=\"2\" valign=\"top\">a</td>\n",
       "      <td>5</td>\n",
       "      <td>0.033223</td>\n",
       "    </tr>\n",
       "    <tr>\n",
       "      <td>6</td>\n",
       "      <td>0.026701</td>\n",
       "    </tr>\n",
       "    <tr>\n",
       "      <td rowspan=\"2\" valign=\"top\">b</td>\n",
       "      <td>6</td>\n",
       "      <td>0.455368</td>\n",
       "    </tr>\n",
       "    <tr>\n",
       "      <td>6</td>\n",
       "      <td>0.837494</td>\n",
       "    </tr>\n",
       "  </tbody>\n",
       "</table>\n",
       "</div>"
      ],
      "text/plain": [
       "            x\n",
       "a 5  0.033223\n",
       "  6  0.026701\n",
       "b 6  0.455368\n",
       "  6  0.837494"
      ]
     },
     "execution_count": 102,
     "metadata": {},
     "output_type": "execute_result"
    }
   ],
   "source": [
    "data['B']"
   ]
  },
  {
   "cell_type": "markdown",
   "metadata": {},
   "source": [
    "## Sorting\n",
    "\n",
    "The three main object methods used for sorting `Series` and `DataFrame`s are `sort_index()`, `sort_values()`, and `rank()`. All three methods return a copy of the sorted object. To change the actual object, use the `inplace = True` keyworded argument. "
   ]
  },
  {
   "cell_type": "code",
   "execution_count": 112,
   "metadata": {},
   "outputs": [
    {
     "data": {
      "text/plain": [
       "0    0.106441\n",
       "1    0.100691\n",
       "2    0.185566\n",
       "3    0.150508\n",
       "4    0.620327\n",
       "5    0.385640\n",
       "6    0.097992\n",
       "dtype: float64"
      ]
     },
     "execution_count": 112,
     "metadata": {},
     "output_type": "execute_result"
    }
   ],
   "source": [
    "ser = pd.Series(np.random.rand(7))\n",
    "ser"
   ]
  },
  {
   "cell_type": "code",
   "execution_count": 113,
   "metadata": {},
   "outputs": [
    {
     "data": {
      "text/plain": [
       "6    0.097992\n",
       "5    0.385640\n",
       "4    0.620327\n",
       "3    0.150508\n",
       "2    0.185566\n",
       "1    0.100691\n",
       "0    0.106441\n",
       "dtype: float64"
      ]
     },
     "execution_count": 113,
     "metadata": {},
     "output_type": "execute_result"
    }
   ],
   "source": [
    "ser.sort_index(ascending = False)"
   ]
  },
  {
   "cell_type": "markdown",
   "metadata": {},
   "source": [
    "The `sort_values()` method is used to sort an object by a specified column of values. For `DataFrame` objects, we can specify the `by` keyworded argument to select the column(s) by which we want to sort."
   ]
  },
  {
   "cell_type": "code",
   "execution_count": 114,
   "metadata": {},
   "outputs": [
    {
     "data": {
      "text/html": [
       "<div>\n",
       "<style scoped>\n",
       "    .dataframe tbody tr th:only-of-type {\n",
       "        vertical-align: middle;\n",
       "    }\n",
       "\n",
       "    .dataframe tbody tr th {\n",
       "        vertical-align: top;\n",
       "    }\n",
       "\n",
       "    .dataframe thead th {\n",
       "        text-align: right;\n",
       "    }\n",
       "</style>\n",
       "<table border=\"1\" class=\"dataframe\">\n",
       "  <thead>\n",
       "    <tr style=\"text-align: right;\">\n",
       "      <th></th>\n",
       "      <th>date</th>\n",
       "      <th>humi</th>\n",
       "      <th>temp</th>\n",
       "    </tr>\n",
       "  </thead>\n",
       "  <tbody>\n",
       "    <tr>\n",
       "      <td>2</td>\n",
       "      <td>1-20-1999</td>\n",
       "      <td>0.649933</td>\n",
       "      <td>17</td>\n",
       "    </tr>\n",
       "    <tr>\n",
       "      <td>3</td>\n",
       "      <td>1-21-1999</td>\n",
       "      <td>0.908840</td>\n",
       "      <td>21</td>\n",
       "    </tr>\n",
       "    <tr>\n",
       "      <td>1</td>\n",
       "      <td>1-19-1999</td>\n",
       "      <td>0.970229</td>\n",
       "      <td>25</td>\n",
       "    </tr>\n",
       "    <tr>\n",
       "      <td>0</td>\n",
       "      <td>1-23-1999</td>\n",
       "      <td>0.698075</td>\n",
       "      <td>27</td>\n",
       "    </tr>\n",
       "    <tr>\n",
       "      <td>4</td>\n",
       "      <td>1-22-1999</td>\n",
       "      <td>0.456091</td>\n",
       "      <td>29</td>\n",
       "    </tr>\n",
       "  </tbody>\n",
       "</table>\n",
       "</div>"
      ],
      "text/plain": [
       "        date      humi  temp\n",
       "2  1-20-1999  0.649933    17\n",
       "3  1-21-1999  0.908840    21\n",
       "1  1-19-1999  0.970229    25\n",
       "0  1-23-1999  0.698075    27\n",
       "4  1-22-1999  0.456091    29"
      ]
     },
     "execution_count": 114,
     "metadata": {},
     "output_type": "execute_result"
    }
   ],
   "source": [
    "humidity = pd.DataFrame({'date': ['1-23-1999','1-19-1999','1-20-1999','1-21-1999','1-22-1999'], \n",
    "                         'humi': np.random.rand(5), \n",
    "                         'temp': np.random.randint(14, 33, 5)})\n",
    "humidity.sort_values(by = 'temp')"
   ]
  },
  {
   "cell_type": "code",
   "execution_count": 115,
   "metadata": {},
   "outputs": [
    {
     "data": {
      "text/html": [
       "<div>\n",
       "<style scoped>\n",
       "    .dataframe tbody tr th:only-of-type {\n",
       "        vertical-align: middle;\n",
       "    }\n",
       "\n",
       "    .dataframe tbody tr th {\n",
       "        vertical-align: top;\n",
       "    }\n",
       "\n",
       "    .dataframe thead th {\n",
       "        text-align: right;\n",
       "    }\n",
       "</style>\n",
       "<table border=\"1\" class=\"dataframe\">\n",
       "  <thead>\n",
       "    <tr style=\"text-align: right;\">\n",
       "      <th></th>\n",
       "      <th>date</th>\n",
       "      <th>humi</th>\n",
       "      <th>temp</th>\n",
       "    </tr>\n",
       "  </thead>\n",
       "  <tbody>\n",
       "    <tr>\n",
       "      <td>1</td>\n",
       "      <td>1-19-1999</td>\n",
       "      <td>0.970229</td>\n",
       "      <td>25</td>\n",
       "    </tr>\n",
       "    <tr>\n",
       "      <td>2</td>\n",
       "      <td>1-20-1999</td>\n",
       "      <td>0.649933</td>\n",
       "      <td>17</td>\n",
       "    </tr>\n",
       "    <tr>\n",
       "      <td>3</td>\n",
       "      <td>1-21-1999</td>\n",
       "      <td>0.908840</td>\n",
       "      <td>21</td>\n",
       "    </tr>\n",
       "    <tr>\n",
       "      <td>4</td>\n",
       "      <td>1-22-1999</td>\n",
       "      <td>0.456091</td>\n",
       "      <td>29</td>\n",
       "    </tr>\n",
       "    <tr>\n",
       "      <td>0</td>\n",
       "      <td>1-23-1999</td>\n",
       "      <td>0.698075</td>\n",
       "      <td>27</td>\n",
       "    </tr>\n",
       "  </tbody>\n",
       "</table>\n",
       "</div>"
      ],
      "text/plain": [
       "        date      humi  temp\n",
       "1  1-19-1999  0.970229    25\n",
       "2  1-20-1999  0.649933    17\n",
       "3  1-21-1999  0.908840    21\n",
       "4  1-22-1999  0.456091    29\n",
       "0  1-23-1999  0.698075    27"
      ]
     },
     "execution_count": 115,
     "metadata": {},
     "output_type": "execute_result"
    }
   ],
   "source": [
    "humidity.sort_values(by = 'date')"
   ]
  },
  {
   "cell_type": "code",
   "execution_count": 116,
   "metadata": {},
   "outputs": [
    {
     "data": {
      "text/html": [
       "<div>\n",
       "<style scoped>\n",
       "    .dataframe tbody tr th:only-of-type {\n",
       "        vertical-align: middle;\n",
       "    }\n",
       "\n",
       "    .dataframe tbody tr th {\n",
       "        vertical-align: top;\n",
       "    }\n",
       "\n",
       "    .dataframe thead th {\n",
       "        text-align: right;\n",
       "    }\n",
       "</style>\n",
       "<table border=\"1\" class=\"dataframe\">\n",
       "  <thead>\n",
       "    <tr style=\"text-align: right;\">\n",
       "      <th></th>\n",
       "      <th>date</th>\n",
       "      <th>humi</th>\n",
       "      <th>temp</th>\n",
       "    </tr>\n",
       "  </thead>\n",
       "  <tbody>\n",
       "    <tr>\n",
       "      <td>1</td>\n",
       "      <td>1-19-1999</td>\n",
       "      <td>0.970229</td>\n",
       "      <td>25</td>\n",
       "    </tr>\n",
       "    <tr>\n",
       "      <td>2</td>\n",
       "      <td>1-20-1999</td>\n",
       "      <td>0.649933</td>\n",
       "      <td>17</td>\n",
       "    </tr>\n",
       "    <tr>\n",
       "      <td>3</td>\n",
       "      <td>1-21-1999</td>\n",
       "      <td>0.908840</td>\n",
       "      <td>21</td>\n",
       "    </tr>\n",
       "    <tr>\n",
       "      <td>4</td>\n",
       "      <td>1-22-1999</td>\n",
       "      <td>0.456091</td>\n",
       "      <td>29</td>\n",
       "    </tr>\n",
       "    <tr>\n",
       "      <td>0</td>\n",
       "      <td>1-23-1999</td>\n",
       "      <td>0.698075</td>\n",
       "      <td>27</td>\n",
       "    </tr>\n",
       "  </tbody>\n",
       "</table>\n",
       "</div>"
      ],
      "text/plain": [
       "        date      humi  temp\n",
       "1  1-19-1999  0.970229    25\n",
       "2  1-20-1999  0.649933    17\n",
       "3  1-21-1999  0.908840    21\n",
       "4  1-22-1999  0.456091    29\n",
       "0  1-23-1999  0.698075    27"
      ]
     },
     "execution_count": 116,
     "metadata": {},
     "output_type": "execute_result"
    }
   ],
   "source": [
    "humidity.sort_values(by = ['date','humi'])"
   ]
  },
  {
   "cell_type": "markdown",
   "metadata": {},
   "source": [
    "Note that sorting by two columns will only produce a difference if there are duplicate values in at least one column."
   ]
  },
  {
   "cell_type": "code",
   "execution_count": 117,
   "metadata": {},
   "outputs": [
    {
     "data": {
      "text/html": [
       "<div>\n",
       "<style scoped>\n",
       "    .dataframe tbody tr th:only-of-type {\n",
       "        vertical-align: middle;\n",
       "    }\n",
       "\n",
       "    .dataframe tbody tr th {\n",
       "        vertical-align: top;\n",
       "    }\n",
       "\n",
       "    .dataframe thead th {\n",
       "        text-align: right;\n",
       "    }\n",
       "</style>\n",
       "<table border=\"1\" class=\"dataframe\">\n",
       "  <thead>\n",
       "    <tr style=\"text-align: right;\">\n",
       "      <th></th>\n",
       "      <th>date</th>\n",
       "      <th>humi</th>\n",
       "      <th>temp</th>\n",
       "    </tr>\n",
       "  </thead>\n",
       "  <tbody>\n",
       "    <tr>\n",
       "      <td>0</td>\n",
       "      <td>1-23-1999</td>\n",
       "      <td>0.698075</td>\n",
       "      <td>27</td>\n",
       "    </tr>\n",
       "    <tr>\n",
       "      <td>1</td>\n",
       "      <td>1-19-1999</td>\n",
       "      <td>0.970229</td>\n",
       "      <td>25</td>\n",
       "    </tr>\n",
       "    <tr>\n",
       "      <td>2</td>\n",
       "      <td>1-20-1999</td>\n",
       "      <td>0.649933</td>\n",
       "      <td>17</td>\n",
       "    </tr>\n",
       "    <tr>\n",
       "      <td>3</td>\n",
       "      <td>1-21-1999</td>\n",
       "      <td>0.908840</td>\n",
       "      <td>21</td>\n",
       "    </tr>\n",
       "    <tr>\n",
       "      <td>4</td>\n",
       "      <td>1-22-1999</td>\n",
       "      <td>0.456091</td>\n",
       "      <td>29</td>\n",
       "    </tr>\n",
       "    <tr>\n",
       "      <td>5</td>\n",
       "      <td>1-19-1999</td>\n",
       "      <td>0.453245</td>\n",
       "      <td>15</td>\n",
       "    </tr>\n",
       "  </tbody>\n",
       "</table>\n",
       "</div>"
      ],
      "text/plain": [
       "        date      humi  temp\n",
       "0  1-23-1999  0.698075    27\n",
       "1  1-19-1999  0.970229    25\n",
       "2  1-20-1999  0.649933    17\n",
       "3  1-21-1999  0.908840    21\n",
       "4  1-22-1999  0.456091    29\n",
       "5  1-19-1999  0.453245    15"
      ]
     },
     "execution_count": 117,
     "metadata": {},
     "output_type": "execute_result"
    }
   ],
   "source": [
    "humidity.loc[5] = ['1-19-1999', np.random.rand(), np.random.randint(14,33)]\n",
    "humidity"
   ]
  },
  {
   "cell_type": "code",
   "execution_count": 118,
   "metadata": {},
   "outputs": [
    {
     "data": {
      "text/html": [
       "<div>\n",
       "<style scoped>\n",
       "    .dataframe tbody tr th:only-of-type {\n",
       "        vertical-align: middle;\n",
       "    }\n",
       "\n",
       "    .dataframe tbody tr th {\n",
       "        vertical-align: top;\n",
       "    }\n",
       "\n",
       "    .dataframe thead th {\n",
       "        text-align: right;\n",
       "    }\n",
       "</style>\n",
       "<table border=\"1\" class=\"dataframe\">\n",
       "  <thead>\n",
       "    <tr style=\"text-align: right;\">\n",
       "      <th></th>\n",
       "      <th>date</th>\n",
       "      <th>humi</th>\n",
       "      <th>temp</th>\n",
       "    </tr>\n",
       "  </thead>\n",
       "  <tbody>\n",
       "    <tr>\n",
       "      <td>5</td>\n",
       "      <td>1-19-1999</td>\n",
       "      <td>0.453245</td>\n",
       "      <td>15</td>\n",
       "    </tr>\n",
       "    <tr>\n",
       "      <td>1</td>\n",
       "      <td>1-19-1999</td>\n",
       "      <td>0.970229</td>\n",
       "      <td>25</td>\n",
       "    </tr>\n",
       "    <tr>\n",
       "      <td>2</td>\n",
       "      <td>1-20-1999</td>\n",
       "      <td>0.649933</td>\n",
       "      <td>17</td>\n",
       "    </tr>\n",
       "    <tr>\n",
       "      <td>3</td>\n",
       "      <td>1-21-1999</td>\n",
       "      <td>0.908840</td>\n",
       "      <td>21</td>\n",
       "    </tr>\n",
       "    <tr>\n",
       "      <td>4</td>\n",
       "      <td>1-22-1999</td>\n",
       "      <td>0.456091</td>\n",
       "      <td>29</td>\n",
       "    </tr>\n",
       "    <tr>\n",
       "      <td>0</td>\n",
       "      <td>1-23-1999</td>\n",
       "      <td>0.698075</td>\n",
       "      <td>27</td>\n",
       "    </tr>\n",
       "  </tbody>\n",
       "</table>\n",
       "</div>"
      ],
      "text/plain": [
       "        date      humi  temp\n",
       "5  1-19-1999  0.453245    15\n",
       "1  1-19-1999  0.970229    25\n",
       "2  1-20-1999  0.649933    17\n",
       "3  1-21-1999  0.908840    21\n",
       "4  1-22-1999  0.456091    29\n",
       "0  1-23-1999  0.698075    27"
      ]
     },
     "execution_count": 118,
     "metadata": {},
     "output_type": "execute_result"
    }
   ],
   "source": [
    "humidity.sort_values(by = ['date','humi'])"
   ]
  },
  {
   "cell_type": "markdown",
   "metadata": {},
   "source": [
    "Finally, the `rank()` method displays the ranked values in each column. The optional keyworded argument `pct = True` displays the ranked values as percentiles. As with the other methods above, we can also use the keyworded arguments `axis` for ranking by row/column and `ascending` for ascending/descending order."
   ]
  },
  {
   "cell_type": "code",
   "execution_count": 119,
   "metadata": {},
   "outputs": [
    {
     "data": {
      "text/html": [
       "<div>\n",
       "<style scoped>\n",
       "    .dataframe tbody tr th:only-of-type {\n",
       "        vertical-align: middle;\n",
       "    }\n",
       "\n",
       "    .dataframe tbody tr th {\n",
       "        vertical-align: top;\n",
       "    }\n",
       "\n",
       "    .dataframe thead th {\n",
       "        text-align: right;\n",
       "    }\n",
       "</style>\n",
       "<table border=\"1\" class=\"dataframe\">\n",
       "  <thead>\n",
       "    <tr style=\"text-align: right;\">\n",
       "      <th></th>\n",
       "      <th>date</th>\n",
       "      <th>humi</th>\n",
       "      <th>temp</th>\n",
       "    </tr>\n",
       "  </thead>\n",
       "  <tbody>\n",
       "    <tr>\n",
       "      <td>0</td>\n",
       "      <td>6.0</td>\n",
       "      <td>4.0</td>\n",
       "      <td>5.0</td>\n",
       "    </tr>\n",
       "    <tr>\n",
       "      <td>1</td>\n",
       "      <td>1.5</td>\n",
       "      <td>6.0</td>\n",
       "      <td>4.0</td>\n",
       "    </tr>\n",
       "    <tr>\n",
       "      <td>2</td>\n",
       "      <td>3.0</td>\n",
       "      <td>3.0</td>\n",
       "      <td>2.0</td>\n",
       "    </tr>\n",
       "    <tr>\n",
       "      <td>3</td>\n",
       "      <td>4.0</td>\n",
       "      <td>5.0</td>\n",
       "      <td>3.0</td>\n",
       "    </tr>\n",
       "    <tr>\n",
       "      <td>4</td>\n",
       "      <td>5.0</td>\n",
       "      <td>2.0</td>\n",
       "      <td>6.0</td>\n",
       "    </tr>\n",
       "    <tr>\n",
       "      <td>5</td>\n",
       "      <td>1.5</td>\n",
       "      <td>1.0</td>\n",
       "      <td>1.0</td>\n",
       "    </tr>\n",
       "  </tbody>\n",
       "</table>\n",
       "</div>"
      ],
      "text/plain": [
       "   date  humi  temp\n",
       "0   6.0   4.0   5.0\n",
       "1   1.5   6.0   4.0\n",
       "2   3.0   3.0   2.0\n",
       "3   4.0   5.0   3.0\n",
       "4   5.0   2.0   6.0\n",
       "5   1.5   1.0   1.0"
      ]
     },
     "execution_count": 119,
     "metadata": {},
     "output_type": "execute_result"
    }
   ],
   "source": [
    "humidity.rank()"
   ]
  },
  {
   "cell_type": "code",
   "execution_count": 120,
   "metadata": {},
   "outputs": [
    {
     "data": {
      "text/html": [
       "<div>\n",
       "<style scoped>\n",
       "    .dataframe tbody tr th:only-of-type {\n",
       "        vertical-align: middle;\n",
       "    }\n",
       "\n",
       "    .dataframe tbody tr th {\n",
       "        vertical-align: top;\n",
       "    }\n",
       "\n",
       "    .dataframe thead th {\n",
       "        text-align: right;\n",
       "    }\n",
       "</style>\n",
       "<table border=\"1\" class=\"dataframe\">\n",
       "  <thead>\n",
       "    <tr style=\"text-align: right;\">\n",
       "      <th></th>\n",
       "      <th>date</th>\n",
       "      <th>humi</th>\n",
       "      <th>temp</th>\n",
       "    </tr>\n",
       "  </thead>\n",
       "  <tbody>\n",
       "    <tr>\n",
       "      <td>0</td>\n",
       "      <td>1.000000</td>\n",
       "      <td>0.666667</td>\n",
       "      <td>0.833333</td>\n",
       "    </tr>\n",
       "    <tr>\n",
       "      <td>1</td>\n",
       "      <td>0.250000</td>\n",
       "      <td>1.000000</td>\n",
       "      <td>0.666667</td>\n",
       "    </tr>\n",
       "    <tr>\n",
       "      <td>2</td>\n",
       "      <td>0.500000</td>\n",
       "      <td>0.500000</td>\n",
       "      <td>0.333333</td>\n",
       "    </tr>\n",
       "    <tr>\n",
       "      <td>3</td>\n",
       "      <td>0.666667</td>\n",
       "      <td>0.833333</td>\n",
       "      <td>0.500000</td>\n",
       "    </tr>\n",
       "    <tr>\n",
       "      <td>4</td>\n",
       "      <td>0.833333</td>\n",
       "      <td>0.333333</td>\n",
       "      <td>1.000000</td>\n",
       "    </tr>\n",
       "    <tr>\n",
       "      <td>5</td>\n",
       "      <td>0.250000</td>\n",
       "      <td>0.166667</td>\n",
       "      <td>0.166667</td>\n",
       "    </tr>\n",
       "  </tbody>\n",
       "</table>\n",
       "</div>"
      ],
      "text/plain": [
       "       date      humi      temp\n",
       "0  1.000000  0.666667  0.833333\n",
       "1  0.250000  1.000000  0.666667\n",
       "2  0.500000  0.500000  0.333333\n",
       "3  0.666667  0.833333  0.500000\n",
       "4  0.833333  0.333333  1.000000\n",
       "5  0.250000  0.166667  0.166667"
      ]
     },
     "execution_count": 120,
     "metadata": {},
     "output_type": "execute_result"
    }
   ],
   "source": [
    "humidity.rank(pct = True)"
   ]
  },
  {
   "cell_type": "markdown",
   "metadata": {},
   "source": [
    "# Summary\n",
    "\n",
    "* pandas is one of the main Python packages for data analysis.\n",
    "* The `Series` object is an array with an additional `index` attribute.\n",
    "* The `DataFrame` object is used for stored tabular data in row/column format.\n",
    "* `Series` and `DataFrame` objects can be created from lists, dictionaries, or NumPy arrays.\n",
    "    * Both objects can be sliced and boolean indexed much like NumPy arrays.\n",
    "    * Arithmetic operations (`+`, `-`, `*`, `/`) on two objects results in element-wise calculation where the indices and columns agree.\n",
    "    * Universal functions work element-wise on pandas objects.\n",
    "* `lambda` functions are used to create simple, anonymous functions without a full function declaration.\n",
    "    * `lambda` functions can be applied to pandas objects using the `apply()` method.\n",
    "* Many summary statistic calculations are available as methods of pandas objects.\n",
    "* Hierarchical indexing allows creating pandas objects with more than 2 dimensions.\n",
    "* Sorting and ranking data in pandas objects is done using the `sort_index()`, `sort_values()`, and `rank()` methods."
   ]
  },
  {
   "cell_type": "markdown",
   "metadata": {},
   "source": [
    "# *Exercises*\n",
    "\n",
    "1. Create pandas objects containing the following data:\n",
    "    \n",
    "    a) A single column of 100 random values. \n",
    "    \n",
    "    b) Three columns, each with 10 values. The first column consists of random integers between 1 and 50. The second column will consist of the `sin` of the first column. Finally, the third column will be the difference of the first and second columns divided by the mean of the second column.\n",
    "    \n",
    "    c) Thirteen columns, one for each province or territory of Canada. The values in each column will simply be 30 random values from the normal distribution with mean 0 and variance 1."
   ]
  },
  {
   "cell_type": "code",
   "execution_count": 121,
   "metadata": {},
   "outputs": [
    {
     "data": {
      "text/plain": [
       "0     0.283872\n",
       "1     0.850190\n",
       "2     0.533738\n",
       "3     0.956789\n",
       "4     0.230041\n",
       "        ...   \n",
       "95    0.739886\n",
       "96    0.919620\n",
       "97    0.874968\n",
       "98    0.453832\n",
       "99    0.647021\n",
       "Length: 100, dtype: float64"
      ]
     },
     "execution_count": 121,
     "metadata": {},
     "output_type": "execute_result"
    }
   ],
   "source": [
    "# a) single column of 100 random values.\n",
    "obj1 = pd.Series(np.random.rand(100))\n",
    "obj1"
   ]
  },
  {
   "cell_type": "code",
   "execution_count": 122,
   "metadata": {
    "scrolled": true
   },
   "outputs": [
    {
     "data": {
      "text/html": [
       "<div>\n",
       "<style scoped>\n",
       "    .dataframe tbody tr th:only-of-type {\n",
       "        vertical-align: middle;\n",
       "    }\n",
       "\n",
       "    .dataframe tbody tr th {\n",
       "        vertical-align: top;\n",
       "    }\n",
       "\n",
       "    .dataframe thead th {\n",
       "        text-align: right;\n",
       "    }\n",
       "</style>\n",
       "<table border=\"1\" class=\"dataframe\">\n",
       "  <thead>\n",
       "    <tr style=\"text-align: right;\">\n",
       "      <th></th>\n",
       "      <th>col1</th>\n",
       "    </tr>\n",
       "  </thead>\n",
       "  <tbody>\n",
       "    <tr>\n",
       "      <td>0</td>\n",
       "      <td>35</td>\n",
       "    </tr>\n",
       "    <tr>\n",
       "      <td>1</td>\n",
       "      <td>10</td>\n",
       "    </tr>\n",
       "    <tr>\n",
       "      <td>2</td>\n",
       "      <td>41</td>\n",
       "    </tr>\n",
       "    <tr>\n",
       "      <td>3</td>\n",
       "      <td>40</td>\n",
       "    </tr>\n",
       "    <tr>\n",
       "      <td>4</td>\n",
       "      <td>44</td>\n",
       "    </tr>\n",
       "    <tr>\n",
       "      <td>5</td>\n",
       "      <td>16</td>\n",
       "    </tr>\n",
       "    <tr>\n",
       "      <td>6</td>\n",
       "      <td>34</td>\n",
       "    </tr>\n",
       "    <tr>\n",
       "      <td>7</td>\n",
       "      <td>4</td>\n",
       "    </tr>\n",
       "    <tr>\n",
       "      <td>8</td>\n",
       "      <td>28</td>\n",
       "    </tr>\n",
       "    <tr>\n",
       "      <td>9</td>\n",
       "      <td>18</td>\n",
       "    </tr>\n",
       "  </tbody>\n",
       "</table>\n",
       "</div>"
      ],
      "text/plain": [
       "   col1\n",
       "0    35\n",
       "1    10\n",
       "2    41\n",
       "3    40\n",
       "4    44\n",
       "5    16\n",
       "6    34\n",
       "7     4\n",
       "8    28\n",
       "9    18"
      ]
     },
     "execution_count": 122,
     "metadata": {},
     "output_type": "execute_result"
    }
   ],
   "source": [
    "# b) three columns of 10 values\n",
    "\n",
    "obj2 = pd.DataFrame({'col1': np.random.randint(1, 50, 10)})\n",
    "obj2"
   ]
  },
  {
   "cell_type": "code",
   "execution_count": 123,
   "metadata": {},
   "outputs": [
    {
     "data": {
      "text/html": [
       "<div>\n",
       "<style scoped>\n",
       "    .dataframe tbody tr th:only-of-type {\n",
       "        vertical-align: middle;\n",
       "    }\n",
       "\n",
       "    .dataframe tbody tr th {\n",
       "        vertical-align: top;\n",
       "    }\n",
       "\n",
       "    .dataframe thead th {\n",
       "        text-align: right;\n",
       "    }\n",
       "</style>\n",
       "<table border=\"1\" class=\"dataframe\">\n",
       "  <thead>\n",
       "    <tr style=\"text-align: right;\">\n",
       "      <th></th>\n",
       "      <th>col1</th>\n",
       "      <th>col2</th>\n",
       "    </tr>\n",
       "  </thead>\n",
       "  <tbody>\n",
       "    <tr>\n",
       "      <td>0</td>\n",
       "      <td>35</td>\n",
       "      <td>-0.428183</td>\n",
       "    </tr>\n",
       "    <tr>\n",
       "      <td>1</td>\n",
       "      <td>10</td>\n",
       "      <td>-0.544021</td>\n",
       "    </tr>\n",
       "    <tr>\n",
       "      <td>2</td>\n",
       "      <td>41</td>\n",
       "      <td>-0.158623</td>\n",
       "    </tr>\n",
       "    <tr>\n",
       "      <td>3</td>\n",
       "      <td>40</td>\n",
       "      <td>0.745113</td>\n",
       "    </tr>\n",
       "    <tr>\n",
       "      <td>4</td>\n",
       "      <td>44</td>\n",
       "      <td>0.017702</td>\n",
       "    </tr>\n",
       "    <tr>\n",
       "      <td>5</td>\n",
       "      <td>16</td>\n",
       "      <td>-0.287903</td>\n",
       "    </tr>\n",
       "    <tr>\n",
       "      <td>6</td>\n",
       "      <td>34</td>\n",
       "      <td>0.529083</td>\n",
       "    </tr>\n",
       "    <tr>\n",
       "      <td>7</td>\n",
       "      <td>4</td>\n",
       "      <td>-0.756802</td>\n",
       "    </tr>\n",
       "    <tr>\n",
       "      <td>8</td>\n",
       "      <td>28</td>\n",
       "      <td>0.270906</td>\n",
       "    </tr>\n",
       "    <tr>\n",
       "      <td>9</td>\n",
       "      <td>18</td>\n",
       "      <td>-0.750987</td>\n",
       "    </tr>\n",
       "  </tbody>\n",
       "</table>\n",
       "</div>"
      ],
      "text/plain": [
       "   col1      col2\n",
       "0    35 -0.428183\n",
       "1    10 -0.544021\n",
       "2    41 -0.158623\n",
       "3    40  0.745113\n",
       "4    44  0.017702\n",
       "5    16 -0.287903\n",
       "6    34  0.529083\n",
       "7     4 -0.756802\n",
       "8    28  0.270906\n",
       "9    18 -0.750987"
      ]
     },
     "execution_count": 123,
     "metadata": {},
     "output_type": "execute_result"
    }
   ],
   "source": [
    "obj2['col2'] = np.sin(obj2['col1'])\n",
    "obj2"
   ]
  },
  {
   "cell_type": "code",
   "execution_count": 124,
   "metadata": {},
   "outputs": [
    {
     "data": {
      "text/html": [
       "<div>\n",
       "<style scoped>\n",
       "    .dataframe tbody tr th:only-of-type {\n",
       "        vertical-align: middle;\n",
       "    }\n",
       "\n",
       "    .dataframe tbody tr th {\n",
       "        vertical-align: top;\n",
       "    }\n",
       "\n",
       "    .dataframe thead th {\n",
       "        text-align: right;\n",
       "    }\n",
       "</style>\n",
       "<table border=\"1\" class=\"dataframe\">\n",
       "  <thead>\n",
       "    <tr style=\"text-align: right;\">\n",
       "      <th></th>\n",
       "      <th>col1</th>\n",
       "      <th>col2</th>\n",
       "      <th>col3</th>\n",
       "    </tr>\n",
       "  </thead>\n",
       "  <tbody>\n",
       "    <tr>\n",
       "      <td>0</td>\n",
       "      <td>35</td>\n",
       "      <td>-0.428183</td>\n",
       "      <td>-259.791511</td>\n",
       "    </tr>\n",
       "    <tr>\n",
       "      <td>1</td>\n",
       "      <td>10</td>\n",
       "      <td>-0.544021</td>\n",
       "      <td>-77.318309</td>\n",
       "    </tr>\n",
       "    <tr>\n",
       "      <td>2</td>\n",
       "      <td>41</td>\n",
       "      <td>-0.158623</td>\n",
       "      <td>-301.812285</td>\n",
       "    </tr>\n",
       "    <tr>\n",
       "      <td>3</td>\n",
       "      <td>40</td>\n",
       "      <td>0.745113</td>\n",
       "      <td>-287.852371</td>\n",
       "    </tr>\n",
       "    <tr>\n",
       "      <td>4</td>\n",
       "      <td>44</td>\n",
       "      <td>0.017702</td>\n",
       "      <td>-322.518030</td>\n",
       "    </tr>\n",
       "    <tr>\n",
       "      <td>5</td>\n",
       "      <td>16</td>\n",
       "      <td>-0.287903</td>\n",
       "      <td>-119.437654</td>\n",
       "    </tr>\n",
       "    <tr>\n",
       "      <td>6</td>\n",
       "      <td>34</td>\n",
       "      <td>0.529083</td>\n",
       "      <td>-245.439069</td>\n",
       "    </tr>\n",
       "    <tr>\n",
       "      <td>7</td>\n",
       "      <td>4</td>\n",
       "      <td>-0.756802</td>\n",
       "      <td>-34.881183</td>\n",
       "    </tr>\n",
       "    <tr>\n",
       "      <td>8</td>\n",
       "      <td>28</td>\n",
       "      <td>0.270906</td>\n",
       "      <td>-203.334824</td>\n",
       "    </tr>\n",
       "    <tr>\n",
       "      <td>9</td>\n",
       "      <td>18</td>\n",
       "      <td>-0.750987</td>\n",
       "      <td>-137.499215</td>\n",
       "    </tr>\n",
       "  </tbody>\n",
       "</table>\n",
       "</div>"
      ],
      "text/plain": [
       "   col1      col2        col3\n",
       "0    35 -0.428183 -259.791511\n",
       "1    10 -0.544021  -77.318309\n",
       "2    41 -0.158623 -301.812285\n",
       "3    40  0.745113 -287.852371\n",
       "4    44  0.017702 -322.518030\n",
       "5    16 -0.287903 -119.437654\n",
       "6    34  0.529083 -245.439069\n",
       "7     4 -0.756802  -34.881183\n",
       "8    28  0.270906 -203.334824\n",
       "9    18 -0.750987 -137.499215"
      ]
     },
     "execution_count": 124,
     "metadata": {},
     "output_type": "execute_result"
    }
   ],
   "source": [
    "obj2['col3'] = (obj2['col1'] - obj2['col2'])/obj2['col2'].mean()\n",
    "obj2"
   ]
  },
  {
   "cell_type": "code",
   "execution_count": 127,
   "metadata": {},
   "outputs": [
    {
     "data": {
      "text/html": [
       "<div>\n",
       "<style scoped>\n",
       "    .dataframe tbody tr th:only-of-type {\n",
       "        vertical-align: middle;\n",
       "    }\n",
       "\n",
       "    .dataframe tbody tr th {\n",
       "        vertical-align: top;\n",
       "    }\n",
       "\n",
       "    .dataframe thead th {\n",
       "        text-align: right;\n",
       "    }\n",
       "</style>\n",
       "<table border=\"1\" class=\"dataframe\">\n",
       "  <thead>\n",
       "    <tr style=\"text-align: right;\">\n",
       "      <th></th>\n",
       "      <th>YT</th>\n",
       "      <th>NWT</th>\n",
       "      <th>NVT</th>\n",
       "      <th>BC</th>\n",
       "      <th>AB</th>\n",
       "      <th>SK</th>\n",
       "      <th>MB</th>\n",
       "      <th>ON</th>\n",
       "      <th>QC</th>\n",
       "      <th>NB</th>\n",
       "      <th>PEI</th>\n",
       "      <th>NS</th>\n",
       "      <th>NFLD</th>\n",
       "    </tr>\n",
       "  </thead>\n",
       "  <tbody>\n",
       "    <tr>\n",
       "      <td>0</td>\n",
       "      <td>-0.034285</td>\n",
       "      <td>-1.472742</td>\n",
       "      <td>0.141023</td>\n",
       "      <td>0.028372</td>\n",
       "      <td>-0.395149</td>\n",
       "      <td>-0.867364</td>\n",
       "      <td>-1.157314</td>\n",
       "      <td>0.778553</td>\n",
       "      <td>0.480924</td>\n",
       "      <td>-0.472213</td>\n",
       "      <td>1.378278</td>\n",
       "      <td>2.608821</td>\n",
       "      <td>-0.609321</td>\n",
       "    </tr>\n",
       "    <tr>\n",
       "      <td>1</td>\n",
       "      <td>0.327806</td>\n",
       "      <td>1.139212</td>\n",
       "      <td>1.345410</td>\n",
       "      <td>1.518680</td>\n",
       "      <td>-2.339126</td>\n",
       "      <td>-0.222570</td>\n",
       "      <td>0.868460</td>\n",
       "      <td>0.660011</td>\n",
       "      <td>-2.497309</td>\n",
       "      <td>-0.670455</td>\n",
       "      <td>1.200260</td>\n",
       "      <td>0.525854</td>\n",
       "      <td>0.184823</td>\n",
       "    </tr>\n",
       "    <tr>\n",
       "      <td>2</td>\n",
       "      <td>0.462033</td>\n",
       "      <td>0.745415</td>\n",
       "      <td>-1.433063</td>\n",
       "      <td>0.407043</td>\n",
       "      <td>0.265008</td>\n",
       "      <td>0.019005</td>\n",
       "      <td>-0.159403</td>\n",
       "      <td>-0.655218</td>\n",
       "      <td>1.282320</td>\n",
       "      <td>-0.101855</td>\n",
       "      <td>-1.585913</td>\n",
       "      <td>0.031235</td>\n",
       "      <td>-0.352905</td>\n",
       "    </tr>\n",
       "    <tr>\n",
       "      <td>3</td>\n",
       "      <td>0.988618</td>\n",
       "      <td>0.995684</td>\n",
       "      <td>1.191479</td>\n",
       "      <td>0.896943</td>\n",
       "      <td>1.328536</td>\n",
       "      <td>-0.864569</td>\n",
       "      <td>-0.178767</td>\n",
       "      <td>1.201558</td>\n",
       "      <td>-1.204020</td>\n",
       "      <td>-0.390222</td>\n",
       "      <td>0.149133</td>\n",
       "      <td>1.291110</td>\n",
       "      <td>1.080377</td>\n",
       "    </tr>\n",
       "    <tr>\n",
       "      <td>4</td>\n",
       "      <td>-0.887174</td>\n",
       "      <td>-0.481288</td>\n",
       "      <td>-0.479606</td>\n",
       "      <td>-2.527273</td>\n",
       "      <td>0.119462</td>\n",
       "      <td>1.269700</td>\n",
       "      <td>1.154197</td>\n",
       "      <td>-0.888900</td>\n",
       "      <td>0.620135</td>\n",
       "      <td>0.649167</td>\n",
       "      <td>0.854276</td>\n",
       "      <td>1.780744</td>\n",
       "      <td>-1.476721</td>\n",
       "    </tr>\n",
       "    <tr>\n",
       "      <td>5</td>\n",
       "      <td>-0.747932</td>\n",
       "      <td>-1.070316</td>\n",
       "      <td>-0.593384</td>\n",
       "      <td>-0.144580</td>\n",
       "      <td>-0.068448</td>\n",
       "      <td>0.521945</td>\n",
       "      <td>-2.082300</td>\n",
       "      <td>0.876233</td>\n",
       "      <td>-0.587577</td>\n",
       "      <td>-1.390417</td>\n",
       "      <td>1.450669</td>\n",
       "      <td>-0.568462</td>\n",
       "      <td>0.298337</td>\n",
       "    </tr>\n",
       "    <tr>\n",
       "      <td>6</td>\n",
       "      <td>0.606071</td>\n",
       "      <td>0.095835</td>\n",
       "      <td>0.439594</td>\n",
       "      <td>-0.418624</td>\n",
       "      <td>-1.523756</td>\n",
       "      <td>-0.675963</td>\n",
       "      <td>0.886072</td>\n",
       "      <td>-0.052287</td>\n",
       "      <td>-1.015929</td>\n",
       "      <td>0.148229</td>\n",
       "      <td>0.191213</td>\n",
       "      <td>-0.966947</td>\n",
       "      <td>0.642568</td>\n",
       "    </tr>\n",
       "    <tr>\n",
       "      <td>7</td>\n",
       "      <td>0.346963</td>\n",
       "      <td>1.622298</td>\n",
       "      <td>-0.175552</td>\n",
       "      <td>2.142699</td>\n",
       "      <td>-1.120323</td>\n",
       "      <td>0.466952</td>\n",
       "      <td>-3.891988</td>\n",
       "      <td>0.656304</td>\n",
       "      <td>-0.372482</td>\n",
       "      <td>0.575088</td>\n",
       "      <td>0.881975</td>\n",
       "      <td>-0.158631</td>\n",
       "      <td>0.496484</td>\n",
       "    </tr>\n",
       "    <tr>\n",
       "      <td>8</td>\n",
       "      <td>-1.286475</td>\n",
       "      <td>0.636659</td>\n",
       "      <td>0.677417</td>\n",
       "      <td>1.682905</td>\n",
       "      <td>0.427912</td>\n",
       "      <td>-0.598665</td>\n",
       "      <td>-1.299606</td>\n",
       "      <td>0.593012</td>\n",
       "      <td>-0.318723</td>\n",
       "      <td>1.063993</td>\n",
       "      <td>-0.227803</td>\n",
       "      <td>-0.864507</td>\n",
       "      <td>-1.033744</td>\n",
       "    </tr>\n",
       "    <tr>\n",
       "      <td>9</td>\n",
       "      <td>0.485912</td>\n",
       "      <td>-0.102049</td>\n",
       "      <td>0.434591</td>\n",
       "      <td>-1.145246</td>\n",
       "      <td>0.589053</td>\n",
       "      <td>-1.149702</td>\n",
       "      <td>0.553664</td>\n",
       "      <td>2.605512</td>\n",
       "      <td>0.004717</td>\n",
       "      <td>1.325732</td>\n",
       "      <td>0.491074</td>\n",
       "      <td>-0.518277</td>\n",
       "      <td>2.238223</td>\n",
       "    </tr>\n",
       "    <tr>\n",
       "      <td>10</td>\n",
       "      <td>-0.633682</td>\n",
       "      <td>-1.162591</td>\n",
       "      <td>-0.640297</td>\n",
       "      <td>0.477565</td>\n",
       "      <td>0.232233</td>\n",
       "      <td>-0.353044</td>\n",
       "      <td>1.017630</td>\n",
       "      <td>-1.497454</td>\n",
       "      <td>0.887151</td>\n",
       "      <td>0.096965</td>\n",
       "      <td>-0.245022</td>\n",
       "      <td>-0.040405</td>\n",
       "      <td>0.715566</td>\n",
       "    </tr>\n",
       "    <tr>\n",
       "      <td>11</td>\n",
       "      <td>1.199725</td>\n",
       "      <td>1.991150</td>\n",
       "      <td>-1.019660</td>\n",
       "      <td>0.337218</td>\n",
       "      <td>-1.640420</td>\n",
       "      <td>0.164013</td>\n",
       "      <td>1.590192</td>\n",
       "      <td>2.745746</td>\n",
       "      <td>-1.567961</td>\n",
       "      <td>1.312200</td>\n",
       "      <td>-0.091625</td>\n",
       "      <td>-1.166977</td>\n",
       "      <td>-0.645507</td>\n",
       "    </tr>\n",
       "    <tr>\n",
       "      <td>12</td>\n",
       "      <td>0.012166</td>\n",
       "      <td>-0.640217</td>\n",
       "      <td>0.940578</td>\n",
       "      <td>0.644316</td>\n",
       "      <td>-2.098792</td>\n",
       "      <td>0.790725</td>\n",
       "      <td>-0.151814</td>\n",
       "      <td>-0.489241</td>\n",
       "      <td>0.632155</td>\n",
       "      <td>1.489479</td>\n",
       "      <td>0.374182</td>\n",
       "      <td>-0.104343</td>\n",
       "      <td>-0.530957</td>\n",
       "    </tr>\n",
       "    <tr>\n",
       "      <td>13</td>\n",
       "      <td>1.520900</td>\n",
       "      <td>-0.598572</td>\n",
       "      <td>-0.899307</td>\n",
       "      <td>0.572623</td>\n",
       "      <td>-0.948617</td>\n",
       "      <td>-0.740070</td>\n",
       "      <td>-0.019824</td>\n",
       "      <td>-0.115338</td>\n",
       "      <td>1.126620</td>\n",
       "      <td>0.218456</td>\n",
       "      <td>-1.839191</td>\n",
       "      <td>0.918313</td>\n",
       "      <td>-0.067866</td>\n",
       "    </tr>\n",
       "    <tr>\n",
       "      <td>14</td>\n",
       "      <td>-0.421475</td>\n",
       "      <td>0.725132</td>\n",
       "      <td>-1.199562</td>\n",
       "      <td>0.089103</td>\n",
       "      <td>1.638275</td>\n",
       "      <td>-0.599845</td>\n",
       "      <td>1.393675</td>\n",
       "      <td>-0.381756</td>\n",
       "      <td>-0.028043</td>\n",
       "      <td>-0.901536</td>\n",
       "      <td>0.147731</td>\n",
       "      <td>0.915197</td>\n",
       "      <td>2.471195</td>\n",
       "    </tr>\n",
       "    <tr>\n",
       "      <td>15</td>\n",
       "      <td>-1.926705</td>\n",
       "      <td>0.215916</td>\n",
       "      <td>0.226441</td>\n",
       "      <td>-0.513792</td>\n",
       "      <td>0.917439</td>\n",
       "      <td>0.680633</td>\n",
       "      <td>-1.033985</td>\n",
       "      <td>0.012171</td>\n",
       "      <td>1.127212</td>\n",
       "      <td>0.904358</td>\n",
       "      <td>-0.373216</td>\n",
       "      <td>0.874378</td>\n",
       "      <td>-0.156213</td>\n",
       "    </tr>\n",
       "    <tr>\n",
       "      <td>16</td>\n",
       "      <td>0.306343</td>\n",
       "      <td>0.653157</td>\n",
       "      <td>1.314889</td>\n",
       "      <td>1.943003</td>\n",
       "      <td>0.740179</td>\n",
       "      <td>-1.213146</td>\n",
       "      <td>0.020079</td>\n",
       "      <td>-0.569790</td>\n",
       "      <td>-0.348781</td>\n",
       "      <td>-0.650954</td>\n",
       "      <td>0.913210</td>\n",
       "      <td>-0.833855</td>\n",
       "      <td>0.871030</td>\n",
       "    </tr>\n",
       "    <tr>\n",
       "      <td>17</td>\n",
       "      <td>1.908553</td>\n",
       "      <td>0.135639</td>\n",
       "      <td>-0.835770</td>\n",
       "      <td>-1.379947</td>\n",
       "      <td>-1.080336</td>\n",
       "      <td>0.771513</td>\n",
       "      <td>0.545413</td>\n",
       "      <td>-0.224575</td>\n",
       "      <td>-0.113822</td>\n",
       "      <td>1.071106</td>\n",
       "      <td>-1.743219</td>\n",
       "      <td>0.385418</td>\n",
       "      <td>-0.662037</td>\n",
       "    </tr>\n",
       "    <tr>\n",
       "      <td>18</td>\n",
       "      <td>1.007178</td>\n",
       "      <td>0.006830</td>\n",
       "      <td>-0.104698</td>\n",
       "      <td>-0.170690</td>\n",
       "      <td>-1.063409</td>\n",
       "      <td>0.005030</td>\n",
       "      <td>-0.327474</td>\n",
       "      <td>-1.226780</td>\n",
       "      <td>-0.839708</td>\n",
       "      <td>-0.499022</td>\n",
       "      <td>0.485801</td>\n",
       "      <td>0.196882</td>\n",
       "      <td>-0.591311</td>\n",
       "    </tr>\n",
       "    <tr>\n",
       "      <td>19</td>\n",
       "      <td>0.971309</td>\n",
       "      <td>1.062927</td>\n",
       "      <td>0.526035</td>\n",
       "      <td>0.599037</td>\n",
       "      <td>0.119786</td>\n",
       "      <td>-1.274190</td>\n",
       "      <td>-0.650362</td>\n",
       "      <td>0.161314</td>\n",
       "      <td>1.514290</td>\n",
       "      <td>-0.177377</td>\n",
       "      <td>-0.127812</td>\n",
       "      <td>1.874262</td>\n",
       "      <td>0.409262</td>\n",
       "    </tr>\n",
       "    <tr>\n",
       "      <td>20</td>\n",
       "      <td>0.974600</td>\n",
       "      <td>2.203573</td>\n",
       "      <td>-0.204942</td>\n",
       "      <td>0.697552</td>\n",
       "      <td>0.639809</td>\n",
       "      <td>-0.178053</td>\n",
       "      <td>0.022094</td>\n",
       "      <td>-0.049417</td>\n",
       "      <td>-2.199119</td>\n",
       "      <td>0.367741</td>\n",
       "      <td>2.152881</td>\n",
       "      <td>-0.170436</td>\n",
       "      <td>-1.357498</td>\n",
       "    </tr>\n",
       "    <tr>\n",
       "      <td>21</td>\n",
       "      <td>0.058852</td>\n",
       "      <td>-1.885189</td>\n",
       "      <td>0.515200</td>\n",
       "      <td>0.581474</td>\n",
       "      <td>-0.491640</td>\n",
       "      <td>0.040481</td>\n",
       "      <td>0.038086</td>\n",
       "      <td>1.553020</td>\n",
       "      <td>-0.007187</td>\n",
       "      <td>0.347152</td>\n",
       "      <td>-0.636187</td>\n",
       "      <td>-0.255618</td>\n",
       "      <td>-0.001747</td>\n",
       "    </tr>\n",
       "    <tr>\n",
       "      <td>22</td>\n",
       "      <td>0.207998</td>\n",
       "      <td>-0.502169</td>\n",
       "      <td>-0.565603</td>\n",
       "      <td>0.117879</td>\n",
       "      <td>-0.367579</td>\n",
       "      <td>0.888474</td>\n",
       "      <td>0.576047</td>\n",
       "      <td>-1.154787</td>\n",
       "      <td>-1.705248</td>\n",
       "      <td>-1.262154</td>\n",
       "      <td>0.887822</td>\n",
       "      <td>0.085319</td>\n",
       "      <td>-0.549075</td>\n",
       "    </tr>\n",
       "    <tr>\n",
       "      <td>23</td>\n",
       "      <td>-3.369139</td>\n",
       "      <td>-0.616822</td>\n",
       "      <td>0.727638</td>\n",
       "      <td>1.378654</td>\n",
       "      <td>0.216809</td>\n",
       "      <td>-0.082997</td>\n",
       "      <td>1.072178</td>\n",
       "      <td>-0.895942</td>\n",
       "      <td>-0.453070</td>\n",
       "      <td>0.696077</td>\n",
       "      <td>0.152288</td>\n",
       "      <td>-0.290126</td>\n",
       "      <td>0.382815</td>\n",
       "    </tr>\n",
       "    <tr>\n",
       "      <td>24</td>\n",
       "      <td>1.182863</td>\n",
       "      <td>0.688851</td>\n",
       "      <td>0.047966</td>\n",
       "      <td>-1.056797</td>\n",
       "      <td>-1.362951</td>\n",
       "      <td>1.611785</td>\n",
       "      <td>0.971771</td>\n",
       "      <td>0.439548</td>\n",
       "      <td>-0.408286</td>\n",
       "      <td>0.062631</td>\n",
       "      <td>2.060413</td>\n",
       "      <td>-1.105107</td>\n",
       "      <td>0.001614</td>\n",
       "    </tr>\n",
       "    <tr>\n",
       "      <td>25</td>\n",
       "      <td>0.196662</td>\n",
       "      <td>0.582621</td>\n",
       "      <td>-1.045099</td>\n",
       "      <td>-0.124915</td>\n",
       "      <td>-0.935027</td>\n",
       "      <td>0.876186</td>\n",
       "      <td>-0.185084</td>\n",
       "      <td>1.375641</td>\n",
       "      <td>-1.508864</td>\n",
       "      <td>0.059581</td>\n",
       "      <td>-0.699997</td>\n",
       "      <td>-1.493755</td>\n",
       "      <td>-0.218608</td>\n",
       "    </tr>\n",
       "    <tr>\n",
       "      <td>26</td>\n",
       "      <td>-0.556559</td>\n",
       "      <td>0.886462</td>\n",
       "      <td>-1.508354</td>\n",
       "      <td>-0.120751</td>\n",
       "      <td>-0.441341</td>\n",
       "      <td>-0.699307</td>\n",
       "      <td>1.164664</td>\n",
       "      <td>-0.830464</td>\n",
       "      <td>0.140366</td>\n",
       "      <td>0.264046</td>\n",
       "      <td>-2.207255</td>\n",
       "      <td>-0.501928</td>\n",
       "      <td>-0.197401</td>\n",
       "    </tr>\n",
       "    <tr>\n",
       "      <td>27</td>\n",
       "      <td>-0.313864</td>\n",
       "      <td>-0.778349</td>\n",
       "      <td>-0.488703</td>\n",
       "      <td>-0.033184</td>\n",
       "      <td>-0.099241</td>\n",
       "      <td>-2.189839</td>\n",
       "      <td>0.256460</td>\n",
       "      <td>1.223269</td>\n",
       "      <td>-1.194731</td>\n",
       "      <td>-1.289549</td>\n",
       "      <td>-0.566205</td>\n",
       "      <td>-1.333523</td>\n",
       "      <td>-0.376429</td>\n",
       "    </tr>\n",
       "    <tr>\n",
       "      <td>28</td>\n",
       "      <td>-0.453526</td>\n",
       "      <td>-1.880635</td>\n",
       "      <td>0.679174</td>\n",
       "      <td>-1.935588</td>\n",
       "      <td>0.094883</td>\n",
       "      <td>0.130282</td>\n",
       "      <td>0.342570</td>\n",
       "      <td>2.096134</td>\n",
       "      <td>-0.023514</td>\n",
       "      <td>-2.607778</td>\n",
       "      <td>-0.032351</td>\n",
       "      <td>1.140636</td>\n",
       "      <td>1.070523</td>\n",
       "    </tr>\n",
       "    <tr>\n",
       "      <td>29</td>\n",
       "      <td>-0.030265</td>\n",
       "      <td>-0.253399</td>\n",
       "      <td>-0.116448</td>\n",
       "      <td>-0.047976</td>\n",
       "      <td>-0.657259</td>\n",
       "      <td>0.504294</td>\n",
       "      <td>-3.212073</td>\n",
       "      <td>1.343566</td>\n",
       "      <td>-0.396544</td>\n",
       "      <td>-0.742981</td>\n",
       "      <td>2.386536</td>\n",
       "      <td>-0.537555</td>\n",
       "      <td>-0.413916</td>\n",
       "    </tr>\n",
       "  </tbody>\n",
       "</table>\n",
       "</div>"
      ],
      "text/plain": [
       "          YT       NWT       NVT        BC        AB        SK        MB  \\\n",
       "0  -0.034285 -1.472742  0.141023  0.028372 -0.395149 -0.867364 -1.157314   \n",
       "1   0.327806  1.139212  1.345410  1.518680 -2.339126 -0.222570  0.868460   \n",
       "2   0.462033  0.745415 -1.433063  0.407043  0.265008  0.019005 -0.159403   \n",
       "3   0.988618  0.995684  1.191479  0.896943  1.328536 -0.864569 -0.178767   \n",
       "4  -0.887174 -0.481288 -0.479606 -2.527273  0.119462  1.269700  1.154197   \n",
       "5  -0.747932 -1.070316 -0.593384 -0.144580 -0.068448  0.521945 -2.082300   \n",
       "6   0.606071  0.095835  0.439594 -0.418624 -1.523756 -0.675963  0.886072   \n",
       "7   0.346963  1.622298 -0.175552  2.142699 -1.120323  0.466952 -3.891988   \n",
       "8  -1.286475  0.636659  0.677417  1.682905  0.427912 -0.598665 -1.299606   \n",
       "9   0.485912 -0.102049  0.434591 -1.145246  0.589053 -1.149702  0.553664   \n",
       "10 -0.633682 -1.162591 -0.640297  0.477565  0.232233 -0.353044  1.017630   \n",
       "11  1.199725  1.991150 -1.019660  0.337218 -1.640420  0.164013  1.590192   \n",
       "12  0.012166 -0.640217  0.940578  0.644316 -2.098792  0.790725 -0.151814   \n",
       "13  1.520900 -0.598572 -0.899307  0.572623 -0.948617 -0.740070 -0.019824   \n",
       "14 -0.421475  0.725132 -1.199562  0.089103  1.638275 -0.599845  1.393675   \n",
       "15 -1.926705  0.215916  0.226441 -0.513792  0.917439  0.680633 -1.033985   \n",
       "16  0.306343  0.653157  1.314889  1.943003  0.740179 -1.213146  0.020079   \n",
       "17  1.908553  0.135639 -0.835770 -1.379947 -1.080336  0.771513  0.545413   \n",
       "18  1.007178  0.006830 -0.104698 -0.170690 -1.063409  0.005030 -0.327474   \n",
       "19  0.971309  1.062927  0.526035  0.599037  0.119786 -1.274190 -0.650362   \n",
       "20  0.974600  2.203573 -0.204942  0.697552  0.639809 -0.178053  0.022094   \n",
       "21  0.058852 -1.885189  0.515200  0.581474 -0.491640  0.040481  0.038086   \n",
       "22  0.207998 -0.502169 -0.565603  0.117879 -0.367579  0.888474  0.576047   \n",
       "23 -3.369139 -0.616822  0.727638  1.378654  0.216809 -0.082997  1.072178   \n",
       "24  1.182863  0.688851  0.047966 -1.056797 -1.362951  1.611785  0.971771   \n",
       "25  0.196662  0.582621 -1.045099 -0.124915 -0.935027  0.876186 -0.185084   \n",
       "26 -0.556559  0.886462 -1.508354 -0.120751 -0.441341 -0.699307  1.164664   \n",
       "27 -0.313864 -0.778349 -0.488703 -0.033184 -0.099241 -2.189839  0.256460   \n",
       "28 -0.453526 -1.880635  0.679174 -1.935588  0.094883  0.130282  0.342570   \n",
       "29 -0.030265 -0.253399 -0.116448 -0.047976 -0.657259  0.504294 -3.212073   \n",
       "\n",
       "          ON        QC        NB       PEI        NS      NFLD  \n",
       "0   0.778553  0.480924 -0.472213  1.378278  2.608821 -0.609321  \n",
       "1   0.660011 -2.497309 -0.670455  1.200260  0.525854  0.184823  \n",
       "2  -0.655218  1.282320 -0.101855 -1.585913  0.031235 -0.352905  \n",
       "3   1.201558 -1.204020 -0.390222  0.149133  1.291110  1.080377  \n",
       "4  -0.888900  0.620135  0.649167  0.854276  1.780744 -1.476721  \n",
       "5   0.876233 -0.587577 -1.390417  1.450669 -0.568462  0.298337  \n",
       "6  -0.052287 -1.015929  0.148229  0.191213 -0.966947  0.642568  \n",
       "7   0.656304 -0.372482  0.575088  0.881975 -0.158631  0.496484  \n",
       "8   0.593012 -0.318723  1.063993 -0.227803 -0.864507 -1.033744  \n",
       "9   2.605512  0.004717  1.325732  0.491074 -0.518277  2.238223  \n",
       "10 -1.497454  0.887151  0.096965 -0.245022 -0.040405  0.715566  \n",
       "11  2.745746 -1.567961  1.312200 -0.091625 -1.166977 -0.645507  \n",
       "12 -0.489241  0.632155  1.489479  0.374182 -0.104343 -0.530957  \n",
       "13 -0.115338  1.126620  0.218456 -1.839191  0.918313 -0.067866  \n",
       "14 -0.381756 -0.028043 -0.901536  0.147731  0.915197  2.471195  \n",
       "15  0.012171  1.127212  0.904358 -0.373216  0.874378 -0.156213  \n",
       "16 -0.569790 -0.348781 -0.650954  0.913210 -0.833855  0.871030  \n",
       "17 -0.224575 -0.113822  1.071106 -1.743219  0.385418 -0.662037  \n",
       "18 -1.226780 -0.839708 -0.499022  0.485801  0.196882 -0.591311  \n",
       "19  0.161314  1.514290 -0.177377 -0.127812  1.874262  0.409262  \n",
       "20 -0.049417 -2.199119  0.367741  2.152881 -0.170436 -1.357498  \n",
       "21  1.553020 -0.007187  0.347152 -0.636187 -0.255618 -0.001747  \n",
       "22 -1.154787 -1.705248 -1.262154  0.887822  0.085319 -0.549075  \n",
       "23 -0.895942 -0.453070  0.696077  0.152288 -0.290126  0.382815  \n",
       "24  0.439548 -0.408286  0.062631  2.060413 -1.105107  0.001614  \n",
       "25  1.375641 -1.508864  0.059581 -0.699997 -1.493755 -0.218608  \n",
       "26 -0.830464  0.140366  0.264046 -2.207255 -0.501928 -0.197401  \n",
       "27  1.223269 -1.194731 -1.289549 -0.566205 -1.333523 -0.376429  \n",
       "28  2.096134 -0.023514 -2.607778 -0.032351  1.140636  1.070523  \n",
       "29  1.343566 -0.396544 -0.742981  2.386536 -0.537555 -0.413916  "
      ]
     },
     "execution_count": 127,
     "metadata": {},
     "output_type": "execute_result"
    }
   ],
   "source": [
    "# c) thirteen columns\n",
    "obj3 = pd.DataFrame(np.random.randn(30*13).reshape((30,13)), \n",
    "                    columns = ['YT','NWT','NVT','BC','AB','SK','MB','ON','QC','NB','PEI','NS','NFLD'])\n",
    "obj3"
   ]
  },
  {
   "cell_type": "markdown",
   "metadata": {},
   "source": [
    "2. Compute the summary statistics for the dataset below. Next, use boolean indexing to zero any negative numbers in the dataset. Compare the summary statistics for the new dataset with the original summary statistics."
   ]
  },
  {
   "cell_type": "code",
   "execution_count": 128,
   "metadata": {},
   "outputs": [
    {
     "data": {
      "text/plain": [
       "0    -0.031027\n",
       "1     1.373437\n",
       "2    -0.284365\n",
       "3     0.440350\n",
       "4    -1.141828\n",
       "5     0.632892\n",
       "6    -1.216421\n",
       "7     0.039934\n",
       "8    -1.780844\n",
       "9     0.094619\n",
       "10   -1.875970\n",
       "11    1.184589\n",
       "12    0.260636\n",
       "13   -0.159101\n",
       "14   -0.082723\n",
       "15    0.451262\n",
       "16    0.132534\n",
       "17   -1.556987\n",
       "18    1.000775\n",
       "19    2.734834\n",
       "20    0.236891\n",
       "21    0.244116\n",
       "22    0.345310\n",
       "23    1.234274\n",
       "24   -1.680645\n",
       "25   -0.255190\n",
       "26   -1.800049\n",
       "27    0.157154\n",
       "28   -0.771738\n",
       "29    1.344758\n",
       "30   -0.841088\n",
       "31   -1.118430\n",
       "32   -0.718158\n",
       "33    1.000506\n",
       "34    0.130716\n",
       "35   -0.432284\n",
       "36    0.745079\n",
       "37    1.115818\n",
       "38   -0.788836\n",
       "39   -1.361365\n",
       "40    0.302811\n",
       "41   -0.463416\n",
       "42    1.156021\n",
       "43   -1.100722\n",
       "44    0.013337\n",
       "45   -0.232182\n",
       "46   -1.182635\n",
       "47   -0.789555\n",
       "48    1.286519\n",
       "49    1.362109\n",
       "dtype: float64"
      ]
     },
     "execution_count": 128,
     "metadata": {},
     "output_type": "execute_result"
    }
   ],
   "source": [
    "ages = pd.Series(np.random.randn(50))\n",
    "ages"
   ]
  },
  {
   "cell_type": "code",
   "execution_count": 129,
   "metadata": {},
   "outputs": [
    {
     "data": {
      "text/plain": [
       "count    50.000000\n",
       "mean     -0.052886\n",
       "std       1.022699\n",
       "min      -1.875970\n",
       "25%      -0.789375\n",
       "50%       0.026636\n",
       "75%       0.587485\n",
       "max       2.734834\n",
       "dtype: float64"
      ]
     },
     "execution_count": 129,
     "metadata": {},
     "output_type": "execute_result"
    }
   ],
   "source": [
    "ages.describe()"
   ]
  },
  {
   "cell_type": "code",
   "execution_count": 131,
   "metadata": {},
   "outputs": [
    {
     "data": {
      "text/plain": [
       "0     False\n",
       "1      True\n",
       "2     False\n",
       "3      True\n",
       "4     False\n",
       "5      True\n",
       "6     False\n",
       "7      True\n",
       "8     False\n",
       "9      True\n",
       "10    False\n",
       "11     True\n",
       "12     True\n",
       "13    False\n",
       "14    False\n",
       "15     True\n",
       "16     True\n",
       "17    False\n",
       "18     True\n",
       "19     True\n",
       "20     True\n",
       "21     True\n",
       "22     True\n",
       "23     True\n",
       "24    False\n",
       "25    False\n",
       "26    False\n",
       "27     True\n",
       "28    False\n",
       "29     True\n",
       "30    False\n",
       "31    False\n",
       "32    False\n",
       "33     True\n",
       "34     True\n",
       "35    False\n",
       "36     True\n",
       "37     True\n",
       "38    False\n",
       "39    False\n",
       "40     True\n",
       "41    False\n",
       "42     True\n",
       "43    False\n",
       "44     True\n",
       "45    False\n",
       "46    False\n",
       "47    False\n",
       "48     True\n",
       "49     True\n",
       "dtype: bool"
      ]
     },
     "execution_count": 131,
     "metadata": {},
     "output_type": "execute_result"
    }
   ],
   "source": [
    "mask = ages > 0\n",
    "mask"
   ]
  },
  {
   "cell_type": "code",
   "execution_count": 132,
   "metadata": {},
   "outputs": [
    {
     "data": {
      "text/plain": [
       "0    -0.000000\n",
       "1     1.373437\n",
       "2    -0.000000\n",
       "3     0.440350\n",
       "4    -0.000000\n",
       "5     0.632892\n",
       "6    -0.000000\n",
       "7     0.039934\n",
       "8    -0.000000\n",
       "9     0.094619\n",
       "10   -0.000000\n",
       "11    1.184589\n",
       "12    0.260636\n",
       "13   -0.000000\n",
       "14   -0.000000\n",
       "15    0.451262\n",
       "16    0.132534\n",
       "17   -0.000000\n",
       "18    1.000775\n",
       "19    2.734834\n",
       "20    0.236891\n",
       "21    0.244116\n",
       "22    0.345310\n",
       "23    1.234274\n",
       "24   -0.000000\n",
       "25   -0.000000\n",
       "26   -0.000000\n",
       "27    0.157154\n",
       "28   -0.000000\n",
       "29    1.344758\n",
       "30   -0.000000\n",
       "31   -0.000000\n",
       "32   -0.000000\n",
       "33    1.000506\n",
       "34    0.130716\n",
       "35   -0.000000\n",
       "36    0.745079\n",
       "37    1.115818\n",
       "38   -0.000000\n",
       "39   -0.000000\n",
       "40    0.302811\n",
       "41   -0.000000\n",
       "42    1.156021\n",
       "43   -0.000000\n",
       "44    0.013337\n",
       "45   -0.000000\n",
       "46   -0.000000\n",
       "47   -0.000000\n",
       "48    1.286519\n",
       "49    1.362109\n",
       "dtype: float64"
      ]
     },
     "execution_count": 132,
     "metadata": {},
     "output_type": "execute_result"
    }
   ],
   "source": [
    "ages = ages*mask\n",
    "ages"
   ]
  },
  {
   "cell_type": "code",
   "execution_count": 133,
   "metadata": {},
   "outputs": [
    {
     "data": {
      "text/plain": [
       "count    50.000000\n",
       "mean      0.380426\n",
       "std       0.585137\n",
       "min      -0.000000\n",
       "25%      -0.000000\n",
       "50%       0.026636\n",
       "75%       0.587485\n",
       "max       2.734834\n",
       "dtype: float64"
      ]
     },
     "execution_count": 133,
     "metadata": {},
     "output_type": "execute_result"
    }
   ],
   "source": [
    "ages.describe()"
   ]
  },
  {
   "cell_type": "markdown",
   "metadata": {},
   "source": [
    "3. Roughly speaking, we say a dataset is 'normally distributed' when the histogram of the data approximates the normal distribution (sometimes known as the 'bell curve'). A quick check for normality can be done by comparing the `median` and the `mean` of the data. When these two statistics are close in value, the data *might* be normally distributed. When they differ, the data is possibly not normally distributed.\n",
    "    \n",
    "    We're going to step ahead to next week momentarily. We will load the 'Food Services and Drinking Places Sales' dataset from Statistics Canada. To get the data, navigate to [this page](https://www150.statcan.gc.ca/n1/pub/71-607-x/71-607-x2017003-eng.htm) at StatsCan. Copy the dataset with `Ctrl` + `C` **without selecting the top row**, and execute the cell below. "
   ]
  },
  {
   "cell_type": "code",
   "execution_count": 137,
   "metadata": {},
   "outputs": [
    {
     "data": {
      "text/html": [
       "<div>\n",
       "<style scoped>\n",
       "    .dataframe tbody tr th:only-of-type {\n",
       "        vertical-align: middle;\n",
       "    }\n",
       "\n",
       "    .dataframe tbody tr th {\n",
       "        vertical-align: top;\n",
       "    }\n",
       "\n",
       "    .dataframe thead th {\n",
       "        text-align: right;\n",
       "    }\n",
       "</style>\n",
       "<table border=\"1\" class=\"dataframe\">\n",
       "  <thead>\n",
       "    <tr style=\"text-align: right;\">\n",
       "      <th></th>\n",
       "      <th>0</th>\n",
       "      <th>1</th>\n",
       "      <th>2</th>\n",
       "    </tr>\n",
       "  </thead>\n",
       "  <tbody>\n",
       "    <tr>\n",
       "      <td>0</td>\n",
       "      <td>Canada Footnote5</td>\n",
       "      <td>6,318,106</td>\n",
       "      <td>0.1</td>\n",
       "    </tr>\n",
       "    <tr>\n",
       "      <td>1</td>\n",
       "      <td>Newfoundland and Labrador</td>\n",
       "      <td>74,155</td>\n",
       "      <td>-0.4</td>\n",
       "    </tr>\n",
       "    <tr>\n",
       "      <td>2</td>\n",
       "      <td>Prince Edward Island</td>\n",
       "      <td>25,251</td>\n",
       "      <td>0.4</td>\n",
       "    </tr>\n",
       "    <tr>\n",
       "      <td>3</td>\n",
       "      <td>Nova Scotia</td>\n",
       "      <td>146,743</td>\n",
       "      <td>-0.7</td>\n",
       "    </tr>\n",
       "    <tr>\n",
       "      <td>4</td>\n",
       "      <td>New Brunswick</td>\n",
       "      <td>106,165</td>\n",
       "      <td>0.4</td>\n",
       "    </tr>\n",
       "    <tr>\n",
       "      <td>5</td>\n",
       "      <td>Quebec</td>\n",
       "      <td>1,243,607</td>\n",
       "      <td>0.2</td>\n",
       "    </tr>\n",
       "    <tr>\n",
       "      <td>6</td>\n",
       "      <td>Ontario</td>\n",
       "      <td>2,496,507</td>\n",
       "      <td>0.1</td>\n",
       "    </tr>\n",
       "    <tr>\n",
       "      <td>7</td>\n",
       "      <td>Manitoba</td>\n",
       "      <td>180,150</td>\n",
       "      <td>0.8</td>\n",
       "    </tr>\n",
       "    <tr>\n",
       "      <td>8</td>\n",
       "      <td>Saskatchewan</td>\n",
       "      <td>161,992</td>\n",
       "      <td>1.2</td>\n",
       "    </tr>\n",
       "    <tr>\n",
       "      <td>9</td>\n",
       "      <td>Alberta</td>\n",
       "      <td>803,148</td>\n",
       "      <td>-0.2</td>\n",
       "    </tr>\n",
       "    <tr>\n",
       "      <td>10</td>\n",
       "      <td>British Columbia</td>\n",
       "      <td>1,065,956</td>\n",
       "      <td>0.1</td>\n",
       "    </tr>\n",
       "    <tr>\n",
       "      <td>11</td>\n",
       "      <td>Yukon Footnote5</td>\n",
       "      <td>6,787</td>\n",
       "      <td>2.1</td>\n",
       "    </tr>\n",
       "    <tr>\n",
       "      <td>12</td>\n",
       "      <td>Northwest Territories Footnote5</td>\n",
       "      <td>6,168</td>\n",
       "      <td>-1.7</td>\n",
       "    </tr>\n",
       "    <tr>\n",
       "      <td>13</td>\n",
       "      <td>Nunavut Footnote5</td>\n",
       "      <td>1,478</td>\n",
       "      <td>-1.9</td>\n",
       "    </tr>\n",
       "  </tbody>\n",
       "</table>\n",
       "</div>"
      ],
      "text/plain": [
       "                                  0          1    2\n",
       "0                  Canada Footnote5  6,318,106  0.1\n",
       "1         Newfoundland and Labrador     74,155 -0.4\n",
       "2              Prince Edward Island     25,251  0.4\n",
       "3                       Nova Scotia    146,743 -0.7\n",
       "4                     New Brunswick    106,165  0.4\n",
       "5                            Quebec  1,243,607  0.2\n",
       "6                           Ontario  2,496,507  0.1\n",
       "7                          Manitoba    180,150  0.8\n",
       "8                      Saskatchewan    161,992  1.2\n",
       "9                           Alberta    803,148 -0.2\n",
       "10                 British Columbia  1,065,956  0.1\n",
       "11                  Yukon Footnote5      6,787  2.1\n",
       "12  Northwest Territories Footnote5      6,168 -1.7\n",
       "13                Nunavut Footnote5      1,478 -1.9"
      ]
     },
     "execution_count": 137,
     "metadata": {},
     "output_type": "execute_result"
    }
   ],
   "source": [
    "data = pd.read_clipboard(header = None)\n",
    "data"
   ]
  },
  {
   "cell_type": "markdown",
   "metadata": {},
   "source": [
    "a) Rename the columns according to the original dataset."
   ]
  },
  {
   "cell_type": "code",
   "execution_count": 138,
   "metadata": {},
   "outputs": [
    {
     "data": {
      "text/html": [
       "<div>\n",
       "<style scoped>\n",
       "    .dataframe tbody tr th:only-of-type {\n",
       "        vertical-align: middle;\n",
       "    }\n",
       "\n",
       "    .dataframe tbody tr th {\n",
       "        vertical-align: top;\n",
       "    }\n",
       "\n",
       "    .dataframe thead th {\n",
       "        text-align: right;\n",
       "    }\n",
       "</style>\n",
       "<table border=\"1\" class=\"dataframe\">\n",
       "  <thead>\n",
       "    <tr style=\"text-align: right;\">\n",
       "      <th></th>\n",
       "      <th>Geography</th>\n",
       "      <th>Total</th>\n",
       "      <th>Percent change</th>\n",
       "    </tr>\n",
       "  </thead>\n",
       "  <tbody>\n",
       "    <tr>\n",
       "      <td>0</td>\n",
       "      <td>Canada Footnote5</td>\n",
       "      <td>6,318,106</td>\n",
       "      <td>0.1</td>\n",
       "    </tr>\n",
       "    <tr>\n",
       "      <td>1</td>\n",
       "      <td>Newfoundland and Labrador</td>\n",
       "      <td>74,155</td>\n",
       "      <td>-0.4</td>\n",
       "    </tr>\n",
       "    <tr>\n",
       "      <td>2</td>\n",
       "      <td>Prince Edward Island</td>\n",
       "      <td>25,251</td>\n",
       "      <td>0.4</td>\n",
       "    </tr>\n",
       "    <tr>\n",
       "      <td>3</td>\n",
       "      <td>Nova Scotia</td>\n",
       "      <td>146,743</td>\n",
       "      <td>-0.7</td>\n",
       "    </tr>\n",
       "    <tr>\n",
       "      <td>4</td>\n",
       "      <td>New Brunswick</td>\n",
       "      <td>106,165</td>\n",
       "      <td>0.4</td>\n",
       "    </tr>\n",
       "    <tr>\n",
       "      <td>5</td>\n",
       "      <td>Quebec</td>\n",
       "      <td>1,243,607</td>\n",
       "      <td>0.2</td>\n",
       "    </tr>\n",
       "    <tr>\n",
       "      <td>6</td>\n",
       "      <td>Ontario</td>\n",
       "      <td>2,496,507</td>\n",
       "      <td>0.1</td>\n",
       "    </tr>\n",
       "    <tr>\n",
       "      <td>7</td>\n",
       "      <td>Manitoba</td>\n",
       "      <td>180,150</td>\n",
       "      <td>0.8</td>\n",
       "    </tr>\n",
       "    <tr>\n",
       "      <td>8</td>\n",
       "      <td>Saskatchewan</td>\n",
       "      <td>161,992</td>\n",
       "      <td>1.2</td>\n",
       "    </tr>\n",
       "    <tr>\n",
       "      <td>9</td>\n",
       "      <td>Alberta</td>\n",
       "      <td>803,148</td>\n",
       "      <td>-0.2</td>\n",
       "    </tr>\n",
       "    <tr>\n",
       "      <td>10</td>\n",
       "      <td>British Columbia</td>\n",
       "      <td>1,065,956</td>\n",
       "      <td>0.1</td>\n",
       "    </tr>\n",
       "    <tr>\n",
       "      <td>11</td>\n",
       "      <td>Yukon Footnote5</td>\n",
       "      <td>6,787</td>\n",
       "      <td>2.1</td>\n",
       "    </tr>\n",
       "    <tr>\n",
       "      <td>12</td>\n",
       "      <td>Northwest Territories Footnote5</td>\n",
       "      <td>6,168</td>\n",
       "      <td>-1.7</td>\n",
       "    </tr>\n",
       "    <tr>\n",
       "      <td>13</td>\n",
       "      <td>Nunavut Footnote5</td>\n",
       "      <td>1,478</td>\n",
       "      <td>-1.9</td>\n",
       "    </tr>\n",
       "  </tbody>\n",
       "</table>\n",
       "</div>"
      ],
      "text/plain": [
       "                          Geography      Total  Percent change\n",
       "0                  Canada Footnote5  6,318,106             0.1\n",
       "1         Newfoundland and Labrador     74,155            -0.4\n",
       "2              Prince Edward Island     25,251             0.4\n",
       "3                       Nova Scotia    146,743            -0.7\n",
       "4                     New Brunswick    106,165             0.4\n",
       "5                            Quebec  1,243,607             0.2\n",
       "6                           Ontario  2,496,507             0.1\n",
       "7                          Manitoba    180,150             0.8\n",
       "8                      Saskatchewan    161,992             1.2\n",
       "9                           Alberta    803,148            -0.2\n",
       "10                 British Columbia  1,065,956             0.1\n",
       "11                  Yukon Footnote5      6,787             2.1\n",
       "12  Northwest Territories Footnote5      6,168            -1.7\n",
       "13                Nunavut Footnote5      1,478            -1.9"
      ]
     },
     "execution_count": 138,
     "metadata": {},
     "output_type": "execute_result"
    }
   ],
   "source": [
    "data.columns = ['Geography', 'Total', 'Percent change']\n",
    "data"
   ]
  },
  {
   "cell_type": "markdown",
   "metadata": {},
   "source": [
    "  b) Using a `lambda` function, strip the `Footnote5` string from the values in the first column. Make sure that each province is spelled correctly, and change the spelling if necessary. **Hint:** the `rstrip(<characters to remove>)` string method removes characters from the *right* of a string."
   ]
  },
  {
   "cell_type": "code",
   "execution_count": 139,
   "metadata": {},
   "outputs": [
    {
     "data": {
      "text/html": [
       "<div>\n",
       "<style scoped>\n",
       "    .dataframe tbody tr th:only-of-type {\n",
       "        vertical-align: middle;\n",
       "    }\n",
       "\n",
       "    .dataframe tbody tr th {\n",
       "        vertical-align: top;\n",
       "    }\n",
       "\n",
       "    .dataframe thead th {\n",
       "        text-align: right;\n",
       "    }\n",
       "</style>\n",
       "<table border=\"1\" class=\"dataframe\">\n",
       "  <thead>\n",
       "    <tr style=\"text-align: right;\">\n",
       "      <th></th>\n",
       "      <th>Geography</th>\n",
       "      <th>Total</th>\n",
       "      <th>Percent change</th>\n",
       "    </tr>\n",
       "  </thead>\n",
       "  <tbody>\n",
       "    <tr>\n",
       "      <td>0</td>\n",
       "      <td>Canada</td>\n",
       "      <td>6,318,106</td>\n",
       "      <td>0.1</td>\n",
       "    </tr>\n",
       "    <tr>\n",
       "      <td>1</td>\n",
       "      <td>Newfoundland and Labrador</td>\n",
       "      <td>74,155</td>\n",
       "      <td>-0.4</td>\n",
       "    </tr>\n",
       "    <tr>\n",
       "      <td>2</td>\n",
       "      <td>Prince Edward Island</td>\n",
       "      <td>25,251</td>\n",
       "      <td>0.4</td>\n",
       "    </tr>\n",
       "    <tr>\n",
       "      <td>3</td>\n",
       "      <td>Nova Scotia</td>\n",
       "      <td>146,743</td>\n",
       "      <td>-0.7</td>\n",
       "    </tr>\n",
       "    <tr>\n",
       "      <td>4</td>\n",
       "      <td>New Brunswick</td>\n",
       "      <td>106,165</td>\n",
       "      <td>0.4</td>\n",
       "    </tr>\n",
       "    <tr>\n",
       "      <td>5</td>\n",
       "      <td>Quebec</td>\n",
       "      <td>1,243,607</td>\n",
       "      <td>0.2</td>\n",
       "    </tr>\n",
       "    <tr>\n",
       "      <td>6</td>\n",
       "      <td>Ontari</td>\n",
       "      <td>2,496,507</td>\n",
       "      <td>0.1</td>\n",
       "    </tr>\n",
       "    <tr>\n",
       "      <td>7</td>\n",
       "      <td>Manitoba</td>\n",
       "      <td>180,150</td>\n",
       "      <td>0.8</td>\n",
       "    </tr>\n",
       "    <tr>\n",
       "      <td>8</td>\n",
       "      <td>Saskatchewa</td>\n",
       "      <td>161,992</td>\n",
       "      <td>1.2</td>\n",
       "    </tr>\n",
       "    <tr>\n",
       "      <td>9</td>\n",
       "      <td>Alberta</td>\n",
       "      <td>803,148</td>\n",
       "      <td>-0.2</td>\n",
       "    </tr>\n",
       "    <tr>\n",
       "      <td>10</td>\n",
       "      <td>British Columbia</td>\n",
       "      <td>1,065,956</td>\n",
       "      <td>0.1</td>\n",
       "    </tr>\n",
       "    <tr>\n",
       "      <td>11</td>\n",
       "      <td>Yuk</td>\n",
       "      <td>6,787</td>\n",
       "      <td>2.1</td>\n",
       "    </tr>\n",
       "    <tr>\n",
       "      <td>12</td>\n",
       "      <td>Northwest Territories</td>\n",
       "      <td>6,168</td>\n",
       "      <td>-1.7</td>\n",
       "    </tr>\n",
       "    <tr>\n",
       "      <td>13</td>\n",
       "      <td>Nunavu</td>\n",
       "      <td>1,478</td>\n",
       "      <td>-1.9</td>\n",
       "    </tr>\n",
       "  </tbody>\n",
       "</table>\n",
       "</div>"
      ],
      "text/plain": [
       "                    Geography      Total  Percent change\n",
       "0                      Canada  6,318,106             0.1\n",
       "1   Newfoundland and Labrador     74,155            -0.4\n",
       "2        Prince Edward Island     25,251             0.4\n",
       "3                 Nova Scotia    146,743            -0.7\n",
       "4               New Brunswick    106,165             0.4\n",
       "5                      Quebec  1,243,607             0.2\n",
       "6                      Ontari  2,496,507             0.1\n",
       "7                    Manitoba    180,150             0.8\n",
       "8                 Saskatchewa    161,992             1.2\n",
       "9                     Alberta    803,148            -0.2\n",
       "10           British Columbia  1,065,956             0.1\n",
       "11                        Yuk      6,787             2.1\n",
       "12      Northwest Territories      6,168            -1.7\n",
       "13                     Nunavu      1,478            -1.9"
      ]
     },
     "execution_count": 139,
     "metadata": {},
     "output_type": "execute_result"
    }
   ],
   "source": [
    "data['Geography'] = data['Geography'].apply(lambda text: text.rstrip(\"Footnote 5\"))\n",
    "data"
   ]
  },
  {
   "cell_type": "code",
   "execution_count": 140,
   "metadata": {},
   "outputs": [
    {
     "name": "stderr",
     "output_type": "stream",
     "text": [
      "C:\\Users\\matthew.adams\\AppData\\Local\\Continuum\\anaconda3\\lib\\site-packages\\pandas\\core\\indexing.py:205: SettingWithCopyWarning: \n",
      "A value is trying to be set on a copy of a slice from a DataFrame\n",
      "\n",
      "See the caveats in the documentation: http://pandas.pydata.org/pandas-docs/stable/user_guide/indexing.html#returning-a-view-versus-a-copy\n",
      "  self._setitem_with_indexer(indexer, value)\n"
     ]
    },
    {
     "data": {
      "text/html": [
       "<div>\n",
       "<style scoped>\n",
       "    .dataframe tbody tr th:only-of-type {\n",
       "        vertical-align: middle;\n",
       "    }\n",
       "\n",
       "    .dataframe tbody tr th {\n",
       "        vertical-align: top;\n",
       "    }\n",
       "\n",
       "    .dataframe thead th {\n",
       "        text-align: right;\n",
       "    }\n",
       "</style>\n",
       "<table border=\"1\" class=\"dataframe\">\n",
       "  <thead>\n",
       "    <tr style=\"text-align: right;\">\n",
       "      <th></th>\n",
       "      <th>Geography</th>\n",
       "      <th>Total</th>\n",
       "      <th>Percent change</th>\n",
       "    </tr>\n",
       "  </thead>\n",
       "  <tbody>\n",
       "    <tr>\n",
       "      <td>0</td>\n",
       "      <td>Canada</td>\n",
       "      <td>6,318,106</td>\n",
       "      <td>0.1</td>\n",
       "    </tr>\n",
       "    <tr>\n",
       "      <td>1</td>\n",
       "      <td>Newfoundland and Labrador</td>\n",
       "      <td>74,155</td>\n",
       "      <td>-0.4</td>\n",
       "    </tr>\n",
       "    <tr>\n",
       "      <td>2</td>\n",
       "      <td>Prince Edward Island</td>\n",
       "      <td>25,251</td>\n",
       "      <td>0.4</td>\n",
       "    </tr>\n",
       "    <tr>\n",
       "      <td>3</td>\n",
       "      <td>Nova Scotia</td>\n",
       "      <td>146,743</td>\n",
       "      <td>-0.7</td>\n",
       "    </tr>\n",
       "    <tr>\n",
       "      <td>4</td>\n",
       "      <td>New Brunswick</td>\n",
       "      <td>106,165</td>\n",
       "      <td>0.4</td>\n",
       "    </tr>\n",
       "    <tr>\n",
       "      <td>5</td>\n",
       "      <td>Quebec</td>\n",
       "      <td>1,243,607</td>\n",
       "      <td>0.2</td>\n",
       "    </tr>\n",
       "    <tr>\n",
       "      <td>6</td>\n",
       "      <td>Ontario</td>\n",
       "      <td>2,496,507</td>\n",
       "      <td>0.1</td>\n",
       "    </tr>\n",
       "    <tr>\n",
       "      <td>7</td>\n",
       "      <td>Manitoba</td>\n",
       "      <td>180,150</td>\n",
       "      <td>0.8</td>\n",
       "    </tr>\n",
       "    <tr>\n",
       "      <td>8</td>\n",
       "      <td>Saskatchewan</td>\n",
       "      <td>161,992</td>\n",
       "      <td>1.2</td>\n",
       "    </tr>\n",
       "    <tr>\n",
       "      <td>9</td>\n",
       "      <td>Alberta</td>\n",
       "      <td>803,148</td>\n",
       "      <td>-0.2</td>\n",
       "    </tr>\n",
       "    <tr>\n",
       "      <td>10</td>\n",
       "      <td>British Columbia</td>\n",
       "      <td>1,065,956</td>\n",
       "      <td>0.1</td>\n",
       "    </tr>\n",
       "    <tr>\n",
       "      <td>11</td>\n",
       "      <td>Yukon</td>\n",
       "      <td>6,787</td>\n",
       "      <td>2.1</td>\n",
       "    </tr>\n",
       "    <tr>\n",
       "      <td>12</td>\n",
       "      <td>Northwest Territories</td>\n",
       "      <td>6,168</td>\n",
       "      <td>-1.7</td>\n",
       "    </tr>\n",
       "    <tr>\n",
       "      <td>13</td>\n",
       "      <td>Nunavut</td>\n",
       "      <td>1,478</td>\n",
       "      <td>-1.9</td>\n",
       "    </tr>\n",
       "  </tbody>\n",
       "</table>\n",
       "</div>"
      ],
      "text/plain": [
       "                    Geography      Total  Percent change\n",
       "0                      Canada  6,318,106             0.1\n",
       "1   Newfoundland and Labrador     74,155            -0.4\n",
       "2        Prince Edward Island     25,251             0.4\n",
       "3                 Nova Scotia    146,743            -0.7\n",
       "4               New Brunswick    106,165             0.4\n",
       "5                      Quebec  1,243,607             0.2\n",
       "6                     Ontario  2,496,507             0.1\n",
       "7                    Manitoba    180,150             0.8\n",
       "8                Saskatchewan    161,992             1.2\n",
       "9                     Alberta    803,148            -0.2\n",
       "10           British Columbia  1,065,956             0.1\n",
       "11                      Yukon      6,787             2.1\n",
       "12      Northwest Territories      6,168            -1.7\n",
       "13                    Nunavut      1,478            -1.9"
      ]
     },
     "execution_count": 140,
     "metadata": {},
     "output_type": "execute_result"
    }
   ],
   "source": [
    "data['Geography'].loc[[6,8,11,13]] = 'Ontario','Saskatchewan','Yukon','Nunavut'\n",
    "data"
   ]
  },
  {
   "cell_type": "markdown",
   "metadata": {},
   "source": [
    "c) Remove the row containing `Canada`."
   ]
  },
  {
   "cell_type": "code",
   "execution_count": 143,
   "metadata": {},
   "outputs": [
    {
     "data": {
      "text/html": [
       "<div>\n",
       "<style scoped>\n",
       "    .dataframe tbody tr th:only-of-type {\n",
       "        vertical-align: middle;\n",
       "    }\n",
       "\n",
       "    .dataframe tbody tr th {\n",
       "        vertical-align: top;\n",
       "    }\n",
       "\n",
       "    .dataframe thead th {\n",
       "        text-align: right;\n",
       "    }\n",
       "</style>\n",
       "<table border=\"1\" class=\"dataframe\">\n",
       "  <thead>\n",
       "    <tr style=\"text-align: right;\">\n",
       "      <th></th>\n",
       "      <th>Geography</th>\n",
       "      <th>Total</th>\n",
       "      <th>Percent change</th>\n",
       "    </tr>\n",
       "  </thead>\n",
       "  <tbody>\n",
       "    <tr>\n",
       "      <td>1</td>\n",
       "      <td>Newfoundland and Labrador</td>\n",
       "      <td>74,155</td>\n",
       "      <td>-0.4</td>\n",
       "    </tr>\n",
       "    <tr>\n",
       "      <td>2</td>\n",
       "      <td>Prince Edward Island</td>\n",
       "      <td>25,251</td>\n",
       "      <td>0.4</td>\n",
       "    </tr>\n",
       "    <tr>\n",
       "      <td>3</td>\n",
       "      <td>Nova Scotia</td>\n",
       "      <td>146,743</td>\n",
       "      <td>-0.7</td>\n",
       "    </tr>\n",
       "    <tr>\n",
       "      <td>4</td>\n",
       "      <td>New Brunswick</td>\n",
       "      <td>106,165</td>\n",
       "      <td>0.4</td>\n",
       "    </tr>\n",
       "    <tr>\n",
       "      <td>5</td>\n",
       "      <td>Quebec</td>\n",
       "      <td>1,243,607</td>\n",
       "      <td>0.2</td>\n",
       "    </tr>\n",
       "    <tr>\n",
       "      <td>6</td>\n",
       "      <td>Ontario</td>\n",
       "      <td>2,496,507</td>\n",
       "      <td>0.1</td>\n",
       "    </tr>\n",
       "    <tr>\n",
       "      <td>7</td>\n",
       "      <td>Manitoba</td>\n",
       "      <td>180,150</td>\n",
       "      <td>0.8</td>\n",
       "    </tr>\n",
       "    <tr>\n",
       "      <td>8</td>\n",
       "      <td>Saskatchewan</td>\n",
       "      <td>161,992</td>\n",
       "      <td>1.2</td>\n",
       "    </tr>\n",
       "    <tr>\n",
       "      <td>9</td>\n",
       "      <td>Alberta</td>\n",
       "      <td>803,148</td>\n",
       "      <td>-0.2</td>\n",
       "    </tr>\n",
       "    <tr>\n",
       "      <td>10</td>\n",
       "      <td>British Columbia</td>\n",
       "      <td>1,065,956</td>\n",
       "      <td>0.1</td>\n",
       "    </tr>\n",
       "    <tr>\n",
       "      <td>11</td>\n",
       "      <td>Yukon</td>\n",
       "      <td>6,787</td>\n",
       "      <td>2.1</td>\n",
       "    </tr>\n",
       "    <tr>\n",
       "      <td>12</td>\n",
       "      <td>Northwest Territories</td>\n",
       "      <td>6,168</td>\n",
       "      <td>-1.7</td>\n",
       "    </tr>\n",
       "    <tr>\n",
       "      <td>13</td>\n",
       "      <td>Nunavut</td>\n",
       "      <td>1,478</td>\n",
       "      <td>-1.9</td>\n",
       "    </tr>\n",
       "  </tbody>\n",
       "</table>\n",
       "</div>"
      ],
      "text/plain": [
       "                    Geography      Total  Percent change\n",
       "1   Newfoundland and Labrador     74,155            -0.4\n",
       "2        Prince Edward Island     25,251             0.4\n",
       "3                 Nova Scotia    146,743            -0.7\n",
       "4               New Brunswick    106,165             0.4\n",
       "5                      Quebec  1,243,607             0.2\n",
       "6                     Ontario  2,496,507             0.1\n",
       "7                    Manitoba    180,150             0.8\n",
       "8                Saskatchewan    161,992             1.2\n",
       "9                     Alberta    803,148            -0.2\n",
       "10           British Columbia  1,065,956             0.1\n",
       "11                      Yukon      6,787             2.1\n",
       "12      Northwest Territories      6,168            -1.7\n",
       "13                    Nunavut      1,478            -1.9"
      ]
     },
     "execution_count": 143,
     "metadata": {},
     "output_type": "execute_result"
    }
   ],
   "source": [
    "data = data.drop(0, axis = 0)\n",
    "data"
   ]
  },
  {
   "cell_type": "markdown",
   "metadata": {},
   "source": [
    "d) Convert the `Total` column to integers. You may have to remove the commas from the values using the `replace(<character to remove>,<replacement>)` before performing the conversion."
   ]
  },
  {
   "cell_type": "code",
   "execution_count": 144,
   "metadata": {},
   "outputs": [
    {
     "data": {
      "text/html": [
       "<div>\n",
       "<style scoped>\n",
       "    .dataframe tbody tr th:only-of-type {\n",
       "        vertical-align: middle;\n",
       "    }\n",
       "\n",
       "    .dataframe tbody tr th {\n",
       "        vertical-align: top;\n",
       "    }\n",
       "\n",
       "    .dataframe thead th {\n",
       "        text-align: right;\n",
       "    }\n",
       "</style>\n",
       "<table border=\"1\" class=\"dataframe\">\n",
       "  <thead>\n",
       "    <tr style=\"text-align: right;\">\n",
       "      <th></th>\n",
       "      <th>Geography</th>\n",
       "      <th>Total</th>\n",
       "      <th>Percent change</th>\n",
       "    </tr>\n",
       "  </thead>\n",
       "  <tbody>\n",
       "    <tr>\n",
       "      <td>1</td>\n",
       "      <td>Newfoundland and Labrador</td>\n",
       "      <td>74155</td>\n",
       "      <td>-0.4</td>\n",
       "    </tr>\n",
       "    <tr>\n",
       "      <td>2</td>\n",
       "      <td>Prince Edward Island</td>\n",
       "      <td>25251</td>\n",
       "      <td>0.4</td>\n",
       "    </tr>\n",
       "    <tr>\n",
       "      <td>3</td>\n",
       "      <td>Nova Scotia</td>\n",
       "      <td>146743</td>\n",
       "      <td>-0.7</td>\n",
       "    </tr>\n",
       "    <tr>\n",
       "      <td>4</td>\n",
       "      <td>New Brunswick</td>\n",
       "      <td>106165</td>\n",
       "      <td>0.4</td>\n",
       "    </tr>\n",
       "    <tr>\n",
       "      <td>5</td>\n",
       "      <td>Quebec</td>\n",
       "      <td>1243607</td>\n",
       "      <td>0.2</td>\n",
       "    </tr>\n",
       "    <tr>\n",
       "      <td>6</td>\n",
       "      <td>Ontario</td>\n",
       "      <td>2496507</td>\n",
       "      <td>0.1</td>\n",
       "    </tr>\n",
       "    <tr>\n",
       "      <td>7</td>\n",
       "      <td>Manitoba</td>\n",
       "      <td>180150</td>\n",
       "      <td>0.8</td>\n",
       "    </tr>\n",
       "    <tr>\n",
       "      <td>8</td>\n",
       "      <td>Saskatchewan</td>\n",
       "      <td>161992</td>\n",
       "      <td>1.2</td>\n",
       "    </tr>\n",
       "    <tr>\n",
       "      <td>9</td>\n",
       "      <td>Alberta</td>\n",
       "      <td>803148</td>\n",
       "      <td>-0.2</td>\n",
       "    </tr>\n",
       "    <tr>\n",
       "      <td>10</td>\n",
       "      <td>British Columbia</td>\n",
       "      <td>1065956</td>\n",
       "      <td>0.1</td>\n",
       "    </tr>\n",
       "    <tr>\n",
       "      <td>11</td>\n",
       "      <td>Yukon</td>\n",
       "      <td>6787</td>\n",
       "      <td>2.1</td>\n",
       "    </tr>\n",
       "    <tr>\n",
       "      <td>12</td>\n",
       "      <td>Northwest Territories</td>\n",
       "      <td>6168</td>\n",
       "      <td>-1.7</td>\n",
       "    </tr>\n",
       "    <tr>\n",
       "      <td>13</td>\n",
       "      <td>Nunavut</td>\n",
       "      <td>1478</td>\n",
       "      <td>-1.9</td>\n",
       "    </tr>\n",
       "  </tbody>\n",
       "</table>\n",
       "</div>"
      ],
      "text/plain": [
       "                    Geography    Total  Percent change\n",
       "1   Newfoundland and Labrador    74155            -0.4\n",
       "2        Prince Edward Island    25251             0.4\n",
       "3                 Nova Scotia   146743            -0.7\n",
       "4               New Brunswick   106165             0.4\n",
       "5                      Quebec  1243607             0.2\n",
       "6                     Ontario  2496507             0.1\n",
       "7                    Manitoba   180150             0.8\n",
       "8                Saskatchewan   161992             1.2\n",
       "9                     Alberta   803148            -0.2\n",
       "10           British Columbia  1065956             0.1\n",
       "11                      Yukon     6787             2.1\n",
       "12      Northwest Territories     6168            -1.7\n",
       "13                    Nunavut     1478            -1.9"
      ]
     },
     "execution_count": 144,
     "metadata": {},
     "output_type": "execute_result"
    }
   ],
   "source": [
    "data['Total'] = data['Total'].apply(lambda text: int(text.replace(',','')))\n",
    "data"
   ]
  },
  {
   "cell_type": "markdown",
   "metadata": {},
   "source": [
    "e) Calculate the summary statistics for the `Total` and `Percentage change` columns. Comment on the possible normality of the data."
   ]
  },
  {
   "cell_type": "code",
   "execution_count": 147,
   "metadata": {},
   "outputs": [
    {
     "data": {
      "text/html": [
       "<div>\n",
       "<style scoped>\n",
       "    .dataframe tbody tr th:only-of-type {\n",
       "        vertical-align: middle;\n",
       "    }\n",
       "\n",
       "    .dataframe tbody tr th {\n",
       "        vertical-align: top;\n",
       "    }\n",
       "\n",
       "    .dataframe thead th {\n",
       "        text-align: right;\n",
       "    }\n",
       "</style>\n",
       "<table border=\"1\" class=\"dataframe\">\n",
       "  <thead>\n",
       "    <tr style=\"text-align: right;\">\n",
       "      <th></th>\n",
       "      <th>Total</th>\n",
       "      <th>Percent change</th>\n",
       "    </tr>\n",
       "  </thead>\n",
       "  <tbody>\n",
       "    <tr>\n",
       "      <td>count</td>\n",
       "      <td>1.300000e+01</td>\n",
       "      <td>13.000000</td>\n",
       "    </tr>\n",
       "    <tr>\n",
       "      <td>mean</td>\n",
       "      <td>4.860082e+05</td>\n",
       "      <td>0.030769</td>\n",
       "    </tr>\n",
       "    <tr>\n",
       "      <td>std</td>\n",
       "      <td>7.409164e+05</td>\n",
       "      <td>1.081962</td>\n",
       "    </tr>\n",
       "    <tr>\n",
       "      <td>min</td>\n",
       "      <td>1.478000e+03</td>\n",
       "      <td>-1.900000</td>\n",
       "    </tr>\n",
       "    <tr>\n",
       "      <td>25%</td>\n",
       "      <td>2.525100e+04</td>\n",
       "      <td>-0.400000</td>\n",
       "    </tr>\n",
       "    <tr>\n",
       "      <td>50%</td>\n",
       "      <td>1.467430e+05</td>\n",
       "      <td>0.100000</td>\n",
       "    </tr>\n",
       "    <tr>\n",
       "      <td>75%</td>\n",
       "      <td>8.031480e+05</td>\n",
       "      <td>0.400000</td>\n",
       "    </tr>\n",
       "    <tr>\n",
       "      <td>max</td>\n",
       "      <td>2.496507e+06</td>\n",
       "      <td>2.100000</td>\n",
       "    </tr>\n",
       "  </tbody>\n",
       "</table>\n",
       "</div>"
      ],
      "text/plain": [
       "              Total  Percent change\n",
       "count  1.300000e+01       13.000000\n",
       "mean   4.860082e+05        0.030769\n",
       "std    7.409164e+05        1.081962\n",
       "min    1.478000e+03       -1.900000\n",
       "25%    2.525100e+04       -0.400000\n",
       "50%    1.467430e+05        0.100000\n",
       "75%    8.031480e+05        0.400000\n",
       "max    2.496507e+06        2.100000"
      ]
     },
     "execution_count": 147,
     "metadata": {},
     "output_type": "execute_result"
    }
   ],
   "source": [
    "data[['Total','Percent change']].describe()"
   ]
  },
  {
   "cell_type": "markdown",
   "metadata": {},
   "source": [
    "4. Sort the dataset by the different column levels. **Hint:** to sort by level, you must specify the level and column in a tuple. The general syntax is `pd.DataFrame.sort_values(by = (<level>, <column name>))`."
   ]
  },
  {
   "cell_type": "code",
   "execution_count": 2,
   "metadata": {
    "scrolled": true
   },
   "outputs": [
    {
     "data": {
      "text/html": [
       "<div>\n",
       "<style scoped>\n",
       "    .dataframe tbody tr th:only-of-type {\n",
       "        vertical-align: middle;\n",
       "    }\n",
       "\n",
       "    .dataframe tbody tr th {\n",
       "        vertical-align: top;\n",
       "    }\n",
       "\n",
       "    .dataframe thead tr th {\n",
       "        text-align: left;\n",
       "    }\n",
       "</style>\n",
       "<table border=\"1\" class=\"dataframe\">\n",
       "  <thead>\n",
       "    <tr>\n",
       "      <th></th>\n",
       "      <th></th>\n",
       "      <th colspan=\"2\" halign=\"left\">A</th>\n",
       "      <th>B</th>\n",
       "    </tr>\n",
       "    <tr>\n",
       "      <th></th>\n",
       "      <th></th>\n",
       "      <th>x</th>\n",
       "      <th>y</th>\n",
       "      <th>x</th>\n",
       "    </tr>\n",
       "  </thead>\n",
       "  <tbody>\n",
       "    <tr>\n",
       "      <td rowspan=\"2\" valign=\"top\">a</td>\n",
       "      <td>5</td>\n",
       "      <td>0.519427</td>\n",
       "      <td>0.575028</td>\n",
       "      <td>0.572158</td>\n",
       "    </tr>\n",
       "    <tr>\n",
       "      <td>6</td>\n",
       "      <td>0.455852</td>\n",
       "      <td>0.447914</td>\n",
       "      <td>0.408985</td>\n",
       "    </tr>\n",
       "    <tr>\n",
       "      <td rowspan=\"2\" valign=\"top\">b</td>\n",
       "      <td>6</td>\n",
       "      <td>0.075348</td>\n",
       "      <td>0.456354</td>\n",
       "      <td>0.541799</td>\n",
       "    </tr>\n",
       "    <tr>\n",
       "      <td>6</td>\n",
       "      <td>0.185952</td>\n",
       "      <td>0.522912</td>\n",
       "      <td>0.409019</td>\n",
       "    </tr>\n",
       "  </tbody>\n",
       "</table>\n",
       "</div>"
      ],
      "text/plain": [
       "            A                   B\n",
       "            x         y         x\n",
       "a 5  0.519427  0.575028  0.572158\n",
       "  6  0.455852  0.447914  0.408985\n",
       "b 6  0.075348  0.456354  0.541799\n",
       "  6  0.185952  0.522912  0.409019"
      ]
     },
     "execution_count": 2,
     "metadata": {},
     "output_type": "execute_result"
    }
   ],
   "source": [
    "data = pd.DataFrame(np.random.rand(12).reshape((4,3)),\n",
    "                    index = [['a','a','b','b'], [5,6,6,6]],\n",
    "                    columns = [['A','A','B'],['x','y','x']])\n",
    "data"
   ]
  },
  {
   "cell_type": "code",
   "execution_count": 3,
   "metadata": {},
   "outputs": [
    {
     "data": {
      "text/html": [
       "<div>\n",
       "<style scoped>\n",
       "    .dataframe tbody tr th:only-of-type {\n",
       "        vertical-align: middle;\n",
       "    }\n",
       "\n",
       "    .dataframe tbody tr th {\n",
       "        vertical-align: top;\n",
       "    }\n",
       "\n",
       "    .dataframe thead tr th {\n",
       "        text-align: left;\n",
       "    }\n",
       "</style>\n",
       "<table border=\"1\" class=\"dataframe\">\n",
       "  <thead>\n",
       "    <tr>\n",
       "      <th></th>\n",
       "      <th></th>\n",
       "      <th colspan=\"2\" halign=\"left\">A</th>\n",
       "      <th>B</th>\n",
       "    </tr>\n",
       "    <tr>\n",
       "      <th></th>\n",
       "      <th></th>\n",
       "      <th>x</th>\n",
       "      <th>y</th>\n",
       "      <th>x</th>\n",
       "    </tr>\n",
       "  </thead>\n",
       "  <tbody>\n",
       "    <tr>\n",
       "      <td rowspan=\"2\" valign=\"top\">b</td>\n",
       "      <td>6</td>\n",
       "      <td>0.075348</td>\n",
       "      <td>0.456354</td>\n",
       "      <td>0.541799</td>\n",
       "    </tr>\n",
       "    <tr>\n",
       "      <td>6</td>\n",
       "      <td>0.185952</td>\n",
       "      <td>0.522912</td>\n",
       "      <td>0.409019</td>\n",
       "    </tr>\n",
       "    <tr>\n",
       "      <td rowspan=\"2\" valign=\"top\">a</td>\n",
       "      <td>6</td>\n",
       "      <td>0.455852</td>\n",
       "      <td>0.447914</td>\n",
       "      <td>0.408985</td>\n",
       "    </tr>\n",
       "    <tr>\n",
       "      <td>5</td>\n",
       "      <td>0.519427</td>\n",
       "      <td>0.575028</td>\n",
       "      <td>0.572158</td>\n",
       "    </tr>\n",
       "  </tbody>\n",
       "</table>\n",
       "</div>"
      ],
      "text/plain": [
       "            A                   B\n",
       "            x         y         x\n",
       "b 6  0.075348  0.456354  0.541799\n",
       "  6  0.185952  0.522912  0.409019\n",
       "a 6  0.455852  0.447914  0.408985\n",
       "  5  0.519427  0.575028  0.572158"
      ]
     },
     "execution_count": 3,
     "metadata": {},
     "output_type": "execute_result"
    }
   ],
   "source": [
    "data.sort_values(by = ('A','x'))"
   ]
  },
  {
   "cell_type": "code",
   "execution_count": 4,
   "metadata": {},
   "outputs": [
    {
     "data": {
      "text/html": [
       "<div>\n",
       "<style scoped>\n",
       "    .dataframe tbody tr th:only-of-type {\n",
       "        vertical-align: middle;\n",
       "    }\n",
       "\n",
       "    .dataframe tbody tr th {\n",
       "        vertical-align: top;\n",
       "    }\n",
       "\n",
       "    .dataframe thead tr th {\n",
       "        text-align: left;\n",
       "    }\n",
       "</style>\n",
       "<table border=\"1\" class=\"dataframe\">\n",
       "  <thead>\n",
       "    <tr>\n",
       "      <th></th>\n",
       "      <th></th>\n",
       "      <th colspan=\"2\" halign=\"left\">A</th>\n",
       "      <th>B</th>\n",
       "    </tr>\n",
       "    <tr>\n",
       "      <th></th>\n",
       "      <th></th>\n",
       "      <th>x</th>\n",
       "      <th>y</th>\n",
       "      <th>x</th>\n",
       "    </tr>\n",
       "  </thead>\n",
       "  <tbody>\n",
       "    <tr>\n",
       "      <td>a</td>\n",
       "      <td>6</td>\n",
       "      <td>0.455852</td>\n",
       "      <td>0.447914</td>\n",
       "      <td>0.408985</td>\n",
       "    </tr>\n",
       "    <tr>\n",
       "      <td rowspan=\"2\" valign=\"top\">b</td>\n",
       "      <td>6</td>\n",
       "      <td>0.185952</td>\n",
       "      <td>0.522912</td>\n",
       "      <td>0.409019</td>\n",
       "    </tr>\n",
       "    <tr>\n",
       "      <td>6</td>\n",
       "      <td>0.075348</td>\n",
       "      <td>0.456354</td>\n",
       "      <td>0.541799</td>\n",
       "    </tr>\n",
       "    <tr>\n",
       "      <td>a</td>\n",
       "      <td>5</td>\n",
       "      <td>0.519427</td>\n",
       "      <td>0.575028</td>\n",
       "      <td>0.572158</td>\n",
       "    </tr>\n",
       "  </tbody>\n",
       "</table>\n",
       "</div>"
      ],
      "text/plain": [
       "            A                   B\n",
       "            x         y         x\n",
       "a 6  0.455852  0.447914  0.408985\n",
       "b 6  0.185952  0.522912  0.409019\n",
       "  6  0.075348  0.456354  0.541799\n",
       "a 5  0.519427  0.575028  0.572158"
      ]
     },
     "execution_count": 4,
     "metadata": {},
     "output_type": "execute_result"
    }
   ],
   "source": [
    "data.sort_values(by = ('B','x'))"
   ]
  },
  {
   "cell_type": "markdown",
   "metadata": {},
   "source": [
    "# References\n",
    "\n",
    "McKinney, W. (2013). *Python for Data Analysis*. O'Reilly Media: Sebastopol, California."
   ]
  }
 ],
 "metadata": {
  "kernelspec": {
   "display_name": "Python 3",
   "language": "python",
   "name": "python3"
  },
  "language_info": {
   "codemirror_mode": {
    "name": "ipython",
    "version": 3
   },
   "file_extension": ".py",
   "mimetype": "text/x-python",
   "name": "python",
   "nbconvert_exporter": "python",
   "pygments_lexer": "ipython3",
   "version": "3.7.4"
  }
 },
 "nbformat": 4,
 "nbformat_minor": 2
}
