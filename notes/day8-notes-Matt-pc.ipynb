{
 "cells": [
  {
   "cell_type": "markdown",
   "metadata": {},
   "source": [
    "# ICT 782 - Day 8 Notes\n",
    "\n",
    "# Classification\n",
    "\n",
    "To begin today's introduction to a few useful analysis techniques, we first introduce the problem of **classification**. Given a dataset, **classification** is the process of assigning data to various **classes**, or groups. For example, we may be given a dataset of patient test results and we are asked to group the patients according to some criteria not contained in the dataset. \n",
    "\n",
    "Another example could be that we are working in a bank and are asked to predict the probability of mortgage default given several measured account variables. This may not seem like a classification problem, but we are predicting the probability of default using class information. In this case, the two classes are defined by whether the customer defaulted on their mortgage or not.\n",
    "\n",
    "Finally, an example from computer vision is automatically sorting digital images into classes based on their content. The classes could be types of animal, letters of the alphabet, or single digits from 0-9 (among many, many more)."
   ]
  },
  {
   "cell_type": "markdown",
   "metadata": {},
   "source": [
    "## *Example:* Classifying data\n",
    "\n",
    "Suppose we are given a dataset containing various race and lap times for 7 runners. The dataset also has a record of whether or not each runner took a water break during the race. The dataset might look like this:\n",
    "\n",
    "|Runner|Lap 1|Lap 2|Lap 3|Time|Break|\n",
    "|---|---|---|---|---|---|\n",
    "|Ace|2:32|3:01|2:47|8:20|0|\n",
    "|Bob|2:34|2:59|3:02|8:35|1|\n",
    "|Cay|3:03|2:26|2:36|8:05|0|\n",
    "|Dot|2:37|2:48|2:41|8:06|1|\n",
    "|Eve|2:50|3:14|3:37|9:41|1|\n",
    "|Fay|2:15|2:20|2:31|7:06|0|\n",
    "|Zed|2:26|2:51|2:43|8:00|1|\n",
    "\n",
    "What are some ways we could sort the runners into classes?"
   ]
  },
  {
   "cell_type": "markdown",
   "metadata": {},
   "source": [
    "**Ways to sort the runners into classes**\n",
    "\n",
    "* "
   ]
  },
  {
   "cell_type": "markdown",
   "metadata": {},
   "source": [
    "## The reasons for classifying data\n",
    "\n",
    "Sometimes, it is enough to simply organize the data into classes. However, we may also think of classification as a **training** process. If we can **train** a decision-making process (or *model*) to correctly classify our data, then it is possible that we can use our decision-making process to accurately classify new data that wasn't part of our original dataset.\n",
    "\n",
    "This is done through three steps:\n",
    "\n",
    "1. Training the model - we use a 'training set' to develop our decision-making process for classifying data. We refer to the decision-making process as the *model*. Our model has various **parameters**, depending on our classification technique.\n",
    "\n",
    "2. Validating the model - we use the model from step 1 to classify data in a 'validation set'. We keep track of any classification errors made by our model and update the model parameters to reduce these errors.\n",
    "\n",
    "3. Testing the model - we use the updated model from step 2 to classify data in a 'test set'. This is the final unbiased evaulation of the model (the model is not updated anymore).\n",
    "\n",
    "We won't be updating our model parameters today, but we will revisit this idea next week.\n",
    "\n",
    "We usually use mean-squared error (MSE) to measure how well our model makes predictions. If $y_i$ represents the true class for an observation $x_i$ and $\\hat{y}_i$ is the predicted class, then the MSE is calculated as:\n",
    "$$\n",
    "    MSE = \\sum_{i}(y_i - \\hat{y}_i)^2,\n",
    "$$\n",
    "where the sum is taken over all predictions. \n",
    "\n",
    "Today we'll look at a few techniques for developing classification models. The models from each technique each have their own parameters. We'll also look at advantages and disadvantages for each technique, and where each technique can be used.\n",
    "\n",
    "**Note:** There is no one classification technique that dominates all others for any given dataset. To ensure that this point is made strongly enough, it even has a name: the *No free lunch Theorem*. The use of the term *Theorem* indicates that this is mathematically proven."
   ]
  },
  {
   "cell_type": "code",
   "execution_count": 1,
   "metadata": {},
   "outputs": [],
   "source": [
    "import numpy as np\n",
    "import pandas as pd\n",
    "\n",
    "import matplotlib.pyplot as plt\n",
    "from ipywidgets.widgets import interact\n",
    "\n",
    "# Sklearn has a convenient function for splitting datasets into training and testing sets.\n",
    "from sklearn.model_selection import train_test_split\n",
    "\n",
    "plt.style.use('ggplot')"
   ]
  },
  {
   "cell_type": "markdown",
   "metadata": {},
   "source": [
    "# Nearest neighbor classification\n",
    "\n",
    "We briefly looked at k-Nearest Neighbors (kNN) when we discussed missing values on Day 3. The idea was that we could replace a missing value with synthetic data generated from complete rows. To do this, we searched through the dataset and took the mean of observations with column values *close* to the column values in the row with missing data. The *closeness* of values was defined by the Euclidean distance, which can be imagined as the Pythagorean Theorem in multiple dimensions.\n",
    "\n",
    "Suppose we have a dataset $X$ with its rows given by $x_i$. Suppose also that observations in the dataset belong to one of 2 classes. The last column of the dataset will represent the class to which each row belongs, and will have values $y_i$ to represent this class. We'll say that $y_i$ is either 0 or 1, which does a good job of representing two classes. \n",
    "\n",
    "Let the *indicator function* $I_1(y_i)$ be defined by\n",
    "$$\n",
    "    I_1(y_i) = \\begin{cases}1, & y_i = 1 \\\\ 0, & \\text{otherwise} \\end{cases}.\n",
    "$$\n",
    "\n",
    "We will also denote the $k$ closest *neighbors* of an observation $x_0$ as the numbers $1,2,\\ldots,k$. Then the probability that the observation $x_0$ is in the class $j$ (where $1\\leq j \\leq k$) is given by\n",
    "$$\n",
    "    \\frac{1}{k}\\sum_{i=1}^k I_j(y_i).\n",
    "$$\n",
    "\n",
    "We calculate this for all classes, and then assign $x_0$ to the class with the highest probability.\n",
    "\n",
    "The kNN calculation may look scary, but it is really the 'majority vote' of observations close to $x_0$. \n",
    "\n",
    "We don't need to worry too much about the calculations, since sklearn takes care of that for us. Let's see an example of kNN at work."
   ]
  },
  {
   "cell_type": "markdown",
   "metadata": {},
   "source": [
    "## *Example:* Classification with kNN\n",
    "\n",
    "For this example, we'll use the 'wine' dataset from Day 7. This dataset has three classes and 13 columns of predictor variables."
   ]
  },
  {
   "cell_type": "code",
   "execution_count": 64,
   "metadata": {},
   "outputs": [],
   "source": [
    "from sklearn.neighbors import KNeighborsClassifier as KNN\n",
    "from sklearn.datasets import load_wine\n",
    "\n",
    "# Specify the number of neighbors to use\n",
    "k = 3\n",
    "\n",
    "# Load the data and split into training and testing sets\n",
    "wine = load_wine()\n",
    "\n",
    "predictors = pd.DataFrame(wine['data'])\n",
    "y = pd.DataFrame(wine['target'])\n",
    "\n",
    "predictors['y'] = y"
   ]
  },
  {
   "cell_type": "code",
   "execution_count": 65,
   "metadata": {},
   "outputs": [],
   "source": [
    "train, test = train_test_split(predictors, test_size = 0.2)\n",
    "\n",
    "X_train = train.drop('y', axis = 1)\n",
    "y_train = train['y']\n",
    "\n",
    "X_test = test.drop('y', axis = 1)\n",
    "y_test = test['y']"
   ]
  },
  {
   "cell_type": "code",
   "execution_count": 66,
   "metadata": {},
   "outputs": [],
   "source": [
    "# Performing kNN classification\n",
    "knn_model = KNN(n_neighbors = k)\n",
    "knn_model.fit(X_train, y_train)\n",
    "\n",
    "# Predict class labels for test set\n",
    "y_pred = knn_model.predict(X_test)\n",
    "\n",
    "# Predict probabilities of class labels for test set\n",
    "y_prob = knn_model.predict_proba(X_test)"
   ]
  },
  {
   "cell_type": "code",
   "execution_count": 67,
   "metadata": {},
   "outputs": [
    {
     "name": "stdout",
     "output_type": "stream",
     "text": [
      "kNN classifier accuracy with k = 3: 84.5070 %\n"
     ]
    }
   ],
   "source": [
    "# View the mean accuracy of the model\n",
    "accuracy = knn_model.score(X_train, y_train)\n",
    "\n",
    "print('kNN classifier accuracy with k = {}: {:.4f} %'.format(k, 100*accuracy))"
   ]
  },
  {
   "cell_type": "markdown",
   "metadata": {},
   "source": [
    "# Logistic regression\n",
    "\n",
    "This classification technique is used in a slightly different situation than kNN. In the vast majority of cases, we use logistic regression to estimate the probability that observations in a dataset are in one of two classes. Hence, we are not directly placing observations into a class, but we're finding their *probability* or *likelihood* of belonging to a particular class.\n",
    "\n",
    "Since we only use logistic regression for the two-class problem, we can represent the two classes as 0 and 1. This can also be thought of as the probability of 'success' (class is 1) or 'failure' (class is 0) for observations in a given dataset. As with other classification problems, we separate the data into training, evaluation, and testing sets. We write 'the probability of success *given* the training set $X$' as $P(\\text{class} = 1 | X)$.\n",
    "\n",
    "The mathematical expression for this estimated probability is called the logistic or 'sigmoid' function. It's called the 'sigmoid' function because, when plotted, the curve looks like the letter 'S' ('Sigma' is the Greek 'S'). For this reason, the function is often denoted by $\\sigma$. The expression for this function is\n",
    "$$\n",
    "    P(\\text{class} = 1 | X) = \\sigma(X) = \\frac{e^{\\beta_0 + \\beta_1X}}{1 + e^{\\beta_0 + \\beta_1X}}.\n",
    "$$\n",
    "\n",
    "Let's plot the sigmoid function with various values of $\\beta_0$ and $\\beta_1$ and some evenly spaced $X$ values between -10 and 10."
   ]
  },
  {
   "cell_type": "code",
   "execution_count": 15,
   "metadata": {},
   "outputs": [
    {
     "data": {
      "application/vnd.jupyter.widget-view+json": {
       "model_id": "f7c43af3e17a4a7aa70e64f650c75d91",
       "version_major": 2,
       "version_minor": 0
      },
      "text/plain": [
       "interactive(children=(FloatSlider(value=5.0, description='b0', max=10.0), FloatSlider(value=5.0, description='…"
      ]
     },
     "metadata": {},
     "output_type": "display_data"
    }
   ],
   "source": [
    "@interact\n",
    "def plot_sigmoid(b0 = (0.0,10.0,0.1), b1 = (0.0,10.0,0.1)):\n",
    "    \"\"\" Plotting the sigmoid or 'logistic' function. \"\"\"\n",
    "    \n",
    "    x = np.linspace(-10,10,201)\n",
    "    \n",
    "    def sigmoid(x, b0 = b0, b1 = b1):\n",
    "        return np.exp(b0 + b1*x)/(1+np.exp(b0 + b1*x))\n",
    "\n",
    "    fig, ax = plt.subplots(figsize=(8,8))\n",
    "\n",
    "    x = np.linspace(-10,10,201)\n",
    "\n",
    "    ax.plot(x, sigmoid(x))\n",
    "    ax.grid(True)\n",
    "    ax.set(title = 'Plot of logistic (sigmoid) function $\\sigma(x)$', \n",
    "           xlabel = r'$x$', \n",
    "           ylabel = r'$\\sigma(x)$', \n",
    "           ylim = [-0.2, 1.2]);"
   ]
  },
  {
   "cell_type": "markdown",
   "metadata": {},
   "source": [
    "The above expression for the probability is useful for visualizations, but the actual calculations to estimate the $\\beta_0$ and $\\beta_1$ parameters uses what is called the 'log-odds' or 'logit' function, defined by\n",
    "$$\n",
    "    \\log\\left(\\frac{\\sigma(X)}{1-\\sigma(X)}\\right) = \\beta_0 + \\beta_1X,\n",
    "$$\n",
    "where $\\frac{\\sigma(X)}{1-\\sigma(X)}$ is the 'odds' or 'probability of success'.\n",
    "\n",
    "The exact process of estimating the parameters of this function requires calculus (Maximum Likelihood Estimation), so we won't discuss that here. Instead, let's look at how to perform a logistic regression using sklearn and Python."
   ]
  },
  {
   "cell_type": "markdown",
   "metadata": {},
   "source": [
    "## *Example:* Logistic regression\n",
    "\n",
    "Can total cholesterol levels predict the probability of coronary heart disease? Our dataset comes from the Framingham Heart study, a [long-term study](https://en.wikipedia.org/wiki/Framingham_Heart_Study) in the risk of heart disease that has been ongoing since 1948. The dataset was obtained from [Kaggle](https://www.kaggle.com/amanajmera1/framingham-heart-study-dataset), a popular online community of data analysts of all skill levels. The dataset has the following columns:\n",
    "\n",
    "* `male` - 0 = Female, 1 = Male\n",
    "* `age` - age at exam time\n",
    "* `education` - 1 = Some High School, 2 = High School or GED, 3 = Some College or Vocational School, 4 = college\n",
    "* `currentSmoker` - 0 = nonsmoker, 1 = smoker\n",
    "* `cigsPerDay` - number of cigarettes smoked per day (estimated average)\n",
    "* `BPMeds` - 0 = not on blood pressure medications, 1 = is on blood pressure medications\n",
    "* `prevalentStroke` - 1 = has had a stroke, 0 = no stroke\n",
    "* `prevalentHyp` - 1 = has hypertension, 0 = no hypertension\n",
    "* `diabetes` - 1 = yes, 0 = no\n",
    "* `totChol` - mg/dL\n",
    "* `sysBP` - mmHg\n",
    "* `diaBP` - mmHg\n",
    "* `BMI` - Body Mass Index calculated as: weight (kg)/height(meters-squared)\n",
    "* `heartRate` - beats/min (Ventricular)\n",
    "* `glucose` - mg/dL\n",
    "* `TenYearCHD` - 1 = coronary heart disease 10 years from exam time, 0 = no coronary heart disease\n",
    "\n",
    "We'll load in the data and put the `totChol` column into a variable called `X` and put the `TenYearCHD` into a variable called `y`. We'll further split our data into training and testing sets for respectively estimating parameters and evaluating our final model (we won't use an evaluation set to update our parameters). \n",
    "\n",
    "To make things easier, we'll drop missing values. We'll also set aside 20% of the data for the test set."
   ]
  },
  {
   "cell_type": "code",
   "execution_count": 47,
   "metadata": {},
   "outputs": [
    {
     "data": {
      "text/html": [
       "<div>\n",
       "<style scoped>\n",
       "    .dataframe tbody tr th:only-of-type {\n",
       "        vertical-align: middle;\n",
       "    }\n",
       "\n",
       "    .dataframe tbody tr th {\n",
       "        vertical-align: top;\n",
       "    }\n",
       "\n",
       "    .dataframe thead th {\n",
       "        text-align: right;\n",
       "    }\n",
       "</style>\n",
       "<table border=\"1\" class=\"dataframe\">\n",
       "  <thead>\n",
       "    <tr style=\"text-align: right;\">\n",
       "      <th></th>\n",
       "      <th>male</th>\n",
       "      <th>age</th>\n",
       "      <th>education</th>\n",
       "      <th>currentSmoker</th>\n",
       "      <th>cigsPerDay</th>\n",
       "      <th>BPMeds</th>\n",
       "      <th>prevalentStroke</th>\n",
       "      <th>prevalentHyp</th>\n",
       "      <th>diabetes</th>\n",
       "      <th>totChol</th>\n",
       "      <th>sysBP</th>\n",
       "      <th>diaBP</th>\n",
       "      <th>BMI</th>\n",
       "      <th>heartRate</th>\n",
       "      <th>glucose</th>\n",
       "      <th>TenYearCHD</th>\n",
       "    </tr>\n",
       "  </thead>\n",
       "  <tbody>\n",
       "    <tr>\n",
       "      <th>0</th>\n",
       "      <td>1</td>\n",
       "      <td>39</td>\n",
       "      <td>4.0</td>\n",
       "      <td>0</td>\n",
       "      <td>0.0</td>\n",
       "      <td>0.0</td>\n",
       "      <td>0</td>\n",
       "      <td>0</td>\n",
       "      <td>0</td>\n",
       "      <td>195.0</td>\n",
       "      <td>106.0</td>\n",
       "      <td>70.0</td>\n",
       "      <td>26.97</td>\n",
       "      <td>80.0</td>\n",
       "      <td>77.0</td>\n",
       "      <td>0</td>\n",
       "    </tr>\n",
       "    <tr>\n",
       "      <th>1</th>\n",
       "      <td>0</td>\n",
       "      <td>46</td>\n",
       "      <td>2.0</td>\n",
       "      <td>0</td>\n",
       "      <td>0.0</td>\n",
       "      <td>0.0</td>\n",
       "      <td>0</td>\n",
       "      <td>0</td>\n",
       "      <td>0</td>\n",
       "      <td>250.0</td>\n",
       "      <td>121.0</td>\n",
       "      <td>81.0</td>\n",
       "      <td>28.73</td>\n",
       "      <td>95.0</td>\n",
       "      <td>76.0</td>\n",
       "      <td>0</td>\n",
       "    </tr>\n",
       "    <tr>\n",
       "      <th>2</th>\n",
       "      <td>1</td>\n",
       "      <td>48</td>\n",
       "      <td>1.0</td>\n",
       "      <td>1</td>\n",
       "      <td>20.0</td>\n",
       "      <td>0.0</td>\n",
       "      <td>0</td>\n",
       "      <td>0</td>\n",
       "      <td>0</td>\n",
       "      <td>245.0</td>\n",
       "      <td>127.5</td>\n",
       "      <td>80.0</td>\n",
       "      <td>25.34</td>\n",
       "      <td>75.0</td>\n",
       "      <td>70.0</td>\n",
       "      <td>0</td>\n",
       "    </tr>\n",
       "    <tr>\n",
       "      <th>3</th>\n",
       "      <td>0</td>\n",
       "      <td>61</td>\n",
       "      <td>3.0</td>\n",
       "      <td>1</td>\n",
       "      <td>30.0</td>\n",
       "      <td>0.0</td>\n",
       "      <td>0</td>\n",
       "      <td>1</td>\n",
       "      <td>0</td>\n",
       "      <td>225.0</td>\n",
       "      <td>150.0</td>\n",
       "      <td>95.0</td>\n",
       "      <td>28.58</td>\n",
       "      <td>65.0</td>\n",
       "      <td>103.0</td>\n",
       "      <td>1</td>\n",
       "    </tr>\n",
       "    <tr>\n",
       "      <th>4</th>\n",
       "      <td>0</td>\n",
       "      <td>46</td>\n",
       "      <td>3.0</td>\n",
       "      <td>1</td>\n",
       "      <td>23.0</td>\n",
       "      <td>0.0</td>\n",
       "      <td>0</td>\n",
       "      <td>0</td>\n",
       "      <td>0</td>\n",
       "      <td>285.0</td>\n",
       "      <td>130.0</td>\n",
       "      <td>84.0</td>\n",
       "      <td>23.10</td>\n",
       "      <td>85.0</td>\n",
       "      <td>85.0</td>\n",
       "      <td>0</td>\n",
       "    </tr>\n",
       "    <tr>\n",
       "      <th>...</th>\n",
       "      <td>...</td>\n",
       "      <td>...</td>\n",
       "      <td>...</td>\n",
       "      <td>...</td>\n",
       "      <td>...</td>\n",
       "      <td>...</td>\n",
       "      <td>...</td>\n",
       "      <td>...</td>\n",
       "      <td>...</td>\n",
       "      <td>...</td>\n",
       "      <td>...</td>\n",
       "      <td>...</td>\n",
       "      <td>...</td>\n",
       "      <td>...</td>\n",
       "      <td>...</td>\n",
       "      <td>...</td>\n",
       "    </tr>\n",
       "    <tr>\n",
       "      <th>4233</th>\n",
       "      <td>1</td>\n",
       "      <td>50</td>\n",
       "      <td>1.0</td>\n",
       "      <td>1</td>\n",
       "      <td>1.0</td>\n",
       "      <td>0.0</td>\n",
       "      <td>0</td>\n",
       "      <td>1</td>\n",
       "      <td>0</td>\n",
       "      <td>313.0</td>\n",
       "      <td>179.0</td>\n",
       "      <td>92.0</td>\n",
       "      <td>25.97</td>\n",
       "      <td>66.0</td>\n",
       "      <td>86.0</td>\n",
       "      <td>1</td>\n",
       "    </tr>\n",
       "    <tr>\n",
       "      <th>4234</th>\n",
       "      <td>1</td>\n",
       "      <td>51</td>\n",
       "      <td>3.0</td>\n",
       "      <td>1</td>\n",
       "      <td>43.0</td>\n",
       "      <td>0.0</td>\n",
       "      <td>0</td>\n",
       "      <td>0</td>\n",
       "      <td>0</td>\n",
       "      <td>207.0</td>\n",
       "      <td>126.5</td>\n",
       "      <td>80.0</td>\n",
       "      <td>19.71</td>\n",
       "      <td>65.0</td>\n",
       "      <td>68.0</td>\n",
       "      <td>0</td>\n",
       "    </tr>\n",
       "    <tr>\n",
       "      <th>4237</th>\n",
       "      <td>0</td>\n",
       "      <td>52</td>\n",
       "      <td>2.0</td>\n",
       "      <td>0</td>\n",
       "      <td>0.0</td>\n",
       "      <td>0.0</td>\n",
       "      <td>0</td>\n",
       "      <td>0</td>\n",
       "      <td>0</td>\n",
       "      <td>269.0</td>\n",
       "      <td>133.5</td>\n",
       "      <td>83.0</td>\n",
       "      <td>21.47</td>\n",
       "      <td>80.0</td>\n",
       "      <td>107.0</td>\n",
       "      <td>0</td>\n",
       "    </tr>\n",
       "    <tr>\n",
       "      <th>4238</th>\n",
       "      <td>1</td>\n",
       "      <td>40</td>\n",
       "      <td>3.0</td>\n",
       "      <td>0</td>\n",
       "      <td>0.0</td>\n",
       "      <td>0.0</td>\n",
       "      <td>0</td>\n",
       "      <td>1</td>\n",
       "      <td>0</td>\n",
       "      <td>185.0</td>\n",
       "      <td>141.0</td>\n",
       "      <td>98.0</td>\n",
       "      <td>25.60</td>\n",
       "      <td>67.0</td>\n",
       "      <td>72.0</td>\n",
       "      <td>0</td>\n",
       "    </tr>\n",
       "    <tr>\n",
       "      <th>4239</th>\n",
       "      <td>0</td>\n",
       "      <td>39</td>\n",
       "      <td>3.0</td>\n",
       "      <td>1</td>\n",
       "      <td>30.0</td>\n",
       "      <td>0.0</td>\n",
       "      <td>0</td>\n",
       "      <td>0</td>\n",
       "      <td>0</td>\n",
       "      <td>196.0</td>\n",
       "      <td>133.0</td>\n",
       "      <td>86.0</td>\n",
       "      <td>20.91</td>\n",
       "      <td>85.0</td>\n",
       "      <td>80.0</td>\n",
       "      <td>0</td>\n",
       "    </tr>\n",
       "  </tbody>\n",
       "</table>\n",
       "<p>3658 rows × 16 columns</p>\n",
       "</div>"
      ],
      "text/plain": [
       "      male  age  education  currentSmoker  cigsPerDay  BPMeds  \\\n",
       "0        1   39        4.0              0         0.0     0.0   \n",
       "1        0   46        2.0              0         0.0     0.0   \n",
       "2        1   48        1.0              1        20.0     0.0   \n",
       "3        0   61        3.0              1        30.0     0.0   \n",
       "4        0   46        3.0              1        23.0     0.0   \n",
       "...    ...  ...        ...            ...         ...     ...   \n",
       "4233     1   50        1.0              1         1.0     0.0   \n",
       "4234     1   51        3.0              1        43.0     0.0   \n",
       "4237     0   52        2.0              0         0.0     0.0   \n",
       "4238     1   40        3.0              0         0.0     0.0   \n",
       "4239     0   39        3.0              1        30.0     0.0   \n",
       "\n",
       "      prevalentStroke  prevalentHyp  diabetes  totChol  sysBP  diaBP    BMI  \\\n",
       "0                   0             0         0    195.0  106.0   70.0  26.97   \n",
       "1                   0             0         0    250.0  121.0   81.0  28.73   \n",
       "2                   0             0         0    245.0  127.5   80.0  25.34   \n",
       "3                   0             1         0    225.0  150.0   95.0  28.58   \n",
       "4                   0             0         0    285.0  130.0   84.0  23.10   \n",
       "...               ...           ...       ...      ...    ...    ...    ...   \n",
       "4233                0             1         0    313.0  179.0   92.0  25.97   \n",
       "4234                0             0         0    207.0  126.5   80.0  19.71   \n",
       "4237                0             0         0    269.0  133.5   83.0  21.47   \n",
       "4238                0             1         0    185.0  141.0   98.0  25.60   \n",
       "4239                0             0         0    196.0  133.0   86.0  20.91   \n",
       "\n",
       "      heartRate  glucose  TenYearCHD  \n",
       "0          80.0     77.0           0  \n",
       "1          95.0     76.0           0  \n",
       "2          75.0     70.0           0  \n",
       "3          65.0    103.0           1  \n",
       "4          85.0     85.0           0  \n",
       "...         ...      ...         ...  \n",
       "4233       66.0     86.0           1  \n",
       "4234       65.0     68.0           0  \n",
       "4237       80.0    107.0           0  \n",
       "4238       67.0     72.0           0  \n",
       "4239       85.0     80.0           0  \n",
       "\n",
       "[3658 rows x 16 columns]"
      ]
     },
     "execution_count": 47,
     "metadata": {},
     "output_type": "execute_result"
    }
   ],
   "source": [
    "fram = pd.read_csv('framingham.csv')\n",
    "fram.dropna(inplace = True)\n",
    "fram"
   ]
  },
  {
   "cell_type": "code",
   "execution_count": 143,
   "metadata": {},
   "outputs": [],
   "source": [
    "train, test = train_test_split(fram[['totChol','TenYearCHD']], test_size = 0.2)\n",
    "\n",
    "# LogisticRegression function only wants NumPy arrays for X values\n",
    "X_train = np.array(train['totChol']).reshape(-1,1)\n",
    "y_train = np.array(train['TenYearCHD'])\n",
    "\n",
    "X_test = np.array(test['totChol'].sort_values()).reshape(-1,1)\n",
    "y_test = test['TenYearCHD']"
   ]
  },
  {
   "cell_type": "markdown",
   "metadata": {},
   "source": [
    "Let's make a scatterplot of the training data just to see if we can visually fit a sigmoid curve to the data."
   ]
  },
  {
   "cell_type": "code",
   "execution_count": 144,
   "metadata": {},
   "outputs": [
    {
     "data": {
      "image/png": "[encoded data removed]",
      "text/plain": [
       "<Figure size 432x288 with 1 Axes>"
      ]
     },
     "metadata": {},
     "output_type": "display_data"
    }
   ],
   "source": [
    "fig, ax = plt.subplots()\n",
    "\n",
    "ax.scatter(X_train, y_train);\n",
    "ax.set(title = 'Scatterplot of coronary heart disease vs cholesterol', \n",
    "       xlabel = 'cholesterol (mg/dL)', \n",
    "       ylabel = 'coronary heart disease');"
   ]
  },
  {
   "cell_type": "markdown",
   "metadata": {},
   "source": [
    "Now we'll estimate the logistic regression parameters."
   ]
  },
  {
   "cell_type": "code",
   "execution_count": 145,
   "metadata": {},
   "outputs": [
    {
     "name": "stdout",
     "output_type": "stream",
     "text": [
      "b0 = [-2.9334921], b1 = [0.00500571]\n"
     ]
    }
   ],
   "source": [
    "from sklearn.linear_model import LogisticRegression\n",
    "\n",
    "logit = LogisticRegression()\n",
    "logit.fit(X_train, y_train)\n",
    "\n",
    "# Displaying the parameters from the regression\n",
    "b0 = logit.intercept_\n",
    "b1 = logit.coef_[0]\n",
    "print('b0 = {}, b1 = {}'.format(b0, b1))"
   ]
  },
  {
   "cell_type": "code",
   "execution_count": 150,
   "metadata": {},
   "outputs": [
    {
     "data": {
      "image/png": "[encoded data removed]",
      "text/plain": [
       "<Figure size 576x576 with 1 Axes>"
      ]
     },
     "metadata": {},
     "output_type": "display_data"
    }
   ],
   "source": [
    "\"\"\" Predicting probability of heart disease for a special 'plotting' set.\n",
    "    The predict_proba() method returns an array with two columns of the form:\n",
    "    [[probability of 'failure', probability of 'success']]\n",
    "    \n",
    "    This is a little messed up, since coronary heart disease is by no means \n",
    "    a 'success'.\n",
    "\"\"\"\n",
    "\n",
    "x_plot = np.arange(-100,1000,0.5).reshape(-1, 1)\n",
    "y_prob = logit.predict_proba(x_plot)\n",
    "\n",
    "fig, ax = plt.subplots(figsize = (8,8))\n",
    "\n",
    "# y_pred = np.exp(sigmoid(X_test, b0, b1))\n",
    "ax.scatter(X_train, y_train);\n",
    "ax.set_xlim([0,700])\n",
    "ax.plot(x_plot, y_prob[:,1], color = 'b');\n",
    "\n",
    "ax.set(title = 'Logistic curve for coronary heart disease', \n",
    "       xlabel = 'cholesterol', \n",
    "       ylabel = 'coronary heart disease');"
   ]
  },
  {
   "cell_type": "code",
   "execution_count": 151,
   "metadata": {},
   "outputs": [
    {
     "name": "stdout",
     "output_type": "stream",
     "text": [
      "Logistic regression achieved 84.0164 % accuracy on the test set.\n"
     ]
    }
   ],
   "source": [
    "# Displaying the testing accuracy\n",
    "accuracy = logit.score(X_test, y_test)\n",
    "\n",
    "print('Logistic regression achieved {:.4f} % accuracy on the test set.'.format(accuracy*100))"
   ]
  },
  {
   "cell_type": "markdown",
   "metadata": {},
   "source": [
    "## Multiple logistic regression\n",
    "\n",
    "This is a relatively simple extension of logistic regression. Instead of using one variable to predict the log-odds, we use several. Therefore, the logit function now looks like this:\n",
    "$$\n",
    "    \\log\\left(\\frac{\\sigma(X)}{1-\\sigma(X)}\\right) = \\beta_0 + \\beta_1X_1 + \\beta_2X_2 + \\cdots + \\beta_pX_p,\n",
    "$$\n",
    "where each $X_i$ represents an independent variable (usually a column of data)."
   ]
  },
  {
   "cell_type": "markdown",
   "metadata": {},
   "source": [
    "## *Example:* Multiple logistic regression\n",
    "\n",
    "Let's see if we can better predict coronary heart disease using more variables. We'll use `cigsPerDay`, `totChol`, `BMI`, `heartRate`, and `glucose` as our predictor variables."
   ]
  },
  {
   "cell_type": "code",
   "execution_count": 157,
   "metadata": {},
   "outputs": [],
   "source": [
    "# Loading and splitting the data\n",
    "fram = pd.read_csv('framingham.csv')\n",
    "fram.dropna(inplace = True)\n",
    "data = fram[['cigsPerDay','totChol','BMI','heartRate','glucose','TenYearCHD']]\n",
    "\n",
    "train, test = train_test_split(data, test_size = 0.2)\n",
    "\n",
    "X_train = train.drop('TenYearCHD', axis = 1)\n",
    "y_train = np.array(train['TenYearCHD'])\n",
    "\n",
    "X_test = test.drop('TenYearCHD', axis = 1)\n",
    "y_test = test['TenYearCHD']"
   ]
  },
  {
   "cell_type": "code",
   "execution_count": 165,
   "metadata": {},
   "outputs": [
    {
     "name": "stdout",
     "output_type": "stream",
     "text": [
      "Coefficients from the multivariate logit function:\n",
      "b0 = [-5.00681416], b = [ 0.01471328  0.00544331  0.04808714 -0.00360845  0.01059186]\n"
     ]
    }
   ],
   "source": [
    "mlogit = LogisticRegression()\n",
    "mlogit.fit(X_train, y_train)\n",
    "\n",
    "# Displaying the parameters from the regression\n",
    "b0 = mlogit.intercept_\n",
    "b = mlogit.coef_[0]\n",
    "print('Coefficients from the multivariate logit function:')\n",
    "print('b0 = {}, b = {}'.format(b0, b))"
   ]
  },
  {
   "cell_type": "code",
   "execution_count": 160,
   "metadata": {},
   "outputs": [
    {
     "name": "stdout",
     "output_type": "stream",
     "text": [
      "Multiple logistic regression achieved 86.3388 % accuracy on the test set.\n"
     ]
    }
   ],
   "source": [
    "# Displaying the testing accuracy\n",
    "accuracy = mlogit.score(X_test, y_test)\n",
    "\n",
    "print('Multiple logistic regression achieved {:.4f} % accuracy on the test set.'.format(accuracy*100))"
   ]
  },
  {
   "cell_type": "markdown",
   "metadata": {},
   "source": [
    "While it is also possible to extend logistic regression to multiple classes, it isn't done very often. Other methods are simpler and work just as well. However, one way to implement an easy multi-class logistic regression is to use a one-vs-rest approach. This can be done by isolating one class and then lumping all other classes together, then proceeding with logistic regression. This can be repeated for each class."
   ]
  },
  {
   "cell_type": "markdown",
   "metadata": {},
   "source": [
    "# Summary"
   ]
  },
  {
   "cell_type": "markdown",
   "metadata": {},
   "source": [
    "# *Exercises*\n",
    "\n",
    "1. With the Framingham heart study data, use kNN to estimate coronary heart disease based on total cholesterol. Compare the results to the logistic regression above."
   ]
  },
  {
   "cell_type": "code",
   "execution_count": null,
   "metadata": {},
   "outputs": [],
   "source": []
  },
  {
   "cell_type": "markdown",
   "metadata": {},
   "source": [
    "2. Use all predictor variables in the Framingham dataset to predict the probability of coronary heart disease. Compare the results to the results above."
   ]
  },
  {
   "cell_type": "code",
   "execution_count": null,
   "metadata": {},
   "outputs": [],
   "source": []
  },
  {
   "cell_type": "markdown",
   "metadata": {},
   "source": [
    "3. Use kNN on the Framingham heart data with all predictors to predict class (coronary heart disease). Compare to the multiple logistic regression above."
   ]
  },
  {
   "cell_type": "code",
   "execution_count": null,
   "metadata": {},
   "outputs": [],
   "source": []
  },
  {
   "cell_type": "markdown",
   "metadata": {},
   "source": [
    "4. Using a one-vs-rest scheme, use multiple logistic regression on the wine dataset to predict the probability that a wine is in class 0 or class 1 (which is both class 1 and 2 combined)."
   ]
  },
  {
   "cell_type": "code",
   "execution_count": null,
   "metadata": {},
   "outputs": [],
   "source": []
  }
 ],
 "metadata": {
  "kernelspec": {
   "display_name": "Python 3",
   "language": "python",
   "name": "python3"
  },
  "language_info": {
   "codemirror_mode": {
    "name": "ipython",
    "version": 3
   },
   "file_extension": ".py",
   "mimetype": "text/x-python",
   "name": "python",
   "nbconvert_exporter": "python",
   "pygments_lexer": "ipython3",
   "version": "3.7.6"
  }
 },
 "nbformat": 4,
 "nbformat_minor": 2
}
