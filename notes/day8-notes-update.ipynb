{
 "cells": [
  {
   "cell_type": "markdown",
   "metadata": {},
   "source": [
    "# ICT 782 - Day 8 Notes\n",
    "\n",
    "# Classification\n",
    "\n",
    "To begin today's introduction to a few useful analysis techniques, we first introduce the problem of **classification**. Given a dataset, **classification** is the process of assigning data to various **classes**, or groups. For example, we may be given a dataset of patient test results and we are asked to group the patients according to some criteria not contained in the dataset. \n",
    "\n",
    "Another example could be that we are working in a bank and are asked to predict the probability of mortgage default given several measured account variables. This may not seem like a classification problem, but we are predicting the probability of default using class information. In this case, the two classes are defined by whether the customer defaulted on their mortgage or not.\n",
    "\n",
    "Finally, an example from computer vision is automatically sorting digital images into classes based on their content. The classes could be types of animal, letters of the alphabet, or single digits from 0-9 (among many, many more)."
   ]
  },
  {
   "cell_type": "markdown",
   "metadata": {},
   "source": [
    "## *Example:* Classifying data\n",
    "\n",
    "Suppose we are given a dataset containing various race and lap times for 7 runners. The dataset also has a record of whether or not each runner took a water break during the race. The dataset might look like this:\n",
    "\n",
    "|Runner|Lap 1|Lap 2|Lap 3|Time|Break|\n",
    "|---|---|---|---|---|---|\n",
    "|Ace|2:32|3:01|2:47|8:20|0|\n",
    "|Bob|2:34|2:59|3:02|8:35|1|\n",
    "|Cay|3:03|2:26|2:36|8:05|0|\n",
    "|Dot|2:37|2:48|2:41|8:06|1|\n",
    "|Eve|2:50|3:14|3:37|9:41|1|\n",
    "|Fay|2:15|2:20|2:31|7:06|0|\n",
    "|Zed|2:26|2:51|2:43|8:00|1|\n",
    "\n",
    "What are some ways we could sort the runners into classes?"
   ]
  },
  {
   "cell_type": "markdown",
   "metadata": {},
   "source": [
    "**Ways to sort the runners into classes**\n",
    "\n",
    "* Whether or not the runner took a break (two classes)\n",
    "* Time less than 8:30 or not (2 classes)\n",
    "* Those runners with lap times slower than 2:30\n",
    "* Sort by quartiles (over a certain variable) (4 classes)\n",
    "* Whether or not their name contains the letter 'a' (2 classes)"
   ]
  },
  {
   "cell_type": "markdown",
   "metadata": {},
   "source": [
    "## The reasons for classifying data\n",
    "\n",
    "Sometimes, it is enough to simply organize the data into classes. However, we may also think of classification as a **training** process. If we can **train** a decision-making process (or *model*) to correctly classify our data, then it is possible that we can use our decision-making process to accurately classify new data that wasn't part of our original dataset.\n",
    "\n",
    "This is done through three steps:\n",
    "\n",
    "1. Training the model - we use a 'training set' to develop our decision-making process for classifying data. We refer to the decision-making process as the *model*. Our model has various **parameters**, depending on our classification technique.\n",
    "\n",
    "2. Validating the model - we use the model from step 1 to classify data in a 'validation set'. We keep track of any classification errors made by our model and update the model parameters to reduce these errors.\n",
    "\n",
    "3. Testing the model - we use the updated model from step 2 to classify data in a 'test set'. This is the final unbiased evaluation of the model (the model is not updated anymore).\n",
    "\n",
    "We won't be updating our model parameters today, but we will revisit this idea next week.\n",
    "\n",
    "We usually use mean-squared error (MSE) to measure how well our model makes predictions. If $y_i$ represents the true class for an observation $x_i$ and $\\hat{y}_i$ is the predicted class, then the MSE is calculated as:\n",
    "$$\n",
    "    MSE = c\\sum_{i}(y_i - \\hat{y}_i)^2,\n",
    "$$\n",
    "where the sum is taken over all predictions. \n",
    "\n",
    "Today we'll look at a few techniques for developing classification models. The models from each technique each have their own parameters. We'll also look at advantages and disadvantages for each technique, and where each technique can be used.\n",
    "\n",
    "**Note:** There is no one classification technique that dominates all others for any given dataset. To ensure that this point is made strongly enough, it even has a name: the *No free lunch Theorem*. The use of the term *Theorem* indicates that this is mathematically proven."
   ]
  },
  {
   "cell_type": "code",
   "execution_count": 1,
   "metadata": {},
   "outputs": [],
   "source": [
    "import numpy as np\n",
    "import pandas as pd\n",
    "\n",
    "import matplotlib.pyplot as plt\n",
    "from ipywidgets.widgets import interact\n",
    "\n",
    "# Sklearn has a convenient function for splitting datasets into training and testing sets.\n",
    "from sklearn.model_selection import train_test_split\n",
    "\n",
    "plt.style.use('ggplot')"
   ]
  },
  {
   "cell_type": "markdown",
   "metadata": {},
   "source": [
    "# Nearest neighbor classification\n",
    "\n",
    "We briefly looked at k-Nearest Neighbors (kNN) when we discussed missing values on Day 3. The idea was that we could replace a missing value with synthetic data generated from complete rows. To do this, we searched through the dataset and took the mean of observations with column values *close* to the column values in the row with missing data. The *closeness* of values was defined by the Euclidean distance, which can be imagined as the Pythagorean Theorem in multiple dimensions.\n",
    "\n",
    "Suppose we have a dataset $X$ with its rows given by $x_i$. Suppose also that observations in the dataset belong to one of 2 classes. The last column of the dataset will represent the class to which each row belongs, and will have values $y_i$ to represent this class. We'll say that $y_i$ is either 0 or 1, which does a good job of representing two classes. \n",
    "\n",
    "Let the *indicator function* $I_1(y_i)$ be defined by\n",
    "$$\n",
    "    I_1(y_i) = \\begin{cases}1, & y_i = 1 \\\\ 0, & \\text{otherwise} \\end{cases}.\n",
    "$$\n",
    "\n",
    "We will also denote the $k$ closest *neighbors* of an observation $x_0$ as the numbers $1,2,\\ldots,k$. Then the probability that the observation $x_0$ is in the class $j$ (where $1\\leq j \\leq k$) is given by\n",
    "$$\n",
    "    \\frac{1}{k}\\sum_{i=1}^k I_j(y_i).\n",
    "$$\n",
    "\n",
    "We calculate this for all classes, and then assign $x_0$ to the class with the highest probability.\n",
    "\n",
    "The kNN calculation may look scary, but it is really the 'majority vote' of observations close to $x_0$. \n",
    "\n",
    "We don't need to worry too much about the calculations, since sklearn takes care of that for us. Let's see an example of kNN at work."
   ]
  },
  {
   "cell_type": "markdown",
   "metadata": {},
   "source": [
    "## *Example:* Classification with kNN\n",
    "\n",
    "For this example, we'll use the 'wine' dataset from Day 7. This dataset has three classes and 13 columns of predictor variables."
   ]
  },
  {
   "cell_type": "code",
   "execution_count": 34,
   "metadata": {},
   "outputs": [
    {
     "data": {
      "text/html": [
       "<div>\n",
       "<style scoped>\n",
       "    .dataframe tbody tr th:only-of-type {\n",
       "        vertical-align: middle;\n",
       "    }\n",
       "\n",
       "    .dataframe tbody tr th {\n",
       "        vertical-align: top;\n",
       "    }\n",
       "\n",
       "    .dataframe thead th {\n",
       "        text-align: right;\n",
       "    }\n",
       "</style>\n",
       "<table border=\"1\" class=\"dataframe\">\n",
       "  <thead>\n",
       "    <tr style=\"text-align: right;\">\n",
       "      <th></th>\n",
       "      <th>0</th>\n",
       "      <th>1</th>\n",
       "      <th>2</th>\n",
       "      <th>3</th>\n",
       "      <th>4</th>\n",
       "      <th>5</th>\n",
       "      <th>6</th>\n",
       "      <th>7</th>\n",
       "      <th>8</th>\n",
       "      <th>9</th>\n",
       "      <th>10</th>\n",
       "      <th>11</th>\n",
       "      <th>12</th>\n",
       "      <th>y</th>\n",
       "    </tr>\n",
       "  </thead>\n",
       "  <tbody>\n",
       "    <tr>\n",
       "      <th>0</th>\n",
       "      <td>14.23</td>\n",
       "      <td>1.71</td>\n",
       "      <td>2.43</td>\n",
       "      <td>15.6</td>\n",
       "      <td>127.0</td>\n",
       "      <td>2.80</td>\n",
       "      <td>3.06</td>\n",
       "      <td>0.28</td>\n",
       "      <td>2.29</td>\n",
       "      <td>5.64</td>\n",
       "      <td>1.04</td>\n",
       "      <td>3.92</td>\n",
       "      <td>1065.0</td>\n",
       "      <td>0</td>\n",
       "    </tr>\n",
       "    <tr>\n",
       "      <th>1</th>\n",
       "      <td>13.20</td>\n",
       "      <td>1.78</td>\n",
       "      <td>2.14</td>\n",
       "      <td>11.2</td>\n",
       "      <td>100.0</td>\n",
       "      <td>2.65</td>\n",
       "      <td>2.76</td>\n",
       "      <td>0.26</td>\n",
       "      <td>1.28</td>\n",
       "      <td>4.38</td>\n",
       "      <td>1.05</td>\n",
       "      <td>3.40</td>\n",
       "      <td>1050.0</td>\n",
       "      <td>0</td>\n",
       "    </tr>\n",
       "    <tr>\n",
       "      <th>2</th>\n",
       "      <td>13.16</td>\n",
       "      <td>2.36</td>\n",
       "      <td>2.67</td>\n",
       "      <td>18.6</td>\n",
       "      <td>101.0</td>\n",
       "      <td>2.80</td>\n",
       "      <td>3.24</td>\n",
       "      <td>0.30</td>\n",
       "      <td>2.81</td>\n",
       "      <td>5.68</td>\n",
       "      <td>1.03</td>\n",
       "      <td>3.17</td>\n",
       "      <td>1185.0</td>\n",
       "      <td>0</td>\n",
       "    </tr>\n",
       "    <tr>\n",
       "      <th>3</th>\n",
       "      <td>14.37</td>\n",
       "      <td>1.95</td>\n",
       "      <td>2.50</td>\n",
       "      <td>16.8</td>\n",
       "      <td>113.0</td>\n",
       "      <td>3.85</td>\n",
       "      <td>3.49</td>\n",
       "      <td>0.24</td>\n",
       "      <td>2.18</td>\n",
       "      <td>7.80</td>\n",
       "      <td>0.86</td>\n",
       "      <td>3.45</td>\n",
       "      <td>1480.0</td>\n",
       "      <td>0</td>\n",
       "    </tr>\n",
       "    <tr>\n",
       "      <th>4</th>\n",
       "      <td>13.24</td>\n",
       "      <td>2.59</td>\n",
       "      <td>2.87</td>\n",
       "      <td>21.0</td>\n",
       "      <td>118.0</td>\n",
       "      <td>2.80</td>\n",
       "      <td>2.69</td>\n",
       "      <td>0.39</td>\n",
       "      <td>1.82</td>\n",
       "      <td>4.32</td>\n",
       "      <td>1.04</td>\n",
       "      <td>2.93</td>\n",
       "      <td>735.0</td>\n",
       "      <td>0</td>\n",
       "    </tr>\n",
       "    <tr>\n",
       "      <th>...</th>\n",
       "      <td>...</td>\n",
       "      <td>...</td>\n",
       "      <td>...</td>\n",
       "      <td>...</td>\n",
       "      <td>...</td>\n",
       "      <td>...</td>\n",
       "      <td>...</td>\n",
       "      <td>...</td>\n",
       "      <td>...</td>\n",
       "      <td>...</td>\n",
       "      <td>...</td>\n",
       "      <td>...</td>\n",
       "      <td>...</td>\n",
       "      <td>...</td>\n",
       "    </tr>\n",
       "    <tr>\n",
       "      <th>173</th>\n",
       "      <td>13.71</td>\n",
       "      <td>5.65</td>\n",
       "      <td>2.45</td>\n",
       "      <td>20.5</td>\n",
       "      <td>95.0</td>\n",
       "      <td>1.68</td>\n",
       "      <td>0.61</td>\n",
       "      <td>0.52</td>\n",
       "      <td>1.06</td>\n",
       "      <td>7.70</td>\n",
       "      <td>0.64</td>\n",
       "      <td>1.74</td>\n",
       "      <td>740.0</td>\n",
       "      <td>2</td>\n",
       "    </tr>\n",
       "    <tr>\n",
       "      <th>174</th>\n",
       "      <td>13.40</td>\n",
       "      <td>3.91</td>\n",
       "      <td>2.48</td>\n",
       "      <td>23.0</td>\n",
       "      <td>102.0</td>\n",
       "      <td>1.80</td>\n",
       "      <td>0.75</td>\n",
       "      <td>0.43</td>\n",
       "      <td>1.41</td>\n",
       "      <td>7.30</td>\n",
       "      <td>0.70</td>\n",
       "      <td>1.56</td>\n",
       "      <td>750.0</td>\n",
       "      <td>2</td>\n",
       "    </tr>\n",
       "    <tr>\n",
       "      <th>175</th>\n",
       "      <td>13.27</td>\n",
       "      <td>4.28</td>\n",
       "      <td>2.26</td>\n",
       "      <td>20.0</td>\n",
       "      <td>120.0</td>\n",
       "      <td>1.59</td>\n",
       "      <td>0.69</td>\n",
       "      <td>0.43</td>\n",
       "      <td>1.35</td>\n",
       "      <td>10.20</td>\n",
       "      <td>0.59</td>\n",
       "      <td>1.56</td>\n",
       "      <td>835.0</td>\n",
       "      <td>2</td>\n",
       "    </tr>\n",
       "    <tr>\n",
       "      <th>176</th>\n",
       "      <td>13.17</td>\n",
       "      <td>2.59</td>\n",
       "      <td>2.37</td>\n",
       "      <td>20.0</td>\n",
       "      <td>120.0</td>\n",
       "      <td>1.65</td>\n",
       "      <td>0.68</td>\n",
       "      <td>0.53</td>\n",
       "      <td>1.46</td>\n",
       "      <td>9.30</td>\n",
       "      <td>0.60</td>\n",
       "      <td>1.62</td>\n",
       "      <td>840.0</td>\n",
       "      <td>2</td>\n",
       "    </tr>\n",
       "    <tr>\n",
       "      <th>177</th>\n",
       "      <td>14.13</td>\n",
       "      <td>4.10</td>\n",
       "      <td>2.74</td>\n",
       "      <td>24.5</td>\n",
       "      <td>96.0</td>\n",
       "      <td>2.05</td>\n",
       "      <td>0.76</td>\n",
       "      <td>0.56</td>\n",
       "      <td>1.35</td>\n",
       "      <td>9.20</td>\n",
       "      <td>0.61</td>\n",
       "      <td>1.60</td>\n",
       "      <td>560.0</td>\n",
       "      <td>2</td>\n",
       "    </tr>\n",
       "  </tbody>\n",
       "</table>\n",
       "<p>178 rows × 14 columns</p>\n",
       "</div>"
      ],
      "text/plain": [
       "         0     1     2     3      4     5     6     7     8      9    10  \\\n",
       "0    14.23  1.71  2.43  15.6  127.0  2.80  3.06  0.28  2.29   5.64  1.04   \n",
       "1    13.20  1.78  2.14  11.2  100.0  2.65  2.76  0.26  1.28   4.38  1.05   \n",
       "2    13.16  2.36  2.67  18.6  101.0  2.80  3.24  0.30  2.81   5.68  1.03   \n",
       "3    14.37  1.95  2.50  16.8  113.0  3.85  3.49  0.24  2.18   7.80  0.86   \n",
       "4    13.24  2.59  2.87  21.0  118.0  2.80  2.69  0.39  1.82   4.32  1.04   \n",
       "..     ...   ...   ...   ...    ...   ...   ...   ...   ...    ...   ...   \n",
       "173  13.71  5.65  2.45  20.5   95.0  1.68  0.61  0.52  1.06   7.70  0.64   \n",
       "174  13.40  3.91  2.48  23.0  102.0  1.80  0.75  0.43  1.41   7.30  0.70   \n",
       "175  13.27  4.28  2.26  20.0  120.0  1.59  0.69  0.43  1.35  10.20  0.59   \n",
       "176  13.17  2.59  2.37  20.0  120.0  1.65  0.68  0.53  1.46   9.30  0.60   \n",
       "177  14.13  4.10  2.74  24.5   96.0  2.05  0.76  0.56  1.35   9.20  0.61   \n",
       "\n",
       "       11      12  y  \n",
       "0    3.92  1065.0  0  \n",
       "1    3.40  1050.0  0  \n",
       "2    3.17  1185.0  0  \n",
       "3    3.45  1480.0  0  \n",
       "4    2.93   735.0  0  \n",
       "..    ...     ... ..  \n",
       "173  1.74   740.0  2  \n",
       "174  1.56   750.0  2  \n",
       "175  1.56   835.0  2  \n",
       "176  1.62   840.0  2  \n",
       "177  1.60   560.0  2  \n",
       "\n",
       "[178 rows x 14 columns]"
      ]
     },
     "execution_count": 34,
     "metadata": {},
     "output_type": "execute_result"
    }
   ],
   "source": [
    "from sklearn.neighbors import KNeighborsClassifier as KNN\n",
    "from sklearn.datasets import load_wine\n",
    "\n",
    "# Specify the number of neighbors to use\n",
    "k = 3\n",
    "\n",
    "# Load the data and split into training and testing sets\n",
    "wine = load_wine()\n",
    "\n",
    "predictors = pd.DataFrame(wine['data'])\n",
    "y = pd.DataFrame(wine['target'])\n",
    "\n",
    "predictors['y'] = y\n",
    "predictors"
   ]
  },
  {
   "cell_type": "code",
   "execution_count": 35,
   "metadata": {},
   "outputs": [],
   "source": [
    "train, test = train_test_split(predictors, test_size = 0.2)\n",
    "\n",
    "X_train = train.drop('y', axis = 1)\n",
    "y_train = train['y']\n",
    "\n",
    "X_test = test.drop('y', axis = 1)\n",
    "y_test = test['y']"
   ]
  },
  {
   "cell_type": "code",
   "execution_count": 36,
   "metadata": {},
   "outputs": [
    {
     "data": {
      "text/plain": [
       "KNeighborsClassifier(algorithm='auto', leaf_size=30, metric='minkowski',\n",
       "                     metric_params=None, n_jobs=None, n_neighbors=3, p=2,\n",
       "                     weights='uniform')"
      ]
     },
     "execution_count": 36,
     "metadata": {},
     "output_type": "execute_result"
    }
   ],
   "source": [
    "# Performing kNN classification\n",
    "knn_model = KNN(n_neighbors = k)\n",
    "knn_model.fit(X_train, y_train)"
   ]
  },
  {
   "cell_type": "code",
   "execution_count": 37,
   "metadata": {},
   "outputs": [],
   "source": [
    "# Predict class labels for test set\n",
    "y_pred = knn_model.predict(X_test)\n",
    "\n",
    "# Predict probabilities of class labels for test set\n",
    "y_prob = knn_model.predict_proba(X_test)"
   ]
  },
  {
   "cell_type": "code",
   "execution_count": 38,
   "metadata": {},
   "outputs": [
    {
     "name": "stdout",
     "output_type": "stream",
     "text": [
      "kNN classifier accuracy with k = 3: 88.0282 %\n"
     ]
    }
   ],
   "source": [
    "# View the mean accuracy of the model\n",
    "accuracy = knn_model.score(X_train, y_train)\n",
    "\n",
    "print('kNN classifier accuracy with k = {}: {:.4f} %'.format(k, 100*accuracy))"
   ]
  },
  {
   "cell_type": "code",
   "execution_count": 39,
   "metadata": {},
   "outputs": [],
   "source": [
    "# Let's do it again with only two columns in X\n",
    "\n",
    "X_train = X_train[[0,1]]\n",
    "X_test = X_test[[0,1]]"
   ]
  },
  {
   "cell_type": "code",
   "execution_count": 40,
   "metadata": {},
   "outputs": [
    {
     "data": {
      "image/png": "[encoded data removed]",
      "text/plain": [
       "<Figure size 432x288 with 1 Axes>"
      ]
     },
     "metadata": {},
     "output_type": "display_data"
    }
   ],
   "source": [
    "fig, ax = plt.subplots()\n",
    "\n",
    "X_plot = X_train\n",
    "X_plot['y'] = y_train\n",
    "X_plot['color'] = np.where(X_plot['y'] == 0, 'r', np.where(X_plot['y'] == 1, 'g', 'b'))\n",
    "    \n",
    "ax.scatter(X_plot[0], X_plot[1], color = X_plot['color']);"
   ]
  },
  {
   "cell_type": "code",
   "execution_count": 48,
   "metadata": {},
   "outputs": [
    {
     "data": {
      "image/png": "[encoded data removed]",
      "text/plain": [
       "<Figure size 432x288 with 1 Axes>"
      ]
     },
     "metadata": {},
     "output_type": "display_data"
    }
   ],
   "source": [
    "# Performing kNN classification\n",
    "knn_model = KNN(n_neighbors = k)\n",
    "knn_model.fit(X_train[[0,1]], y_train)\n",
    "\n",
    "# Predict class labels for test set\n",
    "y_pred = knn_model.predict(X_test[[0,1]])\n",
    "\n",
    "# Predict probabilities of class labels for test set\n",
    "y_prob = knn_model.predict_proba(X_test[[0,1]])\n",
    "\n",
    "fig, ax = plt.subplots()\n",
    "\n",
    "X_plot = X_train\n",
    "X_plot_test = X_test\n",
    "\n",
    "X_plot['y'] = y_train\n",
    "X_plot_test['y'] = y_pred\n",
    "y_pred\n",
    "\n",
    "X_plot['color'] = np.where(X_plot['y'] == 0, 'r', np.where(X_plot['y'] == 1, 'g', 'b'))\n",
    "X_plot_test['color'] = np.where(X_plot_test['y'] == 0, 'm', np.where(X_plot_test['y'] == 1, 'y', 'c'))\n",
    "    \n",
    "ax.scatter(X_plot[0], X_plot[1], color = X_plot['color']);\n",
    "ax.scatter(X_plot_test[0], X_plot_test[1], color = X_plot_test['color']);\n",
    "ax.set(title = 'Scatterplot of predicted class labels by color', \n",
    "       xlabel = 'x0', \n",
    "       ylabel = 'x1');"
   ]
  },
  {
   "cell_type": "markdown",
   "metadata": {},
   "source": [
    "# Logistic regression\n",
    "\n",
    "This classification technique is used in a slightly different situation than kNN. In the vast majority of cases, we use logistic regression to estimate the probability that observations in a dataset are in one of two classes. Hence, we are not directly placing observations into a class, but we're finding their *probability* or *likelihood* of belonging to a particular class.\n",
    "\n",
    "Since we only use logistic regression for the two-class problem, we can represent the two classes as 0 and 1. This can also be thought of as the probability of 'success' (class is 1) or 'failure' (class is 0) for observations in a given dataset. As with other classification problems, we separate the data into training, evaluation, and testing sets. We write 'the probability of success *given* the training set $X$' as $P(\\text{class} = 1 | X)$.\n",
    "\n",
    "The mathematical expression for this estimated probability is called the logistic or 'sigmoid' function. It's called the 'sigmoid' function because, when plotted, the curve looks like the letter 'S' ('Sigma' is the Greek 'S'). For this reason, the function is often denoted by $\\sigma$. The expression for this function is\n",
    "$$\n",
    "    P(\\text{class} = 1 | X) = \\sigma(X) = \\frac{e^{\\beta_0 + \\beta_1X}}{1 + e^{\\beta_0 + \\beta_1X}}.\n",
    "$$\n",
    "\n",
    "Let's plot the sigmoid function with various values of $\\beta_0$ and $\\beta_1$ and some evenly spaced $X$ values between -10 and 10."
   ]
  },
  {
   "cell_type": "code",
   "execution_count": 30,
   "metadata": {},
   "outputs": [
    {
     "data": {
      "application/vnd.jupyter.widget-view+json": {
       "model_id": "13d1783fb9d145749ed64134d2a32130",
       "version_major": 2,
       "version_minor": 0
      },
      "text/plain": [
       "interactive(children=(FloatSlider(value=0.0, description='b0', max=10.0, min=-10.0), FloatSlider(value=0.0, de…"
      ]
     },
     "metadata": {},
     "output_type": "display_data"
    }
   ],
   "source": [
    "@interact\n",
    "def plot_sigmoid(b0 = (-10.0,10.0,0.1), b1 = (-10.0,10.0,0.1)):\n",
    "    \"\"\" Plotting the sigmoid or 'logistic' function. \"\"\"\n",
    "    \n",
    "    x = np.linspace(-10,10,201)\n",
    "    \n",
    "    def sigmoid(x, b0 = b0, b1 = b1):\n",
    "        return np.exp(b0 + b1*x)/(1+np.exp(b0 + b1*x))\n",
    "\n",
    "    fig, ax = plt.subplots(figsize=(8,8))\n",
    "\n",
    "    x = np.linspace(-10,10,201)\n",
    "\n",
    "    ax.plot(x, sigmoid(x))\n",
    "    ax.grid(True)\n",
    "    ax.set(title = 'Plot of logistic (sigmoid) function $\\sigma(x)$', \n",
    "           xlabel = r'$x$', \n",
    "           ylabel = r'$\\sigma(x)$', \n",
    "           ylim = [-0.2, 1.2]);"
   ]
  },
  {
   "cell_type": "markdown",
   "metadata": {},
   "source": [
    "The above expression for the probability is useful for visualizations, but the actual calculations to estimate the $\\beta_0$ and $\\beta_1$ parameters use what is called the 'log-odds' or 'logit' function, defined by\n",
    "$$\n",
    "    \\log\\left(\\frac{\\sigma(X)}{1-\\sigma(X)}\\right) = \\beta_0 + \\beta_1X,\n",
    "$$\n",
    "where $\\frac{\\sigma(X)}{1-\\sigma(X)}$ is the 'odds' or 'probability of success'.\n",
    "\n",
    "The exact process of estimating the parameters of this function requires calculus (Maximum Likelihood Estimation), so we won't discuss that here. Instead, let's look at how to perform a logistic regression using sklearn and Python."
   ]
  },
  {
   "cell_type": "markdown",
   "metadata": {},
   "source": [
    "## *Example:* Logistic regression\n",
    "\n",
    "Can total cholesterol levels predict the probability of coronary heart disease? Our dataset comes from the Framingham Heart study, a [long-term study](https://en.wikipedia.org/wiki/Framingham_Heart_Study) in the risk of heart disease that has been ongoing since 1948. The dataset was obtained from [Kaggle](https://www.kaggle.com/amanajmera1/framingham-heart-study-dataset), a popular online community of data analysts of all skill levels. The dataset has the following columns:\n",
    "\n",
    "* `male` - 0 = Female, 1 = Male\n",
    "* `age` - age at exam time\n",
    "* `education` - 1 = Some High School, 2 = High School or GED, 3 = Some College or Vocational School, 4 = college\n",
    "* `currentSmoker` - 0 = nonsmoker, 1 = smoker\n",
    "* `cigsPerDay` - number of cigarettes smoked per day (estimated average)\n",
    "* `BPMeds` - 0 = not on blood pressure medications, 1 = is on blood pressure medications\n",
    "* `prevalentStroke` - 1 = has had a stroke, 0 = no stroke\n",
    "* `prevalentHyp` - 1 = has hypertension, 0 = no hypertension\n",
    "* `diabetes` - 1 = yes, 0 = no\n",
    "* `totChol` - mg/dL\n",
    "* `sysBP` - mmHg\n",
    "* `diaBP` - mmHg\n",
    "* `BMI` - Body Mass Index calculated as: weight (kg)/height(meters-squared)\n",
    "* `heartRate` - beats/min (Ventricular)\n",
    "* `glucose` - mg/dL\n",
    "* `TenYearCHD` - 1 = coronary heart disease 10 years from exam time, 0 = no coronary heart disease\n",
    "\n",
    "We'll load in the data and put the `totChol` column into a variable called `X` and put the `TenYearCHD` into a variable called `y`. We'll further split our data into training and testing sets for respectively estimating parameters and evaluating our final model (we won't use an evaluation set to update our parameters). \n",
    "\n",
    "To make things easier, we'll drop missing values. We'll also set aside 20% of the data for the test set."
   ]
  },
  {
   "cell_type": "code",
   "execution_count": 22,
   "metadata": {},
   "outputs": [
    {
     "data": {
      "text/html": [
       "<div>\n",
       "<style scoped>\n",
       "    .dataframe tbody tr th:only-of-type {\n",
       "        vertical-align: middle;\n",
       "    }\n",
       "\n",
       "    .dataframe tbody tr th {\n",
       "        vertical-align: top;\n",
       "    }\n",
       "\n",
       "    .dataframe thead th {\n",
       "        text-align: right;\n",
       "    }\n",
       "</style>\n",
       "<table border=\"1\" class=\"dataframe\">\n",
       "  <thead>\n",
       "    <tr style=\"text-align: right;\">\n",
       "      <th></th>\n",
       "      <th>male</th>\n",
       "      <th>age</th>\n",
       "      <th>education</th>\n",
       "      <th>currentSmoker</th>\n",
       "      <th>cigsPerDay</th>\n",
       "      <th>BPMeds</th>\n",
       "      <th>prevalentStroke</th>\n",
       "      <th>prevalentHyp</th>\n",
       "      <th>diabetes</th>\n",
       "      <th>totChol</th>\n",
       "      <th>sysBP</th>\n",
       "      <th>diaBP</th>\n",
       "      <th>BMI</th>\n",
       "      <th>heartRate</th>\n",
       "      <th>glucose</th>\n",
       "      <th>TenYearCHD</th>\n",
       "    </tr>\n",
       "  </thead>\n",
       "  <tbody>\n",
       "    <tr>\n",
       "      <th>0</th>\n",
       "      <td>1</td>\n",
       "      <td>39</td>\n",
       "      <td>4.0</td>\n",
       "      <td>0</td>\n",
       "      <td>0.0</td>\n",
       "      <td>0.0</td>\n",
       "      <td>0</td>\n",
       "      <td>0</td>\n",
       "      <td>0</td>\n",
       "      <td>195.0</td>\n",
       "      <td>106.0</td>\n",
       "      <td>70.0</td>\n",
       "      <td>26.97</td>\n",
       "      <td>80.0</td>\n",
       "      <td>77.0</td>\n",
       "      <td>0</td>\n",
       "    </tr>\n",
       "    <tr>\n",
       "      <th>1</th>\n",
       "      <td>0</td>\n",
       "      <td>46</td>\n",
       "      <td>2.0</td>\n",
       "      <td>0</td>\n",
       "      <td>0.0</td>\n",
       "      <td>0.0</td>\n",
       "      <td>0</td>\n",
       "      <td>0</td>\n",
       "      <td>0</td>\n",
       "      <td>250.0</td>\n",
       "      <td>121.0</td>\n",
       "      <td>81.0</td>\n",
       "      <td>28.73</td>\n",
       "      <td>95.0</td>\n",
       "      <td>76.0</td>\n",
       "      <td>0</td>\n",
       "    </tr>\n",
       "    <tr>\n",
       "      <th>2</th>\n",
       "      <td>1</td>\n",
       "      <td>48</td>\n",
       "      <td>1.0</td>\n",
       "      <td>1</td>\n",
       "      <td>20.0</td>\n",
       "      <td>0.0</td>\n",
       "      <td>0</td>\n",
       "      <td>0</td>\n",
       "      <td>0</td>\n",
       "      <td>245.0</td>\n",
       "      <td>127.5</td>\n",
       "      <td>80.0</td>\n",
       "      <td>25.34</td>\n",
       "      <td>75.0</td>\n",
       "      <td>70.0</td>\n",
       "      <td>0</td>\n",
       "    </tr>\n",
       "    <tr>\n",
       "      <th>3</th>\n",
       "      <td>0</td>\n",
       "      <td>61</td>\n",
       "      <td>3.0</td>\n",
       "      <td>1</td>\n",
       "      <td>30.0</td>\n",
       "      <td>0.0</td>\n",
       "      <td>0</td>\n",
       "      <td>1</td>\n",
       "      <td>0</td>\n",
       "      <td>225.0</td>\n",
       "      <td>150.0</td>\n",
       "      <td>95.0</td>\n",
       "      <td>28.58</td>\n",
       "      <td>65.0</td>\n",
       "      <td>103.0</td>\n",
       "      <td>1</td>\n",
       "    </tr>\n",
       "    <tr>\n",
       "      <th>4</th>\n",
       "      <td>0</td>\n",
       "      <td>46</td>\n",
       "      <td>3.0</td>\n",
       "      <td>1</td>\n",
       "      <td>23.0</td>\n",
       "      <td>0.0</td>\n",
       "      <td>0</td>\n",
       "      <td>0</td>\n",
       "      <td>0</td>\n",
       "      <td>285.0</td>\n",
       "      <td>130.0</td>\n",
       "      <td>84.0</td>\n",
       "      <td>23.10</td>\n",
       "      <td>85.0</td>\n",
       "      <td>85.0</td>\n",
       "      <td>0</td>\n",
       "    </tr>\n",
       "    <tr>\n",
       "      <th>...</th>\n",
       "      <td>...</td>\n",
       "      <td>...</td>\n",
       "      <td>...</td>\n",
       "      <td>...</td>\n",
       "      <td>...</td>\n",
       "      <td>...</td>\n",
       "      <td>...</td>\n",
       "      <td>...</td>\n",
       "      <td>...</td>\n",
       "      <td>...</td>\n",
       "      <td>...</td>\n",
       "      <td>...</td>\n",
       "      <td>...</td>\n",
       "      <td>...</td>\n",
       "      <td>...</td>\n",
       "      <td>...</td>\n",
       "    </tr>\n",
       "    <tr>\n",
       "      <th>4233</th>\n",
       "      <td>1</td>\n",
       "      <td>50</td>\n",
       "      <td>1.0</td>\n",
       "      <td>1</td>\n",
       "      <td>1.0</td>\n",
       "      <td>0.0</td>\n",
       "      <td>0</td>\n",
       "      <td>1</td>\n",
       "      <td>0</td>\n",
       "      <td>313.0</td>\n",
       "      <td>179.0</td>\n",
       "      <td>92.0</td>\n",
       "      <td>25.97</td>\n",
       "      <td>66.0</td>\n",
       "      <td>86.0</td>\n",
       "      <td>1</td>\n",
       "    </tr>\n",
       "    <tr>\n",
       "      <th>4234</th>\n",
       "      <td>1</td>\n",
       "      <td>51</td>\n",
       "      <td>3.0</td>\n",
       "      <td>1</td>\n",
       "      <td>43.0</td>\n",
       "      <td>0.0</td>\n",
       "      <td>0</td>\n",
       "      <td>0</td>\n",
       "      <td>0</td>\n",
       "      <td>207.0</td>\n",
       "      <td>126.5</td>\n",
       "      <td>80.0</td>\n",
       "      <td>19.71</td>\n",
       "      <td>65.0</td>\n",
       "      <td>68.0</td>\n",
       "      <td>0</td>\n",
       "    </tr>\n",
       "    <tr>\n",
       "      <th>4237</th>\n",
       "      <td>0</td>\n",
       "      <td>52</td>\n",
       "      <td>2.0</td>\n",
       "      <td>0</td>\n",
       "      <td>0.0</td>\n",
       "      <td>0.0</td>\n",
       "      <td>0</td>\n",
       "      <td>0</td>\n",
       "      <td>0</td>\n",
       "      <td>269.0</td>\n",
       "      <td>133.5</td>\n",
       "      <td>83.0</td>\n",
       "      <td>21.47</td>\n",
       "      <td>80.0</td>\n",
       "      <td>107.0</td>\n",
       "      <td>0</td>\n",
       "    </tr>\n",
       "    <tr>\n",
       "      <th>4238</th>\n",
       "      <td>1</td>\n",
       "      <td>40</td>\n",
       "      <td>3.0</td>\n",
       "      <td>0</td>\n",
       "      <td>0.0</td>\n",
       "      <td>0.0</td>\n",
       "      <td>0</td>\n",
       "      <td>1</td>\n",
       "      <td>0</td>\n",
       "      <td>185.0</td>\n",
       "      <td>141.0</td>\n",
       "      <td>98.0</td>\n",
       "      <td>25.60</td>\n",
       "      <td>67.0</td>\n",
       "      <td>72.0</td>\n",
       "      <td>0</td>\n",
       "    </tr>\n",
       "    <tr>\n",
       "      <th>4239</th>\n",
       "      <td>0</td>\n",
       "      <td>39</td>\n",
       "      <td>3.0</td>\n",
       "      <td>1</td>\n",
       "      <td>30.0</td>\n",
       "      <td>0.0</td>\n",
       "      <td>0</td>\n",
       "      <td>0</td>\n",
       "      <td>0</td>\n",
       "      <td>196.0</td>\n",
       "      <td>133.0</td>\n",
       "      <td>86.0</td>\n",
       "      <td>20.91</td>\n",
       "      <td>85.0</td>\n",
       "      <td>80.0</td>\n",
       "      <td>0</td>\n",
       "    </tr>\n",
       "  </tbody>\n",
       "</table>\n",
       "<p>3658 rows × 16 columns</p>\n",
       "</div>"
      ],
      "text/plain": [
       "      male  age  education  currentSmoker  cigsPerDay  BPMeds  \\\n",
       "0        1   39        4.0              0         0.0     0.0   \n",
       "1        0   46        2.0              0         0.0     0.0   \n",
       "2        1   48        1.0              1        20.0     0.0   \n",
       "3        0   61        3.0              1        30.0     0.0   \n",
       "4        0   46        3.0              1        23.0     0.0   \n",
       "...    ...  ...        ...            ...         ...     ...   \n",
       "4233     1   50        1.0              1         1.0     0.0   \n",
       "4234     1   51        3.0              1        43.0     0.0   \n",
       "4237     0   52        2.0              0         0.0     0.0   \n",
       "4238     1   40        3.0              0         0.0     0.0   \n",
       "4239     0   39        3.0              1        30.0     0.0   \n",
       "\n",
       "      prevalentStroke  prevalentHyp  diabetes  totChol  sysBP  diaBP    BMI  \\\n",
       "0                   0             0         0    195.0  106.0   70.0  26.97   \n",
       "1                   0             0         0    250.0  121.0   81.0  28.73   \n",
       "2                   0             0         0    245.0  127.5   80.0  25.34   \n",
       "3                   0             1         0    225.0  150.0   95.0  28.58   \n",
       "4                   0             0         0    285.0  130.0   84.0  23.10   \n",
       "...               ...           ...       ...      ...    ...    ...    ...   \n",
       "4233                0             1         0    313.0  179.0   92.0  25.97   \n",
       "4234                0             0         0    207.0  126.5   80.0  19.71   \n",
       "4237                0             0         0    269.0  133.5   83.0  21.47   \n",
       "4238                0             1         0    185.0  141.0   98.0  25.60   \n",
       "4239                0             0         0    196.0  133.0   86.0  20.91   \n",
       "\n",
       "      heartRate  glucose  TenYearCHD  \n",
       "0          80.0     77.0           0  \n",
       "1          95.0     76.0           0  \n",
       "2          75.0     70.0           0  \n",
       "3          65.0    103.0           1  \n",
       "4          85.0     85.0           0  \n",
       "...         ...      ...         ...  \n",
       "4233       66.0     86.0           1  \n",
       "4234       65.0     68.0           0  \n",
       "4237       80.0    107.0           0  \n",
       "4238       67.0     72.0           0  \n",
       "4239       85.0     80.0           0  \n",
       "\n",
       "[3658 rows x 16 columns]"
      ]
     },
     "execution_count": 22,
     "metadata": {},
     "output_type": "execute_result"
    }
   ],
   "source": [
    "fram = pd.read_csv('framingham.csv')\n",
    "fram.dropna(inplace = True)\n",
    "fram"
   ]
  },
  {
   "cell_type": "code",
   "execution_count": 23,
   "metadata": {},
   "outputs": [],
   "source": [
    "train, test = train_test_split(fram[['totChol','TenYearCHD']], test_size = 0.2)\n",
    "\n",
    "# LogisticRegression function only wants NumPy arrays for X values\n",
    "X_train = np.array(train['totChol']).reshape(-1,1)\n",
    "y_train = np.array(train['TenYearCHD'])\n",
    "\n",
    "X_test = np.array(test['totChol'].sort_values()).reshape(-1,1)\n",
    "y_test = test['TenYearCHD']"
   ]
  },
  {
   "cell_type": "markdown",
   "metadata": {},
   "source": [
    "Let's make a scatterplot of the training data just to see if we can visually fit a sigmoid curve to the data."
   ]
  },
  {
   "cell_type": "code",
   "execution_count": 24,
   "metadata": {},
   "outputs": [
    {
     "data": {
      "image/png": "[encoded data removed]",
      "text/plain": [
       "<Figure size 432x288 with 1 Axes>"
      ]
     },
     "metadata": {},
     "output_type": "display_data"
    }
   ],
   "source": [
    "fig, ax = plt.subplots()\n",
    "\n",
    "ax.scatter(X_train, y_train);\n",
    "ax.set(title = 'Scatterplot of coronary heart disease vs cholesterol', \n",
    "       xlabel = 'cholesterol (mg/dL)', \n",
    "       ylabel = 'coronary heart disease');"
   ]
  },
  {
   "cell_type": "markdown",
   "metadata": {},
   "source": [
    "Now we'll estimate the logistic regression parameters."
   ]
  },
  {
   "cell_type": "code",
   "execution_count": 25,
   "metadata": {},
   "outputs": [
    {
     "name": "stdout",
     "output_type": "stream",
     "text": [
      "b0 = [-3.24293601], b1 = [0.00642959]\n"
     ]
    }
   ],
   "source": [
    "from sklearn.linear_model import LogisticRegression\n",
    "\n",
    "logit = LogisticRegression()\n",
    "logit.fit(X_train, y_train)\n",
    "\n",
    "# Displaying the parameters from the regression\n",
    "b0 = logit.intercept_\n",
    "b1 = logit.coef_[0]\n",
    "print('b0 = {}, b1 = {}'.format(b0, b1))"
   ]
  },
  {
   "cell_type": "code",
   "execution_count": 28,
   "metadata": {},
   "outputs": [
    {
     "data": {
      "image/png": "[encoded data removed]",
      "text/plain": [
       "<Figure size 576x576 with 1 Axes>"
      ]
     },
     "metadata": {},
     "output_type": "display_data"
    }
   ],
   "source": [
    "\"\"\" Predicting probability of heart disease for a special 'plotting' set.\n",
    "    The predict_proba() method returns an array with two columns of the form:\n",
    "    [[probability of 'failure', probability of 'success']]\n",
    "    \n",
    "    This is a little messed up, since coronary heart disease is by no means \n",
    "    a 'success'.\n",
    "\"\"\"\n",
    "\n",
    "x_plot = np.arange(-100,1000,0.5).reshape(-1, 1)\n",
    "y_prob = logit.predict_proba(x_plot)\n",
    "\n",
    "fig, ax = plt.subplots(figsize = (8,8))\n",
    "\n",
    "# y_pred = np.exp(sigmoid(X_test, b0, b1))\n",
    "ax.scatter(X_train, y_train);\n",
    "# ax.set_xlim([0,700])\n",
    "ax.plot(x_plot, y_prob[:,1], color = 'b');\n",
    "\n",
    "ax.set(title = 'Logistic curve for coronary heart disease', \n",
    "       xlabel = 'cholesterol', \n",
    "       ylabel = 'coronary heart disease');"
   ]
  },
  {
   "cell_type": "code",
   "execution_count": 29,
   "metadata": {},
   "outputs": [
    {
     "name": "stdout",
     "output_type": "stream",
     "text": [
      "Logistic regression achieved 86.2022 % accuracy on the test set.\n"
     ]
    }
   ],
   "source": [
    "# Displaying the testing accuracy\n",
    "accuracy = logit.score(X_test, y_test)\n",
    "\n",
    "print('Logistic regression achieved {:.4f} % accuracy on the test set.'.format(accuracy*100))"
   ]
  },
  {
   "cell_type": "markdown",
   "metadata": {},
   "source": [
    "## Multiple logistic regression\n",
    "\n",
    "This is a relatively simple extension of logistic regression. Instead of using one variable to predict the log-odds, we use several. Therefore, the logit function now looks like this:\n",
    "$$\n",
    "    \\log\\left(\\frac{\\sigma(X)}{1-\\sigma(X)}\\right) = \\beta_0 + \\beta_1X_1 + \\beta_2X_2 + \\cdots + \\beta_pX_p,\n",
    "$$\n",
    "where each $X_i$ represents an independent variable (usually a column of data)."
   ]
  },
  {
   "cell_type": "markdown",
   "metadata": {},
   "source": [
    "## *Example:* Multiple logistic regression\n",
    "\n",
    "Let's see if we can better predict coronary heart disease using more variables. We'll use `cigsPerDay`, `totChol`, `BMI`, `heartRate`, and `glucose` as our predictor variables."
   ]
  },
  {
   "cell_type": "code",
   "execution_count": 31,
   "metadata": {},
   "outputs": [],
   "source": [
    "# Loading and splitting the data\n",
    "fram = pd.read_csv('framingham.csv')\n",
    "fram.dropna(inplace = True)\n",
    "data = fram[['cigsPerDay','totChol','BMI','heartRate','glucose','TenYearCHD']]\n",
    "\n",
    "train, test = train_test_split(data, test_size = 0.2)\n",
    "\n",
    "X_train = train.drop('TenYearCHD', axis = 1)\n",
    "y_train = np.array(train['TenYearCHD'])\n",
    "\n",
    "X_test = test.drop('TenYearCHD', axis = 1)\n",
    "y_test = test['TenYearCHD']"
   ]
  },
  {
   "cell_type": "code",
   "execution_count": 32,
   "metadata": {},
   "outputs": [
    {
     "name": "stdout",
     "output_type": "stream",
     "text": [
      "Coefficients from the multivariate logit function:\n",
      "b0 = [-5.31412445], b = [ 0.01389752  0.00601924  0.05572721 -0.00284757  0.00943811]\n"
     ]
    }
   ],
   "source": [
    "mlogit = LogisticRegression()\n",
    "mlogit.fit(X_train, y_train)\n",
    "\n",
    "# Displaying the parameters from the regression\n",
    "b0 = mlogit.intercept_\n",
    "b = mlogit.coef_[0]\n",
    "print('Coefficients from the multivariate logit function:')\n",
    "print('b0 = {}, b = {}'.format(b0, b))"
   ]
  },
  {
   "cell_type": "code",
   "execution_count": 33,
   "metadata": {},
   "outputs": [
    {
     "name": "stdout",
     "output_type": "stream",
     "text": [
      "Multiple logistic regression achieved 85.7923 % accuracy on the test set.\n"
     ]
    }
   ],
   "source": [
    "# Displaying the testing accuracy\n",
    "accuracy = mlogit.score(X_test, y_test)\n",
    "\n",
    "print('Multiple logistic regression achieved {:.4f} % accuracy on the test set.'.format(accuracy*100))"
   ]
  },
  {
   "cell_type": "markdown",
   "metadata": {},
   "source": [
    "While it is also possible to extend logistic regression to multiple classes, it isn't done very often. Other methods are simpler and work just as well. However, one way to implement an easy multi-class logistic regression is to use a one-vs-rest approach. This can be done by isolating one class and then lumping all other classes together, then proceeding with logistic regression. This can be repeated for each class."
   ]
  },
  {
   "cell_type": "markdown",
   "metadata": {},
   "source": [
    "# Summary\n",
    "\n",
    "* The three steps for building statistical models are training, validating, and testing.\n",
    "* Mean-square error (MSE) is most often used to assess the accuracy of a model.\n",
    "* k-Nearest Neighbors (kNN) works by grouping together data points that are 'close' to each other.\n",
    "* Logistic regression is used to predict the probability of 'success' or 'failure'. Equivalently, it predicts the probability of an observation being in one of two classes.\n",
    "* Multiple (or multivariate) logistic regression uses more than one independent variable to predict the probability of an observation being in one of two classes."
   ]
  },
  {
   "cell_type": "markdown",
   "metadata": {},
   "source": [
    "# *Exercises*\n",
    "\n",
    "1. With the Framingham heart study data, use kNN with $k=3$ to estimate coronary heart disease based on total cholesterol. Compare the results to the logistic regression above."
   ]
  },
  {
   "cell_type": "code",
   "execution_count": 87,
   "metadata": {},
   "outputs": [
    {
     "data": {
      "text/plain": [
       "LogisticRegression(C=1.0, class_weight=None, dual=False, fit_intercept=True,\n",
       "                   intercept_scaling=1, l1_ratio=None, max_iter=100,\n",
       "                   multi_class='auto', n_jobs=None, penalty='l2',\n",
       "                   random_state=None, solver='lbfgs', tol=0.0001, verbose=0,\n",
       "                   warm_start=False)"
      ]
     },
     "execution_count": 87,
     "metadata": {},
     "output_type": "execute_result"
    }
   ],
   "source": [
    "fram = pd.read_csv('framingham.csv')\n",
    "fram.dropna(inplace = True)\n",
    "\n",
    "train, test = train_test_split(fram[['totChol','TenYearCHD']], test_size = 0.2)\n",
    "\n",
    "X_train = np.array(train['totChol']).reshape(-1,1)\n",
    "y_train = np.array(train['TenYearCHD'])\n",
    "\n",
    "X_test = np.array(test['totChol']).reshape(-1,1)\n",
    "y_test = test['TenYearCHD']\n",
    "\n",
    "k = 3\n",
    "\n",
    "# Performing kNN classification\n",
    "knn_model = KNN(n_neighbors = k)\n",
    "knn_model.fit(X_train, y_train)\n",
    "\n",
    "# Logistic regression for comparison\n",
    "logit = LogisticRegression()\n",
    "logit.fit(X_train, y_train)"
   ]
  },
  {
   "cell_type": "code",
   "execution_count": 88,
   "metadata": {},
   "outputs": [
    {
     "name": "stdout",
     "output_type": "stream",
     "text": [
      "Logistic regression achieved 86.3388 % accuracy on the test set.\n",
      "kNN classifier accuracy with k = 3: 80.6011 %\n"
     ]
    }
   ],
   "source": [
    "# View the mean accuracy of the kNN model and logistic regression\n",
    "accuracy_kNN = knn_model.score(X_test, y_test)\n",
    "accuracy_log = logit.score(X_test, y_test)\n",
    "\n",
    "print('Logistic regression achieved {:.4f} % accuracy on the test set.'.format(accuracy*100))\n",
    "print('kNN classifier accuracy with k = {}: {:.4f} %'.format(k, 100*accuracy_kNN))"
   ]
  },
  {
   "cell_type": "markdown",
   "metadata": {},
   "source": [
    "2. Use all predictor variables in the Framingham dataset to predict the probability of coronary heart disease (multiple logistic regression). Compare the results to the results above."
   ]
  },
  {
   "cell_type": "code",
   "execution_count": 89,
   "metadata": {},
   "outputs": [],
   "source": [
    "from sklearn import preprocessing\n",
    "\n",
    "fram = pd.read_csv('framingham.csv')\n",
    "fram.dropna(inplace = True)\n",
    "\n",
    "train, test = train_test_split(fram, test_size = 0.2)\n",
    "\n",
    "X_train = preprocessing.scale(train.drop('TenYearCHD', axis = 1))\n",
    "y_train = np.array(train['TenYearCHD'])\n",
    "\n",
    "X_test = preprocessing.scale(test.drop('TenYearCHD', axis = 1))\n",
    "y_test = test['TenYearCHD']"
   ]
  },
  {
   "cell_type": "code",
   "execution_count": 90,
   "metadata": {},
   "outputs": [
    {
     "name": "stdout",
     "output_type": "stream",
     "text": [
      "Coefficients from the multivariate logit function:\n",
      "b0 = [-1.97737993], b = [ 0.29878054  0.51640526 -0.00511619  0.10779228  0.13795701  0.01846518\n",
      "  0.0529764   0.1304925   0.03045319  0.10457663  0.32357371 -0.03956055\n",
      " -0.00570292 -0.01704682  0.1699709 ]\n"
     ]
    }
   ],
   "source": [
    "mlogit = LogisticRegression()\n",
    "mlogit.fit(X_train, y_train)\n",
    "\n",
    "# Displaying the parameters from the regression\n",
    "b0 = mlogit.intercept_\n",
    "b = mlogit.coef_[0]\n",
    "print('Coefficients from the multivariate logit function:')\n",
    "print('b0 = {}, b = {}'.format(b0, b))"
   ]
  },
  {
   "cell_type": "code",
   "execution_count": 91,
   "metadata": {},
   "outputs": [
    {
     "name": "stdout",
     "output_type": "stream",
     "text": [
      "Multiple logistic regression achieved 85.6557 % accuracy on the test set.\n"
     ]
    }
   ],
   "source": [
    "# Displaying the testing accuracy\n",
    "accuracy = mlogit.score(X_test, y_test)\n",
    "\n",
    "print('Multiple logistic regression achieved {:.4f} % accuracy on the test set.'.format(accuracy*100))"
   ]
  },
  {
   "cell_type": "markdown",
   "metadata": {},
   "source": [
    "3. Use kNN on the Framingham heart data with all predictors to predict class (coronary heart disease). Compare to the multiple logistic regression above."
   ]
  },
  {
   "cell_type": "code",
   "execution_count": 113,
   "metadata": {},
   "outputs": [
    {
     "name": "stdout",
     "output_type": "stream",
     "text": [
      "kNN classifier accuracy with k = 5: 81.9672 %\n"
     ]
    }
   ],
   "source": [
    "fram = pd.read_csv('framingham.csv')\n",
    "fram.dropna(inplace = True)\n",
    "\n",
    "train, test = train_test_split(fram, test_size = 0.2)\n",
    "\n",
    "X_train = train.drop('TenYearCHD', axis = 1)\n",
    "y_train = np.array(train['TenYearCHD'])\n",
    "\n",
    "X_test = test.drop('TenYearCHD', axis = 1)\n",
    "y_test = test['TenYearCHD']\n",
    "\n",
    "k = 5\n",
    "\n",
    "# Performing kNN classification\n",
    "knn_model = KNN(n_neighbors = k)\n",
    "knn_model.fit(X_train, y_train)\n",
    "\n",
    "accuracy_kNN = knn_model.score(X_test, y_test)\n",
    "print('kNN classifier accuracy with k = {}: {:.4f} %'.format(k, 100*accuracy_kNN))"
   ]
  },
  {
   "cell_type": "markdown",
   "metadata": {},
   "source": [
    "4. Using a one-vs-rest scheme, use multiple logistic regression on the wine dataset to predict the probability that a wine is in class 0 or class 1 (which is both class 1 and 2 combined)."
   ]
  },
  {
   "cell_type": "code",
   "execution_count": null,
   "metadata": {},
   "outputs": [],
   "source": []
  }
 ],
 "metadata": {
  "kernelspec": {
   "display_name": "Python 3",
   "language": "python",
   "name": "python3"
  },
  "language_info": {
   "codemirror_mode": {
    "name": "ipython",
    "version": 3
   },
   "file_extension": ".py",
   "mimetype": "text/x-python",
   "name": "python",
   "nbconvert_exporter": "python",
   "pygments_lexer": "ipython3",
   "version": "3.7.6"
  }
 },
 "nbformat": 4,
 "nbformat_minor": 2
}
